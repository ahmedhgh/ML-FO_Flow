{
 "cells": [
  {
   "cell_type": "code",
   "execution_count": 1,
   "metadata": {},
   "outputs": [
    {
     "name": "stdout",
     "output_type": "stream",
     "text": [
      "Populating the interactive namespace from numpy and matplotlib\n"
     ]
    }
   ],
   "source": [
    "%pylab inline\n",
    "import pandas as pd\n",
    "import torch\n",
    "from torch.autograd import Variable\n",
    "import os\n",
    "from sklearn.cluster import KMeans"
   ]
  },
  {
   "cell_type": "code",
   "execution_count": 4,
   "metadata": {},
   "outputs": [],
   "source": [
    "df = pd.read_hdf('Database/selected_df.h5','table')"
   ]
  },
  {
   "cell_type": "code",
   "execution_count": 5,
   "metadata": {},
   "outputs": [
    {
     "data": {
      "text/plain": [
       "'AE1 CA OTL CAC PRESS:1649:Bar:Average:900'"
      ]
     },
     "execution_count": 5,
     "metadata": {},
     "output_type": "execute_result"
    }
   ],
   "source": [
    "list(df)[0]"
   ]
  },
  {
   "cell_type": "code",
   "execution_count": 152,
   "metadata": {},
   "outputs": [
    {
     "data": {
      "text/plain": [
       "(array([  4674.,  16260.,   2066.,   1174.,   1148.,    856.,    963.,\n",
       "          2766.,    948.,   4185.]),\n",
       " array([ 0. ,  0.9,  1.8,  2.7,  3.6,  4.5,  5.4,  6.3,  7.2,  8.1,  9. ]),\n",
       " <a list of 10 Patch objects>)"
      ]
     },
     "execution_count": 152,
     "metadata": {},
     "output_type": "execute_result"
    },
    {
     "data": {
      "image/png": "[encoded data removed]",
      "text/plain": [
       "<matplotlib.figure.Figure at 0x11b7c74e0>"
      ]
     },
     "metadata": {},
     "output_type": "display_data"
    }
   ],
   "source": [
    "X = np.array(df[list(df)[0]])\n",
    "X = X.reshape(len(X),1)\n",
    "kmeans = KMeans(n_clusters=10).fit(X)\n",
    "kmeans.labels_\n",
    "plt.hist(kmeans.labels_)"
   ]
  },
  {
   "cell_type": "code",
   "execution_count": 144,
   "metadata": {},
   "outputs": [
    {
     "data": {
      "text/plain": [
       "array([[-0.01      ],\n",
       "       [-0.01066667],\n",
       "       [-0.01733333],\n",
       "       ..., \n",
       "       [-0.02      ],\n",
       "       [-0.02      ],\n",
       "       [-0.02      ]])"
      ]
     },
     "execution_count": 144,
     "metadata": {},
     "output_type": "execute_result"
    }
   ],
   "source": [
    "X"
   ]
  },
  {
   "cell_type": "code",
   "execution_count": 146,
   "metadata": {},
   "outputs": [
    {
     "data": {
      "text/plain": [
       "array([1, 1, 1, ..., 1, 1, 1], dtype=int32)"
      ]
     },
     "execution_count": 146,
     "metadata": {},
     "output_type": "execute_result"
    }
   ],
   "source": []
  },
  {
   "cell_type": "code",
   "execution_count": 148,
   "metadata": {},
   "outputs": [
    {
     "data": {
      "text/plain": [
       "(array([  1175.,  16258.,    948.,   4688.,    963.,   2066.,   2694.,\n",
       "          1136.,   4256.,    856.]),\n",
       " array([ 0. ,  0.9,  1.8,  2.7,  3.6,  4.5,  5.4,  6.3,  7.2,  8.1,  9. ]),\n",
       " <a list of 10 Patch objects>)"
      ]
     },
     "execution_count": 148,
     "metadata": {},
     "output_type": "execute_result"
    },
    {
     "data": {
      "image/png": "[encoded data removed]",
      "text/plain": [
       "<matplotlib.figure.Figure at 0x11a1ce518>"
      ]
     },
     "metadata": {},
     "output_type": "display_data"
    }
   ],
   "source": []
  },
  {
   "cell_type": "code",
   "execution_count": 70,
   "metadata": {},
   "outputs": [
    {
     "data": {
      "text/plain": [
       "2014-05-01 00:00:00     0.000000\n",
       "2014-05-01 00:15:00     0.000000\n",
       "2014-05-01 00:30:00     0.000000\n",
       "2014-05-01 00:45:00     0.000000\n",
       "2014-05-01 01:00:00     0.000000\n",
       "2014-05-01 01:15:00     0.000000\n",
       "2014-05-01 01:30:00     0.000000\n",
       "2014-05-01 01:45:00     0.000000\n",
       "2014-05-01 02:00:00     0.000000\n",
       "2014-05-01 02:15:00     0.000000\n",
       "2014-05-01 02:30:00     0.000000\n",
       "2014-05-01 02:45:00     0.000000\n",
       "2014-05-01 03:00:00     0.000000\n",
       "2014-05-01 03:15:00     0.000000\n",
       "2014-05-01 03:30:00     0.000000\n",
       "2014-05-01 03:45:00     0.000000\n",
       "2014-05-01 04:00:00     0.000000\n",
       "2014-05-01 04:15:00     0.000000\n",
       "2014-05-01 04:30:00     0.000000\n",
       "2014-05-01 04:45:00     0.000000\n",
       "2014-05-01 05:00:00     0.000000\n",
       "2014-05-01 05:15:00     0.000000\n",
       "2014-05-01 05:30:00     0.000000\n",
       "2014-05-01 05:45:00     0.000000\n",
       "2014-05-01 06:00:00     1.533333\n",
       "2014-05-01 06:15:00    14.466667\n",
       "2014-05-01 06:30:00    10.066667\n",
       "2014-05-01 06:45:00     7.666667\n",
       "2014-05-01 07:00:00     0.000000\n",
       "2014-05-01 07:15:00     0.000000\n",
       "                         ...    \n",
       "2014-12-01 16:30:00     0.000000\n",
       "2014-12-01 16:45:00     0.000000\n",
       "2014-12-01 17:00:00     0.000000\n",
       "2014-12-01 17:15:00     0.000000\n",
       "2014-12-01 17:30:00     0.000000\n",
       "2014-12-01 17:45:00     0.000000\n",
       "2014-12-01 18:00:00     0.000000\n",
       "2014-12-01 18:15:00     0.000000\n",
       "2014-12-01 18:30:00     0.000000\n",
       "2014-12-01 18:45:00     0.000000\n",
       "2014-12-01 19:00:00     0.000000\n",
       "2014-12-01 19:15:00     0.000000\n",
       "2014-12-01 19:30:00     0.000000\n",
       "2014-12-01 19:45:00     0.000000\n",
       "2014-12-01 20:00:00     0.000000\n",
       "2014-12-01 20:15:00     0.000000\n",
       "2014-12-01 20:30:00     0.000000\n",
       "2014-12-01 20:45:00     0.000000\n",
       "2014-12-01 21:00:00     0.000000\n",
       "2014-12-01 21:15:00     0.000000\n",
       "2014-12-01 21:30:00     0.000000\n",
       "2014-12-01 21:45:00     0.000000\n",
       "2014-12-01 22:00:00     0.000000\n",
       "2014-12-01 22:15:00     0.000000\n",
       "2014-12-01 22:30:00     0.000000\n",
       "2014-12-01 22:45:00     0.000000\n",
       "2014-12-01 23:00:00     0.000000\n",
       "2014-12-01 23:15:00     0.000000\n",
       "2014-12-01 23:30:00     0.000000\n",
       "2014-12-01 23:45:00     0.000000\n",
       "Freq: 15T, Name: AE1 FUEL RACK POSIT:1742:mm:Average:900, Length: 20640, dtype: float64"
      ]
     },
     "execution_count": 70,
     "metadata": {},
     "output_type": "execute_result"
    }
   ],
   "source": [
    "\n",
    "# The dataset is not complete overlapping in time with data from both the mass-flow meters and the\n",
    "# the rest of the data. So we have to manually filter out the time interval which we are interested in.\n",
    "\n",
    "date_begin = '2014-05-01'\n",
    "date_end = '2014-12-01'\n",
    "\n",
    "df['AE1 FUEL RACK POSIT:1742:mm:Average:900'][date_begin:date_end]\n",
    "\n"
   ]
  },
  {
   "cell_type": "code",
   "execution_count": 94,
   "metadata": {
    "collapsed": true
   },
   "outputs": [],
   "source": [
    "# Dict of var names we want to use.\n",
    "\n",
    "\n",
    "var_names = {'ae1_frp':'AE1 FUEL RACK POSIT:1742:mm:Average:900',\n",
    "             'ae2_frp':'AE2 FUEL RACK POSIT:2742:mm:Average:900',\n",
    "             'ae3_frp':'AE3 FUEL RACK POSIT:3742:mm:Average:900',\n",
    "             'ae4_frp':'AE4 FUEL RACK POSIT:4742:mm:Average:900',\n",
    "             'me1_frp':'ME1 FUEL RACK POSIT:10005:%:Average:900',\n",
    "             'me2_frp':'ME2 FUEL RACK POSIT:20005:%:Average:900',\n",
    "             'me3_frp':'ME3 FUEL RACK POSIT:30005:%:Average:900',\n",
    "             'me4_frp':'ME4 FUEL RACK POSIT:40005:%:Average:900'}\n",
    "\n",
    "#Creating the Tensors:\n",
    "\n",
    "for name_ in var_names:\n",
    "    globals()[name_] = 3\n"
   ]
  },
  {
   "cell_type": "code",
   "execution_count": 96,
   "metadata": {},
   "outputs": [
    {
     "data": {
      "text/plain": [
       "3"
      ]
     },
     "execution_count": 96,
     "metadata": {},
     "output_type": "execute_result"
    }
   ],
   "source": [
    "me1_frp"
   ]
  },
  {
   "cell_type": "code",
   "execution_count": 90,
   "metadata": {},
   "outputs": [
    {
     "name": "stdout",
     "output_type": "stream",
     "text": [
      "AE1 FUEL RACK POSIT:1742:mm:Average:900\n",
      "AE2 FUEL RACK POSIT:2742:mm:Average:900\n",
      "AE3 FUEL RACK POSIT:3742:mm:Average:900\n",
      "AE4 FUEL RACK POSIT:4742:mm:Average:900\n",
      "ME1 FUEL RACK POSIT:10005:%:Average:900\n",
      "ME2 FUEL RACK POSIT:20005:%:Average:900\n",
      "ME3 FUEL RACK POSIT:30005:%:Average:900\n",
      "ME4 FUEL RACK POSIT:40005:%:Average:900\n"
     ]
    }
   ],
   "source": [
    "\n",
    "for names in var_names:\n",
    "    print(var_names[names])"
   ]
  },
  {
   "cell_type": "code",
   "execution_count": 64,
   "metadata": {
    "collapsed": true
   },
   "outputs": [],
   "source": [
    "\n",
    "\n",
    "\n",
    "\n",
    "\n",
    "\n",
    "ae1_frp = torch.Tensor(df['AE1 FUEL RACK POSIT:1742:mm:Average:900'][date_begin:date_end])\n",
    "ae2_frp = torch.Tensor(df['AE2 FUEL RACK POSIT:2742:mm:Average:900'][date_begin:date_end])\n",
    "ae3_frp = torch.Tensor(df['AE3 FUEL RACK POSIT:3742:mm:Average:900'][date_begin:date_end])\n",
    "ae4_frp = torch.Tensor(df['AE4 FUEL RACK POSIT:4742:mm:Average:900'][date_begin:date_end])\n",
    "\n",
    "fo1_boost = torch.Tensor(df['FO BOOST 1 CONSUMPT:6165:m3/h:Average:900'][date_begin:date_end])\n",
    "fo2_boost = torch.Tensor(df['FO BOOST 2 CONSUMPT:6166:m3/h:Average:900'][date_begin:date_end])\n",
    "\n",
    "#me1_frp = torch.Tensor([df['ME1 FUEL RACK POSIT:10005:%:Average:900'],df['ME2 FUEL RACK POSIT:20005:%:Average:900']])\n",
    "\n",
    "me1_frp = torch.Tensor(df['ME1 FUEL RACK POSIT:10005:%:Average:900'][date_begin:date_end])\n",
    "me2_frp = torch.Tensor(df['ME2 FUEL RACK POSIT:20005:%:Average:900'])\n",
    "me3_frp = torch.Tensor(df['ME3 FUEL RACK POSIT:30005:%:Average:900'])\n",
    "me4_frp = torch.Tensor(df['ME4 FUEL RACK POSIT:40005:%:Average:900'])\n",
    "\n",
    "fo_1_3_total = torch.Tensor(df['FO_day_engine_1_3'])\n",
    "fo_2_4_total = torch.Tensor(df['FO_day_engine_2_4'])\n",
    "\n",
    "#Adding weight variables\n",
    "\n",
    "w_ae1 = Variable(torch.ones(len(ae1_frp)), requires_grad = True)\n",
    "w_ae2 = Variable(torch.ones(len(ae2_frp)), requires_grad = True)\n",
    "w_ae3 = Variable(torch.ones(len(ae3_frp)), requires_grad = True)\n",
    "w_ae4 = Variable(torch.ones(len(ae4_frp)), requires_grad = True)\n",
    "\n",
    "w_me1 = Variable(torch.ones(len(me1_frp)), requires_grad = True)\n",
    "w_me2 = Variable(torch.ones(len(me2_frp)), requires_grad = True)\n",
    "w_me3 = Variable(torch.ones(len(me3_frp)), requires_grad = True)\n",
    "w_me4 = Variable(torch.ones(len(me4_frp)), requires_grad = True)\n",
    "\n",
    "\n",
    "\n",
    "\n"
   ]
  },
  {
   "cell_type": "code",
   "execution_count": 65,
   "metadata": {},
   "outputs": [
    {
     "data": {
      "text/plain": [
       "\n",
       "     nan\n",
       "     nan\n",
       "     nan\n",
       "   ⋮    \n",
       "  8.8400\n",
       "  8.8400\n",
       "  8.8400\n",
       "[torch.FloatTensor of size 35040]"
      ]
     },
     "execution_count": 65,
     "metadata": {},
     "output_type": "execute_result"
    }
   ],
   "source": [
    "fo_1_3_total"
   ]
  },
  {
   "cell_type": "code",
   "execution_count": 63,
   "metadata": {},
   "outputs": [
    {
     "data": {
      "text/plain": [
       "Variable containing:\n",
       " 1\n",
       " 1\n",
       " 1\n",
       "⋮ \n",
       " 1\n",
       " 1\n",
       " 1\n",
       "[torch.FloatTensor of size 35040]"
      ]
     },
     "execution_count": 63,
     "metadata": {},
     "output_type": "execute_result"
    }
   ],
   "source": [
    "# Buildning a cost function\n",
    "\n",
    "cost = \n",
    "\n"
   ]
  },
  {
   "cell_type": "code",
   "execution_count": 55,
   "metadata": {},
   "outputs": [
    {
     "data": {
      "text/plain": [
       "Variable containing:\n",
       " 1  1\n",
       "[torch.FloatTensor of size 1x2]"
      ]
     },
     "execution_count": 55,
     "metadata": {},
     "output_type": "execute_result"
    }
   ],
   "source": [
    "#w_ae1 = Variable(torch.ones(100))\n",
    "w_ae1"
   ]
  },
  {
   "cell_type": "code",
   "execution_count": 20,
   "metadata": {},
   "outputs": [
    {
     "data": {
      "text/plain": [
       "\n",
       "  0.0000\n",
       "  0.0000\n",
       "  0.0000\n",
       "   ⋮    \n",
       " 49.9281\n",
       " 48.9667\n",
       " 49.6771\n",
       "[torch.FloatTensor of size 35040]"
      ]
     },
     "execution_count": 20,
     "metadata": {},
     "output_type": "execute_result"
    }
   ],
   "source": [
    "b"
   ]
  },
  {
   "cell_type": "code",
   "execution_count": null,
   "metadata": {
    "collapsed": true
   },
   "outputs": [],
   "source": []
  }
 ],
 "metadata": {
  "kernelspec": {
   "display_name": "Python 3",
   "language": "python",
   "name": "python3"
  },
  "language_info": {
   "codemirror_mode": {
    "name": "ipython",
    "version": 3
   },
   "file_extension": ".py",
   "mimetype": "text/x-python",
   "name": "python",
   "nbconvert_exporter": "python",
   "pygments_lexer": "ipython3",
   "version": "3.6.2"
  }
 },
 "nbformat": 4,
 "nbformat_minor": 2
}
