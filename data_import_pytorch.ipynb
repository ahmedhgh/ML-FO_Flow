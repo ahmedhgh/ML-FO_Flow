{
 "cells": [
  {
   "cell_type": "code",
   "execution_count": 97,
   "metadata": {},
   "outputs": [
    {
     "name": "stdout",
     "output_type": "stream",
     "text": [
      "Populating the interactive namespace from numpy and matplotlib\n"
     ]
    }
   ],
   "source": [
    "%pylab inline\n",
    "import pandas as pd\n",
    "import torch\n",
    "from torch.autograd import Variable\n",
    "import os"
   ]
  },
  {
   "cell_type": "code",
   "execution_count": 98,
   "metadata": {},
   "outputs": [
    {
     "name": "stdout",
     "output_type": "stream",
     "text": [
      "141 ms ± 4.37 ms per loop (mean ± std. dev. of 7 runs, 1 loop each)\n"
     ]
    }
   ],
   "source": [
    "%timeit df = pd.read_hdf('Database/selected_df.h5','table')"
   ]
  },
  {
   "cell_type": "code",
   "execution_count": 99,
   "metadata": {},
   "outputs": [
    {
     "data": {
      "text/plain": [
       "['AE1 CA OTL CAC PRESS:1649:Bar:Average:900',\n",
       " 'AE1 CA OTL CAC TEMP:1654:  C:Average:900',\n",
       " 'AE1 ENG SPEED:1745:RPM:Average:900',\n",
       " 'AE1 EXH CA INLET 1:1541:  C:Average:900',\n",
       " 'AE1 EXH CA INLET 2:1542:  C:Average:900',\n",
       " 'AE1 EXH CA OUTET 1:1543:  C:Average:900',\n",
       " 'AE1 FO INLET TEMP:1605:  C:Average:900',\n",
       " 'AE1 FUEL RACK POSIT:1742:mm:Average:900',\n",
       " 'AE1 HT CAC OTL TEMP:1644:  C:Average:900',\n",
       " 'AE1 HT INLET PRESS:1631:Bar:Average:900',\n",
       " 'AE1 HT INLET TEMP:1635:  C:Average:900',\n",
       " 'AE1 HT OUTLET TEMP:1637:  C:Average:900',\n",
       " 'AE1 HT OUTLET TEMP:1641:  C:Average:900',\n",
       " 'AE1 LO INLET PRESS:1612:Bar:Average:900',\n",
       " 'AE1 LO INLET TEMP:1617:  C:Average:900',\n",
       " 'AE1 LT CAC INL TEMP:1645:  C:Average:900',\n",
       " 'AE1 LT CAC INLET PRE:1633:Bar:Average:900',\n",
       " 'AE1 LT CAC OTL TEMP:1647:  C:Average:900',\n",
       " 'AE1 LT LOC OTL TEMP:1648:  C:Average:900',\n",
       " 'AE1 POWER:5513:kW:Average:900',\n",
       " 'AE1 TC SPEED:1748:RPM:Average:900',\n",
       " 'AE2 CA OTL CAC PRESS:2649:Bar:Average:900',\n",
       " 'AE2 CA OTL CAC TEMP:2654:  C:Average:900',\n",
       " 'AE2 ENG SPEED:2746:-:Average:900',\n",
       " 'AE2 EXH CA INLET 1:2541:  C:Average:900',\n",
       " 'AE2 EXH CA INLET 2:2542:  C:Average:900',\n",
       " 'AE2 EXH CA OUTET 1:2543:  C:Average:900',\n",
       " 'AE2 FO INLET TEMP:2605:  C:Average:900',\n",
       " 'AE2 FUEL RACK POSIT:2742:mm:Average:900',\n",
       " 'AE2 HT CAC OTL TEMP:2644:  C:Average:900',\n",
       " 'AE2 HT INLET PRESS:2631:Bar:Average:900',\n",
       " 'AE2 HT INLET TEMP:2635:  C:Average:900',\n",
       " 'AE2 HT OUTLET TEMP:2637:  C:Average:900',\n",
       " 'AE2 HT OUTLET TEMP:2641:  C:Average:900',\n",
       " 'AE2 LO INLET PRESS:2612:Bar:Average:900',\n",
       " 'AE2 LO INLET TEMP:2617:  C:Average:900',\n",
       " 'AE2 LT CAC INL TEMP:2645:  C:Average:900',\n",
       " 'AE2 LT CAC INLET PRE:2633:Bar:Average:900',\n",
       " 'AE2 LT CAC OTL TEMP:2647:  C:Average:900',\n",
       " 'AE2 LT LOC OTL TEMP:2648:  C:Average:900',\n",
       " 'AE2 POWER:5523:kW:Average:900',\n",
       " 'AE2 TC SPEED:2748:RPM:Average:900',\n",
       " 'AE3 CA OTL CAC PRESS:3649:Bar:Average:900',\n",
       " 'AE3 CA OTL CAC TEMP:3654:  C:Average:900',\n",
       " 'AE3 ENG SPEED:3746:-:Average:900',\n",
       " 'AE3 EXH CA INLET 1:3541:  C:Average:900',\n",
       " 'AE3 EXH CA INLET 2:3542:  C:Average:900',\n",
       " 'AE3 EXH CA OUTET 1:3543:  C:Average:900',\n",
       " 'AE3 FO INLET TEMP:3605:  C:Average:900',\n",
       " 'AE3 FUEL RACK POSIT:3742:mm:Average:900',\n",
       " 'AE3 HT CAC OTL TEMP:3644:  C:Average:900',\n",
       " 'AE3 HT INLET PRESS:3631:Bar:Average:900',\n",
       " 'AE3 HT INLET TEMP:3635:  C:Average:900',\n",
       " 'AE3 HT OUTLET TEMP:3637:  C:Average:900',\n",
       " 'AE3 HT OUTLET TEMP:3641:  C:Average:900',\n",
       " 'AE3 LO INLET PRESS:3612:Bar:Average:900',\n",
       " 'AE3 LO INLET TEMP:3617:  C:Average:900',\n",
       " 'AE3 LT CAC INL TEMP:3645:  C:Average:900',\n",
       " 'AE3 LT CAC INLET PRE:3633:Bar:Average:900',\n",
       " 'AE3 LT CAC OTL TEMP:3647:  C:Average:900',\n",
       " 'AE3 LT LOC OTL TEMP:3648:  C:Average:900',\n",
       " 'AE3 POWER:5533:kW:Average:900',\n",
       " 'AE3 TC SPEED:3748:RPM:Average:900',\n",
       " 'AE4 CA OTL CAC PRESS:4649:Bar:Average:900',\n",
       " 'AE4 CA OTL CAC TEMP:4654:  C:Average:900',\n",
       " 'AE4 ENG SPEED:4746:-:Average:900',\n",
       " 'AE4 EXH CA INLET 1:4541:  C:Average:900',\n",
       " 'AE4 EXH CA INLET 2:4542:  C:Average:900',\n",
       " 'AE4 EXH CA OUTET 1:4543:  C:Average:900',\n",
       " 'AE4 FO INLET TEMP:4605:  C:Average:900',\n",
       " 'AE4 FUEL RACK POSIT:4742:mm:Average:900',\n",
       " 'AE4 HT CAC OTL TEMP:4644:  C:Average:900',\n",
       " 'AE4 HT INLET PRESS:4631:Bar:Average:900',\n",
       " 'AE4 HT INLET TEMP:4635:  C:Average:900',\n",
       " 'AE4 HT OUTLET TEMP:4641:  C:Average:900',\n",
       " 'AE4 LO INLET PRESS:4614:-:Average:900',\n",
       " 'AE4 LO INLET TEMP:4617:  C:Average:900',\n",
       " 'AE4 LT CAC INL TEMP:4645:  C:Average:900',\n",
       " 'AE4 LT CAC INLET PRE:4633:Bar:Average:900',\n",
       " 'AE4 LT CAC OTL TEMP:4647:  C:Average:900',\n",
       " 'AE4 LT LOC OTL TEMP:4648:  C:Average:900',\n",
       " 'AE4 POWER:5543:kW:Average:900',\n",
       " 'AE4 TC SPEED:4748:RPM:Average:900',\n",
       " 'DO DAY TANK T32C:6111:m3:Average:900',\n",
       " 'DO DRAIN TANK T7CP:6114:m3:Average:900',\n",
       " 'DO OVERFLOW T22CS:6113:m3:Average:900',\n",
       " 'DO STORAGE TK T22P:6112:kg/l:Average:900',\n",
       " 'DO STORAGE TK T22P:6112:m3:Average:900',\n",
       " 'DO STORAGE TK T22P:6112:m:Average:900',\n",
       " 'DO STORAGE TK T22P:6112:t:Average:900',\n",
       " 'EGBO AE1 UPTAKE TEMP:7321:C:Average:900',\n",
       " 'EGBO AE2 UPTAKE TEMP:7341:C:Average:900',\n",
       " 'EGBO AE3 UPTAKE TEMP:7322:C:Average:900',\n",
       " 'EGBO AE4 UPTAKE TEMP:7342:C:Average:900',\n",
       " 'EGBO ME2 UPTAKE TEMP:7340:C:Average:900',\n",
       " 'EGBO ME3 UPTAKE TEMP:7320:C:Average:900',\n",
       " 'FO BOOST 1 CONSUMPT:6165:m3/h:Average:900',\n",
       " 'FO BOOST 1 CONSUMPT:6165:m3:Average:900',\n",
       " 'FO BOOST 2 CONSUMPT:6166:m3/h:Average:900',\n",
       " 'FO BOOST 2 CONSUMPT:6166:m3:Average:900',\n",
       " 'HFO DAY TANK P T32CP:6102:m3:Average:900',\n",
       " 'HFO DAY TANK S T32CS:6101:m3:Average:900',\n",
       " 'HFO DAY TK T32CP TMP:6120:C:Average:900',\n",
       " 'HFO DAY TK T32CS TMP:6121:C:Average:900',\n",
       " 'HFO MID STOR T T23P:6106:m3:Average:900',\n",
       " 'HFO MID STOR T T23S:6105:m3:Average:900',\n",
       " 'HFO SETTLING T T31CP:6104:m3:Average:900',\n",
       " 'HFO SETTLING T T31CS:6103:m3:Average:900',\n",
       " 'HFO STOR TK T22S TMP:6124:C:Average:900',\n",
       " 'HFO STOR TK T23P:6122:C:Average:900',\n",
       " 'HFO STOR TK T23S:6123:C:Average:900',\n",
       " 'HFO STORAGE TK T22S:6107:m3:Average:900',\n",
       " 'HOT WATER HEATER TEM:6712:C:Average:900',\n",
       " 'ME ROOM AFT TEMP:7702:C:Average:900',\n",
       " 'ME ROOM FWD TEMP:7703:C:Average:900',\n",
       " 'ME ROOM INTAKE AIR T:7701:C:Average:900',\n",
       " 'ME/AE 1/3 HT WATER T:6428:C:Average:900',\n",
       " 'ME/AE 1/3 HT WATER T:6430:C:Average:900',\n",
       " 'ME/AE 1/3 P PRO LT T:6426:C:Average:900',\n",
       " 'ME/AE 1/3 P PROP LT:6424:C:Average:900',\n",
       " 'ME/AE 2/4 HT WATER T:6429:C:Average:900',\n",
       " 'ME/AE 2/4 HT WATER T:6431:C:Average:900',\n",
       " 'ME/AE 2/4 S PRO LT T:6427:C:Average:900',\n",
       " 'ME/AE 2/4 S PROP LT:6425:C:Average:900',\n",
       " 'ME1 CA PRESS COOL OU:1342:bar:Average:900',\n",
       " 'ME1 CA TEMP COOL OUT:1343:C:Average:900',\n",
       " 'ME1 CHARGE AIR TEMP:1347:C:Average:900',\n",
       " 'ME1 ENGINE SPEED:1364:rpm:Average:900',\n",
       " 'ME1 EXH GAS MEAN:1125:C:Average:900',\n",
       " 'ME1 FO INLET TEMP:1302:C:Average:900',\n",
       " 'ME1 FUEL RACK POSIT:10005:%:Average:900',\n",
       " 'ME1 HT INLET PRESS:1201:bar:Average:900',\n",
       " 'ME1 HT OUTLET TEMP:1203:C:Average:900',\n",
       " 'ME1 HT WATR INL TEMP:1202:C:Average:900',\n",
       " 'ME1 LO INLET PRESS:1321:bar:Average:900',\n",
       " 'ME1 LO INLET TEMP:1322:C:Average:900',\n",
       " 'ME1 LO PRESS TC INLE:1323:bar:Average:900',\n",
       " 'ME1 LO TEMP TC OUTLE:1329:C:Average:900',\n",
       " 'ME1 LT INLET PRESS:1251:bar:Average:900',\n",
       " 'ME1 LT INLET TEMP:1252:C:Average:900',\n",
       " 'ME1 T/C SPEED:10006:rpm:Average:900',\n",
       " 'ME1 TC BY-PASS VALVE:1368:-:Average:900',\n",
       " 'ME1 TC INL EXH TEMP:1161:C:Average:900',\n",
       " 'ME1 TC OTL EXH TEMP:1162:C:Average:900',\n",
       " 'ME1/3|AE1/3 SW TEMP:6412:C:Average:900',\n",
       " 'ME2 CA PRESS COOL OU:2342:bar:Average:900',\n",
       " 'ME2 CA TEMP COOL OUT:2343:C:Average:900',\n",
       " 'ME2 CHARGE AIR TEMP:2347:C:Average:900',\n",
       " 'ME2 ENGINE SPEED:2364:rpm:Average:900',\n",
       " 'ME2 EXH GAS MEAN:2125:C:Average:900',\n",
       " 'ME2 FO INLET TEMP:2302:C:Average:900',\n",
       " 'ME2 FUEL RACK POSIT:20005:%:Average:900',\n",
       " 'ME2 HT INLET PRESS:2201:bar:Average:900',\n",
       " 'ME2 HT OUTLET TEMP:2203:C:Average:900',\n",
       " 'ME2 HT WATR INL TEMP:2202:C:Average:900',\n",
       " 'ME2 LO INLET PRESS:2321:bar:Average:900',\n",
       " 'ME2 LO INLET TEMP:2322:C:Average:900',\n",
       " 'ME2 LO TEMP TC OUTLE:2329:C:Average:900',\n",
       " 'ME2 LT INLET PRESS:2251:bar:Average:900',\n",
       " 'ME2 LT INLET TEMP:2252:C:Average:900',\n",
       " 'ME2 T/C SPEED:20006:rpm:Average:900',\n",
       " 'ME2 TC INL EXH TEMP:2161:C:Average:900',\n",
       " 'ME2 TC OTL EXH TEMP:2162:C:Average:900',\n",
       " 'ME2/4|AE2/4 SW TEMP:6413:C:Average:900',\n",
       " 'ME3 CA PRESS COOL OU:3342:bar:Average:900',\n",
       " 'ME3 CA TEMP COOL OUT:3343:C:Average:900',\n",
       " 'ME3 CHARGE AIR TEMP:3347:C:Average:900',\n",
       " 'ME3 ENGINE SPEED:3364:rpm:Average:900',\n",
       " 'ME3 EXH GAS MEAN:3125:C:Average:900',\n",
       " 'ME3 FO INLET TEMP:3302:C:Average:900',\n",
       " 'ME3 FUEL RACK POSIT:30005:%:Average:900',\n",
       " 'ME3 HT INLET PRESS:3201:bar:Average:900',\n",
       " 'ME3 HT OUTLET TEMP:3203:C:Average:900',\n",
       " 'ME3 HT WATR INL TEMP:3202:C:Average:900',\n",
       " 'ME3 LO INLET PRESS:3321:bar:Average:900',\n",
       " 'ME3 LO INLET TEMP:3322:C:Average:900',\n",
       " 'ME3 LO TEMP TC OUTLE:3329:C:Average:900',\n",
       " 'ME3 LT INLET PRESS:3251:bar:Average:900',\n",
       " 'ME3 LT INLET TEMP:3252:C:Average:900',\n",
       " 'ME3 T/C SPEED:30006:rpm:Average:900',\n",
       " 'ME3 TC INL EXH TEMP:3161:C:Average:900',\n",
       " 'ME3 TC OTL EXH TEMP:3162:C:Average:900',\n",
       " 'ME4 CA PRESS COOL OU:4342:bar:Average:900',\n",
       " 'ME4 CA TEMP COOL OUT:4343:C:Average:900',\n",
       " 'ME4 ENGINE SPEED:4364:rpm:Average:900',\n",
       " 'ME4 FO INLET PRESS:4301:bar:Average:900',\n",
       " 'ME4 FO INLET TEMP:4302:C:Average:900',\n",
       " 'ME4 FUEL RACK POSIT:40005:%:Average:900',\n",
       " 'ME4 HT INLET PRESS:4201:bar:Average:900',\n",
       " 'ME4 HT INLET PRESS:4211:-:Average:900',\n",
       " 'ME4 HT OUTLET TEMP:4203:C:Average:900',\n",
       " 'ME4 HT WATR INL TEMP:4202:C:Average:900',\n",
       " 'ME4 LO INLET PRESS:4321:bar:Average:900',\n",
       " 'ME4 LO INLET TEMP:4322:C:Average:900',\n",
       " 'ME4 LO TEMP TC OUTLE:4329:C:Average:900',\n",
       " 'ME4 LT INLET PRESS:4251:bar:Average:900',\n",
       " 'ME4 LT INLET TEMP:4252:C:Average:900',\n",
       " 'ME4 T/C SPEED:40006:rpm:Average:900',\n",
       " 'ME4 TC INL EXH TEMP:4161:C:Average:900',\n",
       " 'ME4 TC OTL EXH TEMP:4162:C:Average:900',\n",
       " 'OUTSIDE WHEATHER TEM:79026:C:Average:900',\n",
       " 'SBO 1 OUTLET PRESSUR:7313:bar:Average:900',\n",
       " 'SBO 2 OUTLET PRESSUR:7333:bar:Average:900',\n",
       " 'SEA WATER TEMP:6437:C:Average:900',\n",
       " 'SHIPS SPEED:79025:knot:Average:900',\n",
       " 'SW TEMP TO ME/AE 1/3:6410:C:Average:900',\n",
       " 'SW TEMP TO ME/AE 2/4:6411:C:Average:900',\n",
       " 'Freshwater',\n",
       " 'Greywater',\n",
       " 'No Trips',\n",
       " 'Distance nm',\n",
       " 'Passengers',\n",
       " 'Crew',\n",
       " 'FO_engine_1_3',\n",
       " 'Boiler_Port',\n",
       " 'Counter_1_3',\n",
       " 'FO_day_engine_1_3',\n",
       " 'FO_engine_2_4',\n",
       " 'Boiler_starbord',\n",
       " 'counter_engine_2_4',\n",
       " 'FO_day_engine_2_4',\n",
       " 'Total_day_FO_meters',\n",
       " 'Total_day_FO_counters',\n",
       " 'ME1_hours',\n",
       " 'ME1_hours_day',\n",
       " 'ME2_hours',\n",
       " 'ME2_hours_day',\n",
       " 'ME3_hours',\n",
       " 'ME3_hours_day',\n",
       " 'ME4_hours',\n",
       " 'ME4_hours_day',\n",
       " 'ME_total_hours_day',\n",
       " 'AE1_hours',\n",
       " 'AE1_hours_day',\n",
       " 'AE2_hours',\n",
       " 'AE2_hours_day',\n",
       " 'AE3_hours',\n",
       " 'AE3_hours_day',\n",
       " 'AE4_hours',\n",
       " 'AE4_hours_day',\n",
       " 'AE_total_hours_day',\n",
       " 'air_T_sv_hogarna_smhi-opendata',\n",
       " 'water_T_forsmark_smhi-opendata',\n",
       " 'water_T_landsort_smhi-opendata']"
      ]
     },
     "execution_count": 99,
     "metadata": {},
     "output_type": "execute_result"
    }
   ],
   "source": [
    "list(df)"
   ]
  },
  {
   "cell_type": "code",
   "execution_count": 70,
   "metadata": {},
   "outputs": [
    {
     "data": {
      "text/plain": [
       "2014-05-01 00:00:00     0.000000\n",
       "2014-05-01 00:15:00     0.000000\n",
       "2014-05-01 00:30:00     0.000000\n",
       "2014-05-01 00:45:00     0.000000\n",
       "2014-05-01 01:00:00     0.000000\n",
       "2014-05-01 01:15:00     0.000000\n",
       "2014-05-01 01:30:00     0.000000\n",
       "2014-05-01 01:45:00     0.000000\n",
       "2014-05-01 02:00:00     0.000000\n",
       "2014-05-01 02:15:00     0.000000\n",
       "2014-05-01 02:30:00     0.000000\n",
       "2014-05-01 02:45:00     0.000000\n",
       "2014-05-01 03:00:00     0.000000\n",
       "2014-05-01 03:15:00     0.000000\n",
       "2014-05-01 03:30:00     0.000000\n",
       "2014-05-01 03:45:00     0.000000\n",
       "2014-05-01 04:00:00     0.000000\n",
       "2014-05-01 04:15:00     0.000000\n",
       "2014-05-01 04:30:00     0.000000\n",
       "2014-05-01 04:45:00     0.000000\n",
       "2014-05-01 05:00:00     0.000000\n",
       "2014-05-01 05:15:00     0.000000\n",
       "2014-05-01 05:30:00     0.000000\n",
       "2014-05-01 05:45:00     0.000000\n",
       "2014-05-01 06:00:00     1.533333\n",
       "2014-05-01 06:15:00    14.466667\n",
       "2014-05-01 06:30:00    10.066667\n",
       "2014-05-01 06:45:00     7.666667\n",
       "2014-05-01 07:00:00     0.000000\n",
       "2014-05-01 07:15:00     0.000000\n",
       "                         ...    \n",
       "2014-12-01 16:30:00     0.000000\n",
       "2014-12-01 16:45:00     0.000000\n",
       "2014-12-01 17:00:00     0.000000\n",
       "2014-12-01 17:15:00     0.000000\n",
       "2014-12-01 17:30:00     0.000000\n",
       "2014-12-01 17:45:00     0.000000\n",
       "2014-12-01 18:00:00     0.000000\n",
       "2014-12-01 18:15:00     0.000000\n",
       "2014-12-01 18:30:00     0.000000\n",
       "2014-12-01 18:45:00     0.000000\n",
       "2014-12-01 19:00:00     0.000000\n",
       "2014-12-01 19:15:00     0.000000\n",
       "2014-12-01 19:30:00     0.000000\n",
       "2014-12-01 19:45:00     0.000000\n",
       "2014-12-01 20:00:00     0.000000\n",
       "2014-12-01 20:15:00     0.000000\n",
       "2014-12-01 20:30:00     0.000000\n",
       "2014-12-01 20:45:00     0.000000\n",
       "2014-12-01 21:00:00     0.000000\n",
       "2014-12-01 21:15:00     0.000000\n",
       "2014-12-01 21:30:00     0.000000\n",
       "2014-12-01 21:45:00     0.000000\n",
       "2014-12-01 22:00:00     0.000000\n",
       "2014-12-01 22:15:00     0.000000\n",
       "2014-12-01 22:30:00     0.000000\n",
       "2014-12-01 22:45:00     0.000000\n",
       "2014-12-01 23:00:00     0.000000\n",
       "2014-12-01 23:15:00     0.000000\n",
       "2014-12-01 23:30:00     0.000000\n",
       "2014-12-01 23:45:00     0.000000\n",
       "Freq: 15T, Name: AE1 FUEL RACK POSIT:1742:mm:Average:900, Length: 20640, dtype: float64"
      ]
     },
     "execution_count": 70,
     "metadata": {},
     "output_type": "execute_result"
    }
   ],
   "source": [
    "\n",
    "# The dataset is not complete overlapping in time with data from both the mass-flow meters and the\n",
    "# the rest of the data. So we have to manually filter out the time interval which we are interested in.\n",
    "\n",
    "date_begin = '2014-05-01'\n",
    "date_end = '2014-12-01'\n",
    "\n",
    "df['AE1 FUEL RACK POSIT:1742:mm:Average:900'][date_begin:date_end]\n",
    "\n"
   ]
  },
  {
   "cell_type": "code",
   "execution_count": 94,
   "metadata": {
    "collapsed": true
   },
   "outputs": [],
   "source": [
    "# Dict of var names we want to use.\n",
    "\n",
    "\n",
    "var_names = {'ae1_frp':'AE1 FUEL RACK POSIT:1742:mm:Average:900',\n",
    "             'ae2_frp':'AE2 FUEL RACK POSIT:2742:mm:Average:900',\n",
    "             'ae3_frp':'AE3 FUEL RACK POSIT:3742:mm:Average:900',\n",
    "             'ae4_frp':'AE4 FUEL RACK POSIT:4742:mm:Average:900',\n",
    "             'me1_frp':'ME1 FUEL RACK POSIT:10005:%:Average:900',\n",
    "             'me2_frp':'ME2 FUEL RACK POSIT:20005:%:Average:900',\n",
    "             'me3_frp':'ME3 FUEL RACK POSIT:30005:%:Average:900',\n",
    "             'me4_frp':'ME4 FUEL RACK POSIT:40005:%:Average:900'}\n",
    "\n",
    "#Creating the Tensors:\n",
    "\n",
    "for name_ in var_names:\n",
    "    globals()[name_] = 3\n"
   ]
  },
  {
   "cell_type": "code",
   "execution_count": 96,
   "metadata": {},
   "outputs": [
    {
     "data": {
      "text/plain": [
       "3"
      ]
     },
     "execution_count": 96,
     "metadata": {},
     "output_type": "execute_result"
    }
   ],
   "source": [
    "me1_frp"
   ]
  },
  {
   "cell_type": "code",
   "execution_count": 90,
   "metadata": {},
   "outputs": [
    {
     "name": "stdout",
     "output_type": "stream",
     "text": [
      "AE1 FUEL RACK POSIT:1742:mm:Average:900\n",
      "AE2 FUEL RACK POSIT:2742:mm:Average:900\n",
      "AE3 FUEL RACK POSIT:3742:mm:Average:900\n",
      "AE4 FUEL RACK POSIT:4742:mm:Average:900\n",
      "ME1 FUEL RACK POSIT:10005:%:Average:900\n",
      "ME2 FUEL RACK POSIT:20005:%:Average:900\n",
      "ME3 FUEL RACK POSIT:30005:%:Average:900\n",
      "ME4 FUEL RACK POSIT:40005:%:Average:900\n"
     ]
    }
   ],
   "source": [
    "\n",
    "for names in var_names:\n",
    "    print(var_names[names])"
   ]
  },
  {
   "cell_type": "code",
   "execution_count": 64,
   "metadata": {},
   "outputs": [],
   "source": [
    "\n",
    "\n",
    "\n",
    "\n",
    "\n",
    "\n",
    "ae1_frp = torch.Tensor(df['AE1 FUEL RACK POSIT:1742:mm:Average:900'][date_begin:date_end])\n",
    "ae2_frp = torch.Tensor(df['AE2 FUEL RACK POSIT:2742:mm:Average:900'][date_begin:date_end])\n",
    "ae3_frp = torch.Tensor(df['AE3 FUEL RACK POSIT:3742:mm:Average:900'][date_begin:date_end])\n",
    "ae4_frp = torch.Tensor(df['AE4 FUEL RACK POSIT:4742:mm:Average:900'][date_begin:date_end])\n",
    "\n",
    "fo1_boost = torch.Tensor(df['FO BOOST 1 CONSUMPT:6165:m3/h:Average:900'][date_begin:date_end])\n",
    "fo2_boost = torch.Tensor(df['FO BOOST 2 CONSUMPT:6166:m3/h:Average:900'][date_begin:date_end])\n",
    "\n",
    "#me1_frp = torch.Tensor([df['ME1 FUEL RACK POSIT:10005:%:Average:900'],df['ME2 FUEL RACK POSIT:20005:%:Average:900']])\n",
    "\n",
    "me1_frp = torch.Tensor(df['ME1 FUEL RACK POSIT:10005:%:Average:900'][date_begin:date_end])\n",
    "me2_frp = torch.Tensor(df['ME2 FUEL RACK POSIT:20005:%:Average:900'])\n",
    "me3_frp = torch.Tensor(df['ME3 FUEL RACK POSIT:30005:%:Average:900'])\n",
    "me4_frp = torch.Tensor(df['ME4 FUEL RACK POSIT:40005:%:Average:900'])\n",
    "\n",
    "fo_1_3_total = torch.Tensor(df['FO_day_engine_1_3'])\n",
    "fo_2_4_total = torch.Tensor(df['FO_day_engine_2_4'])\n",
    "\n",
    "#Adding weight variables\n",
    "\n",
    "w_ae1 = Variable(torch.ones(len(ae1_frp)), requires_grad = True)\n",
    "w_ae2 = Variable(torch.ones(len(ae2_frp)), requires_grad = True)\n",
    "w_ae3 = Variable(torch.ones(len(ae3_frp)), requires_grad = True)\n",
    "w_ae4 = Variable(torch.ones(len(ae4_frp)), requires_grad = True)\n",
    "\n",
    "w_me1 = Variable(torch.ones(len(me1_frp)), requires_grad = True)\n",
    "w_me2 = Variable(torch.ones(len(me2_frp)), requires_grad = True)\n",
    "w_me3 = Variable(torch.ones(len(me3_frp)), requires_grad = True)\n",
    "w_me4 = Variable(torch.ones(len(me4_frp)), requires_grad = True)\n",
    "\n",
    "\n",
    "\n",
    "\n"
   ]
  },
  {
   "cell_type": "code",
   "execution_count": 65,
   "metadata": {},
   "outputs": [
    {
     "data": {
      "text/plain": [
       "\n",
       "     nan\n",
       "     nan\n",
       "     nan\n",
       "   ⋮    \n",
       "  8.8400\n",
       "  8.8400\n",
       "  8.8400\n",
       "[torch.FloatTensor of size 35040]"
      ]
     },
     "execution_count": 65,
     "metadata": {},
     "output_type": "execute_result"
    }
   ],
   "source": [
    "fo_1_3_total"
   ]
  },
  {
   "cell_type": "code",
   "execution_count": 63,
   "metadata": {},
   "outputs": [
    {
     "data": {
      "text/plain": [
       "Variable containing:\n",
       " 1\n",
       " 1\n",
       " 1\n",
       "⋮ \n",
       " 1\n",
       " 1\n",
       " 1\n",
       "[torch.FloatTensor of size 35040]"
      ]
     },
     "execution_count": 63,
     "metadata": {},
     "output_type": "execute_result"
    }
   ],
   "source": [
    "# Buildning a cost function\n",
    "\n",
    "cost = \n",
    "\n"
   ]
  },
  {
   "cell_type": "code",
   "execution_count": 55,
   "metadata": {},
   "outputs": [
    {
     "data": {
      "text/plain": [
       "Variable containing:\n",
       " 1  1\n",
       "[torch.FloatTensor of size 1x2]"
      ]
     },
     "execution_count": 55,
     "metadata": {},
     "output_type": "execute_result"
    }
   ],
   "source": [
    "#w_ae1 = Variable(torch.ones(100))\n",
    "w_ae1"
   ]
  },
  {
   "cell_type": "code",
   "execution_count": 20,
   "metadata": {},
   "outputs": [
    {
     "data": {
      "text/plain": [
       "\n",
       "  0.0000\n",
       "  0.0000\n",
       "  0.0000\n",
       "   ⋮    \n",
       " 49.9281\n",
       " 48.9667\n",
       " 49.6771\n",
       "[torch.FloatTensor of size 35040]"
      ]
     },
     "execution_count": 20,
     "metadata": {},
     "output_type": "execute_result"
    }
   ],
   "source": [
    "b"
   ]
  },
  {
   "cell_type": "code",
   "execution_count": null,
   "metadata": {
    "collapsed": true
   },
   "outputs": [],
   "source": []
  }
 ],
 "metadata": {
  "kernelspec": {
   "display_name": "Python 3",
   "language": "python",
   "name": "python3"
  },
  "language_info": {
   "codemirror_mode": {
    "name": "ipython",
    "version": 3
   },
   "file_extension": ".py",
   "mimetype": "text/x-python",
   "name": "python",
   "nbconvert_exporter": "python",
   "pygments_lexer": "ipython3",
   "version": "3.6.2"
  }
 },
 "nbformat": 4,
 "nbformat_minor": 2
}
