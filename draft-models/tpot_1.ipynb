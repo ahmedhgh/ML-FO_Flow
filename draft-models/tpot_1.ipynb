{
 "cells": [
  {
   "cell_type": "code",
   "execution_count": 2,
   "metadata": {},
   "outputs": [
    {
     "name": "stdout",
     "output_type": "stream",
     "text": [
      "Loading database ...\n",
      "Time to load database: 1.8056986331939697\n"
     ]
    }
   ],
   "source": [
    "import pandas as pd\n",
    "#import torch\n",
    "import sklearn\n",
    "from sklearn import preprocessing\n",
    "import time\n",
    "import numpy as np\n",
    "\n",
    "from tpot import TPOTRegressor\n",
    "from sklearn.model_selection import train_test_split\n",
    "\n",
    "# Load the database, shouldn't take that long. This is all data!\n",
    "\n",
    "t1 = time.time()\n",
    "print('Loading database ...')\n",
    "df = pd.read_hdf('../database/all_data_comp.h5','table')\n",
    "print('Time to load database:', time.time()-t1)\n"
   ]
  },
  {
   "cell_type": "code",
   "execution_count": 3,
   "metadata": {
    "collapsed": true
   },
   "outputs": [],
   "source": [
    "fo_1_3_total = df['FO_day_engine_1_3'].dropna()\n",
    "fo_2_4_total = df['FO_day_engine_2_4'].dropna()\n",
    "\n",
    "# this gives the total in tonnes for each day.\n",
    "\n",
    "# The dataset is not complete overlapping in time with data from both the mass-flow meters and the\n",
    "# the rest of the data. So we have to manually filter out the time interval which we are interested in.\n",
    "\n",
    "date_begin = '2014-02-01'\n",
    "date_end = '2014-12-16'\n",
    "\n",
    "# Dict of var names we want to use.\n",
    "\n",
    "\n",
    "var_names = {'ae1_frp':'AE1 FUEL RACK POSIT:1742:mm:Average:900',\n",
    "             'ae2_frp':'AE2 FUEL RACK POSIT:2742:mm:Average:900',\n",
    "             'ae3_frp':'AE3 FUEL RACK POSIT:3742:mm:Average:900',\n",
    "             'ae4_frp':'AE4 FUEL RACK POSIT:4742:mm:Average:900',\n",
    "             \n",
    "             'ae1_cac_P':'AE1 CA OTL CAC PRESS:1649:Bar:Average:900',\n",
    "             'ae2_cac_P':'AE2 CA OTL CAC PRESS:2649:Bar:Average:900',\n",
    "             'ae3_cac_P':'AE3 CA OTL CAC PRESS:3649:Bar:Average:900',\n",
    "             'ae4_cac_P':'AE4 CA OTL CAC PRESS:4649:Bar:Average:900',\n",
    "             \n",
    "             'ae1_cac_ca':'AE1 EXH CA OUTET 1:1543:  C:Average:900',\n",
    "             'ae2_cac_ca':'AE2 EXH CA OUTET 1:2543:  C:Average:900',\n",
    "             'ae3_cac_ca':'AE3 EXH CA OUTET 1:3543:  C:Average:900',\n",
    "             'ae4_cac_ca':'AE4 EXH CA OUTET 1:4543:  C:Average:900',\n",
    "             \n",
    "             'ae1_exh':'AE1 EXH MEAN VALUE:1591:  C:Average:900',\n",
    "             'ae2_exh':'AE2 EXH MEAN VALUE:2591:  C:Average:900',\n",
    "             'ae3_exh':'AE3 EXH MEAN VALUE:3591:  C:Average:900',\n",
    "             'ae4_exh':'AE4 EXH MEAN VALUE:4591:  C:Average:900',\n",
    "             \n",
    "             'ae1_fo_P':'AE1 FO INLET PRESS:1603:Bar:Average:900',\n",
    "             'ae2_fo_P':'AE2 FO INLET PRESS:2603:Bar:Average:900',\n",
    "             'ae3_fo_P':'AE3 FO INLET PRESS:3603:Bar:Average:900',\n",
    "             'ae4_fo_P':'AE4 FO INLET PRESS:4603:Bar:Average:900',\n",
    "             \n",
    "             'ae1_rpm':'AE1 ENG SPEED:1745:RPM:Average:900',\n",
    "             'ae2_rpm':'AE2 ENG SPEED:2745:RPM:Average:900',\n",
    "             'ae3_rpm':'AE3 ENG SPEED:3745:RPM:Average:900',\n",
    "             'ae4_rpm':'AE4 ENG SPEED:4745:RPM:Average:900',\n",
    "             \n",
    "             'me1_frp':'ME1 FUEL RACK POSIT:10005:%:Average:900',\n",
    "             'me2_frp':'ME2 FUEL RACK POSIT:20005:%:Average:900',\n",
    "             'me3_frp':'ME3 FUEL RACK POSIT:30005:%:Average:900',\n",
    "             'me4_frp':'ME4 FUEL RACK POSIT:40005:%:Average:900',\n",
    "             \n",
    "             'me1_ca_T':'ME1 CA TEMP COOL OUT:1343:C:Average:900',\n",
    "             'me2_ca_T':'ME2 CA TEMP COOL OUT:2343:C:Average:900',\n",
    "             'me3_ca_T':'ME3 CA TEMP COOL OUT:3343:C:Average:900',\n",
    "             'me4_ca_T':'ME4 CA TEMP COOL OUT:4343:C:Average:900',\n",
    "             \n",
    "             'me1_cac_T':'ME1 CHARGE AIR TEMP:1347:C:Average:900',\n",
    "             'me2_cac_T':'ME2 CHARGE AIR TEMP:2347:C:Average:900',\n",
    "             'me3_cac_T':'ME3 CHARGE AIR TEMP:3347:C:Average:900',\n",
    "             'me4_cac_T':'ME4 CHARGE AIR TEMP:4347:C:Average:900',\n",
    "             \n",
    "             'me1_exh_T':'ME1 EXH GAS MEAN:1125:C:Average:900',\n",
    "             'me2_exh_T':'ME2 EXH GAS MEAN:2125:C:Average:900',\n",
    "             'me3_exh_T':'ME3 EXH GAS MEAN:3125:C:Average:900',\n",
    "             'me4_exh_T':'ME4 EXH GAS MEAN:4125:C:Average:900',\n",
    "             \n",
    "             'me1_rpm':'ME1 ENGINE SPEED:1364:rpm:Average:900',\n",
    "             'me2_rpm':'ME2 ENGINE SPEED:2364:rpm:Average:900',\n",
    "             'me3_rpm':'ME3 ENGINE SPEED:3364:rpm:Average:900',\n",
    "             'me4_rpm':'ME4 ENGINE SPEED:4364:rpm:Average:900',\n",
    "             \n",
    "             'fo_booster_13':'FO BOOST 1 CONSUMPT:6165:m3/h:Average:900',\n",
    "             'fo_booster_24':'FO BOOST 2 CONSUMPT:6166:m3/h:Average:900'}\n",
    "\n",
    "for names in var_names:\n",
    "    if var_names[names] in list(df):\n",
    "        #print(var_names[names])\n",
    "        pass\n",
    "    else:\n",
    "        print('*** VAR MISSING *** ', var_names[names], ' *** VAR MISSING ***')\n",
    "\n",
    "        \n",
    "eng_13 = [var_names['ae1_frp'],\n",
    "          var_names['ae3_frp'],\n",
    "          var_names['ae1_cac_P'],\n",
    "          var_names['ae3_cac_P'],\n",
    "          var_names['ae1_cac_ca'],\n",
    "          var_names['ae3_cac_ca'],\n",
    "          var_names['ae1_exh'],\n",
    "          var_names['ae3_exh'],\n",
    "          var_names['ae1_fo_P'],\n",
    "          var_names['ae3_fo_P'],\n",
    "          var_names['ae1_rpm'],\n",
    "          var_names['ae3_rpm'],\n",
    "          var_names['me1_frp'],\n",
    "          var_names['me3_frp'],\n",
    "          var_names['me1_ca_T'],\n",
    "          var_names['me3_ca_T'],\n",
    "          var_names['me1_cac_T'],\n",
    "          var_names['me3_cac_T'],\n",
    "          var_names['me1_exh_T'],\n",
    "          var_names['me3_exh_T'],\n",
    "          var_names['me1_rpm'],\n",
    "          var_names['me3_rpm']]\n",
    "          \n",
    "eng_24 = [var_names['ae2_frp'],\n",
    "          var_names['ae4_frp'],\n",
    "          var_names['ae2_cac_P'],\n",
    "          var_names['ae4_cac_P'],\n",
    "          var_names['ae2_cac_ca'],\n",
    "          var_names['ae4_cac_ca'],\n",
    "          var_names['ae2_exh'],\n",
    "          var_names['ae4_exh'],\n",
    "          var_names['ae2_fo_P'],\n",
    "          var_names['ae4_fo_P'],\n",
    "          var_names['ae2_rpm'],\n",
    "          var_names['ae4_rpm'],\n",
    "          var_names['me2_frp'],\n",
    "          var_names['me4_frp'],\n",
    "          var_names['me2_ca_T'],\n",
    "          var_names['me4_ca_T'],\n",
    "          var_names['me2_cac_T'],\n",
    "          var_names['me4_cac_T'],\n",
    "          var_names['me2_exh_T'],\n",
    "          var_names['me4_exh_T'],\n",
    "          var_names['me2_rpm'],\n",
    "          var_names['me4_rpm']]\n",
    "        \n",
    "\n",
    "# Create np arrays. X vals are engine inputs, y are fo flows    \n",
    "# For the first tries I am only using the variables below...\n",
    "\n",
    "X_13 = np.array(df[[\n",
    "            var_names['ae1_frp'],\n",
    "            var_names['ae3_frp'],\n",
    "            var_names['me1_frp'],\n",
    "            var_names['me3_frp'],\n",
    "            var_names['ae1_rpm'],\n",
    "            var_names['ae3_rpm'],\n",
    "            var_names['me1_rpm'],\n",
    "            var_names['me3_rpm'],       \n",
    "            ]][date_begin:date_end])\n",
    "X_24 = np.array(df[[\n",
    "            var_names['ae2_frp'],\n",
    "            var_names['ae4_frp'],\n",
    "            var_names['me2_frp'],\n",
    "            var_names['me4_frp'],\n",
    "            var_names['ae2_rpm'],\n",
    "            var_names['ae4_rpm'],\n",
    "            var_names['me2_rpm'],\n",
    "            var_names['me4_rpm'],\n",
    "            ]][date_begin:date_end])\n",
    "\n",
    "X_13 = np.array(df[eng_13][date_begin:date_end])\n",
    "X_24 = np.array(df[eng_24][date_begin:date_end])\n",
    "\n",
    "y_13 = np.array(df[var_names['fo_booster_13']][date_begin:date_end]).reshape(-1,1)\n",
    "y_24 = np.array(df[var_names['fo_booster_24']][date_begin:date_end]).reshape(-1,1)\n",
    "\n",
    "X_train_13, X_test_13, y_train_13, y_test_13 = train_test_split(X_13, y_13, train_size=0.75, test_size=0.25)\n"
   ]
  },
  {
   "cell_type": "code",
   "execution_count": null,
   "metadata": {},
   "outputs": [
    {
     "name": "stderr",
     "output_type": "stream",
     "text": [
      "Optimization Progress:  33%|███▎      | 50/150 [03:11<10:59,  6.59s/pipeline]"
     ]
    }
   ],
   "source": [
    "#  modeling with tpot\n",
    "\n",
    "\n",
    "# Number of generations, should be boosted if we want better results. 3 gens take ~ 30min on my macbook...\n",
    "gen = 2\n",
    "cores=-1 # use all of them\n",
    "\n",
    "X_train_13, X_test_13, y_train_13, y_test_13 = train_test_split(X_13, y_13, train_size=0.75, test_size=0.25)\n",
    "tpot = TPOTRegressor(generations=gen, population_size=50, verbosity=2, n_jobs=cores)\n",
    "tpot.fit(X_train_13, y_train_13.reshape(-1,))\n",
    "\n",
    "print(tpot.score(X_test_13,y_test_13))\n"
   ]
  },
  {
   "cell_type": "code",
   "execution_count": 8,
   "metadata": {},
   "outputs": [
    {
     "data": {
      "text/plain": [
       "TPOTRegressor(config_dict={'sklearn.linear_model.ElasticNetCV': {'l1_ratio': array([ 0.  ,  0.05,  0.1 ,  0.15,  0.2 ,  0.25,  0.3 ,  0.35,  0.4 ,\n",
       "        0.45,  0.5 ,  0.55,  0.6 ,  0.65,  0.7 ,  0.75,  0.8 ,  0.85,\n",
       "        0.9 ,  0.95,  1.  ]), 'tol': [1e-05, 0.0001, 0.001, 0.01, 0.1]}, 'sklearn.ensemble.ExtraT....45,\n",
       "        0.5 ,  0.55,  0.6 ,  0.65,  0.7 ,  0.75,  0.8 ,  0.85,  0.9 ,\n",
       "        0.95,  1.  ])}}}},\n",
       "       crossover_rate=0.1, cv=5, disable_update_check=False,\n",
       "       early_stop=None, generations=2, max_eval_time_mins=5,\n",
       "       max_time_mins=None, mutation_rate=0.9, n_jobs=8, offspring_size=50,\n",
       "       periodic_checkpoint_folder=None, population_size=50,\n",
       "       random_state=None, scoring=None, subsample=1.0, verbosity=2,\n",
       "       warm_start=False)"
      ]
     },
     "execution_count": 8,
     "metadata": {},
     "output_type": "execute_result"
    }
   ],
   "source": [
    "tpot"
   ]
  },
  {
   "cell_type": "code",
   "execution_count": 10,
   "metadata": {},
   "outputs": [
    {
     "data": {
      "text/plain": [
       "(30624, 8)"
      ]
     },
     "execution_count": 10,
     "metadata": {},
     "output_type": "execute_result"
    }
   ],
   "source": [
    "X_13.shape"
   ]
  },
  {
   "cell_type": "code",
   "execution_count": 11,
   "metadata": {},
   "outputs": [
    {
     "name": "stdout",
     "output_type": "stream",
     "text": [
      "[ 0.32380799]\n",
      "[ 0.4179048]\n"
     ]
    }
   ],
   "source": [
    "\n",
    "# Lets just make a quick prediction..\n",
    "\n",
    "print(tpot.predict(X_13[3].reshape(1,-1)))\n",
    "print(y_13[5])\n",
    "\n",
    "# Export the model\n",
    "tpot.export('eng13.py')\n",
    "\n",
    "tpot_13 = tpot\n",
    "\n",
    "# This is how to import the model into another code:\n",
    "# import eng13\n",
    "# ... or:\n",
    "# exec(open('eng13.py').read(), globals())"
   ]
  },
  {
   "cell_type": "code",
   "execution_count": 12,
   "metadata": {},
   "outputs": [
    {
     "data": {
      "text/plain": [
       "{'DecisionTreeRegressor(CombineDFs(input_matrix, input_matrix), DecisionTreeRegressor__max_depth=6, DecisionTreeRegressor__min_samples_leaf=10, DecisionTreeRegressor__min_samples_split=3)': (1,\n",
       "  -0.0051467999041840823),\n",
       " 'DecisionTreeRegressor(KNeighborsRegressor(input_matrix, KNeighborsRegressor__n_neighbors=10, KNeighborsRegressor__p=1, KNeighborsRegressor__weights=uniform), DecisionTreeRegressor__max_depth=8, DecisionTreeRegressor__min_samples_leaf=8, DecisionTreeRegressor__min_samples_split=7)': (2,\n",
       "  -0.0020375260309837338),\n",
       " 'DecisionTreeRegressor(SelectPercentile(CombineDFs(input_matrix, input_matrix), SelectPercentile__percentile=52), DecisionTreeRegressor__max_depth=6, DecisionTreeRegressor__min_samples_leaf=10, DecisionTreeRegressor__min_samples_split=3)': (2,\n",
       "  -0.0063004323898824084),\n",
       " 'DecisionTreeRegressor(input_matrix, DecisionTreeRegressor__max_depth=1, DecisionTreeRegressor__min_samples_leaf=5, DecisionTreeRegressor__min_samples_split=11)': (1,\n",
       "  -0.10805561338217158),\n",
       " 'DecisionTreeRegressor(input_matrix, DecisionTreeRegressor__max_depth=3, DecisionTreeRegressor__min_samples_leaf=9, DecisionTreeRegressor__min_samples_split=2)': (1,\n",
       "  -0.028076596820985133),\n",
       " 'DecisionTreeRegressor(input_matrix, DecisionTreeRegressor__max_depth=6, DecisionTreeRegressor__min_samples_leaf=10, DecisionTreeRegressor__min_samples_split=3)': (1,\n",
       "  -0.0051559234968534999),\n",
       " 'DecisionTreeRegressor(input_matrix, DecisionTreeRegressor__max_depth=7, DecisionTreeRegressor__min_samples_leaf=16, DecisionTreeRegressor__min_samples_split=10)': (1,\n",
       "  -0.0039550112286270223),\n",
       " 'ElasticNetCV(Binarizer(input_matrix, Binarizer__threshold=0.6), ElasticNetCV__l1_ratio=0.6, ElasticNetCV__tol=1e-05)': (2,\n",
       "  -0.03954366540190514),\n",
       " 'ElasticNetCV(FeatureAgglomeration(input_matrix, FeatureAgglomeration__affinity=euclidean, FeatureAgglomeration__linkage=ward), ElasticNetCV__l1_ratio=0.6, ElasticNetCV__tol=0.01)': (2,\n",
       "  -0.095581464304295261),\n",
       " 'ElasticNetCV(MaxAbsScaler(input_matrix), ElasticNetCV__l1_ratio=0.15, ElasticNetCV__tol=0.001)': (2,\n",
       "  -0.0058027132465279987),\n",
       " 'ElasticNetCV(RBFSampler(input_matrix, RBFSampler__gamma=0.25), ElasticNetCV__l1_ratio=0.3, ElasticNetCV__tol=0.0001)': (2,\n",
       "  -0.087798422643425675),\n",
       " 'ElasticNetCV(RBFSampler(input_matrix, RBFSampler__gamma=0.25), ElasticNetCV__l1_ratio=0.3, ElasticNetCV__tol=1e-05)': (2,\n",
       "  -0.087798321280226091),\n",
       " 'ElasticNetCV(RidgeCV(input_matrix), ElasticNetCV__l1_ratio=0.75, ElasticNetCV__tol=0.1)': (2,\n",
       "  -0.0062076055278623629),\n",
       " 'ElasticNetCV(RobustScaler(FeatureAgglomeration(input_matrix, FeatureAgglomeration__affinity=euclidean, FeatureAgglomeration__linkage=ward)), ElasticNetCV__l1_ratio=0.6, ElasticNetCV__tol=0.01)': (3,\n",
       "  -0.095578020943422645),\n",
       " 'ElasticNetCV(SelectFromModel(Binarizer(input_matrix, Binarizer__threshold=0.6), SelectFromModel__ExtraTreesRegressor__max_features=1.0, SelectFromModel__ExtraTreesRegressor__n_estimators=100, SelectFromModel__threshold=0.4), ElasticNetCV__l1_ratio=0.6, ElasticNetCV__tol=1e-05)': (3,\n",
       "  -inf),\n",
       " 'ElasticNetCV(input_matrix, ElasticNetCV__l1_ratio=0.3, ElasticNetCV__tol=0.0001)': (1,\n",
       "  -0.0057773968919377378),\n",
       " 'ElasticNetCV(input_matrix, ElasticNetCV__l1_ratio=0.6, ElasticNetCV__tol=0.01)': (1,\n",
       "  -0.0057291566165695428),\n",
       " 'ElasticNetCV(input_matrix, ElasticNetCV__l1_ratio=0.8, ElasticNetCV__tol=1e-05)': (1,\n",
       "  -0.0057771029663918451),\n",
       " 'ExtraTreesRegressor(CombineDFs(input_matrix, input_matrix), ExtraTreesRegressor__bootstrap=False, ExtraTreesRegressor__max_features=0.05, ExtraTreesRegressor__min_samples_leaf=15, ExtraTreesRegressor__min_samples_split=6, ExtraTreesRegressor__n_estimators=100)': (1,\n",
       "  -0.036984393858406003),\n",
       " 'ExtraTreesRegressor(DecisionTreeRegressor(StandardScaler(input_matrix), DecisionTreeRegressor__max_depth=3, DecisionTreeRegressor__min_samples_leaf=15, DecisionTreeRegressor__min_samples_split=8), ExtraTreesRegressor__bootstrap=True, ExtraTreesRegressor__max_features=0.6, ExtraTreesRegressor__min_samples_leaf=15, ExtraTreesRegressor__min_samples_split=19, ExtraTreesRegressor__n_estimators=100)': (3,\n",
       "  -0.0027769562255836946),\n",
       " 'ExtraTreesRegressor(DecisionTreeRegressor(input_matrix, DecisionTreeRegressor__max_depth=3, DecisionTreeRegressor__min_samples_leaf=15, DecisionTreeRegressor__min_samples_split=8), ExtraTreesRegressor__bootstrap=True, ExtraTreesRegressor__max_features=0.6, ExtraTreesRegressor__min_samples_leaf=15, ExtraTreesRegressor__min_samples_split=19, ExtraTreesRegressor__n_estimators=100)': (2,\n",
       "  -0.0027769575367826804),\n",
       " 'ExtraTreesRegressor(MinMaxScaler(input_matrix), ExtraTreesRegressor__bootstrap=True, ExtraTreesRegressor__max_features=0.45, ExtraTreesRegressor__min_samples_leaf=3, ExtraTreesRegressor__min_samples_split=2, ExtraTreesRegressor__n_estimators=100)': (2,\n",
       "  -0.0016962151862794234),\n",
       " 'ExtraTreesRegressor(Nystroem(input_matrix, Nystroem__gamma=0.0, Nystroem__kernel=cosine, Nystroem__n_components=5), ExtraTreesRegressor__bootstrap=False, ExtraTreesRegressor__max_features=0.3, ExtraTreesRegressor__min_samples_leaf=20, ExtraTreesRegressor__min_samples_split=16, ExtraTreesRegressor__n_estimators=100)': (2,\n",
       "  -0.050858382397462168),\n",
       " 'ExtraTreesRegressor(OneHotEncoder(input_matrix, OneHotEncoder__minimum_fraction=0.05, OneHotEncoder__sparse=False), ExtraTreesRegressor__bootstrap=False, ExtraTreesRegressor__max_features=0.5, ExtraTreesRegressor__min_samples_leaf=9, ExtraTreesRegressor__min_samples_split=20, ExtraTreesRegressor__n_estimators=100)': (2,\n",
       "  -0.0019477706602573836),\n",
       " 'ExtraTreesRegressor(PCA(RobustScaler(input_matrix), PCA__iterated_power=2, PCA__svd_solver=randomized), ExtraTreesRegressor__bootstrap=False, ExtraTreesRegressor__max_features=1.0, ExtraTreesRegressor__min_samples_leaf=12, ExtraTreesRegressor__min_samples_split=2, ExtraTreesRegressor__n_estimators=100)': (3,\n",
       "  -0.0019351123547245289),\n",
       " 'ExtraTreesRegressor(PCA(input_matrix, PCA__iterated_power=2, PCA__svd_solver=randomized), ExtraTreesRegressor__bootstrap=False, ExtraTreesRegressor__max_features=0.95, ExtraTreesRegressor__min_samples_leaf=12, ExtraTreesRegressor__min_samples_split=2, ExtraTreesRegressor__n_estimators=100)': (2,\n",
       "  -0.0018050281528833203),\n",
       " 'ExtraTreesRegressor(PCA(input_matrix, PCA__iterated_power=2, PCA__svd_solver=randomized), ExtraTreesRegressor__bootstrap=False, ExtraTreesRegressor__max_features=1.0, ExtraTreesRegressor__min_samples_leaf=12, ExtraTreesRegressor__min_samples_split=2, ExtraTreesRegressor__n_estimators=100)': (2,\n",
       "  -0.0017688480798773488),\n",
       " 'ExtraTreesRegressor(PolynomialFeatures(input_matrix, PolynomialFeatures__degree=2, PolynomialFeatures__include_bias=False, PolynomialFeatures__interaction_only=False), ExtraTreesRegressor__bootstrap=False, ExtraTreesRegressor__max_features=0.3, ExtraTreesRegressor__min_samples_leaf=3, ExtraTreesRegressor__min_samples_split=16, ExtraTreesRegressor__n_estimators=100)': (2,\n",
       "  -0.0011644504639897926),\n",
       " 'ExtraTreesRegressor(SelectPercentile(input_matrix, SelectPercentile__percentile=23), ExtraTreesRegressor__bootstrap=True, ExtraTreesRegressor__max_features=0.45, ExtraTreesRegressor__min_samples_leaf=3, ExtraTreesRegressor__min_samples_split=2, ExtraTreesRegressor__n_estimators=100)': (2,\n",
       "  -0.022777585734477863),\n",
       " 'ExtraTreesRegressor(ZeroCount(OneHotEncoder(input_matrix, OneHotEncoder__minimum_fraction=0.2, OneHotEncoder__sparse=False)), ExtraTreesRegressor__bootstrap=False, ExtraTreesRegressor__max_features=0.3, ExtraTreesRegressor__min_samples_leaf=3, ExtraTreesRegressor__min_samples_split=16, ExtraTreesRegressor__n_estimators=100)': (3,\n",
       "  -0.0019601543990334811),\n",
       " 'ExtraTreesRegressor(ZeroCount(input_matrix), ExtraTreesRegressor__bootstrap=False, ExtraTreesRegressor__max_features=0.3, ExtraTreesRegressor__min_samples_leaf=3, ExtraTreesRegressor__min_samples_split=16, ExtraTreesRegressor__n_estimators=100)': (2,\n",
       "  -0.0019601543990334811),\n",
       " 'ExtraTreesRegressor(ZeroCount(input_matrix), ExtraTreesRegressor__bootstrap=False, ExtraTreesRegressor__max_features=0.85, ExtraTreesRegressor__min_samples_leaf=15, ExtraTreesRegressor__min_samples_split=14, ExtraTreesRegressor__n_estimators=100)': (2,\n",
       "  -0.0018085599284611681),\n",
       " 'ExtraTreesRegressor(input_matrix, ExtraTreesRegressor__bootstrap=False, ExtraTreesRegressor__max_features=0.3, ExtraTreesRegressor__min_samples_leaf=12, ExtraTreesRegressor__min_samples_split=2, ExtraTreesRegressor__n_estimators=100)': (1,\n",
       "  -0.0049073861609143423),\n",
       " 'ExtraTreesRegressor(input_matrix, ExtraTreesRegressor__bootstrap=False, ExtraTreesRegressor__max_features=0.3, ExtraTreesRegressor__min_samples_leaf=3, ExtraTreesRegressor__min_samples_split=16, ExtraTreesRegressor__n_estimators=100)': (1,\n",
       "  -0.002468378682488382),\n",
       " 'ExtraTreesRegressor(input_matrix, ExtraTreesRegressor__bootstrap=False, ExtraTreesRegressor__max_features=0.35, ExtraTreesRegressor__min_samples_leaf=3, ExtraTreesRegressor__min_samples_split=16, ExtraTreesRegressor__n_estimators=100)': (1,\n",
       "  -0.002468378682488382),\n",
       " 'ExtraTreesRegressor(input_matrix, ExtraTreesRegressor__bootstrap=False, ExtraTreesRegressor__max_features=0.45, ExtraTreesRegressor__min_samples_leaf=3, ExtraTreesRegressor__min_samples_split=2, ExtraTreesRegressor__n_estimators=100)': (1,\n",
       "  -0.0015533291132016642),\n",
       " 'ExtraTreesRegressor(input_matrix, ExtraTreesRegressor__bootstrap=False, ExtraTreesRegressor__max_features=0.85, ExtraTreesRegressor__min_samples_leaf=15, ExtraTreesRegressor__min_samples_split=14, ExtraTreesRegressor__n_estimators=100)': (1,\n",
       "  -0.0019144942369314147),\n",
       " 'ExtraTreesRegressor(input_matrix, ExtraTreesRegressor__bootstrap=False, ExtraTreesRegressor__max_features=0.85, ExtraTreesRegressor__min_samples_leaf=15, ExtraTreesRegressor__min_samples_split=3, ExtraTreesRegressor__n_estimators=100)': (1,\n",
       "  -0.0019144942369314147),\n",
       " 'ExtraTreesRegressor(input_matrix, ExtraTreesRegressor__bootstrap=False, ExtraTreesRegressor__max_features=0.95, ExtraTreesRegressor__min_samples_leaf=5, ExtraTreesRegressor__min_samples_split=17, ExtraTreesRegressor__n_estimators=100)': (1,\n",
       "  -0.0013513461640932249),\n",
       " 'ExtraTreesRegressor(input_matrix, ExtraTreesRegressor__bootstrap=False, ExtraTreesRegressor__max_features=1.0, ExtraTreesRegressor__min_samples_leaf=12, ExtraTreesRegressor__min_samples_split=2, ExtraTreesRegressor__n_estimators=100)': (1,\n",
       "  -0.0016641086605738188),\n",
       " 'ExtraTreesRegressor(input_matrix, ExtraTreesRegressor__bootstrap=False, ExtraTreesRegressor__max_features=1.0, ExtraTreesRegressor__min_samples_leaf=5, ExtraTreesRegressor__min_samples_split=2, ExtraTreesRegressor__n_estimators=100)': (1,\n",
       "  -0.0012948115611785447),\n",
       " 'ExtraTreesRegressor(input_matrix, ExtraTreesRegressor__bootstrap=True, ExtraTreesRegressor__max_features=0.45, ExtraTreesRegressor__min_samples_leaf=3, ExtraTreesRegressor__min_samples_split=2, ExtraTreesRegressor__n_estimators=100)': (1,\n",
       "  -0.0016960088213577699),\n",
       " 'ExtraTreesRegressor(input_matrix, ExtraTreesRegressor__bootstrap=True, ExtraTreesRegressor__max_features=0.5, ExtraTreesRegressor__min_samples_leaf=15, ExtraTreesRegressor__min_samples_split=19, ExtraTreesRegressor__n_estimators=100)': (1,\n",
       "  -0.0028118369465151049),\n",
       " 'ExtraTreesRegressor(input_matrix, ExtraTreesRegressor__bootstrap=True, ExtraTreesRegressor__max_features=0.6, ExtraTreesRegressor__min_samples_leaf=15, ExtraTreesRegressor__min_samples_split=19, ExtraTreesRegressor__n_estimators=100)': (1,\n",
       "  -0.0028118369465151049),\n",
       " 'ExtraTreesRegressor(input_matrix, ExtraTreesRegressor__bootstrap=True, ExtraTreesRegressor__max_features=0.75, ExtraTreesRegressor__min_samples_leaf=3, ExtraTreesRegressor__min_samples_split=2, ExtraTreesRegressor__n_estimators=100)': (1,\n",
       "  -0.0012658283051281132),\n",
       " 'GradientBoostingRegressor(RidgeCV(input_matrix), GradientBoostingRegressor__alpha=0.9, GradientBoostingRegressor__learning_rate=0.001, GradientBoostingRegressor__loss=huber, GradientBoostingRegressor__max_depth=10, GradientBoostingRegressor__max_features=0.6, GradientBoostingRegressor__min_samples_leaf=2, GradientBoostingRegressor__min_samples_split=9, GradientBoostingRegressor__n_estimators=100, GradientBoostingRegressor__subsample=0.35)': (2,\n",
       "  -0.13029362329139946),\n",
       " 'GradientBoostingRegressor(input_matrix, GradientBoostingRegressor__alpha=0.9, GradientBoostingRegressor__learning_rate=0.001, GradientBoostingRegressor__loss=ls, GradientBoostingRegressor__max_depth=2, GradientBoostingRegressor__max_features=0.45, GradientBoostingRegressor__min_samples_leaf=1, GradientBoostingRegressor__min_samples_split=4, GradientBoostingRegressor__n_estimators=100, GradientBoostingRegressor__subsample=0.4)': (1,\n",
       "  -0.13835060638694091),\n",
       " 'GradientBoostingRegressor(input_matrix, GradientBoostingRegressor__alpha=0.95, GradientBoostingRegressor__learning_rate=1.0, GradientBoostingRegressor__loss=huber, GradientBoostingRegressor__max_depth=9, GradientBoostingRegressor__max_features=0.3, GradientBoostingRegressor__min_samples_leaf=11, GradientBoostingRegressor__min_samples_split=6, GradientBoostingRegressor__n_estimators=100, GradientBoostingRegressor__subsample=0.45)': (1,\n",
       "  -0.0044914220846870969),\n",
       " 'GradientBoostingRegressor(input_matrix, GradientBoostingRegressor__alpha=0.95, GradientBoostingRegressor__learning_rate=1.0, GradientBoostingRegressor__loss=lad, GradientBoostingRegressor__max_depth=2, GradientBoostingRegressor__max_features=0.75, GradientBoostingRegressor__min_samples_leaf=11, GradientBoostingRegressor__min_samples_split=18, GradientBoostingRegressor__n_estimators=100, GradientBoostingRegressor__subsample=0.3)': (1,\n",
       "  -0.0098220838634034916),\n",
       " 'GradientBoostingRegressor(input_matrix, GradientBoostingRegressor__alpha=0.95, GradientBoostingRegressor__learning_rate=1.0, GradientBoostingRegressor__loss=quantile, GradientBoostingRegressor__max_depth=9, GradientBoostingRegressor__max_features=0.3, GradientBoostingRegressor__min_samples_leaf=11, GradientBoostingRegressor__min_samples_split=6, GradientBoostingRegressor__n_estimators=100, GradientBoostingRegressor__subsample=0.45)': (1,\n",
       "  -0.0262988627062762),\n",
       " 'GradientBoostingRegressor(input_matrix, GradientBoostingRegressor__alpha=0.99, GradientBoostingRegressor__learning_rate=0.1, GradientBoostingRegressor__loss=ls, GradientBoostingRegressor__max_depth=10, GradientBoostingRegressor__max_features=0.7, GradientBoostingRegressor__min_samples_leaf=19, GradientBoostingRegressor__min_samples_split=20, GradientBoostingRegressor__n_estimators=100, GradientBoostingRegressor__subsample=0.25)': (1,\n",
       "  -0.001397205372838374),\n",
       " 'KNeighborsRegressor(CombineDFs(input_matrix, input_matrix), KNeighborsRegressor__n_neighbors=2, KNeighborsRegressor__p=1, KNeighborsRegressor__weights=uniform)': (1,\n",
       "  -0.0020128205992645852),\n",
       " 'KNeighborsRegressor(RandomForestRegressor(input_matrix, RandomForestRegressor__bootstrap=True, RandomForestRegressor__max_features=0.85, RandomForestRegressor__min_samples_leaf=7, RandomForestRegressor__min_samples_split=11, RandomForestRegressor__n_estimators=100), KNeighborsRegressor__n_neighbors=78, KNeighborsRegressor__p=2, KNeighborsRegressor__weights=distance)': (2,\n",
       "  -0.0027390627321459164),\n",
       " 'KNeighborsRegressor(SelectPercentile(input_matrix, SelectPercentile__percentile=66), KNeighborsRegressor__n_neighbors=2, KNeighborsRegressor__p=1, KNeighborsRegressor__weights=uniform)': (2,\n",
       "  -0.0059112766447309171),\n",
       " 'KNeighborsRegressor(VarianceThreshold(input_matrix, VarianceThreshold__threshold=0.5), KNeighborsRegressor__n_neighbors=23, KNeighborsRegressor__p=1, KNeighborsRegressor__weights=distance)': (2,\n",
       "  -0.0019769846328572442),\n",
       " 'KNeighborsRegressor(input_matrix, KNeighborsRegressor__n_neighbors=10, KNeighborsRegressor__p=1, KNeighborsRegressor__weights=uniform)': (1,\n",
       "  -0.0019775178216867658),\n",
       " 'KNeighborsRegressor(input_matrix, KNeighborsRegressor__n_neighbors=12, KNeighborsRegressor__p=1, KNeighborsRegressor__weights=distance)': (1,\n",
       "  -0.0018216251326054484),\n",
       " 'KNeighborsRegressor(input_matrix, KNeighborsRegressor__n_neighbors=12, KNeighborsRegressor__p=1, KNeighborsRegressor__weights=uniform)': (1,\n",
       "  -0.0020447398180571028),\n",
       " 'KNeighborsRegressor(input_matrix, KNeighborsRegressor__n_neighbors=14, KNeighborsRegressor__p=2, KNeighborsRegressor__weights=uniform)': (1,\n",
       "  -0.0023569724344763053),\n",
       " 'KNeighborsRegressor(input_matrix, KNeighborsRegressor__n_neighbors=2, KNeighborsRegressor__p=1, KNeighborsRegressor__weights=uniform)': (1,\n",
       "  -0.0020128205992645852),\n",
       " 'KNeighborsRegressor(input_matrix, KNeighborsRegressor__n_neighbors=23, KNeighborsRegressor__p=1, KNeighborsRegressor__weights=distance)': (1,\n",
       "  -0.0019769846328572442),\n",
       " 'KNeighborsRegressor(input_matrix, KNeighborsRegressor__n_neighbors=51, KNeighborsRegressor__p=1, KNeighborsRegressor__weights=uniform)': (1,\n",
       "  -0.0028847152447786751),\n",
       " 'KNeighborsRegressor(input_matrix, KNeighborsRegressor__n_neighbors=54, KNeighborsRegressor__p=2, KNeighborsRegressor__weights=distance)': (1,\n",
       "  -0.002561028400239483),\n",
       " 'KNeighborsRegressor(input_matrix, KNeighborsRegressor__n_neighbors=58, KNeighborsRegressor__p=1, KNeighborsRegressor__weights=uniform)': (1,\n",
       "  -0.0030175800839082486),\n",
       " 'KNeighborsRegressor(input_matrix, KNeighborsRegressor__n_neighbors=58, KNeighborsRegressor__p=2, KNeighborsRegressor__weights=distance)': (1,\n",
       "  -0.002595388975417339),\n",
       " 'KNeighborsRegressor(input_matrix, KNeighborsRegressor__n_neighbors=58, KNeighborsRegressor__p=2, KNeighborsRegressor__weights=uniform)': (1,\n",
       "  -0.0033713399031616619),\n",
       " 'KNeighborsRegressor(input_matrix, KNeighborsRegressor__n_neighbors=65, KNeighborsRegressor__p=2, KNeighborsRegressor__weights=distance)': (1,\n",
       "  -0.0026527493065246301),\n",
       " 'KNeighborsRegressor(input_matrix, KNeighborsRegressor__n_neighbors=78, KNeighborsRegressor__p=2, KNeighborsRegressor__weights=distance)': (1,\n",
       "  -0.0027527979551815428),\n",
       " 'KNeighborsRegressor(input_matrix, KNeighborsRegressor__n_neighbors=78, KNeighborsRegressor__p=2, KNeighborsRegressor__weights=uniform)': (1,\n",
       "  -0.0037427865564874123),\n",
       " 'KNeighborsRegressor(input_matrix, KNeighborsRegressor__n_neighbors=81, KNeighborsRegressor__p=1, KNeighborsRegressor__weights=uniform)': (1,\n",
       "  -0.0034511855883748261),\n",
       " 'KNeighborsRegressor(input_matrix, KNeighborsRegressor__n_neighbors=81, KNeighborsRegressor__p=2, KNeighborsRegressor__weights=uniform)': (1,\n",
       "  -0.003803821309164724),\n",
       " 'KNeighborsRegressor(input_matrix, KNeighborsRegressor__n_neighbors=88, KNeighborsRegressor__p=1, KNeighborsRegressor__weights=uniform)': (1,\n",
       "  -0.003584927478202491),\n",
       " 'KNeighborsRegressor(input_matrix, KNeighborsRegressor__n_neighbors=93, KNeighborsRegressor__p=2, KNeighborsRegressor__weights=distance)': (1,\n",
       "  -0.0028667595773305839),\n",
       " 'LassoLarsCV(RandomForestRegressor(OneHotEncoder(input_matrix, OneHotEncoder__minimum_fraction=0.1, OneHotEncoder__sparse=False), RandomForestRegressor__bootstrap=True, RandomForestRegressor__max_features=0.1, RandomForestRegressor__min_samples_leaf=7, RandomForestRegressor__min_samples_split=12, RandomForestRegressor__n_estimators=100), LassoLarsCV__normalize=False)': (3,\n",
       "  -0.0025190703209887915),\n",
       " 'LassoLarsCV(RandomForestRegressor(XGBRegressor(input_matrix, XGBRegressor__learning_rate=0.5, XGBRegressor__max_depth=7, XGBRegressor__min_child_weight=9, XGBRegressor__n_estimators=100, XGBRegressor__nthread=1, XGBRegressor__subsample=0.7), RandomForestRegressor__bootstrap=True, RandomForestRegressor__max_features=0.1, RandomForestRegressor__min_samples_leaf=7, RandomForestRegressor__min_samples_split=12, RandomForestRegressor__n_estimators=100), LassoLarsCV__normalize=False)': (3,\n",
       "  -0.0013721452615102912),\n",
       " 'LassoLarsCV(RandomForestRegressor(input_matrix, RandomForestRegressor__bootstrap=True, RandomForestRegressor__max_features=0.1, RandomForestRegressor__min_samples_leaf=7, RandomForestRegressor__min_samples_split=12, RandomForestRegressor__n_estimators=100), LassoLarsCV__normalize=False)': (2,\n",
       "  -0.0025190703209887915),\n",
       " 'LassoLarsCV(RandomForestRegressor(input_matrix, RandomForestRegressor__bootstrap=True, RandomForestRegressor__max_features=0.1, RandomForestRegressor__min_samples_leaf=7, RandomForestRegressor__min_samples_split=13, RandomForestRegressor__n_estimators=100), LassoLarsCV__normalize=False)': (2,\n",
       "  -0.0025190703209887915),\n",
       " 'LassoLarsCV(RidgeCV(input_matrix), LassoLarsCV__normalize=False)': (2,\n",
       "  -0.0056187054474045404),\n",
       " 'LassoLarsCV(SelectFwe(input_matrix, SelectFwe__alpha=0.037), LassoLarsCV__normalize=True)': (2,\n",
       "  -0.0055727899410820143),\n",
       " 'LassoLarsCV(input_matrix, LassoLarsCV__normalize=False)': (1,\n",
       "  -0.00561870544740453),\n",
       " 'LassoLarsCV(input_matrix, LassoLarsCV__normalize=True)': (1,\n",
       "  -0.0055727899410818842),\n",
       " 'LinearSVR(ElasticNetCV(FastICA(input_matrix, FastICA__tol=0.55), ElasticNetCV__l1_ratio=1.0, ElasticNetCV__tol=0.1), LinearSVR__C=15.0, LinearSVR__dual=True, LinearSVR__epsilon=0.001, LinearSVR__loss=epsilon_insensitive, LinearSVR__tol=0.01)': (3,\n",
       "  -0.02171230155872949),\n",
       " 'LinearSVR(FastICA(PCA(input_matrix, PCA__iterated_power=9, PCA__svd_solver=randomized), FastICA__tol=0.55), LinearSVR__C=15.0, LinearSVR__dual=True, LinearSVR__epsilon=0.001, LinearSVR__loss=epsilon_insensitive, LinearSVR__tol=0.01)': (3,\n",
       "  -0.021383115646090155),\n",
       " 'LinearSVR(FastICA(input_matrix, FastICA__tol=0.55), LinearSVR__C=15.0, LinearSVR__dual=True, LinearSVR__epsilon=0.001, LinearSVR__loss=epsilon_insensitive, LinearSVR__tol=0.01)': (2,\n",
       "  -0.021383115646088684),\n",
       " 'LinearSVR(LassoLarsCV(OneHotEncoder(input_matrix, OneHotEncoder__minimum_fraction=0.15, OneHotEncoder__sparse=False), LassoLarsCV__normalize=True), LinearSVR__C=0.01, LinearSVR__dual=True, LinearSVR__epsilon=0.1, LinearSVR__loss=squared_epsilon_insensitive, LinearSVR__tol=0.01)': (3,\n",
       "  -0.0083751749892678508),\n",
       " 'LinearSVR(OneHotEncoder(input_matrix, OneHotEncoder__minimum_fraction=0.15, OneHotEncoder__sparse=False), LinearSVR__C=0.0001, LinearSVR__dual=False, LinearSVR__epsilon=1.0, LinearSVR__loss=squared_epsilon_insensitive, LinearSVR__tol=0.0001)': (2,\n",
       "  -0.020650705824750971),\n",
       " 'LinearSVR(OneHotEncoder(input_matrix, OneHotEncoder__minimum_fraction=0.15, OneHotEncoder__sparse=False), LinearSVR__C=0.01, LinearSVR__dual=True, LinearSVR__epsilon=0.1, LinearSVR__loss=squared_epsilon_insensitive, LinearSVR__tol=0.01)': (2,\n",
       "  -0.0083751634006882826),\n",
       " 'LinearSVR(OneHotEncoder(input_matrix, OneHotEncoder__minimum_fraction=0.15, OneHotEncoder__sparse=False), LinearSVR__C=20.0, LinearSVR__dual=True, LinearSVR__epsilon=0.01, LinearSVR__loss=squared_epsilon_insensitive, LinearSVR__tol=0.001)': (2,\n",
       "  -0.01627703464630979),\n",
       " 'LinearSVR(input_matrix, LinearSVR__C=0.0001, LinearSVR__dual=False, LinearSVR__epsilon=1.0, LinearSVR__loss=squared_epsilon_insensitive, LinearSVR__tol=0.0001)': (1,\n",
       "  -0.020650705824750971),\n",
       " 'LinearSVR(input_matrix, LinearSVR__C=0.001, LinearSVR__dual=True, LinearSVR__epsilon=0.001, LinearSVR__loss=epsilon_insensitive, LinearSVR__tol=0.001)': (1,\n",
       "  -0.0071922248406694044),\n",
       " 'LinearSVR(input_matrix, LinearSVR__C=0.01, LinearSVR__dual=True, LinearSVR__epsilon=0.1, LinearSVR__loss=squared_epsilon_insensitive, LinearSVR__tol=0.01)': (1,\n",
       "  -0.0083751634006882826),\n",
       " 'LinearSVR(input_matrix, LinearSVR__C=15.0, LinearSVR__dual=True, LinearSVR__epsilon=0.001, LinearSVR__loss=epsilon_insensitive, LinearSVR__tol=0.01)': (1,\n",
       "  -0.015933641432341057),\n",
       " 'LinearSVR(input_matrix, LinearSVR__C=20.0, LinearSVR__dual=True, LinearSVR__epsilon=0.01, LinearSVR__loss=squared_epsilon_insensitive, LinearSVR__tol=0.001)': (1,\n",
       "  -0.01627703464630979),\n",
       " 'LinearSVR(input_matrix, LinearSVR__C=25.0, LinearSVR__dual=True, LinearSVR__epsilon=0.0001, LinearSVR__loss=epsilon_insensitive, LinearSVR__tol=0.1)': (1,\n",
       "  -0.015153798070061536),\n",
       " 'RandomForestRegressor(DecisionTreeRegressor(input_matrix, DecisionTreeRegressor__max_depth=4, DecisionTreeRegressor__min_samples_leaf=11, DecisionTreeRegressor__min_samples_split=3), RandomForestRegressor__bootstrap=True, RandomForestRegressor__max_features=0.7, RandomForestRegressor__min_samples_leaf=12, RandomForestRegressor__min_samples_split=19, RandomForestRegressor__n_estimators=100)': (2,\n",
       "  -0.0016620718285833998),\n",
       " 'RandomForestRegressor(DecisionTreeRegressor(input_matrix, DecisionTreeRegressor__max_depth=7, DecisionTreeRegressor__min_samples_leaf=5, DecisionTreeRegressor__min_samples_split=7), RandomForestRegressor__bootstrap=True, RandomForestRegressor__max_features=1.0, RandomForestRegressor__min_samples_leaf=5, RandomForestRegressor__min_samples_split=11, RandomForestRegressor__n_estimators=100)': (2,\n",
       "  -0.0015769724513164294),\n",
       " 'RandomForestRegressor(ElasticNetCV(input_matrix, ElasticNetCV__l1_ratio=0.9, ElasticNetCV__tol=0.001), RandomForestRegressor__bootstrap=True, RandomForestRegressor__max_features=0.25, RandomForestRegressor__min_samples_leaf=20, RandomForestRegressor__min_samples_split=6, RandomForestRegressor__n_estimators=100)': (2,\n",
       "  -0.0019128923169775183),\n",
       " 'RandomForestRegressor(ExtraTreesRegressor(input_matrix, ExtraTreesRegressor__bootstrap=True, ExtraTreesRegressor__max_features=0.35, ExtraTreesRegressor__min_samples_leaf=5, ExtraTreesRegressor__min_samples_split=19, ExtraTreesRegressor__n_estimators=100), RandomForestRegressor__bootstrap=True, RandomForestRegressor__max_features=0.25, RandomForestRegressor__min_samples_leaf=8, RandomForestRegressor__min_samples_split=19, RandomForestRegressor__n_estimators=100)': (2,\n",
       "  -0.0014232188348440328),\n",
       " 'RandomForestRegressor(KNeighborsRegressor(input_matrix, KNeighborsRegressor__n_neighbors=1, KNeighborsRegressor__p=1, KNeighborsRegressor__weights=distance), RandomForestRegressor__bootstrap=False, RandomForestRegressor__max_features=0.45, RandomForestRegressor__min_samples_leaf=8, RandomForestRegressor__min_samples_split=19, RandomForestRegressor__n_estimators=100)': (2,\n",
       "  -0.0022242931972770797),\n",
       " 'RandomForestRegressor(MaxAbsScaler(input_matrix), RandomForestRegressor__bootstrap=False, RandomForestRegressor__max_features=0.6, RandomForestRegressor__min_samples_leaf=4, RandomForestRegressor__min_samples_split=11, RandomForestRegressor__n_estimators=100)': (2,\n",
       "  -0.0011955554086084017),\n",
       " 'RandomForestRegressor(MaxAbsScaler(input_matrix), RandomForestRegressor__bootstrap=False, RandomForestRegressor__max_features=0.6, RandomForestRegressor__min_samples_leaf=4, RandomForestRegressor__min_samples_split=2, RandomForestRegressor__n_estimators=100)': (2,\n",
       "  -0.0011872710964725261),\n",
       " 'RandomForestRegressor(MaxAbsScaler(input_matrix), RandomForestRegressor__bootstrap=False, RandomForestRegressor__max_features=1.0, RandomForestRegressor__min_samples_leaf=4, RandomForestRegressor__min_samples_split=11, RandomForestRegressor__n_estimators=100)': (2,\n",
       "  -0.0019003869014889263),\n",
       " 'RandomForestRegressor(Normalizer(input_matrix, Normalizer__norm=l2), RandomForestRegressor__bootstrap=True, RandomForestRegressor__max_features=1.0, RandomForestRegressor__min_samples_leaf=5, RandomForestRegressor__min_samples_split=11, RandomForestRegressor__n_estimators=100)': (2,\n",
       "  -0.002218394478500215),\n",
       " 'RandomForestRegressor(OneHotEncoder(input_matrix, OneHotEncoder__minimum_fraction=0.1, OneHotEncoder__sparse=False), RandomForestRegressor__bootstrap=True, RandomForestRegressor__max_features=0.25, RandomForestRegressor__min_samples_leaf=8, RandomForestRegressor__min_samples_split=19, RandomForestRegressor__n_estimators=100)': (2,\n",
       "  -0.0016674370352460499),\n",
       " 'RandomForestRegressor(PCA(input_matrix, PCA__iterated_power=5, PCA__svd_solver=randomized), RandomForestRegressor__bootstrap=False, RandomForestRegressor__max_features=0.45, RandomForestRegressor__min_samples_leaf=8, RandomForestRegressor__min_samples_split=19, RandomForestRegressor__n_estimators=100)': (2,\n",
       "  -0.001471524643447822),\n",
       " 'RandomForestRegressor(RidgeCV(input_matrix), RandomForestRegressor__bootstrap=False, RandomForestRegressor__max_features=0.45, RandomForestRegressor__min_samples_leaf=8, RandomForestRegressor__min_samples_split=19, RandomForestRegressor__n_estimators=100)': (2,\n",
       "  -0.0012541759559539592),\n",
       " 'RandomForestRegressor(RidgeCV(input_matrix), RandomForestRegressor__bootstrap=True, RandomForestRegressor__max_features=0.25, RandomForestRegressor__min_samples_leaf=4, RandomForestRegressor__min_samples_split=6, RandomForestRegressor__n_estimators=100)': (2,\n",
       "  -0.001327183198600691),\n",
       " 'RandomForestRegressor(StandardScaler(input_matrix), RandomForestRegressor__bootstrap=False, RandomForestRegressor__max_features=0.6, RandomForestRegressor__min_samples_leaf=4, RandomForestRegressor__min_samples_split=2, RandomForestRegressor__n_estimators=100)': (2,\n",
       "  -0.0011865870928759992),\n",
       " 'RandomForestRegressor(VarianceThreshold(input_matrix, VarianceThreshold__threshold=0.65), RandomForestRegressor__bootstrap=True, RandomForestRegressor__max_features=0.7, RandomForestRegressor__min_samples_leaf=12, RandomForestRegressor__min_samples_split=19, RandomForestRegressor__n_estimators=100)': (2,\n",
       "  -0.001586945214765103),\n",
       " 'RandomForestRegressor(XGBRegressor(input_matrix, XGBRegressor__learning_rate=0.1, XGBRegressor__max_depth=5, XGBRegressor__min_child_weight=20, XGBRegressor__n_estimators=100, XGBRegressor__nthread=1, XGBRegressor__subsample=0.2), RandomForestRegressor__bootstrap=True, RandomForestRegressor__max_features=0.75, RandomForestRegressor__min_samples_leaf=7, RandomForestRegressor__min_samples_split=16, RandomForestRegressor__n_estimators=100)': (2,\n",
       "  -0.0013758403003016563),\n",
       " 'RandomForestRegressor(XGBRegressor(input_matrix, XGBRegressor__learning_rate=0.5, XGBRegressor__max_depth=4, XGBRegressor__min_child_weight=7, XGBRegressor__n_estimators=100, XGBRegressor__nthread=1, XGBRegressor__subsample=0.55), RandomForestRegressor__bootstrap=True, RandomForestRegressor__max_features=0.85, RandomForestRegressor__min_samples_leaf=12, RandomForestRegressor__min_samples_split=20, RandomForestRegressor__n_estimators=100)': (2,\n",
       "  -0.0014666492129571473),\n",
       " 'RandomForestRegressor(ZeroCount(input_matrix), RandomForestRegressor__bootstrap=False, RandomForestRegressor__max_features=0.45, RandomForestRegressor__min_samples_leaf=8, RandomForestRegressor__min_samples_split=19, RandomForestRegressor__n_estimators=100)': (2,\n",
       "  -0.0013742366052418697),\n",
       " 'RandomForestRegressor(input_matrix, RandomForestRegressor__bootstrap=False, RandomForestRegressor__max_features=0.25, RandomForestRegressor__min_samples_leaf=8, RandomForestRegressor__min_samples_split=19, RandomForestRegressor__n_estimators=100)': (1,\n",
       "  -0.0014728129357778825),\n",
       " 'RandomForestRegressor(input_matrix, RandomForestRegressor__bootstrap=False, RandomForestRegressor__max_features=0.45, RandomForestRegressor__min_samples_leaf=13, RandomForestRegressor__min_samples_split=19, RandomForestRegressor__n_estimators=100)': (1,\n",
       "  -0.0014382260037645281),\n",
       " 'RandomForestRegressor(input_matrix, RandomForestRegressor__bootstrap=False, RandomForestRegressor__max_features=0.45, RandomForestRegressor__min_samples_leaf=8, RandomForestRegressor__min_samples_split=19, RandomForestRegressor__n_estimators=100)': (1,\n",
       "  -0.0013175656674939366),\n",
       " 'RandomForestRegressor(input_matrix, RandomForestRegressor__bootstrap=False, RandomForestRegressor__max_features=0.6, RandomForestRegressor__min_samples_leaf=4, RandomForestRegressor__min_samples_split=11, RandomForestRegressor__n_estimators=100)': (1,\n",
       "  -0.0011972581132086708),\n",
       " 'RandomForestRegressor(input_matrix, RandomForestRegressor__bootstrap=False, RandomForestRegressor__max_features=0.6, RandomForestRegressor__min_samples_leaf=4, RandomForestRegressor__min_samples_split=2, RandomForestRegressor__n_estimators=100)': (1,\n",
       "  -0.0011806726691286284),\n",
       " 'RandomForestRegressor(input_matrix, RandomForestRegressor__bootstrap=True, RandomForestRegressor__max_features=0.25, RandomForestRegressor__min_samples_leaf=20, RandomForestRegressor__min_samples_split=6, RandomForestRegressor__n_estimators=100)': (1,\n",
       "  -0.0022136235580191483),\n",
       " 'RandomForestRegressor(input_matrix, RandomForestRegressor__bootstrap=True, RandomForestRegressor__max_features=0.25, RandomForestRegressor__min_samples_leaf=4, RandomForestRegressor__min_samples_split=6, RandomForestRegressor__n_estimators=100)': (1,\n",
       "  -0.0013859510041024533),\n",
       " 'RandomForestRegressor(input_matrix, RandomForestRegressor__bootstrap=True, RandomForestRegressor__max_features=0.25, RandomForestRegressor__min_samples_leaf=8, RandomForestRegressor__min_samples_split=14, RandomForestRegressor__n_estimators=100)': (1,\n",
       "  -0.0016480346648965305),\n",
       " 'RandomForestRegressor(input_matrix, RandomForestRegressor__bootstrap=True, RandomForestRegressor__max_features=0.25, RandomForestRegressor__min_samples_leaf=8, RandomForestRegressor__min_samples_split=19, RandomForestRegressor__n_estimators=100)': (1,\n",
       "  -0.0016674370352460499),\n",
       " 'RandomForestRegressor(input_matrix, RandomForestRegressor__bootstrap=True, RandomForestRegressor__max_features=0.25, RandomForestRegressor__min_samples_leaf=8, RandomForestRegressor__min_samples_split=6, RandomForestRegressor__n_estimators=100)': (1,\n",
       "  -0.0016480346648965305),\n",
       " 'RandomForestRegressor(input_matrix, RandomForestRegressor__bootstrap=True, RandomForestRegressor__max_features=0.45, RandomForestRegressor__min_samples_leaf=8, RandomForestRegressor__min_samples_split=19, RandomForestRegressor__n_estimators=100)': (1,\n",
       "  -0.0014576584526613662),\n",
       " 'RandomForestRegressor(input_matrix, RandomForestRegressor__bootstrap=True, RandomForestRegressor__max_features=0.7, RandomForestRegressor__min_samples_leaf=12, RandomForestRegressor__min_samples_split=19, RandomForestRegressor__n_estimators=100)': (1,\n",
       "  -0.001586945214765103),\n",
       " 'RandomForestRegressor(input_matrix, RandomForestRegressor__bootstrap=True, RandomForestRegressor__max_features=0.75, RandomForestRegressor__min_samples_leaf=7, RandomForestRegressor__min_samples_split=16, RandomForestRegressor__n_estimators=100)': (1,\n",
       "  -0.0014399172349419819),\n",
       " 'RandomForestRegressor(input_matrix, RandomForestRegressor__bootstrap=True, RandomForestRegressor__max_features=0.85, RandomForestRegressor__min_samples_leaf=10, RandomForestRegressor__min_samples_split=20, RandomForestRegressor__n_estimators=100)': (1,\n",
       "  -0.001533818088473264),\n",
       " 'RandomForestRegressor(input_matrix, RandomForestRegressor__bootstrap=True, RandomForestRegressor__max_features=0.85, RandomForestRegressor__min_samples_leaf=12, RandomForestRegressor__min_samples_split=20, RandomForestRegressor__n_estimators=100)': (1,\n",
       "  -0.0016214290630526475),\n",
       " 'RandomForestRegressor(input_matrix, RandomForestRegressor__bootstrap=True, RandomForestRegressor__max_features=1.0, RandomForestRegressor__min_samples_leaf=5, RandomForestRegressor__min_samples_split=11, RandomForestRegressor__n_estimators=100)': (1,\n",
       "  -0.0014188290694675282),\n",
       " 'RidgeCV(CombineDFs(RBFSampler(input_matrix, RBFSampler__gamma=0.0), input_matrix))': (2,\n",
       "  -0.0056058932205897902),\n",
       " 'RidgeCV(CombineDFs(input_matrix, input_matrix))': (1,\n",
       "  -0.0056060240642251827),\n",
       " 'RidgeCV(KNeighborsRegressor(input_matrix, KNeighborsRegressor__n_neighbors=10, KNeighborsRegressor__p=1, KNeighborsRegressor__weights=distance))': (2,\n",
       "  -0.0017836859751634263),\n",
       " 'RidgeCV(KNeighborsRegressor(input_matrix, KNeighborsRegressor__n_neighbors=10, KNeighborsRegressor__p=1, KNeighborsRegressor__weights=uniform))': (2,\n",
       "  -0.001905971584550556),\n",
       " 'RidgeCV(Normalizer(input_matrix, Normalizer__norm=l1))': (2,\n",
       "  -0.060043773244265998),\n",
       " 'RidgeCV(RidgeCV(input_matrix))': (2, -0.0056059084300204634),\n",
       " 'RidgeCV(input_matrix)': (1, -0.0056059722979526026),\n",
       " 'XGBRegressor(Binarizer(input_matrix, Binarizer__threshold=0.25), XGBRegressor__learning_rate=0.001, XGBRegressor__max_depth=2, XGBRegressor__min_child_weight=17, XGBRegressor__n_estimators=100, XGBRegressor__nthread=1, XGBRegressor__subsample=0.4)': (2,\n",
       "  -0.14251386950413322),\n",
       " 'XGBRegressor(Binarizer(input_matrix, Binarizer__threshold=0.25), XGBRegressor__learning_rate=0.01, XGBRegressor__max_depth=2, XGBRegressor__min_child_weight=17, XGBRegressor__n_estimators=100, XGBRegressor__nthread=1, XGBRegressor__subsample=0.4)': (2,\n",
       "  -0.062079462469257864),\n",
       " 'XGBRegressor(input_matrix, XGBRegressor__learning_rate=0.001, XGBRegressor__max_depth=2, XGBRegressor__min_child_weight=17, XGBRegressor__n_estimators=100, XGBRegressor__nthread=1, XGBRegressor__subsample=0.4)': (1,\n",
       "  -0.13888519396515991),\n",
       " 'XGBRegressor(input_matrix, XGBRegressor__learning_rate=0.001, XGBRegressor__max_depth=4, XGBRegressor__min_child_weight=15, XGBRegressor__n_estimators=100, XGBRegressor__nthread=1, XGBRegressor__subsample=0.9)': (1,\n",
       "  -0.129883659702143),\n",
       " 'XGBRegressor(input_matrix, XGBRegressor__learning_rate=0.001, XGBRegressor__max_depth=9, XGBRegressor__min_child_weight=6, XGBRegressor__n_estimators=100, XGBRegressor__nthread=1, XGBRegressor__subsample=0.2)': (1,\n",
       "  -0.12847684698509537),\n",
       " 'XGBRegressor(input_matrix, XGBRegressor__learning_rate=0.5, XGBRegressor__max_depth=4, XGBRegressor__min_child_weight=15, XGBRegressor__n_estimators=100, XGBRegressor__nthread=1, XGBRegressor__subsample=0.9)': (1,\n",
       "  -0.0015355656580732689),\n",
       " 'XGBRegressor(input_matrix, XGBRegressor__learning_rate=0.5, XGBRegressor__max_depth=9, XGBRegressor__min_child_weight=15, XGBRegressor__n_estimators=100, XGBRegressor__nthread=1, XGBRegressor__subsample=0.9)': (1,\n",
       "  -0.0013652656246287266)}"
      ]
     },
     "execution_count": 12,
     "metadata": {},
     "output_type": "execute_result"
    }
   ],
   "source": [
    "tpot.evaluated_individuals_"
   ]
  },
  {
   "cell_type": "code",
   "execution_count": 8,
   "metadata": {},
   "outputs": [
    {
     "name": "stderr",
     "output_type": "stream",
     "text": [
      "/anaconda/lib/python3.6/site-packages/sklearn/linear_model/least_angle.py:334: ConvergenceWarning: Early stopping the lars path, as the residues are small and the current value of alpha is no longer well controlled. 299 iterations, alpha=2.206e+01, previous alpha=8.040e-02, with an active set of 98 regressors.\n",
      "  ConvergenceWarning)\n",
      "/anaconda/lib/python3.6/site-packages/sklearn/linear_model/least_angle.py:334: ConvergenceWarning: Early stopping the lars path, as the residues are small and the current value of alpha is no longer well controlled. 289 iterations, alpha=3.904e+00, previous alpha=7.850e-02, with an active set of 100 regressors.\n",
      "  ConvergenceWarning)\n",
      "/anaconda/lib/python3.6/site-packages/sklearn/linear_model/least_angle.py:309: ConvergenceWarning: Regressors in active set degenerate. Dropping a regressor, after 238 iterations, i.e. alpha=1.482e-01, with an active set of 94 regressors, and the smallest cholesky pivot element being 2.220e-16\n",
      "  ConvergenceWarning)\n",
      "/anaconda/lib/python3.6/site-packages/sklearn/linear_model/least_angle.py:334: ConvergenceWarning: Early stopping the lars path, as the residues are small and the current value of alpha is no longer well controlled. 246 iterations, alpha=1.403e-01, previous alpha=1.403e-01, with an active set of 97 regressors.\n",
      "  ConvergenceWarning)\n"
     ]
    }
   ],
   "source": [
    "from sklearn.ensemble import ExtraTreesRegressor\n",
    "from sklearn.linear_model import LassoLarsCV\n",
    "from sklearn.model_selection import train_test_split\n",
    "from sklearn.pipeline import make_pipeline, make_union\n",
    "from sklearn.preprocessing import PolynomialFeatures\n",
    "from tpot.builtins import StackingEstimator\n",
    "\n",
    "X_train_13, X_test_13, y_train_13, y_test_13 = train_test_split(X_13, y_13, train_size=0.75, test_size=0.25)\n",
    "\n",
    "# NOTE: Make sure that the class is labeled 'target' in the data file\n",
    "tpot_data = y_13\n",
    "features = X_13\n",
    "training_features, testing_features, training_target, testing_target = \\\n",
    "            train_test_split(features, tpot_data, random_state=42)\n",
    "\n",
    "# Score on the training set was:-0.00013557952884572924\n",
    "exported_pipeline = make_pipeline(\n",
    "    PolynomialFeatures(degree=2, include_bias=False, interaction_only=False),\n",
    "    StackingEstimator(estimator=LassoLarsCV(normalize=False)),\n",
    "    ExtraTreesRegressor(bootstrap=False, max_features=0.6500000000000001, min_samples_leaf=4, min_samples_split=17, n_estimators=100)\n",
    ")\n",
    "\n",
    "exported_pipeline.fit(training_features, training_target.ravel())\n",
    "results = exported_pipeline.predict(testing_features)"
   ]
  },
  {
   "cell_type": "code",
   "execution_count": 4,
   "metadata": {
    "collapsed": true
   },
   "outputs": [],
   "source": [
    "from sklearn.externals import joblib"
   ]
  },
  {
   "cell_type": "code",
   "execution_count": 12,
   "metadata": {},
   "outputs": [
    {
     "data": {
      "text/plain": [
       "['model_10gen.pkg']"
      ]
     },
     "execution_count": 12,
     "metadata": {},
     "output_type": "execute_result"
    }
   ],
   "source": [
    "joblib.dump(exported_pipeline,'model_10gen.pk1')"
   ]
  },
  {
   "cell_type": "code",
   "execution_count": 5,
   "metadata": {
    "collapsed": true
   },
   "outputs": [],
   "source": [
    "model_13_gen10 = joblib.load('model_10gen.pk1')"
   ]
  },
  {
   "cell_type": "code",
   "execution_count": 6,
   "metadata": {},
   "outputs": [
    {
     "name": "stderr",
     "output_type": "stream",
     "text": [
      "/anaconda/lib/python3.6/site-packages/sklearn/utils/validation.py:395: DeprecationWarning: Passing 1d arrays as data is deprecated in 0.17 and will raise ValueError in 0.19. Reshape your data either using X.reshape(-1, 1) if your data has a single feature or X.reshape(1, -1) if it contains a single sample.\n",
      "  DeprecationWarning)\n"
     ]
    },
    {
     "data": {
      "text/plain": [
       "array([ 0.42037233])"
      ]
     },
     "execution_count": 6,
     "metadata": {},
     "output_type": "execute_result"
    }
   ],
   "source": [
    "model_13_gen10.predict(X_13[1])"
   ]
  },
  {
   "cell_type": "code",
   "execution_count": 1,
   "metadata": {},
   "outputs": [
    {
     "ename": "NameError",
     "evalue": "name 'sklearn' is not defined",
     "output_type": "error",
     "traceback": [
      "\u001b[0;31m---------------------------------------------------------------------------\u001b[0m",
      "\u001b[0;31mNameError\u001b[0m                                 Traceback (most recent call last)",
      "\u001b[0;32m<ipython-input-1-7ac16c479149>\u001b[0m in \u001b[0;36m<module>\u001b[0;34m()\u001b[0m\n\u001b[0;32m----> 1\u001b[0;31m \u001b[0;36m100\u001b[0m\u001b[0;34m-\u001b[0m\u001b[0msklearn\u001b[0m\u001b[0;34m.\u001b[0m\u001b[0mmetrics\u001b[0m\u001b[0;34m.\u001b[0m\u001b[0mmean_squared_error\u001b[0m\u001b[0;34m(\u001b[0m\u001b[0mtpot\u001b[0m\u001b[0;34m.\u001b[0m\u001b[0mpredict\u001b[0m\u001b[0;34m(\u001b[0m\u001b[0mX_test_13\u001b[0m\u001b[0;34m)\u001b[0m\u001b[0;34m,\u001b[0m\u001b[0my_test_13\u001b[0m\u001b[0;34m)\u001b[0m\u001b[0;34m/\u001b[0m\u001b[0;34m(\u001b[0m\u001b[0mmax\u001b[0m\u001b[0;34m(\u001b[0m\u001b[0my_test_13\u001b[0m\u001b[0;34m)\u001b[0m\u001b[0;34m-\u001b[0m\u001b[0mmin\u001b[0m\u001b[0;34m(\u001b[0m\u001b[0my_test_13\u001b[0m\u001b[0;34m)\u001b[0m\u001b[0;34m)\u001b[0m\u001b[0;34m*\u001b[0m\u001b[0;36m100\u001b[0m\u001b[0;34m\u001b[0m\u001b[0m\n\u001b[0m",
      "\u001b[0;31mNameError\u001b[0m: name 'sklearn' is not defined"
     ]
    }
   ],
   "source": [
    "100-sklearn.metrics.mean_squared_error(tpot.predict(X_test_13),y_test_13)/(max(y_test_13)-min(y_test_13))*100"
   ]
  },
  {
   "cell_type": "code",
   "execution_count": 2,
   "metadata": {},
   "outputs": [
    {
     "ename": "NameError",
     "evalue": "name 'model_13_gen10' is not defined",
     "output_type": "error",
     "traceback": [
      "\u001b[0;31m---------------------------------------------------------------------------\u001b[0m",
      "\u001b[0;31mNameError\u001b[0m                                 Traceback (most recent call last)",
      "\u001b[0;32m<ipython-input-2-8bfb8f9db9b1>\u001b[0m in \u001b[0;36m<module>\u001b[0;34m()\u001b[0m\n\u001b[0;32m----> 1\u001b[0;31m \u001b[0my_13_predict\u001b[0m \u001b[0;34m=\u001b[0m \u001b[0mmodel_13_gen10\u001b[0m\u001b[0;34m.\u001b[0m\u001b[0mpredict\u001b[0m\u001b[0;34m(\u001b[0m\u001b[0mX_test_13\u001b[0m\u001b[0;34m)\u001b[0m\u001b[0;34m\u001b[0m\u001b[0m\n\u001b[0m\u001b[1;32m      2\u001b[0m \u001b[0mprint\u001b[0m\u001b[0;34m(\u001b[0m\u001b[0my_13_predict\u001b[0m\u001b[0;34m[\u001b[0m\u001b[0;36m5\u001b[0m\u001b[0;34m]\u001b[0m\u001b[0;34m)\u001b[0m\u001b[0;34m\u001b[0m\u001b[0m\n\u001b[1;32m      3\u001b[0m \u001b[0mprint\u001b[0m\u001b[0;34m(\u001b[0m\u001b[0my_13\u001b[0m\u001b[0;34m[\u001b[0m\u001b[0;36m5\u001b[0m\u001b[0;34m]\u001b[0m\u001b[0;34m)\u001b[0m\u001b[0;34m\u001b[0m\u001b[0m\n",
      "\u001b[0;31mNameError\u001b[0m: name 'model_13_gen10' is not defined"
     ]
    }
   ],
   "source": [
    "y_13_predict = model_13_gen10.predict(X_test_13)\n",
    "print(y_13_predict[5])\n",
    "print(y_13[5])"
   ]
  },
  {
   "cell_type": "code",
   "execution_count": 25,
   "metadata": {},
   "outputs": [
    {
     "name": "stdout",
     "output_type": "stream",
     "text": [
      "Populating the interactive namespace from numpy and matplotlib\n"
     ]
    }
   ],
   "source": [
    "%pylab qt5\n",
    "\n",
    "n1=0\n",
    "n2=500\n",
    "\n",
    "x=np.linspace(n1,n2,n2-n1)\n",
    "\n",
    "#plt.scatter(x,y_13[:n2])\n",
    "#plt.scatter(x,y_13_predict[:n2])\n",
    "\n",
    "fig, ax = plt.subplots()\n",
    "\n",
    "\n",
    "plt.plot(x,y_test_13[n1:n2],label='Truth value')\n",
    "plt.plot(x,y_13_predict[n1:n2], label='Predicted value')\n",
    "\n",
    "ax.set(xlabel='test no', ylabel='FO flow $m^3/h$',\n",
    "       title='Model TPOT, 10 generations. Test data.')\n",
    "#ax.grid()\n",
    "\n",
    "plt.legend()\n",
    "plt.show()"
   ]
  },
  {
   "cell_type": "code",
   "execution_count": 27,
   "metadata": {},
   "outputs": [
    {
     "name": "stdout",
     "output_type": "stream",
     "text": [
      "Populating the interactive namespace from numpy and matplotlib\n"
     ]
    }
   ],
   "source": [
    "%pylab qt5\n",
    "\n",
    "n1=0\n",
    "n2=500\n",
    "\n",
    "x=np.linspace(n1,n2,n2-n1)\n",
    "\n",
    "\n",
    "fig, ax = plt.subplots()\n",
    "\n",
    "ax.set(xlabel='Predicted value', ylabel='Truth value',\n",
    "       title='Model TPOT, 10 generations. Test data.')\n",
    "\n",
    "#plt.scatter(y_13_predict[n1:n2],y_test_13[n1:n2]) #,label='Truth value')\n",
    "plt.scatter(y_13_predict,y_test_13,marker='.',label='FO Flow')\n",
    "#plt.plot(x,y_13_predict[n1:n2], label='Predicted value')\n",
    "plt.legend()\n",
    "plt.show()"
   ]
  },
  {
   "cell_type": "code",
   "execution_count": 65,
   "metadata": {},
   "outputs": [
    {
     "name": "stdout",
     "output_type": "stream",
     "text": [
      "Model eng1/3 with TPOT MSE: 0.000321092177567\n",
      "Model eng1/3 with TPOT MSE percent accuracy: [ 0.00774175]\n"
     ]
    }
   ],
   "source": [
    "MSE = sklearn.metrics.mean_squared_error(tpot.predict(X_test_13), y_test_13)\n",
    "print('Model eng1/3 with TPOT MSE:', MSE)\n",
    "\n",
    "MSE_perc = sklearn.metrics.mean_squared_error(tpot.predict(X_13),y_13)/(max(y_13)-min(y_13))*100\n",
    "print('Model eng1/3 with TPOT MSE percent accuracy:', MSE_perc)"
   ]
  },
  {
   "cell_type": "code",
   "execution_count": 30,
   "metadata": {},
   "outputs": [
    {
     "name": "stderr",
     "output_type": "stream",
     "text": [
      "/anaconda/lib/python3.6/site-packages/sklearn/utils/validation.py:526: DataConversionWarning: A column-vector y was passed when a 1d array was expected. Please change the shape of y to (n_samples, ), for example using ravel().\n",
      "  y = column_or_1d(y, warn=True)\n",
      "Optimization Progress:  50%|█████     | 100/200 [10:15<07:12,  4.33s/pipeline] "
     ]
    },
    {
     "name": "stdout",
     "output_type": "stream",
     "text": [
      "Generation 1 - Current best internal CV score: 0.0010504567993377197\n"
     ]
    },
    {
     "name": "stderr",
     "output_type": "stream",
     "text": [
      "Optimization Progress:  75%|███████▌  | 150/200 [15:51<07:06,  8.52s/pipeline]"
     ]
    },
    {
     "name": "stdout",
     "output_type": "stream",
     "text": [
      "Generation 2 - Current best internal CV score: 0.0010504567993377197\n"
     ]
    },
    {
     "name": "stderr",
     "output_type": "stream",
     "text": [
      "                                                                                \r"
     ]
    },
    {
     "name": "stdout",
     "output_type": "stream",
     "text": [
      "Generation 3 - Current best internal CV score: 0.0010504567993377197\n",
      "\n",
      "Best pipeline: XGBRegressor(LassoLarsCV(input_matrix, normalize=False), learning_rate=0.1, max_depth=8, min_child_weight=2, n_estimators=100, nthread=1, subsample=0.45)\n",
      "0.00105974029125\n"
     ]
    }
   ],
   "source": [
    "#  The other engine pair.\n",
    "\n",
    "# Number of generations, should be boosted if we want better results. 3 gens take ~ 30min on my macbook...\n",
    "gen = 3\n",
    "\n",
    "X_train_24, X_test_24, y_train_24, y_test_24 = train_test_split(X_13, y_13, train_size=0.75, test_size=0.25)\n",
    "tpot_24 = TPOTRegressor(generations=gen, population_size=50, verbosity=2)\n",
    "tpot_24.fit(X_train_24, y_train_24)\n",
    "\n",
    "print(tpot_24.score(X_test_24,y_test_24))\n"
   ]
  },
  {
   "cell_type": "code",
   "execution_count": 36,
   "metadata": {},
   "outputs": [
    {
     "data": {
      "text/plain": [
       "True"
      ]
     },
     "execution_count": 36,
     "metadata": {},
     "output_type": "execute_result"
    }
   ],
   "source": [
    "# Export the model\n",
    "\n",
    "tpot_24.export('eng24.py')\n"
   ]
  },
  {
   "cell_type": "code",
   "execution_count": 35,
   "metadata": {},
   "outputs": [
    {
     "name": "stdout",
     "output_type": "stream",
     "text": [
      "Model eng1/3 with TPOT MSE: 0.000912624265516\n",
      "Model eng1/3 with TPOT MSE percent accuracy: [ 99.98512634]\n",
      "Model eng2/4 with TPOT MSE: 0.00042016566897\n",
      "Model eng2/4 with TPOT MSE percent accuracy: [ 99.19915618]\n"
     ]
    }
   ],
   "source": [
    "\n",
    "MSE_13 = sklearn.metrics.mean_squared_error(tpot.predict(X_test_13), y_test_13)\n",
    "print('Model eng1/3 with TPOT MSE:', MSE_13)\n",
    "\n",
    "MSE_13_perc = 100-sklearn.metrics.mean_squared_error(tpot.predict(X_13),y_13)/(max(y_13)-min(y_13))*100\n",
    "print('Model eng1/3 with TPOT MSE percent accuracy:', MSE_13_perc)\n",
    "\n",
    "MSE_24 = sklearn.metrics.mean_squared_error(tpot.predict(X_test_24), y_test_24)\n",
    "print('Model eng2/4 with TPOT MSE:', MSE_24)\n",
    "\n",
    "MSE_24_perc = 100-sklearn.metrics.mean_squared_error(tpot.predict(X_24),y_24)/(max(y_24)-min(y_24))*100\n",
    "print('Model eng2/4 with TPOT MSE percent accuracy:', MSE_24_perc)\n"
   ]
  },
  {
   "cell_type": "code",
   "execution_count": 9,
   "metadata": {},
   "outputs": [
    {
     "name": "stdout",
     "output_type": "stream",
     "text": [
      "Prediction: [ 0.61570013] Truth: [ 0.62026672] Percent: [ 99.2637699]\n",
      "Prediction: [ 0.43884284] Truth: [ 0.44411433] Percent: [ 98.81303322]\n",
      "Prediction: [ 0.6089502] Truth: [ 0.61104767] Percent: [ 99.65674255]\n",
      "Prediction: [ 0.59997397] Truth: [ 0.59626672] Percent: [ 100.62174269]\n",
      "Prediction: [ 0.65149435] Truth: [ 0.65097148] Percent: [ 100.0803214]\n",
      "Prediction: [ 0.2973034] Truth: [ 0.29386669] Percent: [ 101.16948019]\n",
      "Prediction: [ 0.52074187] Truth: [ 0.50803813] Percent: [ 102.50054759]\n",
      "Prediction: [ 0.67944328] Truth: [ 0.67664768] Percent: [ 100.41315433]\n",
      "Prediction: [ 0.00351207] Truth: [ 0.00342857] Percent: [ 102.43548079]\n",
      "Prediction: [ 0.34107567] Truth: [ 0.34956194] Percent: [ 97.5723116]\n",
      "Prediction: [ 0.41574084] Truth: [ 0.41866671] Percent: [ 99.3011455]\n",
      "Prediction: [ 0.38722333] Truth: [ 0.41622861] Percent: [ 93.03140829]\n",
      "Prediction: [ 0.00356816] Truth: [ 0.00342857] Percent: [ 104.07145917]\n",
      "Prediction: [ 0.00354253] Truth: [ 0.00342857] Percent: [ 103.32368538]\n",
      "Prediction: [ 0.00343987] Truth: [ 0.00472381] Percent: [ 72.81992356]\n",
      "Prediction: [ 0.84103334] Truth: [ 0.84167626] Percent: [ 99.92361422]\n",
      "Prediction: [ 0.55567227] Truth: [ 0.55794291] Percent: [ 99.59303217]\n",
      "Prediction: [ 0.63430118] Truth: [ 0.60121909] Percent: [ 105.50250174]\n",
      "Prediction: [ 1.03477474] Truth: [ 1.03908583] Percent: [ 99.58510806]\n",
      "Prediction: [ 0.78425857] Truth: [ 0.78582864] Percent: [ 99.80020111]\n",
      "Prediction: [ 0.68358019] Truth: [ 0.68251434] Percent: [ 100.15616552]\n",
      "Prediction: [ 0.65446656] Truth: [ 0.65333337] Percent: [ 100.17344816]\n",
      "Prediction: [ 0.92867115] Truth: [ 0.93470486] Percent: [ 99.35447962]\n",
      "Prediction: [ 0.43109548] Truth: [ 0.43215242] Percent: [ 99.75542448]\n",
      "Prediction: [ 0.41338557] Truth: [ 0.41249528] Percent: [ 100.2158299]\n",
      "Prediction: [ 0.55510954] Truth: [ 0.51908577] Percent: [ 106.93985024]\n",
      "Prediction: [ 0.57997726] Truth: [ 0.5788953] Percent: [ 100.18690053]\n",
      "Prediction: [ 0.08175422] Truth: [ 0.08777144] Percent: [ 93.1444439]\n",
      "Prediction: [ 0.41361364] Truth: [ 0.4163048] Percent: [ 99.35356124]\n",
      "Prediction: [ 0.73306056] Truth: [ 0.73165722] Percent: [ 100.19180317]\n",
      "MSE:  0.000696461307516\n"
     ]
    }
   ],
   "source": [
    "for i in np.random.randint(1,1000,30):\n",
    "    print('Prediction:', tpot_13.predict(X_13[i].reshape(1,-1)), 'Truth:',y_13[i], 'Percent:', tpot_13.predict(X_13[i].reshape(1,-1))/y_13[i] *100 )\n",
    "print('MSE: ',sklearn.metrics.mean_squared_error(tpot_13.predict(X_13),y_13))"
   ]
  },
  {
   "cell_type": "code",
   "execution_count": 43,
   "metadata": {},
   "outputs": [
    {
     "name": "stderr",
     "output_type": "stream",
     "text": [
      "/anaconda/lib/python3.6/site-packages/ipykernel_launcher.py:1: RuntimeWarning: divide by zero encountered in true_divide\n",
      "  \"\"\"Entry point for launching an IPython kernel.\n"
     ]
    }
   ],
   "source": [
    "err = np.array(tpot_13.predict(X_13)/y_13 *100)"
   ]
  },
  {
   "cell_type": "code",
   "execution_count": 47,
   "metadata": {},
   "outputs": [
    {
     "ename": "KeyboardInterrupt",
     "evalue": "",
     "output_type": "error",
     "traceback": [
      "\u001b[0;31m---------------------------------------------------------------------------\u001b[0m",
      "\u001b[0;31mKeyboardInterrupt\u001b[0m                         Traceback (most recent call last)",
      "\u001b[0;32m<ipython-input-47-912a76de10c4>\u001b[0m in \u001b[0;36m<module>\u001b[0;34m()\u001b[0m\n\u001b[1;32m      1\u001b[0m \u001b[0;32mimport\u001b[0m \u001b[0mmatplotlib\u001b[0m\u001b[0;34m.\u001b[0m\u001b[0mpyplot\u001b[0m \u001b[0;32mas\u001b[0m \u001b[0mplt\u001b[0m\u001b[0;34m\u001b[0m\u001b[0m\n\u001b[0;32m----> 2\u001b[0;31m \u001b[0mplt\u001b[0m\u001b[0;34m.\u001b[0m\u001b[0mplot\u001b[0m\u001b[0;34m(\u001b[0m\u001b[0merr\u001b[0m\u001b[0;34m)\u001b[0m\u001b[0;34m\u001b[0m\u001b[0m\n\u001b[0m",
      "\u001b[0;32m/anaconda/lib/python3.6/site-packages/matplotlib/pyplot.py\u001b[0m in \u001b[0;36mplot\u001b[0;34m(*args, **kwargs)\u001b[0m\n\u001b[1;32m   3315\u001b[0m                       mplDeprecation)\n\u001b[1;32m   3316\u001b[0m     \u001b[0;32mtry\u001b[0m\u001b[0;34m:\u001b[0m\u001b[0;34m\u001b[0m\u001b[0m\n\u001b[0;32m-> 3317\u001b[0;31m         \u001b[0mret\u001b[0m \u001b[0;34m=\u001b[0m \u001b[0max\u001b[0m\u001b[0;34m.\u001b[0m\u001b[0mplot\u001b[0m\u001b[0;34m(\u001b[0m\u001b[0;34m*\u001b[0m\u001b[0margs\u001b[0m\u001b[0;34m,\u001b[0m \u001b[0;34m**\u001b[0m\u001b[0mkwargs\u001b[0m\u001b[0;34m)\u001b[0m\u001b[0;34m\u001b[0m\u001b[0m\n\u001b[0m\u001b[1;32m   3318\u001b[0m     \u001b[0;32mfinally\u001b[0m\u001b[0;34m:\u001b[0m\u001b[0;34m\u001b[0m\u001b[0m\n\u001b[1;32m   3319\u001b[0m         \u001b[0max\u001b[0m\u001b[0;34m.\u001b[0m\u001b[0m_hold\u001b[0m \u001b[0;34m=\u001b[0m \u001b[0mwashold\u001b[0m\u001b[0;34m\u001b[0m\u001b[0m\n",
      "\u001b[0;32m/anaconda/lib/python3.6/site-packages/matplotlib/__init__.py\u001b[0m in \u001b[0;36minner\u001b[0;34m(ax, *args, **kwargs)\u001b[0m\n\u001b[1;32m   1896\u001b[0m                     warnings.warn(msg % (label_namer, func.__name__),\n\u001b[1;32m   1897\u001b[0m                                   RuntimeWarning, stacklevel=2)\n\u001b[0;32m-> 1898\u001b[0;31m             \u001b[0;32mreturn\u001b[0m \u001b[0mfunc\u001b[0m\u001b[0;34m(\u001b[0m\u001b[0max\u001b[0m\u001b[0;34m,\u001b[0m \u001b[0;34m*\u001b[0m\u001b[0margs\u001b[0m\u001b[0;34m,\u001b[0m \u001b[0;34m**\u001b[0m\u001b[0mkwargs\u001b[0m\u001b[0;34m)\u001b[0m\u001b[0;34m\u001b[0m\u001b[0m\n\u001b[0m\u001b[1;32m   1899\u001b[0m         \u001b[0mpre_doc\u001b[0m \u001b[0;34m=\u001b[0m \u001b[0minner\u001b[0m\u001b[0;34m.\u001b[0m\u001b[0m__doc__\u001b[0m\u001b[0;34m\u001b[0m\u001b[0m\n\u001b[1;32m   1900\u001b[0m         \u001b[0;32mif\u001b[0m \u001b[0mpre_doc\u001b[0m \u001b[0;32mis\u001b[0m \u001b[0;32mNone\u001b[0m\u001b[0;34m:\u001b[0m\u001b[0;34m\u001b[0m\u001b[0m\n",
      "\u001b[0;32m/anaconda/lib/python3.6/site-packages/matplotlib/axes/_axes.py\u001b[0m in \u001b[0;36mplot\u001b[0;34m(self, *args, **kwargs)\u001b[0m\n\u001b[1;32m   1405\u001b[0m \u001b[0;34m\u001b[0m\u001b[0m\n\u001b[1;32m   1406\u001b[0m         \u001b[0;32mfor\u001b[0m \u001b[0mline\u001b[0m \u001b[0;32min\u001b[0m \u001b[0mself\u001b[0m\u001b[0;34m.\u001b[0m\u001b[0m_get_lines\u001b[0m\u001b[0;34m(\u001b[0m\u001b[0;34m*\u001b[0m\u001b[0margs\u001b[0m\u001b[0;34m,\u001b[0m \u001b[0;34m**\u001b[0m\u001b[0mkwargs\u001b[0m\u001b[0;34m)\u001b[0m\u001b[0;34m:\u001b[0m\u001b[0;34m\u001b[0m\u001b[0m\n\u001b[0;32m-> 1407\u001b[0;31m             \u001b[0mself\u001b[0m\u001b[0;34m.\u001b[0m\u001b[0madd_line\u001b[0m\u001b[0;34m(\u001b[0m\u001b[0mline\u001b[0m\u001b[0;34m)\u001b[0m\u001b[0;34m\u001b[0m\u001b[0m\n\u001b[0m\u001b[1;32m   1408\u001b[0m             \u001b[0mlines\u001b[0m\u001b[0;34m.\u001b[0m\u001b[0mappend\u001b[0m\u001b[0;34m(\u001b[0m\u001b[0mline\u001b[0m\u001b[0;34m)\u001b[0m\u001b[0;34m\u001b[0m\u001b[0m\n\u001b[1;32m   1409\u001b[0m \u001b[0;34m\u001b[0m\u001b[0m\n",
      "\u001b[0;32m/anaconda/lib/python3.6/site-packages/matplotlib/axes/_base.py\u001b[0m in \u001b[0;36madd_line\u001b[0;34m(self, line)\u001b[0m\n\u001b[1;32m   1791\u001b[0m             \u001b[0mline\u001b[0m\u001b[0;34m.\u001b[0m\u001b[0mset_clip_path\u001b[0m\u001b[0;34m(\u001b[0m\u001b[0mself\u001b[0m\u001b[0;34m.\u001b[0m\u001b[0mpatch\u001b[0m\u001b[0;34m)\u001b[0m\u001b[0;34m\u001b[0m\u001b[0m\n\u001b[1;32m   1792\u001b[0m \u001b[0;34m\u001b[0m\u001b[0m\n\u001b[0;32m-> 1793\u001b[0;31m         \u001b[0mself\u001b[0m\u001b[0;34m.\u001b[0m\u001b[0m_update_line_limits\u001b[0m\u001b[0;34m(\u001b[0m\u001b[0mline\u001b[0m\u001b[0;34m)\u001b[0m\u001b[0;34m\u001b[0m\u001b[0m\n\u001b[0m\u001b[1;32m   1794\u001b[0m         \u001b[0;32mif\u001b[0m \u001b[0;32mnot\u001b[0m \u001b[0mline\u001b[0m\u001b[0;34m.\u001b[0m\u001b[0mget_label\u001b[0m\u001b[0;34m(\u001b[0m\u001b[0;34m)\u001b[0m\u001b[0;34m:\u001b[0m\u001b[0;34m\u001b[0m\u001b[0m\n\u001b[1;32m   1795\u001b[0m             \u001b[0mline\u001b[0m\u001b[0;34m.\u001b[0m\u001b[0mset_label\u001b[0m\u001b[0;34m(\u001b[0m\u001b[0;34m'_line%d'\u001b[0m \u001b[0;34m%\u001b[0m \u001b[0mlen\u001b[0m\u001b[0;34m(\u001b[0m\u001b[0mself\u001b[0m\u001b[0;34m.\u001b[0m\u001b[0mlines\u001b[0m\u001b[0;34m)\u001b[0m\u001b[0;34m)\u001b[0m\u001b[0;34m\u001b[0m\u001b[0m\n",
      "\u001b[0;32m/anaconda/lib/python3.6/site-packages/matplotlib/axes/_base.py\u001b[0m in \u001b[0;36m_update_line_limits\u001b[0;34m(self, line)\u001b[0m\n\u001b[1;32m   1813\u001b[0m         \u001b[0mFigures\u001b[0m \u001b[0mout\u001b[0m \u001b[0mthe\u001b[0m \u001b[0mdata\u001b[0m \u001b[0mlimit\u001b[0m \u001b[0mof\u001b[0m \u001b[0mthe\u001b[0m \u001b[0mgiven\u001b[0m \u001b[0mline\u001b[0m\u001b[0;34m,\u001b[0m \u001b[0mupdating\u001b[0m \u001b[0mself\u001b[0m\u001b[0;34m.\u001b[0m\u001b[0mdataLim\u001b[0m\u001b[0;34m.\u001b[0m\u001b[0;34m\u001b[0m\u001b[0m\n\u001b[1;32m   1814\u001b[0m         \"\"\"\n\u001b[0;32m-> 1815\u001b[0;31m         \u001b[0mpath\u001b[0m \u001b[0;34m=\u001b[0m \u001b[0mline\u001b[0m\u001b[0;34m.\u001b[0m\u001b[0mget_path\u001b[0m\u001b[0;34m(\u001b[0m\u001b[0;34m)\u001b[0m\u001b[0;34m\u001b[0m\u001b[0m\n\u001b[0m\u001b[1;32m   1816\u001b[0m         \u001b[0;32mif\u001b[0m \u001b[0mpath\u001b[0m\u001b[0;34m.\u001b[0m\u001b[0mvertices\u001b[0m\u001b[0;34m.\u001b[0m\u001b[0msize\u001b[0m \u001b[0;34m==\u001b[0m \u001b[0;36m0\u001b[0m\u001b[0;34m:\u001b[0m\u001b[0;34m\u001b[0m\u001b[0m\n\u001b[1;32m   1817\u001b[0m             \u001b[0;32mreturn\u001b[0m\u001b[0;34m\u001b[0m\u001b[0m\n",
      "\u001b[0;32m/anaconda/lib/python3.6/site-packages/matplotlib/lines.py\u001b[0m in \u001b[0;36mget_path\u001b[0;34m(self)\u001b[0m\n\u001b[1;32m    987\u001b[0m         \"\"\"\n\u001b[1;32m    988\u001b[0m         \u001b[0;32mif\u001b[0m \u001b[0mself\u001b[0m\u001b[0;34m.\u001b[0m\u001b[0m_invalidy\u001b[0m \u001b[0;32mor\u001b[0m \u001b[0mself\u001b[0m\u001b[0;34m.\u001b[0m\u001b[0m_invalidx\u001b[0m\u001b[0;34m:\u001b[0m\u001b[0;34m\u001b[0m\u001b[0m\n\u001b[0;32m--> 989\u001b[0;31m             \u001b[0mself\u001b[0m\u001b[0;34m.\u001b[0m\u001b[0mrecache\u001b[0m\u001b[0;34m(\u001b[0m\u001b[0;34m)\u001b[0m\u001b[0;34m\u001b[0m\u001b[0m\n\u001b[0m\u001b[1;32m    990\u001b[0m         \u001b[0;32mreturn\u001b[0m \u001b[0mself\u001b[0m\u001b[0;34m.\u001b[0m\u001b[0m_path\u001b[0m\u001b[0;34m\u001b[0m\u001b[0m\n\u001b[1;32m    991\u001b[0m \u001b[0;34m\u001b[0m\u001b[0m\n",
      "\u001b[0;32m/anaconda/lib/python3.6/site-packages/matplotlib/lines.py\u001b[0m in \u001b[0;36mrecache\u001b[0;34m(self, always)\u001b[0m\n\u001b[1;32m    679\u001b[0m             \u001b[0mx\u001b[0m \u001b[0;34m=\u001b[0m \u001b[0mself\u001b[0m\u001b[0;34m.\u001b[0m\u001b[0m_x\u001b[0m\u001b[0;34m\u001b[0m\u001b[0m\n\u001b[1;32m    680\u001b[0m         \u001b[0;32mif\u001b[0m \u001b[0malways\u001b[0m \u001b[0;32mor\u001b[0m \u001b[0mself\u001b[0m\u001b[0;34m.\u001b[0m\u001b[0m_invalidy\u001b[0m\u001b[0;34m:\u001b[0m\u001b[0;34m\u001b[0m\u001b[0m\n\u001b[0;32m--> 681\u001b[0;31m             \u001b[0myconv\u001b[0m \u001b[0;34m=\u001b[0m \u001b[0mself\u001b[0m\u001b[0;34m.\u001b[0m\u001b[0mconvert_yunits\u001b[0m\u001b[0;34m(\u001b[0m\u001b[0mself\u001b[0m\u001b[0;34m.\u001b[0m\u001b[0m_yorig\u001b[0m\u001b[0;34m)\u001b[0m\u001b[0;34m\u001b[0m\u001b[0m\n\u001b[0m\u001b[1;32m    682\u001b[0m             \u001b[0;32mif\u001b[0m \u001b[0mma\u001b[0m\u001b[0;34m.\u001b[0m\u001b[0misMaskedArray\u001b[0m\u001b[0;34m(\u001b[0m\u001b[0mself\u001b[0m\u001b[0;34m.\u001b[0m\u001b[0m_yorig\u001b[0m\u001b[0;34m)\u001b[0m\u001b[0;34m:\u001b[0m\u001b[0;34m\u001b[0m\u001b[0m\n\u001b[1;32m    683\u001b[0m                 \u001b[0my\u001b[0m \u001b[0;34m=\u001b[0m \u001b[0mma\u001b[0m\u001b[0;34m.\u001b[0m\u001b[0masarray\u001b[0m\u001b[0;34m(\u001b[0m\u001b[0myconv\u001b[0m\u001b[0;34m,\u001b[0m \u001b[0mnp\u001b[0m\u001b[0;34m.\u001b[0m\u001b[0mfloat_\u001b[0m\u001b[0;34m)\u001b[0m\u001b[0;34m.\u001b[0m\u001b[0mfilled\u001b[0m\u001b[0;34m(\u001b[0m\u001b[0mnp\u001b[0m\u001b[0;34m.\u001b[0m\u001b[0mnan\u001b[0m\u001b[0;34m)\u001b[0m\u001b[0;34m\u001b[0m\u001b[0m\n",
      "\u001b[0;32m/anaconda/lib/python3.6/site-packages/matplotlib/artist.py\u001b[0m in \u001b[0;36mconvert_yunits\u001b[0;34m(self, y)\u001b[0m\n\u001b[1;32m    206\u001b[0m         \u001b[0;32mif\u001b[0m \u001b[0max\u001b[0m \u001b[0;32mis\u001b[0m \u001b[0;32mNone\u001b[0m \u001b[0;32mor\u001b[0m \u001b[0max\u001b[0m\u001b[0;34m.\u001b[0m\u001b[0myaxis\u001b[0m \u001b[0;32mis\u001b[0m \u001b[0;32mNone\u001b[0m\u001b[0;34m:\u001b[0m\u001b[0;34m\u001b[0m\u001b[0m\n\u001b[1;32m    207\u001b[0m             \u001b[0;32mreturn\u001b[0m \u001b[0my\u001b[0m\u001b[0;34m\u001b[0m\u001b[0m\n\u001b[0;32m--> 208\u001b[0;31m         \u001b[0;32mreturn\u001b[0m \u001b[0max\u001b[0m\u001b[0;34m.\u001b[0m\u001b[0myaxis\u001b[0m\u001b[0;34m.\u001b[0m\u001b[0mconvert_units\u001b[0m\u001b[0;34m(\u001b[0m\u001b[0my\u001b[0m\u001b[0;34m)\u001b[0m\u001b[0;34m\u001b[0m\u001b[0m\n\u001b[0m\u001b[1;32m    209\u001b[0m \u001b[0;34m\u001b[0m\u001b[0m\n\u001b[1;32m    210\u001b[0m     \u001b[0;32mdef\u001b[0m \u001b[0mset_axes\u001b[0m\u001b[0;34m(\u001b[0m\u001b[0mself\u001b[0m\u001b[0;34m,\u001b[0m \u001b[0maxes\u001b[0m\u001b[0;34m)\u001b[0m\u001b[0;34m:\u001b[0m\u001b[0;34m\u001b[0m\u001b[0m\n",
      "\u001b[0;32m/anaconda/lib/python3.6/site-packages/matplotlib/axis.py\u001b[0m in \u001b[0;36mconvert_units\u001b[0;34m(self, x)\u001b[0m\n\u001b[1;32m   1465\u001b[0m     \u001b[0;32mdef\u001b[0m \u001b[0mconvert_units\u001b[0m\u001b[0;34m(\u001b[0m\u001b[0mself\u001b[0m\u001b[0;34m,\u001b[0m \u001b[0mx\u001b[0m\u001b[0;34m)\u001b[0m\u001b[0;34m:\u001b[0m\u001b[0;34m\u001b[0m\u001b[0m\n\u001b[1;32m   1466\u001b[0m         \u001b[0;32mif\u001b[0m \u001b[0mself\u001b[0m\u001b[0;34m.\u001b[0m\u001b[0mconverter\u001b[0m \u001b[0;32mis\u001b[0m \u001b[0;32mNone\u001b[0m\u001b[0;34m:\u001b[0m\u001b[0;34m\u001b[0m\u001b[0m\n\u001b[0;32m-> 1467\u001b[0;31m             \u001b[0mself\u001b[0m\u001b[0;34m.\u001b[0m\u001b[0mconverter\u001b[0m \u001b[0;34m=\u001b[0m \u001b[0mmunits\u001b[0m\u001b[0;34m.\u001b[0m\u001b[0mregistry\u001b[0m\u001b[0;34m.\u001b[0m\u001b[0mget_converter\u001b[0m\u001b[0;34m(\u001b[0m\u001b[0mx\u001b[0m\u001b[0;34m)\u001b[0m\u001b[0;34m\u001b[0m\u001b[0m\n\u001b[0m\u001b[1;32m   1468\u001b[0m \u001b[0;34m\u001b[0m\u001b[0m\n\u001b[1;32m   1469\u001b[0m         \u001b[0;32mif\u001b[0m \u001b[0mself\u001b[0m\u001b[0;34m.\u001b[0m\u001b[0mconverter\u001b[0m \u001b[0;32mis\u001b[0m \u001b[0;32mNone\u001b[0m\u001b[0;34m:\u001b[0m\u001b[0;34m\u001b[0m\u001b[0m\n",
      "\u001b[0;32m/anaconda/lib/python3.6/site-packages/matplotlib/units.py\u001b[0m in \u001b[0;36mget_converter\u001b[0;34m(self, x)\u001b[0m\n\u001b[1;32m    139\u001b[0m \u001b[0;34m\u001b[0m\u001b[0m\n\u001b[1;32m    140\u001b[0m         \u001b[0;32mif\u001b[0m \u001b[0misinstance\u001b[0m\u001b[0;34m(\u001b[0m\u001b[0mx\u001b[0m\u001b[0;34m,\u001b[0m \u001b[0mnp\u001b[0m\u001b[0;34m.\u001b[0m\u001b[0mndarray\u001b[0m\u001b[0;34m)\u001b[0m \u001b[0;32mand\u001b[0m \u001b[0mx\u001b[0m\u001b[0;34m.\u001b[0m\u001b[0msize\u001b[0m\u001b[0;34m:\u001b[0m\u001b[0;34m\u001b[0m\u001b[0m\n\u001b[0;32m--> 141\u001b[0;31m             \u001b[0mxravel\u001b[0m \u001b[0;34m=\u001b[0m \u001b[0mx\u001b[0m\u001b[0;34m.\u001b[0m\u001b[0mravel\u001b[0m\u001b[0;34m(\u001b[0m\u001b[0;34m)\u001b[0m\u001b[0;34m\u001b[0m\u001b[0m\n\u001b[0m\u001b[1;32m    142\u001b[0m             \u001b[0;32mtry\u001b[0m\u001b[0;34m:\u001b[0m\u001b[0;34m\u001b[0m\u001b[0m\n\u001b[1;32m    143\u001b[0m                 \u001b[0;31m# pass the first value of x that is not masked back to\u001b[0m\u001b[0;34m\u001b[0m\u001b[0;34m\u001b[0m\u001b[0m\n",
      "\u001b[0;31mKeyboardInterrupt\u001b[0m: "
     ]
    }
   ],
   "source": [
    "import matplotlib.pyplot as plt\n",
    "plt.plot(err)"
   ]
  },
  {
   "cell_type": "code",
   "execution_count": 48,
   "metadata": {},
   "outputs": [
    {
     "data": {
      "text/plain": [
       "array([[  67.32455435,   88.30832434,   91.63937975, ...,  180.06640346,\n",
       "         217.0309055 ,  216.07497744],\n",
       "       [  68.27959826,   89.56103709,   92.93934576, ...,  182.62076604,\n",
       "         220.10963431,  219.14014577],\n",
       "       [  69.06085764,   90.58579999,   94.00276348, ...,  184.7103241 ,\n",
       "         222.62814231,  221.64756083],\n",
       "       ..., \n",
       "       [  37.61118448,   49.33386801,   51.19477806, ...,  100.59495803,\n",
       "         121.245354  ,  120.71132021],\n",
       "       [  30.98004583,   40.63593085,   42.16874827, ...,   82.85929978,\n",
       "          99.86887346,   99.4289939 ],\n",
       "       [  31.52977439,   41.35699924,   42.91701589, ...,   84.32960501,\n",
       "         101.64100679,  101.19332175]])"
      ]
     },
     "execution_count": 48,
     "metadata": {},
     "output_type": "execute_result"
    }
   ],
   "source": [
    "err"
   ]
  },
  {
   "cell_type": "code",
   "execution_count": 13,
   "metadata": {
    "collapsed": true
   },
   "outputs": [],
   "source": [
    "import mxnet as mx"
   ]
  },
  {
   "cell_type": "code",
   "execution_count": 14,
   "metadata": {
    "collapsed": true
   },
   "outputs": [],
   "source": [
    "a = mx.nd.ones((2,3))"
   ]
  },
  {
   "cell_type": "code",
   "execution_count": 15,
   "metadata": {
    "collapsed": true
   },
   "outputs": [],
   "source": [
    "b = a * 2 +1"
   ]
  },
  {
   "cell_type": "code",
   "execution_count": 16,
   "metadata": {},
   "outputs": [
    {
     "data": {
      "text/plain": [
       "array([[ 3.,  3.,  3.],\n",
       "       [ 3.,  3.,  3.]], dtype=float32)"
      ]
     },
     "execution_count": 16,
     "metadata": {},
     "output_type": "execute_result"
    }
   ],
   "source": [
    "b.asnumpy()"
   ]
  },
  {
   "cell_type": "code",
   "execution_count": 19,
   "metadata": {
    "collapsed": true
   },
   "outputs": [],
   "source": [
    "#Training data\n",
    "train_data = X_13\n",
    "train_label = np.array([train_data[i][0] + 2 * train_data[i][1] for i in range(100)])\n",
    "batch_size = 1\n",
    "\n",
    "eval_data = y_13\n",
    "eval_label = np.array([11])"
   ]
  },
  {
   "cell_type": "code",
   "execution_count": 22,
   "metadata": {},
   "outputs": [
    {
     "data": {
      "text/plain": [
       "array([ 30.4       ,  29.53333333,  29.6       ,  29.6       ,\n",
       "        29.26666667,  29.33333333,  29.33333333,  29.46666667,\n",
       "        29.        ,  28.66666667,  29.26666667,  29.26666667,\n",
       "        29.53333333,  28.86666667,  29.06666667,  29.33333333,\n",
       "        29.4       ,  29.73333333,  30.93333333,  30.93333333,\n",
       "        28.46666667,  28.53333333,  27.66666667,  29.4       ,\n",
       "        29.4       ,  29.33333333,  17.8       ,  36.06666667,\n",
       "        48.86666667,  43.66666667,  34.73333333,  32.33333333,\n",
       "        32.13333333,  31.26666667,  27.53333333,  37.26666667,\n",
       "        19.26666667,  34.8       ,  33.        ,  33.66666667,\n",
       "        33.4       ,  32.53333333,  33.26666667,  31.53333333,\n",
       "        19.46666667,  19.4       ,  19.6       ,  19.66666667,\n",
       "        19.4       ,  19.46666667,  19.2       ,  19.2       ,\n",
       "        19.26666667,  19.66666667,  19.66666667,  19.73333333,\n",
       "        18.86666667,  19.06666667,  19.2       ,  19.06666667,\n",
       "        19.        ,  41.66666667,  59.8       ,  73.86666667,\n",
       "        73.73333333,  74.53333333,  75.6       ,  75.06666667,\n",
       "        76.8       ,  75.6       ,  72.66666667,  53.93333333,\n",
       "        56.66666667,  25.13333333,  18.46666667,  19.4       ,\n",
       "        19.86666667,  19.26666667,  18.66666667,  19.4       ,\n",
       "        18.73333333,  18.73333333,  18.53333333,  18.53333333,\n",
       "        18.        ,  18.53333333,  18.8       ,  18.26666667,\n",
       "        18.4       ,  17.66666667,  15.93333333,   2.33333333,\n",
       "         2.        ,   2.        ,   2.        ,   2.        ,\n",
       "         2.        ,   2.        ,   2.        ,   2.        ])"
      ]
     },
     "execution_count": 22,
     "metadata": {},
     "output_type": "execute_result"
    }
   ],
   "source": [
    "train_label"
   ]
  },
  {
   "cell_type": "code",
   "execution_count": null,
   "metadata": {
    "collapsed": true
   },
   "outputs": [],
   "source": []
  }
 ],
 "metadata": {
  "kernelspec": {
   "display_name": "Python 3",
   "language": "python",
   "name": "python3"
  },
  "language_info": {
   "codemirror_mode": {
    "name": "ipython",
    "version": 3
   },
   "file_extension": ".py",
   "mimetype": "text/x-python",
   "name": "python",
   "nbconvert_exporter": "python",
   "pygments_lexer": "ipython3",
   "version": "3.6.3"
  }
 },
 "nbformat": 4,
 "nbformat_minor": 2
}
