{
 "cells": [
  {
   "cell_type": "code",
   "execution_count": 1,
   "metadata": {},
   "outputs": [
    {
     "name": "stdout",
     "output_type": "stream",
     "text": [
      "Loading database ...\n",
      "Time to load database: 3.8657190799713135\n"
     ]
    }
   ],
   "source": [
    "import pandas as pd\n",
    "import torch\n",
    "import sklearn\n",
    "from sklearn import preprocessing\n",
    "import time\n",
    "import numpy as np\n",
    "\n",
    "# Load the database, shouldn't take that long. This is all data!\n",
    "\n",
    "t1 = time.time()\n",
    "print('Loading database ...')\n",
    "df = pd.read_hdf('database/all_data_comp.h5','table')\n",
    "print('Time to load database:', time.time()-t1)\n"
   ]
  },
  {
   "cell_type": "code",
   "execution_count": 15,
   "metadata": {},
   "outputs": [],
   "source": [
    "fo_1_3_total = df['FO_day_engine_1_3'].dropna()\n",
    "fo_2_4_total = df['FO_day_engine_2_4'].dropna()\n",
    "\n",
    "# this gives the total in tonnes for each day.\n",
    "\n",
    "# The dataset is not complete overlapping in time with data from both the mass-flow meters and the\n",
    "# the rest of the data. So we have to manually filter out the time interval which we are interested in.\n",
    "\n",
    "date_begin = '2014-02-01'\n",
    "date_end = '2014-12-16'\n",
    "\n",
    "# Dict of var names we want to use.\n",
    "\n",
    "\n",
    "var_names = {'ae1_frp':'AE1 FUEL RACK POSIT:1742:mm:Average:900',\n",
    "             'ae2_frp':'AE2 FUEL RACK POSIT:2742:mm:Average:900',\n",
    "             'ae3_frp':'AE3 FUEL RACK POSIT:3742:mm:Average:900',\n",
    "             'ae4_frp':'AE4 FUEL RACK POSIT:4742:mm:Average:900',\n",
    "             \n",
    "             'ae1_cac_P':'AE1 CA OTL CAC PRESS:1649:Bar:Average:900',\n",
    "             'ae2_cac_P':'AE2 CA OTL CAC PRESS:2649:Bar:Average:900',\n",
    "             'ae3_cac_P':'AE3 CA OTL CAC PRESS:3649:Bar:Average:900',\n",
    "             'ae4_cac_P':'AE4 CA OTL CAC PRESS:4649:Bar:Average:900',\n",
    "             \n",
    "             'ae1_cac_ca':'AE1 EXH CA OUTET 1:1543:  C:Average:900',\n",
    "             'ae2_cac_ca':'AE2 EXH CA OUTET 1:2543:  C:Average:900',\n",
    "             'ae3_cac_ca':'AE3 EXH CA OUTET 1:3543:  C:Average:900',\n",
    "             'ae4_cac_ca':'AE4 EXH CA OUTET 1:4543:  C:Average:900',\n",
    "             \n",
    "             'ae1_exh':'AE1 EXH MEAN VALUE:1591:  C:Average:900',\n",
    "             'ae2_exh':'AE2 EXH MEAN VALUE:2591:  C:Average:900',\n",
    "             'ae3_exh':'AE3 EXH MEAN VALUE:3591:  C:Average:900',\n",
    "             'ae4_exh':'AE4 EXH MEAN VALUE:4591:  C:Average:900',\n",
    "             \n",
    "             'ae1_fo_P':'AE1 FO INLET PRESS:1603:Bar:Average:900',\n",
    "             'ae2_fo_P':'AE2 FO INLET PRESS:2603:Bar:Average:900',\n",
    "             'ae3_fo_P':'AE3 FO INLET PRESS:3603:Bar:Average:900',\n",
    "             'ae4_fo_P':'AE4 FO INLET PRESS:4603:Bar:Average:900',\n",
    "             \n",
    "             'ae1_rpm':'AE1 ENG SPEED:1745:RPM:Average:900',\n",
    "             'ae2_rpm':'AE2 ENG SPEED:2745:RPM:Average:900',\n",
    "             'ae3_rpm':'AE3 ENG SPEED:3745:RPM:Average:900',\n",
    "             'ae4_rpm':'AE4 ENG SPEED:4745:RPM:Average:900',\n",
    "             \n",
    "             'me1_frp':'ME1 FUEL RACK POSIT:10005:%:Average:900',\n",
    "             'me2_frp':'ME2 FUEL RACK POSIT:20005:%:Average:900',\n",
    "             'me3_frp':'ME3 FUEL RACK POSIT:30005:%:Average:900',\n",
    "             'me4_frp':'ME4 FUEL RACK POSIT:40005:%:Average:900',\n",
    "             \n",
    "             'me1_ca_T':'ME1 CA TEMP COOL OUT:1343:C:Average:900',\n",
    "             'me2_ca_T':'ME2 CA TEMP COOL OUT:2343:C:Average:900',\n",
    "             'me3_ca_T':'ME3 CA TEMP COOL OUT:3343:C:Average:900',\n",
    "             'me4_ca_T':'ME4 CA TEMP COOL OUT:4343:C:Average:900',\n",
    "             \n",
    "             'me1_cac_T':'ME1 CHARGE AIR TEMP:1347:C:Average:900',\n",
    "             'me2_cac_T':'ME2 CHARGE AIR TEMP:2347:C:Average:900',\n",
    "             'me3_cac_T':'ME3 CHARGE AIR TEMP:3347:C:Average:900',\n",
    "             'me4_cac_T':'ME4 CHARGE AIR TEMP:4347:C:Average:900',\n",
    "             \n",
    "             'me1_exh_T':'ME1 EXH GAS MEAN:1125:C:Average:900',\n",
    "             'me2_exh_T':'ME2 EXH GAS MEAN:2125:C:Average:900',\n",
    "             'me3_exh_T':'ME3 EXH GAS MEAN:3125:C:Average:900',\n",
    "             'me4_exh_T':'ME4 EXH GAS MEAN:4125:C:Average:900',\n",
    "             \n",
    "             'me1_rpm':'ME1 ENGINE SPEED:1364:rpm:Average:900',\n",
    "             'me2_rpm':'ME2 ENGINE SPEED:2364:rpm:Average:900',\n",
    "             'me3_rpm':'ME3 ENGINE SPEED:3364:rpm:Average:900',\n",
    "             'me4_rpm':'ME4 ENGINE SPEED:4364:rpm:Average:900',\n",
    "             \n",
    "             'fo_booster_13':'FO BOOST 1 CONSUMPT:6165:m3/h:Average:900',\n",
    "             'fo_booster_24':'FO BOOST 2 CONSUMPT:6166:m3/h:Average:900'}\n",
    "\n",
    "for names in var_names:\n",
    "    if var_names[names] in list(df):\n",
    "        #print(var_names[names])\n",
    "        pass\n",
    "    else:\n",
    "        print('*** VAR MISSING *** ', var_names[names], ' *** VAR MISSING ***')\n",
    "\n",
    "        \n",
    "eng_13 = [var_names['ae1_frp'],\n",
    "          var_names['ae3_frp'],\n",
    "          var_names['ae1_cac_P'],\n",
    "          var_names['ae3_cac_P'],\n",
    "          var_names['ae1_cac_ca'],\n",
    "          var_names['ae3_cac_ca'],\n",
    "          var_names['ae1_exh'],\n",
    "          var_names['ae3_exh'],\n",
    "          var_names['ae1_fo_P'],\n",
    "          var_names['ae3_fo_P'],\n",
    "          var_names['ae1_rpm'],\n",
    "          var_names['ae3_rpm'],\n",
    "          var_names['me1_frp'],\n",
    "          var_names['me3_frp'],\n",
    "          var_names['me1_ca_T'],\n",
    "          var_names['me3_ca_T'],\n",
    "          var_names['me1_cac_T'],\n",
    "          var_names['me3_cac_T'],\n",
    "          var_names['me1_exh_T'],\n",
    "          var_names['me3_exh_T'],\n",
    "          var_names['me1_rpm'],\n",
    "          var_names['me3_rpm']]\n",
    "          \n",
    "eng_24 = [var_names['ae2_frp'],\n",
    "          var_names['ae4_frp'],\n",
    "          var_names['ae2_cac_P'],\n",
    "          var_names['ae4_cac_P'],\n",
    "          var_names['ae2_cac_ca'],\n",
    "          var_names['ae4_cac_ca'],\n",
    "          var_names['ae2_exh'],\n",
    "          var_names['ae4_exh'],\n",
    "          var_names['ae2_fo_P'],\n",
    "          var_names['ae4_fo_P'],\n",
    "          var_names['ae2_rpm'],\n",
    "          var_names['ae4_rpm'],\n",
    "          var_names['me2_frp'],\n",
    "          var_names['me4_frp'],\n",
    "          var_names['me2_ca_T'],\n",
    "          var_names['me4_ca_T'],\n",
    "          var_names['me2_cac_T'],\n",
    "          var_names['me4_cac_T'],\n",
    "          var_names['me2_exh_T'],\n",
    "          var_names['me4_exh_T'],\n",
    "          var_names['me2_rpm'],\n",
    "          var_names['me4_rpm']]\n",
    "        \n",
    "\n",
    "# Create np arrays. X vals are engine inputs, y are fo flows    \n",
    "# For the first tries I am only using the variables below...\n",
    "\n",
    "X_13 = np.array(df[[\n",
    "            var_names['ae1_frp'],\n",
    "            var_names['ae3_frp'],\n",
    "            var_names['me1_frp'],\n",
    "            var_names['me3_frp'],\n",
    "            var_names['ae1_rpm'],\n",
    "            var_names['ae3_rpm'],\n",
    "            var_names['me1_rpm'],\n",
    "            var_names['me3_rpm'],       \n",
    "            ]][date_begin:date_end])\n",
    "X_24 = np.array(df[[\n",
    "            var_names['ae2_frp'],\n",
    "            var_names['ae4_frp'],\n",
    "            var_names['me2_frp'],\n",
    "            var_names['me4_frp'],\n",
    "            var_names['ae2_rpm'],\n",
    "            var_names['ae4_rpm'],\n",
    "            var_names['me2_rpm'],\n",
    "            var_names['me4_rpm'],\n",
    "            ]][date_begin:date_end])\n",
    "\n",
    "X_13 = np.array(df[eng_13][date_begin:date_end])\n",
    "X_24 = np.array(df[eng_24][date_begin:date_end])\n",
    "\n",
    "X_13_mean = np.array(df[eng_13][date_begin:date_end].resample('1D').mean())\n",
    "X_24_mean = np.array(df[eng_24][date_begin:date_end].resample('1D').mean())\n",
    "\n",
    "y_13 = np.array(df[var_names['fo_booster_13']][date_begin:date_end]).reshape(-1,1)\n",
    "y_24 = np.array(df[var_names['fo_booster_24']][date_begin:date_end]).reshape(-1,1)\n",
    "\n"
   ]
  },
  {
   "cell_type": "code",
   "execution_count": 3,
   "metadata": {},
   "outputs": [
    {
     "name": "stderr",
     "output_type": "stream",
     "text": [
      "Optimization Progress:  18%|█▊        | 100/550 [24:49<1:09:30,  9.27s/pipeline]"
     ]
    },
    {
     "name": "stdout",
     "output_type": "stream",
     "text": [
      "Generation 1 - Current best internal CV score: 0.00024092583973832544\n"
     ]
    },
    {
     "name": "stderr",
     "output_type": "stream",
     "text": [
      "Optimization Progress:  27%|██▋       | 150/550 [37:33<1:23:54, 12.59s/pipeline]"
     ]
    },
    {
     "name": "stdout",
     "output_type": "stream",
     "text": [
      "Generation 2 - Current best internal CV score: 0.00024092583973832544\n"
     ]
    },
    {
     "name": "stderr",
     "output_type": "stream",
     "text": [
      "Optimization Progress:  36%|███▋      | 200/550 [1:01:21<2:46:23, 28.53s/pipeline]"
     ]
    },
    {
     "name": "stdout",
     "output_type": "stream",
     "text": [
      "Generation 3 - Current best internal CV score: 0.00024092583973832544\n"
     ]
    },
    {
     "name": "stderr",
     "output_type": "stream",
     "text": [
      "Optimization Progress:  46%|████▌     | 251/550 [1:45:47<8:09:27, 98.22s/pipeline]  "
     ]
    },
    {
     "name": "stdout",
     "output_type": "stream",
     "text": [
      "Generation 4 - Current best internal CV score: 0.00024092583973832544\n"
     ]
    },
    {
     "name": "stderr",
     "output_type": "stream",
     "text": [
      "Optimization Progress:  55%|█████▍    | 301/550 [2:33:35<3:26:52, 49.85s/pipeline] "
     ]
    },
    {
     "name": "stdout",
     "output_type": "stream",
     "text": [
      "Generation 5 - Current best internal CV score: 0.00024092583973832544\n"
     ]
    },
    {
     "name": "stderr",
     "output_type": "stream",
     "text": [
      "Optimization Progress:  64%|██████▍   | 352/550 [3:12:40<1:05:44, 19.92s/pipeline] "
     ]
    },
    {
     "name": "stdout",
     "output_type": "stream",
     "text": [
      "Generation 6 - Current best internal CV score: 0.00024092583973832544\n"
     ]
    },
    {
     "name": "stderr",
     "output_type": "stream",
     "text": [
      "Optimization Progress:  73%|███████▎  | 403/550 [4:05:55<2:41:23, 65.87s/pipeline] "
     ]
    },
    {
     "name": "stdout",
     "output_type": "stream",
     "text": [
      "Generation 7 - Current best internal CV score: 0.00021382273139921204\n"
     ]
    },
    {
     "name": "stderr",
     "output_type": "stream",
     "text": [
      "Optimization Progress:  83%|████████▎ | 457/550 [5:09:15<2:36:18, 100.84s/pipeline]"
     ]
    },
    {
     "name": "stdout",
     "output_type": "stream",
     "text": [
      "Generation 8 - Current best internal CV score: 0.00020530083721305428\n"
     ]
    },
    {
     "name": "stderr",
     "output_type": "stream",
     "text": [
      "Optimization Progress:  93%|█████████▎| 510/550 [6:08:03<27:11, 40.79s/pipeline]   "
     ]
    },
    {
     "name": "stdout",
     "output_type": "stream",
     "text": [
      "Generation 9 - Current best internal CV score: 0.00020530083721305428\n"
     ]
    },
    {
     "name": "stderr",
     "output_type": "stream",
     "text": [
      "                                                                                \r"
     ]
    },
    {
     "name": "stdout",
     "output_type": "stream",
     "text": [
      "Generation 10 - Current best internal CV score: 0.00013557952884572924\n",
      "\n",
      "Best pipeline: ExtraTreesRegressor(LassoLarsCV(PolynomialFeatures(input_matrix, degree=2, include_bias=False, interaction_only=False), normalize=False), bootstrap=False, max_features=0.65, min_samples_leaf=4, min_samples_split=17, n_estimators=100)\n",
      "0.000142536309434\n"
     ]
    }
   ],
   "source": [
    "#  modeling with tpot\n",
    "\n",
    "from tpot import TPOTRegressor\n",
    "from sklearn.model_selection import train_test_split\n",
    "\n",
    "# Number of generations, should be boosted if we want better results. 3 gens take ~ 30min on my macbook...\n",
    "gen = 10\n",
    "\n",
    "X_train_13, X_test_13, y_train_13, y_test_13 = train_test_split(X_13, y_13, train_size=0.75, test_size=0.25)\n",
    "tpot = TPOTRegressor(generations=gen, population_size=50, verbosity=2)\n",
    "tpot.fit(X_train_13, y_train_13.reshape(-1,))\n",
    "\n",
    "print(tpot.score(X_test_13,y_test_13))\n"
   ]
  },
  {
   "cell_type": "code",
   "execution_count": 17,
   "metadata": {},
   "outputs": [
    {
     "data": {
      "text/plain": [
       "(319, 22)"
      ]
     },
     "execution_count": 17,
     "metadata": {},
     "output_type": "execute_result"
    }
   ],
   "source": [
    "X_13_mean.shape"
   ]
  },
  {
   "cell_type": "code",
   "execution_count": 22,
   "metadata": {},
   "outputs": [
    {
     "name": "stderr",
     "output_type": "stream",
     "text": [
      "/anaconda/lib/python3.6/site-packages/ipykernel_launcher.py:11: FutureWarning: reshape is deprecated and will raise in a subsequent release. Please use .values.reshape(...) instead\n",
      "  # This is added back by InteractiveShellApp.init_path()\n",
      "Optimization Progress:  67%|██████▋   | 100/150 [00:25<00:15,  3.16pipeline/s]"
     ]
    },
    {
     "name": "stdout",
     "output_type": "stream",
     "text": [
      "Generation 1 - Current best internal CV score: 578583.6034296664\n"
     ]
    },
    {
     "name": "stderr",
     "output_type": "stream",
     "text": [
      "                                                                              "
     ]
    },
    {
     "name": "stdout",
     "output_type": "stream",
     "text": [
      "Generation 2 - Current best internal CV score: 578583.6034296664\n",
      "\n",
      "Best pipeline: LassoLarsCV(PCA(input_matrix, iterated_power=3, svd_solver=randomized), normalize=False)\n",
      "427271.755869\n"
     ]
    },
    {
     "name": "stderr",
     "output_type": "stream",
     "text": [
      "\r"
     ]
    }
   ],
   "source": [
    "\n",
    "# in kg/day\n",
    "\n",
    "y_13_fo = fo_1_3_total*1000\n",
    "y_24_fo = fo_2_4_total*1000\n",
    "\n",
    "gen = 2\n",
    "\n",
    "X_train_13_mean, X_test_13_mean, y_train_13, y_test_13 = train_test_split(X_13_mean, y_13_fo, train_size=0.75, test_size=0.25)\n",
    "tpot = TPOTRegressor(generations=gen, population_size=50, verbosity=2)\n",
    "tpot.fit(X_train_13_mean, y_train_13.reshape(-1,))\n",
    "\n",
    "print(tpot.score(X_test_13_mean,y_test_13))"
   ]
  },
  {
   "cell_type": "code",
   "execution_count": 21,
   "metadata": {},
   "outputs": [
    {
     "name": "stdout",
     "output_type": "stream",
     "text": [
      "[ 93.95166747]\n",
      "[ 0.4179048]\n"
     ]
    }
   ],
   "source": [
    "print(tpot.predict(X_13[5].reshape(1,-1))/(24*4))\n",
    "print(y_13[5])"
   ]
  },
  {
   "cell_type": "code",
   "execution_count": 4,
   "metadata": {},
   "outputs": [
    {
     "name": "stdout",
     "output_type": "stream",
     "text": [
      "[ 0.42374627]\n",
      "[ 0.4179048]\n"
     ]
    }
   ],
   "source": [
    "\n",
    "# Lets just make a quick prediction..\n",
    "\n",
    "print(tpot.predict(X_13[3].reshape(1,-1)))\n",
    "print(y_13[5])\n",
    "\n",
    "# Export the model\n",
    "tpot.export('eng13_gen10.py')\n",
    "\n",
    "tpot_13_gen1 = tpot\n",
    "\n",
    "# This is how to import the model into another code:\n",
    "# import eng13\n",
    "# ... or:\n",
    "# exec(open('eng13.py').read(), globals())"
   ]
  },
  {
   "cell_type": "code",
   "execution_count": 23,
   "metadata": {},
   "outputs": [
    {
     "data": {
      "text/plain": [
       "array([ 99.98811893])"
      ]
     },
     "execution_count": 23,
     "metadata": {},
     "output_type": "execute_result"
    }
   ],
   "source": [
    "100-sklearn.metrics.mean_squared_error(tpot.predict(X_test_13),y_test_13)/(max(y_test_13)-min(y_test_13))*100"
   ]
  },
  {
   "cell_type": "code",
   "execution_count": 23,
   "metadata": {},
   "outputs": [
    {
     "ename": "ValueError",
     "evalue": "operands could not be broadcast together with shapes (1,673728) (22,) ",
     "output_type": "error",
     "traceback": [
      "\u001b[0;31m---------------------------------------------------------------------------\u001b[0m",
      "\u001b[0;31mValueError\u001b[0m                                Traceback (most recent call last)",
      "\u001b[0;32m<ipython-input-23-6cb8697fd195>\u001b[0m in \u001b[0;36m<module>\u001b[0;34m()\u001b[0m\n\u001b[1;32m      1\u001b[0m \u001b[0;31m#y_13_predict = tpot_13.predict(X_13)\u001b[0m\u001b[0;34m\u001b[0m\u001b[0;34m\u001b[0m\u001b[0m\n\u001b[1;32m      2\u001b[0m \u001b[0my_13_predict_gen10\u001b[0m \u001b[0;34m=\u001b[0m \u001b[0mtpot_13_gen1\u001b[0m\u001b[0;34m.\u001b[0m\u001b[0mpredict\u001b[0m\u001b[0;34m(\u001b[0m\u001b[0mX_13\u001b[0m\u001b[0;34m)\u001b[0m\u001b[0;34m\u001b[0m\u001b[0m\n\u001b[0;32m----> 3\u001b[0;31m \u001b[0my_13_predict_fo\u001b[0m \u001b[0;34m=\u001b[0m \u001b[0mtpot\u001b[0m\u001b[0;34m.\u001b[0m\u001b[0mpredict\u001b[0m\u001b[0;34m(\u001b[0m\u001b[0mX_13\u001b[0m\u001b[0;34m.\u001b[0m\u001b[0mreshape\u001b[0m\u001b[0;34m(\u001b[0m\u001b[0;36m1\u001b[0m\u001b[0;34m,\u001b[0m\u001b[0;34m-\u001b[0m\u001b[0;36m1\u001b[0m\u001b[0;34m)\u001b[0m\u001b[0;34m)\u001b[0m\u001b[0;34m/\u001b[0m\u001b[0;34m(\u001b[0m\u001b[0;36m24\u001b[0m\u001b[0;34m*\u001b[0m\u001b[0;36m4\u001b[0m\u001b[0;34m)\u001b[0m\u001b[0;34m\u001b[0m\u001b[0m\n\u001b[0m\u001b[1;32m      4\u001b[0m \u001b[0mprint\u001b[0m\u001b[0;34m(\u001b[0m\u001b[0my_13_predict\u001b[0m\u001b[0;34m[\u001b[0m\u001b[0;36m5\u001b[0m\u001b[0;34m]\u001b[0m\u001b[0;34m)\u001b[0m\u001b[0;34m\u001b[0m\u001b[0m\n\u001b[1;32m      5\u001b[0m \u001b[0mprint\u001b[0m\u001b[0;34m(\u001b[0m\u001b[0my_13\u001b[0m\u001b[0;34m[\u001b[0m\u001b[0;36m5\u001b[0m\u001b[0;34m]\u001b[0m\u001b[0;34m)\u001b[0m\u001b[0;34m\u001b[0m\u001b[0m\n",
      "\u001b[0;32m/anaconda/lib/python3.6/site-packages/tpot/base.py\u001b[0m in \u001b[0;36mpredict\u001b[0;34m(self, features)\u001b[0m\n\u001b[1;32m    724\u001b[0m             \u001b[0mself\u001b[0m\u001b[0;34m.\u001b[0m\u001b[0m_imputed\u001b[0m \u001b[0;34m=\u001b[0m \u001b[0;32mFalse\u001b[0m\u001b[0;34m\u001b[0m\u001b[0m\n\u001b[1;32m    725\u001b[0m \u001b[0;34m\u001b[0m\u001b[0m\n\u001b[0;32m--> 726\u001b[0;31m         \u001b[0;32mreturn\u001b[0m \u001b[0mself\u001b[0m\u001b[0;34m.\u001b[0m\u001b[0mfitted_pipeline_\u001b[0m\u001b[0;34m.\u001b[0m\u001b[0mpredict\u001b[0m\u001b[0;34m(\u001b[0m\u001b[0mfeatures\u001b[0m\u001b[0;34m)\u001b[0m\u001b[0;34m\u001b[0m\u001b[0m\n\u001b[0m\u001b[1;32m    727\u001b[0m \u001b[0;34m\u001b[0m\u001b[0m\n\u001b[1;32m    728\u001b[0m \u001b[0;34m\u001b[0m\u001b[0m\n",
      "\u001b[0;32m/anaconda/lib/python3.6/site-packages/sklearn/utils/metaestimators.py\u001b[0m in \u001b[0;36m<lambda>\u001b[0;34m(*args, **kwargs)\u001b[0m\n\u001b[1;32m     52\u001b[0m \u001b[0;34m\u001b[0m\u001b[0m\n\u001b[1;32m     53\u001b[0m         \u001b[0;31m# lambda, but not partial, allows help() to work with update_wrapper\u001b[0m\u001b[0;34m\u001b[0m\u001b[0;34m\u001b[0m\u001b[0m\n\u001b[0;32m---> 54\u001b[0;31m         \u001b[0mout\u001b[0m \u001b[0;34m=\u001b[0m \u001b[0;32mlambda\u001b[0m \u001b[0;34m*\u001b[0m\u001b[0margs\u001b[0m\u001b[0;34m,\u001b[0m \u001b[0;34m**\u001b[0m\u001b[0mkwargs\u001b[0m\u001b[0;34m:\u001b[0m \u001b[0mself\u001b[0m\u001b[0;34m.\u001b[0m\u001b[0mfn\u001b[0m\u001b[0;34m(\u001b[0m\u001b[0mobj\u001b[0m\u001b[0;34m,\u001b[0m \u001b[0;34m*\u001b[0m\u001b[0margs\u001b[0m\u001b[0;34m,\u001b[0m \u001b[0;34m**\u001b[0m\u001b[0mkwargs\u001b[0m\u001b[0;34m)\u001b[0m\u001b[0;34m\u001b[0m\u001b[0m\n\u001b[0m\u001b[1;32m     55\u001b[0m         \u001b[0;31m# update the docstring of the returned function\u001b[0m\u001b[0;34m\u001b[0m\u001b[0;34m\u001b[0m\u001b[0m\n\u001b[1;32m     56\u001b[0m         \u001b[0mupdate_wrapper\u001b[0m\u001b[0;34m(\u001b[0m\u001b[0mout\u001b[0m\u001b[0;34m,\u001b[0m \u001b[0mself\u001b[0m\u001b[0;34m.\u001b[0m\u001b[0mfn\u001b[0m\u001b[0;34m)\u001b[0m\u001b[0;34m\u001b[0m\u001b[0m\n",
      "\u001b[0;32m/anaconda/lib/python3.6/site-packages/sklearn/pipeline.py\u001b[0m in \u001b[0;36mpredict\u001b[0;34m(self, X)\u001b[0m\n\u001b[1;32m    324\u001b[0m         \u001b[0;32mfor\u001b[0m \u001b[0mname\u001b[0m\u001b[0;34m,\u001b[0m \u001b[0mtransform\u001b[0m \u001b[0;32min\u001b[0m \u001b[0mself\u001b[0m\u001b[0;34m.\u001b[0m\u001b[0msteps\u001b[0m\u001b[0;34m[\u001b[0m\u001b[0;34m:\u001b[0m\u001b[0;34m-\u001b[0m\u001b[0;36m1\u001b[0m\u001b[0;34m]\u001b[0m\u001b[0;34m:\u001b[0m\u001b[0;34m\u001b[0m\u001b[0m\n\u001b[1;32m    325\u001b[0m             \u001b[0;32mif\u001b[0m \u001b[0mtransform\u001b[0m \u001b[0;32mis\u001b[0m \u001b[0;32mnot\u001b[0m \u001b[0;32mNone\u001b[0m\u001b[0;34m:\u001b[0m\u001b[0;34m\u001b[0m\u001b[0m\n\u001b[0;32m--> 326\u001b[0;31m                 \u001b[0mXt\u001b[0m \u001b[0;34m=\u001b[0m \u001b[0mtransform\u001b[0m\u001b[0;34m.\u001b[0m\u001b[0mtransform\u001b[0m\u001b[0;34m(\u001b[0m\u001b[0mXt\u001b[0m\u001b[0;34m)\u001b[0m\u001b[0;34m\u001b[0m\u001b[0m\n\u001b[0m\u001b[1;32m    327\u001b[0m         \u001b[0;32mreturn\u001b[0m \u001b[0mself\u001b[0m\u001b[0;34m.\u001b[0m\u001b[0msteps\u001b[0m\u001b[0;34m[\u001b[0m\u001b[0;34m-\u001b[0m\u001b[0;36m1\u001b[0m\u001b[0;34m]\u001b[0m\u001b[0;34m[\u001b[0m\u001b[0;34m-\u001b[0m\u001b[0;36m1\u001b[0m\u001b[0;34m]\u001b[0m\u001b[0;34m.\u001b[0m\u001b[0mpredict\u001b[0m\u001b[0;34m(\u001b[0m\u001b[0mXt\u001b[0m\u001b[0;34m)\u001b[0m\u001b[0;34m\u001b[0m\u001b[0m\n\u001b[1;32m    328\u001b[0m \u001b[0;34m\u001b[0m\u001b[0m\n",
      "\u001b[0;32m/anaconda/lib/python3.6/site-packages/sklearn/decomposition/base.py\u001b[0m in \u001b[0;36mtransform\u001b[0;34m(self, X, y)\u001b[0m\n\u001b[1;32m    130\u001b[0m         \u001b[0mX\u001b[0m \u001b[0;34m=\u001b[0m \u001b[0mcheck_array\u001b[0m\u001b[0;34m(\u001b[0m\u001b[0mX\u001b[0m\u001b[0;34m)\u001b[0m\u001b[0;34m\u001b[0m\u001b[0m\n\u001b[1;32m    131\u001b[0m         \u001b[0;32mif\u001b[0m \u001b[0mself\u001b[0m\u001b[0;34m.\u001b[0m\u001b[0mmean_\u001b[0m \u001b[0;32mis\u001b[0m \u001b[0;32mnot\u001b[0m \u001b[0;32mNone\u001b[0m\u001b[0;34m:\u001b[0m\u001b[0;34m\u001b[0m\u001b[0m\n\u001b[0;32m--> 132\u001b[0;31m             \u001b[0mX\u001b[0m \u001b[0;34m=\u001b[0m \u001b[0mX\u001b[0m \u001b[0;34m-\u001b[0m \u001b[0mself\u001b[0m\u001b[0;34m.\u001b[0m\u001b[0mmean_\u001b[0m\u001b[0;34m\u001b[0m\u001b[0m\n\u001b[0m\u001b[1;32m    133\u001b[0m         \u001b[0mX_transformed\u001b[0m \u001b[0;34m=\u001b[0m \u001b[0mfast_dot\u001b[0m\u001b[0;34m(\u001b[0m\u001b[0mX\u001b[0m\u001b[0;34m,\u001b[0m \u001b[0mself\u001b[0m\u001b[0;34m.\u001b[0m\u001b[0mcomponents_\u001b[0m\u001b[0;34m.\u001b[0m\u001b[0mT\u001b[0m\u001b[0;34m)\u001b[0m\u001b[0;34m\u001b[0m\u001b[0m\n\u001b[1;32m    134\u001b[0m         \u001b[0;32mif\u001b[0m \u001b[0mself\u001b[0m\u001b[0;34m.\u001b[0m\u001b[0mwhiten\u001b[0m\u001b[0;34m:\u001b[0m\u001b[0;34m\u001b[0m\u001b[0m\n",
      "\u001b[0;31mValueError\u001b[0m: operands could not be broadcast together with shapes (1,673728) (22,) "
     ]
    }
   ],
   "source": [
    "#y_13_predict = tpot_13.predict(X_13)\n",
    "y_13_predict_gen10 = tpot_13_gen1.predict(X_13)\n",
    "y_13_predict_fo = tpot.predict(X_13.reshape(1,-1))/(24*4)\n",
    "print(y_13_predict[5])\n",
    "print(y_13[5])"
   ]
  },
  {
   "cell_type": "code",
   "execution_count": 9,
   "metadata": {},
   "outputs": [
    {
     "name": "stdout",
     "output_type": "stream",
     "text": [
      "Populating the interactive namespace from numpy and matplotlib\n"
     ]
    }
   ],
   "source": [
    "%pylab qt5\n",
    "\n",
    "n1=0\n",
    "n2=500\n",
    "\n",
    "x=np.linspace(n1,n2,n2-n1)\n",
    "\n",
    "#plt.scatter(x,y_13[:n2])\n",
    "#plt.scatter(x,y_13_predict[:n2])\n",
    "\n",
    "plt.plot(x,y_13[n1:n2],label='Truth value')\n",
    "plt.plot(x,y_13_predict_gen10[n1:n2], label='Predicted value')\n",
    "plt.legend()\n",
    "plt.show()"
   ]
  },
  {
   "cell_type": "code",
   "execution_count": 10,
   "metadata": {},
   "outputs": [
    {
     "name": "stdout",
     "output_type": "stream",
     "text": [
      "Model eng1/3 with TPOT MSE: 0.00107882320018\n",
      "Model eng1/3 with TPOT MSE percent accuracy: [ 0.02571106]\n"
     ]
    }
   ],
   "source": [
    "MSE = sklearn.metrics.mean_squared_error(tpot.predict(X_test_13), y_test_13)\n",
    "print('Model eng1/3 with TPOT MSE:', MSE)\n",
    "\n",
    "MSE_perc = sklearn.metrics.mean_squared_error(tpot.predict(X_13),y_13)/(max(y_13)-min(y_13))*100\n",
    "print('Model eng1/3 with TPOT MSE percent accuracy:', MSE_perc)"
   ]
  },
  {
   "cell_type": "code",
   "execution_count": 30,
   "metadata": {},
   "outputs": [
    {
     "name": "stderr",
     "output_type": "stream",
     "text": [
      "/anaconda/lib/python3.6/site-packages/sklearn/utils/validation.py:526: DataConversionWarning: A column-vector y was passed when a 1d array was expected. Please change the shape of y to (n_samples, ), for example using ravel().\n",
      "  y = column_or_1d(y, warn=True)\n",
      "Optimization Progress:  50%|█████     | 100/200 [10:15<07:12,  4.33s/pipeline] "
     ]
    },
    {
     "name": "stdout",
     "output_type": "stream",
     "text": [
      "Generation 1 - Current best internal CV score: 0.0010504567993377197\n"
     ]
    },
    {
     "name": "stderr",
     "output_type": "stream",
     "text": [
      "Optimization Progress:  75%|███████▌  | 150/200 [15:51<07:06,  8.52s/pipeline]"
     ]
    },
    {
     "name": "stdout",
     "output_type": "stream",
     "text": [
      "Generation 2 - Current best internal CV score: 0.0010504567993377197\n"
     ]
    },
    {
     "name": "stderr",
     "output_type": "stream",
     "text": [
      "                                                                                \r"
     ]
    },
    {
     "name": "stdout",
     "output_type": "stream",
     "text": [
      "Generation 3 - Current best internal CV score: 0.0010504567993377197\n",
      "\n",
      "Best pipeline: XGBRegressor(LassoLarsCV(input_matrix, normalize=False), learning_rate=0.1, max_depth=8, min_child_weight=2, n_estimators=100, nthread=1, subsample=0.45)\n",
      "0.00105974029125\n"
     ]
    }
   ],
   "source": [
    "#  The other engine pair.\n",
    "\n",
    "# Number of generations, should be boosted if we want better results. 3 gens take ~ 30min on my macbook...\n",
    "gen = 3\n",
    "\n",
    "X_train_24, X_test_24, y_train_24, y_test_24 = train_test_split(X_13, y_13, train_size=0.75, test_size=0.25)\n",
    "tpot_24 = TPOTRegressor(generations=gen, population_size=50, verbosity=2)\n",
    "tpot_24.fit(X_train_24, y_train_24)\n",
    "\n",
    "print(tpot_24.score(X_test_24,y_test_24))\n"
   ]
  },
  {
   "cell_type": "code",
   "execution_count": 36,
   "metadata": {},
   "outputs": [
    {
     "data": {
      "text/plain": [
       "True"
      ]
     },
     "execution_count": 36,
     "metadata": {},
     "output_type": "execute_result"
    }
   ],
   "source": [
    "# Export the model\n",
    "\n",
    "tpot_24.export('eng24.py')\n"
   ]
  },
  {
   "cell_type": "code",
   "execution_count": 35,
   "metadata": {},
   "outputs": [
    {
     "name": "stdout",
     "output_type": "stream",
     "text": [
      "Model eng1/3 with TPOT MSE: 0.000912624265516\n",
      "Model eng1/3 with TPOT MSE percent accuracy: [ 99.98512634]\n",
      "Model eng2/4 with TPOT MSE: 0.00042016566897\n",
      "Model eng2/4 with TPOT MSE percent accuracy: [ 99.19915618]\n"
     ]
    }
   ],
   "source": [
    "\n",
    "MSE_13 = sklearn.metrics.mean_squared_error(tpot.predict(X_test_13), y_test_13)\n",
    "print('Model eng1/3 with TPOT MSE:', MSE_13)\n",
    "\n",
    "MSE_13_perc = 100-sklearn.metrics.mean_squared_error(tpot.predict(X_13),y_13)/(max(y_13)-min(y_13))*100\n",
    "print('Model eng1/3 with TPOT MSE percent accuracy:', MSE_13_perc)\n",
    "\n",
    "MSE_24 = sklearn.metrics.mean_squared_error(tpot.predict(X_test_24), y_test_24)\n",
    "print('Model eng2/4 with TPOT MSE:', MSE_24)\n",
    "\n",
    "MSE_24_perc = 100-sklearn.metrics.mean_squared_error(tpot.predict(X_24),y_24)/(max(y_24)-min(y_24))*100\n",
    "print('Model eng2/4 with TPOT MSE percent accuracy:', MSE_24_perc)\n"
   ]
  },
  {
   "cell_type": "code",
   "execution_count": 9,
   "metadata": {},
   "outputs": [
    {
     "name": "stdout",
     "output_type": "stream",
     "text": [
      "Prediction: [ 0.61570013] Truth: [ 0.62026672] Percent: [ 99.2637699]\n",
      "Prediction: [ 0.43884284] Truth: [ 0.44411433] Percent: [ 98.81303322]\n",
      "Prediction: [ 0.6089502] Truth: [ 0.61104767] Percent: [ 99.65674255]\n",
      "Prediction: [ 0.59997397] Truth: [ 0.59626672] Percent: [ 100.62174269]\n",
      "Prediction: [ 0.65149435] Truth: [ 0.65097148] Percent: [ 100.0803214]\n",
      "Prediction: [ 0.2973034] Truth: [ 0.29386669] Percent: [ 101.16948019]\n",
      "Prediction: [ 0.52074187] Truth: [ 0.50803813] Percent: [ 102.50054759]\n",
      "Prediction: [ 0.67944328] Truth: [ 0.67664768] Percent: [ 100.41315433]\n",
      "Prediction: [ 0.00351207] Truth: [ 0.00342857] Percent: [ 102.43548079]\n",
      "Prediction: [ 0.34107567] Truth: [ 0.34956194] Percent: [ 97.5723116]\n",
      "Prediction: [ 0.41574084] Truth: [ 0.41866671] Percent: [ 99.3011455]\n",
      "Prediction: [ 0.38722333] Truth: [ 0.41622861] Percent: [ 93.03140829]\n",
      "Prediction: [ 0.00356816] Truth: [ 0.00342857] Percent: [ 104.07145917]\n",
      "Prediction: [ 0.00354253] Truth: [ 0.00342857] Percent: [ 103.32368538]\n",
      "Prediction: [ 0.00343987] Truth: [ 0.00472381] Percent: [ 72.81992356]\n",
      "Prediction: [ 0.84103334] Truth: [ 0.84167626] Percent: [ 99.92361422]\n",
      "Prediction: [ 0.55567227] Truth: [ 0.55794291] Percent: [ 99.59303217]\n",
      "Prediction: [ 0.63430118] Truth: [ 0.60121909] Percent: [ 105.50250174]\n",
      "Prediction: [ 1.03477474] Truth: [ 1.03908583] Percent: [ 99.58510806]\n",
      "Prediction: [ 0.78425857] Truth: [ 0.78582864] Percent: [ 99.80020111]\n",
      "Prediction: [ 0.68358019] Truth: [ 0.68251434] Percent: [ 100.15616552]\n",
      "Prediction: [ 0.65446656] Truth: [ 0.65333337] Percent: [ 100.17344816]\n",
      "Prediction: [ 0.92867115] Truth: [ 0.93470486] Percent: [ 99.35447962]\n",
      "Prediction: [ 0.43109548] Truth: [ 0.43215242] Percent: [ 99.75542448]\n",
      "Prediction: [ 0.41338557] Truth: [ 0.41249528] Percent: [ 100.2158299]\n",
      "Prediction: [ 0.55510954] Truth: [ 0.51908577] Percent: [ 106.93985024]\n",
      "Prediction: [ 0.57997726] Truth: [ 0.5788953] Percent: [ 100.18690053]\n",
      "Prediction: [ 0.08175422] Truth: [ 0.08777144] Percent: [ 93.1444439]\n",
      "Prediction: [ 0.41361364] Truth: [ 0.4163048] Percent: [ 99.35356124]\n",
      "Prediction: [ 0.73306056] Truth: [ 0.73165722] Percent: [ 100.19180317]\n",
      "MSE:  0.000696461307516\n"
     ]
    }
   ],
   "source": [
    "for i in np.random.randint(1,1000,30):\n",
    "    print('Prediction:', tpot_13.predict(X_13[i].reshape(1,-1)), 'Truth:',y_13[i], 'Percent:', tpot_13.predict(X_13[i].reshape(1,-1))/y_13[i] *100 )\n",
    "print('MSE: ',sklearn.metrics.mean_squared_error(tpot_13.predict(X_13),y_13))"
   ]
  },
  {
   "cell_type": "code",
   "execution_count": 43,
   "metadata": {},
   "outputs": [
    {
     "name": "stderr",
     "output_type": "stream",
     "text": [
      "/anaconda/lib/python3.6/site-packages/ipykernel_launcher.py:1: RuntimeWarning: divide by zero encountered in true_divide\n",
      "  \"\"\"Entry point for launching an IPython kernel.\n"
     ]
    }
   ],
   "source": [
    "err = np.array(tpot_13.predict(X_13)/y_13 *100)"
   ]
  },
  {
   "cell_type": "code",
   "execution_count": 47,
   "metadata": {},
   "outputs": [
    {
     "ename": "KeyboardInterrupt",
     "evalue": "",
     "output_type": "error",
     "traceback": [
      "\u001b[0;31m---------------------------------------------------------------------------\u001b[0m",
      "\u001b[0;31mKeyboardInterrupt\u001b[0m                         Traceback (most recent call last)",
      "\u001b[0;32m<ipython-input-47-912a76de10c4>\u001b[0m in \u001b[0;36m<module>\u001b[0;34m()\u001b[0m\n\u001b[1;32m      1\u001b[0m \u001b[0;32mimport\u001b[0m \u001b[0mmatplotlib\u001b[0m\u001b[0;34m.\u001b[0m\u001b[0mpyplot\u001b[0m \u001b[0;32mas\u001b[0m \u001b[0mplt\u001b[0m\u001b[0;34m\u001b[0m\u001b[0m\n\u001b[0;32m----> 2\u001b[0;31m \u001b[0mplt\u001b[0m\u001b[0;34m.\u001b[0m\u001b[0mplot\u001b[0m\u001b[0;34m(\u001b[0m\u001b[0merr\u001b[0m\u001b[0;34m)\u001b[0m\u001b[0;34m\u001b[0m\u001b[0m\n\u001b[0m",
      "\u001b[0;32m/anaconda/lib/python3.6/site-packages/matplotlib/pyplot.py\u001b[0m in \u001b[0;36mplot\u001b[0;34m(*args, **kwargs)\u001b[0m\n\u001b[1;32m   3315\u001b[0m                       mplDeprecation)\n\u001b[1;32m   3316\u001b[0m     \u001b[0;32mtry\u001b[0m\u001b[0;34m:\u001b[0m\u001b[0;34m\u001b[0m\u001b[0m\n\u001b[0;32m-> 3317\u001b[0;31m         \u001b[0mret\u001b[0m \u001b[0;34m=\u001b[0m \u001b[0max\u001b[0m\u001b[0;34m.\u001b[0m\u001b[0mplot\u001b[0m\u001b[0;34m(\u001b[0m\u001b[0;34m*\u001b[0m\u001b[0margs\u001b[0m\u001b[0;34m,\u001b[0m \u001b[0;34m**\u001b[0m\u001b[0mkwargs\u001b[0m\u001b[0;34m)\u001b[0m\u001b[0;34m\u001b[0m\u001b[0m\n\u001b[0m\u001b[1;32m   3318\u001b[0m     \u001b[0;32mfinally\u001b[0m\u001b[0;34m:\u001b[0m\u001b[0;34m\u001b[0m\u001b[0m\n\u001b[1;32m   3319\u001b[0m         \u001b[0max\u001b[0m\u001b[0;34m.\u001b[0m\u001b[0m_hold\u001b[0m \u001b[0;34m=\u001b[0m \u001b[0mwashold\u001b[0m\u001b[0;34m\u001b[0m\u001b[0m\n",
      "\u001b[0;32m/anaconda/lib/python3.6/site-packages/matplotlib/__init__.py\u001b[0m in \u001b[0;36minner\u001b[0;34m(ax, *args, **kwargs)\u001b[0m\n\u001b[1;32m   1896\u001b[0m                     warnings.warn(msg % (label_namer, func.__name__),\n\u001b[1;32m   1897\u001b[0m                                   RuntimeWarning, stacklevel=2)\n\u001b[0;32m-> 1898\u001b[0;31m             \u001b[0;32mreturn\u001b[0m \u001b[0mfunc\u001b[0m\u001b[0;34m(\u001b[0m\u001b[0max\u001b[0m\u001b[0;34m,\u001b[0m \u001b[0;34m*\u001b[0m\u001b[0margs\u001b[0m\u001b[0;34m,\u001b[0m \u001b[0;34m**\u001b[0m\u001b[0mkwargs\u001b[0m\u001b[0;34m)\u001b[0m\u001b[0;34m\u001b[0m\u001b[0m\n\u001b[0m\u001b[1;32m   1899\u001b[0m         \u001b[0mpre_doc\u001b[0m \u001b[0;34m=\u001b[0m \u001b[0minner\u001b[0m\u001b[0;34m.\u001b[0m\u001b[0m__doc__\u001b[0m\u001b[0;34m\u001b[0m\u001b[0m\n\u001b[1;32m   1900\u001b[0m         \u001b[0;32mif\u001b[0m \u001b[0mpre_doc\u001b[0m \u001b[0;32mis\u001b[0m \u001b[0;32mNone\u001b[0m\u001b[0;34m:\u001b[0m\u001b[0;34m\u001b[0m\u001b[0m\n",
      "\u001b[0;32m/anaconda/lib/python3.6/site-packages/matplotlib/axes/_axes.py\u001b[0m in \u001b[0;36mplot\u001b[0;34m(self, *args, **kwargs)\u001b[0m\n\u001b[1;32m   1405\u001b[0m \u001b[0;34m\u001b[0m\u001b[0m\n\u001b[1;32m   1406\u001b[0m         \u001b[0;32mfor\u001b[0m \u001b[0mline\u001b[0m \u001b[0;32min\u001b[0m \u001b[0mself\u001b[0m\u001b[0;34m.\u001b[0m\u001b[0m_get_lines\u001b[0m\u001b[0;34m(\u001b[0m\u001b[0;34m*\u001b[0m\u001b[0margs\u001b[0m\u001b[0;34m,\u001b[0m \u001b[0;34m**\u001b[0m\u001b[0mkwargs\u001b[0m\u001b[0;34m)\u001b[0m\u001b[0;34m:\u001b[0m\u001b[0;34m\u001b[0m\u001b[0m\n\u001b[0;32m-> 1407\u001b[0;31m             \u001b[0mself\u001b[0m\u001b[0;34m.\u001b[0m\u001b[0madd_line\u001b[0m\u001b[0;34m(\u001b[0m\u001b[0mline\u001b[0m\u001b[0;34m)\u001b[0m\u001b[0;34m\u001b[0m\u001b[0m\n\u001b[0m\u001b[1;32m   1408\u001b[0m             \u001b[0mlines\u001b[0m\u001b[0;34m.\u001b[0m\u001b[0mappend\u001b[0m\u001b[0;34m(\u001b[0m\u001b[0mline\u001b[0m\u001b[0;34m)\u001b[0m\u001b[0;34m\u001b[0m\u001b[0m\n\u001b[1;32m   1409\u001b[0m \u001b[0;34m\u001b[0m\u001b[0m\n",
      "\u001b[0;32m/anaconda/lib/python3.6/site-packages/matplotlib/axes/_base.py\u001b[0m in \u001b[0;36madd_line\u001b[0;34m(self, line)\u001b[0m\n\u001b[1;32m   1791\u001b[0m             \u001b[0mline\u001b[0m\u001b[0;34m.\u001b[0m\u001b[0mset_clip_path\u001b[0m\u001b[0;34m(\u001b[0m\u001b[0mself\u001b[0m\u001b[0;34m.\u001b[0m\u001b[0mpatch\u001b[0m\u001b[0;34m)\u001b[0m\u001b[0;34m\u001b[0m\u001b[0m\n\u001b[1;32m   1792\u001b[0m \u001b[0;34m\u001b[0m\u001b[0m\n\u001b[0;32m-> 1793\u001b[0;31m         \u001b[0mself\u001b[0m\u001b[0;34m.\u001b[0m\u001b[0m_update_line_limits\u001b[0m\u001b[0;34m(\u001b[0m\u001b[0mline\u001b[0m\u001b[0;34m)\u001b[0m\u001b[0;34m\u001b[0m\u001b[0m\n\u001b[0m\u001b[1;32m   1794\u001b[0m         \u001b[0;32mif\u001b[0m \u001b[0;32mnot\u001b[0m \u001b[0mline\u001b[0m\u001b[0;34m.\u001b[0m\u001b[0mget_label\u001b[0m\u001b[0;34m(\u001b[0m\u001b[0;34m)\u001b[0m\u001b[0;34m:\u001b[0m\u001b[0;34m\u001b[0m\u001b[0m\n\u001b[1;32m   1795\u001b[0m             \u001b[0mline\u001b[0m\u001b[0;34m.\u001b[0m\u001b[0mset_label\u001b[0m\u001b[0;34m(\u001b[0m\u001b[0;34m'_line%d'\u001b[0m \u001b[0;34m%\u001b[0m \u001b[0mlen\u001b[0m\u001b[0;34m(\u001b[0m\u001b[0mself\u001b[0m\u001b[0;34m.\u001b[0m\u001b[0mlines\u001b[0m\u001b[0;34m)\u001b[0m\u001b[0;34m)\u001b[0m\u001b[0;34m\u001b[0m\u001b[0m\n",
      "\u001b[0;32m/anaconda/lib/python3.6/site-packages/matplotlib/axes/_base.py\u001b[0m in \u001b[0;36m_update_line_limits\u001b[0;34m(self, line)\u001b[0m\n\u001b[1;32m   1813\u001b[0m         \u001b[0mFigures\u001b[0m \u001b[0mout\u001b[0m \u001b[0mthe\u001b[0m \u001b[0mdata\u001b[0m \u001b[0mlimit\u001b[0m \u001b[0mof\u001b[0m \u001b[0mthe\u001b[0m \u001b[0mgiven\u001b[0m \u001b[0mline\u001b[0m\u001b[0;34m,\u001b[0m \u001b[0mupdating\u001b[0m \u001b[0mself\u001b[0m\u001b[0;34m.\u001b[0m\u001b[0mdataLim\u001b[0m\u001b[0;34m.\u001b[0m\u001b[0;34m\u001b[0m\u001b[0m\n\u001b[1;32m   1814\u001b[0m         \"\"\"\n\u001b[0;32m-> 1815\u001b[0;31m         \u001b[0mpath\u001b[0m \u001b[0;34m=\u001b[0m \u001b[0mline\u001b[0m\u001b[0;34m.\u001b[0m\u001b[0mget_path\u001b[0m\u001b[0;34m(\u001b[0m\u001b[0;34m)\u001b[0m\u001b[0;34m\u001b[0m\u001b[0m\n\u001b[0m\u001b[1;32m   1816\u001b[0m         \u001b[0;32mif\u001b[0m \u001b[0mpath\u001b[0m\u001b[0;34m.\u001b[0m\u001b[0mvertices\u001b[0m\u001b[0;34m.\u001b[0m\u001b[0msize\u001b[0m \u001b[0;34m==\u001b[0m \u001b[0;36m0\u001b[0m\u001b[0;34m:\u001b[0m\u001b[0;34m\u001b[0m\u001b[0m\n\u001b[1;32m   1817\u001b[0m             \u001b[0;32mreturn\u001b[0m\u001b[0;34m\u001b[0m\u001b[0m\n",
      "\u001b[0;32m/anaconda/lib/python3.6/site-packages/matplotlib/lines.py\u001b[0m in \u001b[0;36mget_path\u001b[0;34m(self)\u001b[0m\n\u001b[1;32m    987\u001b[0m         \"\"\"\n\u001b[1;32m    988\u001b[0m         \u001b[0;32mif\u001b[0m \u001b[0mself\u001b[0m\u001b[0;34m.\u001b[0m\u001b[0m_invalidy\u001b[0m \u001b[0;32mor\u001b[0m \u001b[0mself\u001b[0m\u001b[0;34m.\u001b[0m\u001b[0m_invalidx\u001b[0m\u001b[0;34m:\u001b[0m\u001b[0;34m\u001b[0m\u001b[0m\n\u001b[0;32m--> 989\u001b[0;31m             \u001b[0mself\u001b[0m\u001b[0;34m.\u001b[0m\u001b[0mrecache\u001b[0m\u001b[0;34m(\u001b[0m\u001b[0;34m)\u001b[0m\u001b[0;34m\u001b[0m\u001b[0m\n\u001b[0m\u001b[1;32m    990\u001b[0m         \u001b[0;32mreturn\u001b[0m \u001b[0mself\u001b[0m\u001b[0;34m.\u001b[0m\u001b[0m_path\u001b[0m\u001b[0;34m\u001b[0m\u001b[0m\n\u001b[1;32m    991\u001b[0m \u001b[0;34m\u001b[0m\u001b[0m\n",
      "\u001b[0;32m/anaconda/lib/python3.6/site-packages/matplotlib/lines.py\u001b[0m in \u001b[0;36mrecache\u001b[0;34m(self, always)\u001b[0m\n\u001b[1;32m    679\u001b[0m             \u001b[0mx\u001b[0m \u001b[0;34m=\u001b[0m \u001b[0mself\u001b[0m\u001b[0;34m.\u001b[0m\u001b[0m_x\u001b[0m\u001b[0;34m\u001b[0m\u001b[0m\n\u001b[1;32m    680\u001b[0m         \u001b[0;32mif\u001b[0m \u001b[0malways\u001b[0m \u001b[0;32mor\u001b[0m \u001b[0mself\u001b[0m\u001b[0;34m.\u001b[0m\u001b[0m_invalidy\u001b[0m\u001b[0;34m:\u001b[0m\u001b[0;34m\u001b[0m\u001b[0m\n\u001b[0;32m--> 681\u001b[0;31m             \u001b[0myconv\u001b[0m \u001b[0;34m=\u001b[0m \u001b[0mself\u001b[0m\u001b[0;34m.\u001b[0m\u001b[0mconvert_yunits\u001b[0m\u001b[0;34m(\u001b[0m\u001b[0mself\u001b[0m\u001b[0;34m.\u001b[0m\u001b[0m_yorig\u001b[0m\u001b[0;34m)\u001b[0m\u001b[0;34m\u001b[0m\u001b[0m\n\u001b[0m\u001b[1;32m    682\u001b[0m             \u001b[0;32mif\u001b[0m \u001b[0mma\u001b[0m\u001b[0;34m.\u001b[0m\u001b[0misMaskedArray\u001b[0m\u001b[0;34m(\u001b[0m\u001b[0mself\u001b[0m\u001b[0;34m.\u001b[0m\u001b[0m_yorig\u001b[0m\u001b[0;34m)\u001b[0m\u001b[0;34m:\u001b[0m\u001b[0;34m\u001b[0m\u001b[0m\n\u001b[1;32m    683\u001b[0m                 \u001b[0my\u001b[0m \u001b[0;34m=\u001b[0m \u001b[0mma\u001b[0m\u001b[0;34m.\u001b[0m\u001b[0masarray\u001b[0m\u001b[0;34m(\u001b[0m\u001b[0myconv\u001b[0m\u001b[0;34m,\u001b[0m \u001b[0mnp\u001b[0m\u001b[0;34m.\u001b[0m\u001b[0mfloat_\u001b[0m\u001b[0;34m)\u001b[0m\u001b[0;34m.\u001b[0m\u001b[0mfilled\u001b[0m\u001b[0;34m(\u001b[0m\u001b[0mnp\u001b[0m\u001b[0;34m.\u001b[0m\u001b[0mnan\u001b[0m\u001b[0;34m)\u001b[0m\u001b[0;34m\u001b[0m\u001b[0m\n",
      "\u001b[0;32m/anaconda/lib/python3.6/site-packages/matplotlib/artist.py\u001b[0m in \u001b[0;36mconvert_yunits\u001b[0;34m(self, y)\u001b[0m\n\u001b[1;32m    206\u001b[0m         \u001b[0;32mif\u001b[0m \u001b[0max\u001b[0m \u001b[0;32mis\u001b[0m \u001b[0;32mNone\u001b[0m \u001b[0;32mor\u001b[0m \u001b[0max\u001b[0m\u001b[0;34m.\u001b[0m\u001b[0myaxis\u001b[0m \u001b[0;32mis\u001b[0m \u001b[0;32mNone\u001b[0m\u001b[0;34m:\u001b[0m\u001b[0;34m\u001b[0m\u001b[0m\n\u001b[1;32m    207\u001b[0m             \u001b[0;32mreturn\u001b[0m \u001b[0my\u001b[0m\u001b[0;34m\u001b[0m\u001b[0m\n\u001b[0;32m--> 208\u001b[0;31m         \u001b[0;32mreturn\u001b[0m \u001b[0max\u001b[0m\u001b[0;34m.\u001b[0m\u001b[0myaxis\u001b[0m\u001b[0;34m.\u001b[0m\u001b[0mconvert_units\u001b[0m\u001b[0;34m(\u001b[0m\u001b[0my\u001b[0m\u001b[0;34m)\u001b[0m\u001b[0;34m\u001b[0m\u001b[0m\n\u001b[0m\u001b[1;32m    209\u001b[0m \u001b[0;34m\u001b[0m\u001b[0m\n\u001b[1;32m    210\u001b[0m     \u001b[0;32mdef\u001b[0m \u001b[0mset_axes\u001b[0m\u001b[0;34m(\u001b[0m\u001b[0mself\u001b[0m\u001b[0;34m,\u001b[0m \u001b[0maxes\u001b[0m\u001b[0;34m)\u001b[0m\u001b[0;34m:\u001b[0m\u001b[0;34m\u001b[0m\u001b[0m\n",
      "\u001b[0;32m/anaconda/lib/python3.6/site-packages/matplotlib/axis.py\u001b[0m in \u001b[0;36mconvert_units\u001b[0;34m(self, x)\u001b[0m\n\u001b[1;32m   1465\u001b[0m     \u001b[0;32mdef\u001b[0m \u001b[0mconvert_units\u001b[0m\u001b[0;34m(\u001b[0m\u001b[0mself\u001b[0m\u001b[0;34m,\u001b[0m \u001b[0mx\u001b[0m\u001b[0;34m)\u001b[0m\u001b[0;34m:\u001b[0m\u001b[0;34m\u001b[0m\u001b[0m\n\u001b[1;32m   1466\u001b[0m         \u001b[0;32mif\u001b[0m \u001b[0mself\u001b[0m\u001b[0;34m.\u001b[0m\u001b[0mconverter\u001b[0m \u001b[0;32mis\u001b[0m \u001b[0;32mNone\u001b[0m\u001b[0;34m:\u001b[0m\u001b[0;34m\u001b[0m\u001b[0m\n\u001b[0;32m-> 1467\u001b[0;31m             \u001b[0mself\u001b[0m\u001b[0;34m.\u001b[0m\u001b[0mconverter\u001b[0m \u001b[0;34m=\u001b[0m \u001b[0mmunits\u001b[0m\u001b[0;34m.\u001b[0m\u001b[0mregistry\u001b[0m\u001b[0;34m.\u001b[0m\u001b[0mget_converter\u001b[0m\u001b[0;34m(\u001b[0m\u001b[0mx\u001b[0m\u001b[0;34m)\u001b[0m\u001b[0;34m\u001b[0m\u001b[0m\n\u001b[0m\u001b[1;32m   1468\u001b[0m \u001b[0;34m\u001b[0m\u001b[0m\n\u001b[1;32m   1469\u001b[0m         \u001b[0;32mif\u001b[0m \u001b[0mself\u001b[0m\u001b[0;34m.\u001b[0m\u001b[0mconverter\u001b[0m \u001b[0;32mis\u001b[0m \u001b[0;32mNone\u001b[0m\u001b[0;34m:\u001b[0m\u001b[0;34m\u001b[0m\u001b[0m\n",
      "\u001b[0;32m/anaconda/lib/python3.6/site-packages/matplotlib/units.py\u001b[0m in \u001b[0;36mget_converter\u001b[0;34m(self, x)\u001b[0m\n\u001b[1;32m    139\u001b[0m \u001b[0;34m\u001b[0m\u001b[0m\n\u001b[1;32m    140\u001b[0m         \u001b[0;32mif\u001b[0m \u001b[0misinstance\u001b[0m\u001b[0;34m(\u001b[0m\u001b[0mx\u001b[0m\u001b[0;34m,\u001b[0m \u001b[0mnp\u001b[0m\u001b[0;34m.\u001b[0m\u001b[0mndarray\u001b[0m\u001b[0;34m)\u001b[0m \u001b[0;32mand\u001b[0m \u001b[0mx\u001b[0m\u001b[0;34m.\u001b[0m\u001b[0msize\u001b[0m\u001b[0;34m:\u001b[0m\u001b[0;34m\u001b[0m\u001b[0m\n\u001b[0;32m--> 141\u001b[0;31m             \u001b[0mxravel\u001b[0m \u001b[0;34m=\u001b[0m \u001b[0mx\u001b[0m\u001b[0;34m.\u001b[0m\u001b[0mravel\u001b[0m\u001b[0;34m(\u001b[0m\u001b[0;34m)\u001b[0m\u001b[0;34m\u001b[0m\u001b[0m\n\u001b[0m\u001b[1;32m    142\u001b[0m             \u001b[0;32mtry\u001b[0m\u001b[0;34m:\u001b[0m\u001b[0;34m\u001b[0m\u001b[0m\n\u001b[1;32m    143\u001b[0m                 \u001b[0;31m# pass the first value of x that is not masked back to\u001b[0m\u001b[0;34m\u001b[0m\u001b[0;34m\u001b[0m\u001b[0m\n",
      "\u001b[0;31mKeyboardInterrupt\u001b[0m: "
     ]
    }
   ],
   "source": [
    "import matplotlib.pyplot as plt\n",
    "plt.plot(err)"
   ]
  },
  {
   "cell_type": "code",
   "execution_count": 48,
   "metadata": {},
   "outputs": [
    {
     "data": {
      "text/plain": [
       "array([[  67.32455435,   88.30832434,   91.63937975, ...,  180.06640346,\n",
       "         217.0309055 ,  216.07497744],\n",
       "       [  68.27959826,   89.56103709,   92.93934576, ...,  182.62076604,\n",
       "         220.10963431,  219.14014577],\n",
       "       [  69.06085764,   90.58579999,   94.00276348, ...,  184.7103241 ,\n",
       "         222.62814231,  221.64756083],\n",
       "       ..., \n",
       "       [  37.61118448,   49.33386801,   51.19477806, ...,  100.59495803,\n",
       "         121.245354  ,  120.71132021],\n",
       "       [  30.98004583,   40.63593085,   42.16874827, ...,   82.85929978,\n",
       "          99.86887346,   99.4289939 ],\n",
       "       [  31.52977439,   41.35699924,   42.91701589, ...,   84.32960501,\n",
       "         101.64100679,  101.19332175]])"
      ]
     },
     "execution_count": 48,
     "metadata": {},
     "output_type": "execute_result"
    }
   ],
   "source": [
    "err"
   ]
  },
  {
   "cell_type": "code",
   "execution_count": 13,
   "metadata": {
    "collapsed": true
   },
   "outputs": [],
   "source": [
    "import mxnet as mx"
   ]
  },
  {
   "cell_type": "code",
   "execution_count": 14,
   "metadata": {
    "collapsed": true
   },
   "outputs": [],
   "source": [
    "a = mx.nd.ones((2,3))"
   ]
  },
  {
   "cell_type": "code",
   "execution_count": 15,
   "metadata": {
    "collapsed": true
   },
   "outputs": [],
   "source": [
    "b = a * 2 +1"
   ]
  },
  {
   "cell_type": "code",
   "execution_count": 16,
   "metadata": {},
   "outputs": [
    {
     "data": {
      "text/plain": [
       "array([[ 3.,  3.,  3.],\n",
       "       [ 3.,  3.,  3.]], dtype=float32)"
      ]
     },
     "execution_count": 16,
     "metadata": {},
     "output_type": "execute_result"
    }
   ],
   "source": [
    "b.asnumpy()"
   ]
  },
  {
   "cell_type": "code",
   "execution_count": 19,
   "metadata": {
    "collapsed": true
   },
   "outputs": [],
   "source": [
    "#Training data\n",
    "train_data = X_13\n",
    "train_label = np.array([train_data[i][0] + 2 * train_data[i][1] for i in range(100)])\n",
    "batch_size = 1\n",
    "\n",
    "eval_data = y_13\n",
    "eval_label = np.array([11])"
   ]
  },
  {
   "cell_type": "code",
   "execution_count": 22,
   "metadata": {},
   "outputs": [
    {
     "data": {
      "text/plain": [
       "array([ 30.4       ,  29.53333333,  29.6       ,  29.6       ,\n",
       "        29.26666667,  29.33333333,  29.33333333,  29.46666667,\n",
       "        29.        ,  28.66666667,  29.26666667,  29.26666667,\n",
       "        29.53333333,  28.86666667,  29.06666667,  29.33333333,\n",
       "        29.4       ,  29.73333333,  30.93333333,  30.93333333,\n",
       "        28.46666667,  28.53333333,  27.66666667,  29.4       ,\n",
       "        29.4       ,  29.33333333,  17.8       ,  36.06666667,\n",
       "        48.86666667,  43.66666667,  34.73333333,  32.33333333,\n",
       "        32.13333333,  31.26666667,  27.53333333,  37.26666667,\n",
       "        19.26666667,  34.8       ,  33.        ,  33.66666667,\n",
       "        33.4       ,  32.53333333,  33.26666667,  31.53333333,\n",
       "        19.46666667,  19.4       ,  19.6       ,  19.66666667,\n",
       "        19.4       ,  19.46666667,  19.2       ,  19.2       ,\n",
       "        19.26666667,  19.66666667,  19.66666667,  19.73333333,\n",
       "        18.86666667,  19.06666667,  19.2       ,  19.06666667,\n",
       "        19.        ,  41.66666667,  59.8       ,  73.86666667,\n",
       "        73.73333333,  74.53333333,  75.6       ,  75.06666667,\n",
       "        76.8       ,  75.6       ,  72.66666667,  53.93333333,\n",
       "        56.66666667,  25.13333333,  18.46666667,  19.4       ,\n",
       "        19.86666667,  19.26666667,  18.66666667,  19.4       ,\n",
       "        18.73333333,  18.73333333,  18.53333333,  18.53333333,\n",
       "        18.        ,  18.53333333,  18.8       ,  18.26666667,\n",
       "        18.4       ,  17.66666667,  15.93333333,   2.33333333,\n",
       "         2.        ,   2.        ,   2.        ,   2.        ,\n",
       "         2.        ,   2.        ,   2.        ,   2.        ])"
      ]
     },
     "execution_count": 22,
     "metadata": {},
     "output_type": "execute_result"
    }
   ],
   "source": [
    "train_label"
   ]
  },
  {
   "cell_type": "code",
   "execution_count": null,
   "metadata": {
    "collapsed": true
   },
   "outputs": [],
   "source": []
  }
 ],
 "metadata": {
  "kernelspec": {
   "display_name": "Python 3",
   "language": "python",
   "name": "python3"
  },
  "language_info": {
   "codemirror_mode": {
    "name": "ipython",
    "version": 3
   },
   "file_extension": ".py",
   "mimetype": "text/x-python",
   "name": "python",
   "nbconvert_exporter": "python",
   "pygments_lexer": "ipython3",
   "version": "3.6.2"
  }
 },
 "nbformat": 4,
 "nbformat_minor": 2
}
