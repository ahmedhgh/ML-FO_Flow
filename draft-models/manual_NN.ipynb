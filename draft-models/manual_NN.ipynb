{
 "cells": [
  {
   "cell_type": "code",
   "execution_count": 57,
   "metadata": {},
   "outputs": [
    {
     "name": "stdout",
     "output_type": "stream",
     "text": [
      "Populating the interactive namespace from numpy and matplotlib\n"
     ]
    }
   ],
   "source": [
    "%pylab inline\n",
    "import pandas as pd\n",
    "import os\n",
    "import sympy as sym"
   ]
  },
  {
   "cell_type": "code",
   "execution_count": 21,
   "metadata": {
    "collapsed": true
   },
   "outputs": [],
   "source": [
    "df = pd.read_hdf('Database/selected_df.h5','table')"
   ]
  },
  {
   "cell_type": "code",
   "execution_count": 24,
   "metadata": {},
   "outputs": [
    {
     "name": "stdout",
     "output_type": "stream",
     "text": [
      "AE1 FUEL RACK POSIT:1742:mm:Average:900\n",
      "AE2 FUEL RACK POSIT:2742:mm:Average:900\n",
      "AE3 FUEL RACK POSIT:3742:mm:Average:900\n",
      "AE4 FUEL RACK POSIT:4742:mm:Average:900\n",
      "ME1 FUEL RACK POSIT:10005:%:Average:900\n",
      "ME2 FUEL RACK POSIT:20005:%:Average:900\n",
      "ME3 FUEL RACK POSIT:30005:%:Average:900\n",
      "ME4 FUEL RACK POSIT:40005:%:Average:900\n"
     ]
    }
   ],
   "source": [
    "\n",
    "# The dataset is not complete overlapping in time with data from both the mass-flow meters and the\n",
    "# the rest of the data. So we have to manually filter out the time interval which we are interested in.\n",
    "\n",
    "date_begin = '2014-05-01'\n",
    "date_end = '2014-12-01'\n",
    "\n",
    "df['AE1 FUEL RACK POSIT:1742:mm:Average:900'][date_begin:date_end]\n",
    "\n",
    "# Dict of var names we want to use.\n",
    "\n",
    "\n",
    "var_names = {'ae1_frp':'AE1 FUEL RACK POSIT:1742:mm:Average:900',\n",
    "             'ae2_frp':'AE2 FUEL RACK POSIT:2742:mm:Average:900',\n",
    "             'ae3_frp':'AE3 FUEL RACK POSIT:3742:mm:Average:900',\n",
    "             'ae4_frp':'AE4 FUEL RACK POSIT:4742:mm:Average:900',\n",
    "             'me1_frp':'ME1 FUEL RACK POSIT:10005:%:Average:900',\n",
    "             'me2_frp':'ME2 FUEL RACK POSIT:20005:%:Average:900',\n",
    "             'me3_frp':'ME3 FUEL RACK POSIT:30005:%:Average:900',\n",
    "             'me4_frp':'ME4 FUEL RACK POSIT:40005:%:Average:900'}\n",
    "\n",
    "\n",
    "for names in var_names:\n",
    "    print(var_names[names])\n",
    "\n",
    "#Creating the Tensors:\n",
    "#\n",
    "#for name_ in var_names:\n",
    "#    globals()[name_] = 3\n",
    "\n",
    "\n",
    "\n",
    "fo_1_3_total = df['FO_day_engine_1_3']\n",
    "fo_2_4_total = df['FO_day_engine_2_4']\n"
   ]
  },
  {
   "cell_type": "code",
   "execution_count": 53,
   "metadata": {
    "collapsed": true
   },
   "outputs": [],
   "source": [
    "\n",
    "# Define cost functions.\n",
    "\n",
    "def day_cost(df,day):\n",
    "    \n",
    "    pred1_3 = np.sum((df[var_names['ae1_frp']][day] * w1 + df[var_names['ae1_frp']][day] * w2**2 + b)+\n",
    "                     (df[var_names['ae3_frp']][day] * w1 + df[var_names['ae3_frp']][day] * w2**2 + b)+\n",
    "                     (df[var_names['me1_frp']][day] * w1 + df[var_names['me1_frp']][day] * w2**2 + b)+\n",
    "                     (df[var_names['me3_frp']][day] * w1 + df[var_names['me3_frp']][day] * w2**2 + b))\n",
    "    \n",
    "    \n",
    "    #df['FO_day_engine_2_4'][day].max()\n",
    "    pred = pred1_3\n",
    "    target = df['FO_day_engine_1_3'][day].max()\n",
    "    cost = np.square(pred - target)\n",
    "    return pred, cost\n",
    "\n",
    "def der_day_cost(x):\n",
    "    return np.diff(x)"
   ]
  },
  {
   "cell_type": "code",
   "execution_count": 54,
   "metadata": {},
   "outputs": [
    {
     "data": {
      "text/plain": [
       "(5918.695156872099, 34890110.889444545)"
      ]
     },
     "execution_count": 54,
     "metadata": {},
     "output_type": "execute_result"
    }
   ],
   "source": [
    "day_cost(df,'2014-02-02')"
   ]
  },
  {
   "cell_type": "code",
   "execution_count": 77,
   "metadata": {},
   "outputs": [
    {
     "data": {
      "text/plain": [
       "1"
      ]
     },
     "execution_count": 77,
     "metadata": {},
     "output_type": "execute_result"
    }
   ],
   "source": [
    "frp, w1, w2 , b = sym.symbols('frp w1 w2 b')\n",
    "sym.diff(frp * w1 + w2**2 + b, b)"
   ]
  },
  {
   "cell_type": "code",
   "execution_count": 34,
   "metadata": {},
   "outputs": [
    {
     "name": "stdout",
     "output_type": "stream",
     "text": [
      "3830.721340284789\n"
     ]
    }
   ],
   "source": [
    "day = '2014-02-02'\n",
    "\n",
    "pred1_3 = np.sum((df[var_names['ae1_frp']][day] * w1 + df[var_names['ae1_frp']][day] * w2**2 + b)\n",
    "                +(df[var_names['ae1_frp']][day] * w1 + df[var_names['ae1_frp']][day] * w2**2 + b))\n",
    "\n",
    "print(pred1_3)"
   ]
  },
  {
   "cell_type": "code",
   "execution_count": 48,
   "metadata": {},
   "outputs": [],
   "source": [
    "w1 = np.random.rand()\n",
    "w2 = np.random.rand()\n",
    "b = np.random.rand()\n",
    "learning_rate = 0.5\n",
    "\n",
    "costs = []\n",
    "\n",
    "dcost_pred = 2*w2\n",
    "\n"
   ]
  },
  {
   "cell_type": "code",
   "execution_count": 41,
   "metadata": {},
   "outputs": [
    {
     "data": {
      "text/plain": [
       "11.91"
      ]
     },
     "execution_count": 41,
     "metadata": {},
     "output_type": "execute_result"
    }
   ],
   "source": [
    "df['FO_day_engine_1_3'][day].max()"
   ]
  },
  {
   "cell_type": "code",
   "execution_count": 19,
   "metadata": {},
   "outputs": [
    {
     "data": {
      "text/plain": [
       "'AE1 FUEL RACK POSIT:1742:mm:Average:900'"
      ]
     },
     "execution_count": 19,
     "metadata": {},
     "output_type": "execute_result"
    }
   ],
   "source": [
    "var_names['ae1_frp']"
   ]
  },
  {
   "cell_type": "code",
   "execution_count": null,
   "metadata": {
    "collapsed": true
   },
   "outputs": [],
   "source": []
  }
 ],
 "metadata": {
  "kernelspec": {
   "display_name": "Python 3",
   "language": "python",
   "name": "python3"
  },
  "language_info": {
   "codemirror_mode": {
    "name": "ipython",
    "version": 3
   },
   "file_extension": ".py",
   "mimetype": "text/x-python",
   "name": "python",
   "nbconvert_exporter": "python",
   "pygments_lexer": "ipython3",
   "version": "3.6.2"
  }
 },
 "nbformat": 4,
 "nbformat_minor": 2
}
