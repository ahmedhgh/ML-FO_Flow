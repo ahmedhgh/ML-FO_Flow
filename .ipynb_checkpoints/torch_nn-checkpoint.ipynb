{
 "cells": [
  {
   "cell_type": "code",
   "execution_count": 118,
   "metadata": {},
   "outputs": [
    {
     "name": "stdout",
     "output_type": "stream",
     "text": [
      "Loading database ...\n",
      "Time to load database: 3.7851200103759766\n"
     ]
    }
   ],
   "source": [
    "import pandas as pd\n",
    "import torch\n",
    "import sklearn as sk\n",
    "from sklearn import preprocessing\n",
    "import time\n",
    "import numpy as np\n",
    "\n",
    "# Load the database, shouldn't take that long. This is all data!\n",
    "\n",
    "t1 = time.time()\n",
    "print('Loading database ...')\n",
    "df = pd.read_hdf('database/all_data_comp.h5','table')\n",
    "print('Time to load database:', time.time()-t1)\n"
   ]
  },
  {
   "cell_type": "code",
   "execution_count": 119,
   "metadata": {
    "collapsed": true
   },
   "outputs": [],
   "source": [
    "\n",
    "#Creating the Tensors:\n",
    "#\n",
    "#for name_ in var_names:\n",
    "#    globals()[name_] = 3\n",
    "\n",
    "fo_1_3_total = df['FO_day_engine_1_3'].dropna()\n",
    "fo_2_4_total = df['FO_day_engine_2_4'].dropna()\n",
    "\n",
    "# this gives the total in tonnes for each day."
   ]
  },
  {
   "cell_type": "code",
   "execution_count": 120,
   "metadata": {},
   "outputs": [
    {
     "name": "stdout",
     "output_type": "stream",
     "text": [
      "AE1 FUEL RACK POSIT:1742:mm:Average:900\n",
      "AE2 FUEL RACK POSIT:2742:mm:Average:900\n",
      "AE3 FUEL RACK POSIT:3742:mm:Average:900\n",
      "AE4 FUEL RACK POSIT:4742:mm:Average:900\n",
      "AE1 ENG SPEED:1745:RPM:Average:900\n",
      "AE2 ENG SPEED:2745:RPM:Average:900\n",
      "AE3 ENG SPEED:3745:RPM:Average:900\n",
      "AE4 ENG SPEED:4745:RPM:Average:900\n",
      "ME1 FUEL RACK POSIT:10005:%:Average:900\n",
      "ME2 FUEL RACK POSIT:20005:%:Average:900\n",
      "ME3 FUEL RACK POSIT:30005:%:Average:900\n",
      "ME4 FUEL RACK POSIT:40005:%:Average:900\n",
      "ME1 ENGINE SPEED:1364:rpm:Average:900\n",
      "ME2 ENGINE SPEED:2364:rpm:Average:900\n",
      "ME3 ENGINE SPEED:3364:rpm:Average:900\n",
      "ME4 ENGINE SPEED:4364:rpm:Average:900\n",
      "FO BOOST 1 CONSUMPT:6165:m3/h:Average:900\n",
      "FO BOOST 2 CONSUMPT:6166:m3/h:Average:900\n"
     ]
    }
   ],
   "source": [
    "##\n",
    "# The cost function\n",
    "# The dataset is not complete overlapping in time with data from both the mass-flow meters and the\n",
    "# the rest of the data. So we have to manually filter out the time interval which we are interested in.\n",
    "\n",
    "date_begin = '2014-02-01'\n",
    "date_end = '2014-12-16'\n",
    "\n",
    "# Dict of var names we want to use.\n",
    "\n",
    "\n",
    "var_names = {'ae1_frp':'AE1 FUEL RACK POSIT:1742:mm:Average:900',\n",
    "             'ae2_frp':'AE2 FUEL RACK POSIT:2742:mm:Average:900',\n",
    "             'ae3_frp':'AE3 FUEL RACK POSIT:3742:mm:Average:900',\n",
    "             'ae4_frp':'AE4 FUEL RACK POSIT:4742:mm:Average:900',\n",
    "             'ae1_rpm':'AE1 ENG SPEED:1745:RPM:Average:900',\n",
    "             'ae2_rpm':'AE2 ENG SPEED:2745:RPM:Average:900',\n",
    "             'ae3_rpm':'AE3 ENG SPEED:3745:RPM:Average:900',\n",
    "             'ae4_rpm':'AE4 ENG SPEED:4745:RPM:Average:900',\n",
    "             'me1_frp':'ME1 FUEL RACK POSIT:10005:%:Average:900',\n",
    "             'me2_frp':'ME2 FUEL RACK POSIT:20005:%:Average:900',\n",
    "             'me3_frp':'ME3 FUEL RACK POSIT:30005:%:Average:900',\n",
    "             'me4_frp':'ME4 FUEL RACK POSIT:40005:%:Average:900',\n",
    "             'me1_rpm':'ME1 ENGINE SPEED:1364:rpm:Average:900',\n",
    "             'me2_rpm':'ME2 ENGINE SPEED:2364:rpm:Average:900',\n",
    "             'me3_rpm':'ME3 ENGINE SPEED:3364:rpm:Average:900',\n",
    "             'me4_rpm':'ME4 ENGINE SPEED:4364:rpm:Average:900',\n",
    "             \n",
    "             'fo_booster_13':'FO BOOST 1 CONSUMPT:6165:m3/h:Average:900',\n",
    "             'fo_booster_24':'FO BOOST 2 CONSUMPT:6166:m3/h:Average:900'}\n",
    "\n",
    "for names in var_names:\n",
    "    if var_names[names] in list(df):\n",
    "        print(var_names[names])\n",
    "    else:\n",
    "        print('*** VAR MISSING *** ', var_names[names], ' *** VAR MISSING ***')\n",
    "\n",
    "# Create np arrays. X vals are engine inputs, y are fo flows    \n",
    "\n",
    "X_13 = np.array(df[[\n",
    "            var_names['ae1_frp'],\n",
    "            var_names['ae3_frp'],\n",
    "            var_names['me1_frp'],\n",
    "            var_names['me3_frp'],\n",
    "            var_names['ae1_rpm'],\n",
    "            var_names['ae3_rpm'],\n",
    "            var_names['me1_rpm'],\n",
    "            var_names['me3_rpm'],       \n",
    "            ]][date_begin:date_end])\n",
    "X_24 = np.array(df[[\n",
    "            var_names['ae2_frp'],\n",
    "            var_names['ae4_frp'],\n",
    "            var_names['me2_frp'],\n",
    "            var_names['me4_frp'],\n",
    "            var_names['ae2_rpm'],\n",
    "            var_names['ae4_rpm'],\n",
    "            var_names['me2_rpm'],\n",
    "            var_names['me4_rpm'],\n",
    "            ]][date_begin:date_end])\n",
    "\n",
    "y_13 = np.array(df[var_names['fo_booster_13']][date_begin:date_end]).reshape(-1,1)\n",
    "y_24 = np.array(df[var_names['fo_booster_24']][date_begin:date_end]).reshape(-1,1)\n"
   ]
  },
  {
   "cell_type": "code",
   "execution_count": 121,
   "metadata": {},
   "outputs": [
    {
     "name": "stdout",
     "output_type": "stream",
     "text": [
      "Model eng 1/3 : 0.96752446626\n",
      "Model eng 2/4 : 0.979056962201\n"
     ]
    }
   ],
   "source": [
    "# Linear modeling with scikit\n",
    "\n",
    "from sklearn import cross_validation\n",
    "from sklearn.linear_model import LinearRegression\n",
    "\n",
    "\n",
    "X_train_13, X_test_13, y_train_13, y_test_13 = cross_validation.train_test_split(X_13, y_13, test_size=0.2)\n",
    "clf_13 = LinearRegression(n_jobs=-1)\n",
    "clf_13.fit(X_train_13, y_train_13)\n",
    "print('Model eng 1/3 :', clf_13.score(X_test_13,y_test_13))\n",
    "\n",
    "\n",
    "X_train_24, X_test_24, y_train_24, y_test_24 = cross_validation.train_test_split(X_24, y_24, test_size=0.2)\n",
    "clf_24 = LinearRegression(n_jobs=-1)\n",
    "clf_24.fit(X_train_24, y_train_24)\n",
    "print('Model eng 2/4 :', clf_24.score(X_test_24,y_test_24))\n",
    "\n"
   ]
  },
  {
   "cell_type": "code",
   "execution_count": 65,
   "metadata": {},
   "outputs": [],
   "source": [
    "x_in = np.array([20,20,30,50])"
   ]
  },
  {
   "cell_type": "code",
   "execution_count": 66,
   "metadata": {},
   "outputs": [
    {
     "data": {
      "text/plain": [
       "(4,)"
      ]
     },
     "execution_count": 66,
     "metadata": {},
     "output_type": "execute_result"
    }
   ],
   "source": [
    "x_in.shape"
   ]
  },
  {
   "cell_type": "code",
   "execution_count": 74,
   "metadata": {},
   "outputs": [
    {
     "name": "stdout",
     "output_type": "stream",
     "text": [
      "[[ 0.71141368]]\n",
      "[ 0.79085722]\n"
     ]
    }
   ],
   "source": [
    "print(clf.predict(X_train[2].reshape(1,-1)))\n",
    "print(y_train[2])"
   ]
  },
  {
   "cell_type": "code",
   "execution_count": 77,
   "metadata": {},
   "outputs": [
    {
     "data": {
      "text/plain": [
       "array([[ 0.006779  , -0.0025682 ,  0.01336264,  0.01303422]])"
      ]
     },
     "execution_count": 77,
     "metadata": {},
     "output_type": "execute_result"
    }
   ],
   "source": []
  },
  {
   "cell_type": "code",
   "execution_count": 10,
   "metadata": {},
   "outputs": [
    {
     "data": {
      "text/plain": [
       "Time\n",
       "2014-02-01    12.15\n",
       "2014-02-02    13.80\n",
       "2014-02-03    12.30\n",
       "2014-02-04    11.69\n",
       "2014-02-05    16.00\n",
       "2014-02-06    13.67\n",
       "2014-02-07    10.95\n",
       "2014-02-08    15.85\n",
       "2014-02-09    14.02\n",
       "2014-02-10    11.67\n",
       "2014-02-11    14.61\n",
       "2014-02-12    14.77\n",
       "2014-02-13    12.81\n",
       "2014-02-14    13.14\n",
       "2014-02-15    10.69\n",
       "2014-02-16    12.29\n",
       "2014-02-17    12.31\n",
       "2014-02-18    14.06\n",
       "2014-02-19    10.16\n",
       "2014-02-20    11.11\n",
       "2014-02-21    13.84\n",
       "2014-02-22    13.99\n",
       "2014-02-23     9.11\n",
       "2014-02-24    12.90\n",
       "2014-02-25    13.07\n",
       "2014-02-26    14.32\n",
       "2014-02-27    10.63\n",
       "2014-02-28     9.75\n",
       "2014-03-01     9.70\n",
       "2014-03-02    12.05\n",
       "              ...  \n",
       "2014-11-17    14.21\n",
       "2014-11-18    13.35\n",
       "2014-11-19    14.31\n",
       "2014-11-20    11.08\n",
       "2014-11-21     8.86\n",
       "2014-11-22    10.12\n",
       "2014-11-23    12.72\n",
       "2014-11-24    12.26\n",
       "2014-11-25    14.46\n",
       "2014-11-26    12.34\n",
       "2014-11-27    13.83\n",
       "2014-11-28    11.09\n",
       "2014-11-29    12.34\n",
       "2014-11-30    13.17\n",
       "2014-12-01    15.01\n",
       "2014-12-02    17.46\n",
       "2014-12-03     8.63\n",
       "2014-12-04    12.78\n",
       "2014-12-05    10.85\n",
       "2014-12-06    10.41\n",
       "2014-12-07    14.33\n",
       "2014-12-08     9.88\n",
       "2014-12-09    13.39\n",
       "2014-12-10    10.69\n",
       "2014-12-11    13.45\n",
       "2014-12-12    12.75\n",
       "2014-12-13    12.28\n",
       "2014-12-14    13.79\n",
       "2014-12-15    10.35\n",
       "2014-12-16    12.15\n",
       "Name: FO_day_engine_2_4, Length: 319, dtype: float64"
      ]
     },
     "execution_count": 10,
     "metadata": {},
     "output_type": "execute_result"
    }
   ],
   "source": [
    "\n",
    "\n",
    "\n",
    "def day_predict(eng_side,day):\n",
    "    np.sum()\n",
    "\n"
   ]
  },
  {
   "cell_type": "code",
   "execution_count": null,
   "metadata": {
    "collapsed": true
   },
   "outputs": [],
   "source": []
  },
  {
   "cell_type": "code",
   "execution_count": null,
   "metadata": {
    "collapsed": true
   },
   "outputs": [],
   "source": []
  }
 ],
 "metadata": {
  "kernelspec": {
   "display_name": "Python 3",
   "language": "python",
   "name": "python3"
  },
  "language_info": {
   "codemirror_mode": {
    "name": "ipython",
    "version": 3
   },
   "file_extension": ".py",
   "mimetype": "text/x-python",
   "name": "python",
   "nbconvert_exporter": "python",
   "pygments_lexer": "ipython3",
   "version": "3.6.2"
  }
 },
 "nbformat": 4,
 "nbformat_minor": 2
}
