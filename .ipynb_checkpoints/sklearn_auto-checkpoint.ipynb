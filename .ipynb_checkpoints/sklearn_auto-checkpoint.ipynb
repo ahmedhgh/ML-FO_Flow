{
 "cells": [
  {
   "cell_type": "code",
   "execution_count": 1,
   "metadata": {},
   "outputs": [
    {
     "name": "stdout",
     "output_type": "stream",
     "text": [
      "Loading database ...\n",
      "Time to load database: 4.129496812820435\n"
     ]
    }
   ],
   "source": [
    "import pandas as pd\n",
    "import numpy as np\n",
    "import sklearn\n",
    "import time\n",
    "\n",
    "# Load the database, shouldn't take that long. This is all data!\n",
    "\n",
    "t1 = time.time()\n",
    "print('Loading database ...')\n",
    "df = pd.read_hdf('database/all_data_comp.h5','table')\n",
    "print('Time to load database:', time.time()-t1)\n"
   ]
  },
  {
   "cell_type": "code",
   "execution_count": 3,
   "metadata": {},
   "outputs": [],
   "source": [
    "fo_1_3_total = df['FO_day_engine_1_3'].dropna()\n",
    "fo_2_4_total = df['FO_day_engine_2_4'].dropna()\n",
    "\n",
    "# this gives the total in tonnes for each day.\n",
    "\n",
    "# The dataset is not complete overlapping in time with data from both the mass-flow meters and the\n",
    "# the rest of the data. So we have to manually filter out the time interval which we are interested in.\n",
    "\n",
    "date_begin = '2014-02-01'\n",
    "date_end = '2014-12-16'\n",
    "\n",
    "# Dict of var names we want to use.\n",
    "\n",
    "\n",
    "var_names = {'ae1_frp':'AE1 FUEL RACK POSIT:1742:mm:Average:900',\n",
    "             'ae2_frp':'AE2 FUEL RACK POSIT:2742:mm:Average:900',\n",
    "             'ae3_frp':'AE3 FUEL RACK POSIT:3742:mm:Average:900',\n",
    "             'ae4_frp':'AE4 FUEL RACK POSIT:4742:mm:Average:900',\n",
    "             \n",
    "             'ae1_cac_P':'AE1 CA OTL CAC PRESS:1649:Bar:Average:900',\n",
    "             'ae2_cac_P':'AE2 CA OTL CAC PRESS:2649:Bar:Average:900',\n",
    "             'ae3_cac_P':'AE3 CA OTL CAC PRESS:3649:Bar:Average:900',\n",
    "             'ae4_cac_P':'AE4 CA OTL CAC PRESS:4649:Bar:Average:900',\n",
    "             \n",
    "             'ae1_cac_ca':'AE1 EXH CA OUTET 1:1543:  C:Average:900',\n",
    "             'ae2_cac_ca':'AE2 EXH CA OUTET 1:2543:  C:Average:900',\n",
    "             'ae3_cac_ca':'AE3 EXH CA OUTET 1:3543:  C:Average:900',\n",
    "             'ae4_cac_ca':'AE4 EXH CA OUTET 1:4543:  C:Average:900',\n",
    "             \n",
    "             'ae1_exh':'AE1 EXH MEAN VALUE:1591:  C:Average:900',\n",
    "             'ae2_exh':'AE2 EXH MEAN VALUE:2591:  C:Average:900',\n",
    "             'ae3_exh':'AE3 EXH MEAN VALUE:3591:  C:Average:900',\n",
    "             'ae4_exh':'AE4 EXH MEAN VALUE:4591:  C:Average:900',\n",
    "             \n",
    "             'ae1_fo_P':'AE1 FO INLET PRESS:1603:Bar:Average:900',\n",
    "             'ae2_fo_P':'AE2 FO INLET PRESS:2603:Bar:Average:900',\n",
    "             'ae3_fo_P':'AE3 FO INLET PRESS:3603:Bar:Average:900',\n",
    "             'ae4_fo_P':'AE4 FO INLET PRESS:4603:Bar:Average:900',\n",
    "             \n",
    "             'ae1_rpm':'AE1 ENG SPEED:1745:RPM:Average:900',\n",
    "             'ae2_rpm':'AE2 ENG SPEED:2745:RPM:Average:900',\n",
    "             'ae3_rpm':'AE3 ENG SPEED:3745:RPM:Average:900',\n",
    "             'ae4_rpm':'AE4 ENG SPEED:4745:RPM:Average:900',\n",
    "             \n",
    "             'me1_frp':'ME1 FUEL RACK POSIT:10005:%:Average:900',\n",
    "             'me2_frp':'ME2 FUEL RACK POSIT:20005:%:Average:900',\n",
    "             'me3_frp':'ME3 FUEL RACK POSIT:30005:%:Average:900',\n",
    "             'me4_frp':'ME4 FUEL RACK POSIT:40005:%:Average:900',\n",
    "             \n",
    "             'me1_ca_T':'ME1 CA TEMP COOL OUT:1343:C:Average:900',\n",
    "             'me2_ca_T':'ME2 CA TEMP COOL OUT:2343:C:Average:900',\n",
    "             'me3_ca_T':'ME3 CA TEMP COOL OUT:3343:C:Average:900',\n",
    "             'me4_ca_T':'ME4 CA TEMP COOL OUT:4343:C:Average:900',\n",
    "             \n",
    "             'me1_cac_T':'ME1 CHARGE AIR TEMP:1347:C:Average:900',\n",
    "             'me2_cac_T':'ME2 CHARGE AIR TEMP:2347:C:Average:900',\n",
    "             'me3_cac_T':'ME3 CHARGE AIR TEMP:3347:C:Average:900',\n",
    "             'me4_cac_T':'ME4 CHARGE AIR TEMP:4347:C:Average:900',\n",
    "             \n",
    "             'me1_exh_T':'ME1 EXH GAS MEAN:1125:C:Average:900',\n",
    "             'me2_exh_T':'ME2 EXH GAS MEAN:2125:C:Average:900',\n",
    "             'me3_exh_T':'ME3 EXH GAS MEAN:3125:C:Average:900',\n",
    "             'me4_exh_T':'ME4 EXH GAS MEAN:4125:C:Average:900',\n",
    "             \n",
    "             'me1_rpm':'ME1 ENGINE SPEED:1364:rpm:Average:900',\n",
    "             'me2_rpm':'ME2 ENGINE SPEED:2364:rpm:Average:900',\n",
    "             'me3_rpm':'ME3 ENGINE SPEED:3364:rpm:Average:900',\n",
    "             'me4_rpm':'ME4 ENGINE SPEED:4364:rpm:Average:900',\n",
    "             \n",
    "             'fo_booster_13':'FO BOOST 1 CONSUMPT:6165:m3/h:Average:900',\n",
    "             'fo_booster_24':'FO BOOST 2 CONSUMPT:6166:m3/h:Average:900'}\n",
    "\n",
    "for names in var_names:\n",
    "    if var_names[names] in list(df):\n",
    "        #print(var_names[names])\n",
    "        pass\n",
    "    else:\n",
    "        print('*** VAR MISSING *** ', var_names[names], ' *** VAR MISSING ***')\n",
    "\n",
    "        \n",
    "eng_13 = [var_names['ae1_frp'],\n",
    "          var_names['ae3_frp'],\n",
    "          var_names['ae1_cac_P'],\n",
    "          var_names['ae3_cac_P'],\n",
    "          var_names['ae1_cac_ca'],\n",
    "          var_names['ae3_cac_ca'],\n",
    "          var_names['ae1_exh'],\n",
    "          var_names['ae3_exh'],\n",
    "          var_names['ae1_fo_P'],\n",
    "          var_names['ae3_fo_P'],\n",
    "          var_names['ae1_rpm'],\n",
    "          var_names['ae3_rpm'],\n",
    "          var_names['me1_frp'],\n",
    "          var_names['me3_frp'],\n",
    "          var_names['me1_ca_T'],\n",
    "          var_names['me3_ca_T'],\n",
    "          var_names['me1_cac_T'],\n",
    "          var_names['me3_cac_T'],\n",
    "          var_names['me1_exh_T'],\n",
    "          var_names['me3_exh_T'],\n",
    "          var_names['me1_rpm'],\n",
    "          var_names['me3_rpm']]\n",
    "          \n",
    "eng_24 = [var_names['ae2_frp'],\n",
    "          var_names['ae4_frp'],\n",
    "          var_names['ae2_cac_P'],\n",
    "          var_names['ae4_cac_P'],\n",
    "          var_names['ae2_cac_ca'],\n",
    "          var_names['ae4_cac_ca'],\n",
    "          var_names['ae2_exh'],\n",
    "          var_names['ae4_exh'],\n",
    "          var_names['ae2_fo_P'],\n",
    "          var_names['ae4_fo_P'],\n",
    "          var_names['ae2_rpm'],\n",
    "          var_names['ae4_rpm'],\n",
    "          var_names['me2_frp'],\n",
    "          var_names['me4_frp'],\n",
    "          var_names['me2_ca_T'],\n",
    "          var_names['me4_ca_T'],\n",
    "          var_names['me2_cac_T'],\n",
    "          var_names['me4_cac_T'],\n",
    "          var_names['me2_exh_T'],\n",
    "          var_names['me4_exh_T'],\n",
    "          var_names['me2_rpm'],\n",
    "          var_names['me4_rpm']]\n",
    "        \n",
    "\n",
    "# Create np arrays. X vals are engine inputs, y are fo flows    \n",
    "\n",
    "X_13 = np.array(df[[\n",
    "            var_names['ae1_frp'],\n",
    "            var_names['ae3_frp'],\n",
    "            var_names['me1_frp'],\n",
    "            var_names['me3_frp'],\n",
    "            var_names['ae1_rpm'],\n",
    "            var_names['ae3_rpm'],\n",
    "            var_names['me1_rpm'],\n",
    "            var_names['me3_rpm'],       \n",
    "            ]][date_begin:date_end])\n",
    "X_24 = np.array(df[[\n",
    "            var_names['ae2_frp'],\n",
    "            var_names['ae4_frp'],\n",
    "            var_names['me2_frp'],\n",
    "            var_names['me4_frp'],\n",
    "            var_names['ae2_rpm'],\n",
    "            var_names['ae4_rpm'],\n",
    "            var_names['me2_rpm'],\n",
    "            var_names['me4_rpm'],\n",
    "            ]][date_begin:date_end])\n",
    "\n",
    "#X_13 = np.array(df[eng_13][date_begin:date_end])\n",
    "#X_24 = np.array(df[eng_24][date_begin:date_end])\n",
    "\n",
    "y_13 = np.array(df[var_names['fo_booster_13']][date_begin:date_end]).reshape(-1,1)\n",
    "y_24 = np.array(df[var_names['fo_booster_24']][date_begin:date_end]).reshape(-1,1)\n"
   ]
  },
  {
   "cell_type": "code",
   "execution_count": 49,
   "metadata": {},
   "outputs": [
    {
     "name": "stderr",
     "output_type": "stream",
     "text": [
      "/anaconda/lib/python3.6/site-packages/sklearn/neural_network/multilayer_perceptron.py:1266: DataConversionWarning: A column-vector y was passed when a 1d array was expected. Please change the shape of y to (n_samples, ), for example using ravel().\n",
      "  y = column_or_1d(y, warn=True)\n"
     ]
    },
    {
     "name": "stdout",
     "output_type": "stream",
     "text": [
      "0.979470021899\n"
     ]
    }
   ],
   "source": [
    "#  modeling with sklearn auto\n",
    "\n",
    "from sklearn.model_selection import train_test_split\n",
    "from sklearn.neural_network import MLPRegressor\n",
    "\n",
    "X_train_13, X_test_13, y_train_13, y_test_13 = train_test_split(X_13, y_13, train_size=0.75, test_size=0.25)\n",
    "\n",
    "nn_13 = MLPRegressor(hidden_layer_sizes=1000,activation='logistic',max_iter=5000)\n",
    "\n",
    "nn_13.fit(X_train_13, y_train_13)\n",
    "\n",
    "print(nn_13.score(X_test_13,y_test_13))\n"
   ]
  },
  {
   "cell_type": "code",
   "execution_count": 62,
   "metadata": {},
   "outputs": [
    {
     "ename": "NameError",
     "evalue": "name 'randint' is not defined",
     "output_type": "error",
     "traceback": [
      "\u001b[0;31m---------------------------------------------------------------------------\u001b[0m",
      "\u001b[0;31mNameError\u001b[0m                                 Traceback (most recent call last)",
      "\u001b[0;32m<ipython-input-62-d9c565c851f3>\u001b[0m in \u001b[0;36m<module>\u001b[0;34m()\u001b[0m\n\u001b[0;32m----> 1\u001b[0;31m \u001b[0mrandint\u001b[0m\u001b[0;34m\u001b[0m\u001b[0m\n\u001b[0m",
      "\u001b[0;31mNameError\u001b[0m: name 'randint' is not defined"
     ]
    }
   ],
   "source": [
    "np.random.randint"
   ]
  },
  {
   "cell_type": "code",
   "execution_count": 69,
   "metadata": {},
   "outputs": [
    {
     "name": "stdout",
     "output_type": "stream",
     "text": [
      "Prediction: [ 0.38995344] Truth: [ 0.44060957] Percent: [ 88.5031713]\n",
      "Prediction: [-0.00994166] Truth: [ 0.00426667] Percent: [-233.0076947]\n",
      "Prediction: [ 0.58271242] Truth: [ 0.60053339] Percent: [ 97.03247506]\n",
      "Prediction: [ 0.38855713] Truth: [ 0.39801909] Percent: [ 97.62273781]\n",
      "Prediction: [ 0.43924144] Truth: [ 0.50156195] Percent: [ 87.57471254]\n",
      "Prediction: [ 0.8268092] Truth: [ 0.83611436] Percent: [ 98.88709449]\n",
      "Prediction: [ 0.53894741] Truth: [ 0.56060956] Percent: [ 96.13596375]\n",
      "Prediction: [ 0.70577583] Truth: [ 0.71428579] Percent: [ 98.80860572]\n",
      "Prediction: [ 0.57808325] Truth: [ 0.61196196] Percent: [ 94.46391922]\n",
      "Prediction: [ 0.60331778] Truth: [ 0.62620959] Percent: [ 96.34438491]\n",
      "MSE:  0.00277486959482\n"
     ]
    }
   ],
   "source": [
    "for i in np.random.randint(1,1000,10):\n",
    "    print('Prediction:', nn_13.predict(X_13[i].reshape(1,-1)), 'Truth:',y_13[i], 'Percent:', nn_13.predict(X_13[i].reshape(1,-1))/y_13[i] *100 )\n",
    "print('MSE: ',sklearn.metrics.mean_squared_error(nn_13.predict(X_13),y_13))"
   ]
  },
  {
   "cell_type": "code",
   "execution_count": 55,
   "metadata": {},
   "outputs": [
    {
     "name": "stderr",
     "output_type": "stream",
     "text": [
      "/anaconda/lib/python3.6/site-packages/ipykernel_launcher.py:1: DeprecationWarning: This function is deprecated. Please call randint(1, 1000 + 1) instead\n",
      "  \"\"\"Entry point for launching an IPython kernel.\n"
     ]
    },
    {
     "data": {
      "text/plain": [
       "array([ 99, 847, 333, 902, 740, 190, 656, 491, 605, 982])"
      ]
     },
     "execution_count": 55,
     "metadata": {},
     "output_type": "execute_result"
    }
   ],
   "source": [
    "np.random.random_integers(1,1000,10)"
   ]
  },
  {
   "cell_type": "code",
   "execution_count": 51,
   "metadata": {},
   "outputs": [
    {
     "data": {
      "text/plain": [
       "0.0027748695948221856"
      ]
     },
     "execution_count": 51,
     "metadata": {},
     "output_type": "execute_result"
    }
   ],
   "source": [
    "sklearn.metrics.mean_squared_error(nn_13.predict(X_13),y_13)"
   ]
  },
  {
   "cell_type": "code",
   "execution_count": 48,
   "metadata": {},
   "outputs": [
    {
     "data": {
      "text/plain": [
       "{'activation': 'tanh',\n",
       " 'alpha': 0.0001,\n",
       " 'batch_size': 'auto',\n",
       " 'beta_1': 0.9,\n",
       " 'beta_2': 0.999,\n",
       " 'early_stopping': False,\n",
       " 'epsilon': 1e-08,\n",
       " 'hidden_layer_sizes': 1000,\n",
       " 'learning_rate': 'constant',\n",
       " 'learning_rate_init': 0.001,\n",
       " 'max_iter': 5000,\n",
       " 'momentum': 0.9,\n",
       " 'nesterovs_momentum': True,\n",
       " 'power_t': 0.5,\n",
       " 'random_state': None,\n",
       " 'shuffle': True,\n",
       " 'solver': 'adam',\n",
       " 'tol': 0.0001,\n",
       " 'validation_fraction': 0.1,\n",
       " 'verbose': False,\n",
       " 'warm_start': False}"
      ]
     },
     "execution_count": 48,
     "metadata": {},
     "output_type": "execute_result"
    }
   ],
   "source": [
    "nn_13.get_params()"
   ]
  },
  {
   "cell_type": "code",
   "execution_count": 79,
   "metadata": {},
   "outputs": [
    {
     "name": "stdout",
     "output_type": "stream",
     "text": [
      "[WARNING] [2017-10-19 23:34:54,257:AutoMLSMBO(1)::70334ea298d69861120f79fd6ab7282b] Could not find meta-data directory /anaconda/lib/python3.6/site-packages/autosklearn/metalearning/files/r2_regression_dense\n"
     ]
    }
   ],
   "source": [
    "import autosklearn.regression\n",
    "from sklearn.model_selection import train_test_split\n",
    "\n",
    "X_train_13, X_test_13, y_train_13, y_test_13 = train_test_split(X_13, y_13, train_size=0.75, test_size=0.25)\n",
    "model = autosklearn.regression.AutoSklearnRegressor()\n",
    "\n",
    "model.fit(X_train_13,y_train_13)\n"
   ]
  },
  {
   "cell_type": "code",
   "execution_count": 82,
   "metadata": {},
   "outputs": [
    {
     "data": {
      "text/plain": [
       "array([ 0.3622281], dtype=float32)"
      ]
     },
     "execution_count": 82,
     "metadata": {},
     "output_type": "execute_result"
    }
   ],
   "source": [
    "model.predict(X_13[1].reshape(1,-1))"
   ]
  },
  {
   "cell_type": "code",
   "execution_count": null,
   "metadata": {},
   "outputs": [],
   "source": [
    "for i in np.random.randint(1,1000,10):\n",
    "    print('Prediction:', model.predict(X_13[i].reshape(1,-1)), 'Truth:',y_13[i], 'Percent:', model.predict(X_13[i].reshape(1,-1))/y_13[i] *100 )\n",
    "print('MSE: ',sklearn.metrics.mean_squared_error(model.predict(X_13),y_13))"
   ]
  },
  {
   "cell_type": "code",
   "execution_count": null,
   "metadata": {
    "collapsed": true
   },
   "outputs": [],
   "source": []
  }
 ],
 "metadata": {
  "kernelspec": {
   "display_name": "Python 3",
   "language": "python",
   "name": "python3"
  },
  "language_info": {
   "codemirror_mode": {
    "name": "ipython",
    "version": 3
   },
   "file_extension": ".py",
   "mimetype": "text/x-python",
   "name": "python",
   "nbconvert_exporter": "python",
   "pygments_lexer": "ipython3",
   "version": "3.6.2"
  }
 },
 "nbformat": 4,
 "nbformat_minor": 2
}
