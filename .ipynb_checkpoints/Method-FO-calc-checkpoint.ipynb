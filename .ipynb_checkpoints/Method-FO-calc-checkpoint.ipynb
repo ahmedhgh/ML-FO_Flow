{
 "cells": [
  {
   "cell_type": "markdown",
   "metadata": {},
   "source": [
    "# Birka Fuel Oil calculation using Auto-ML\n",
    "\n",
    "Fuel Oil flow calculation of the Birka-data, using different Machine Learning strategies."
   ]
  },
  {
   "cell_type": "code",
   "execution_count": 1,
   "metadata": {},
   "outputs": [
    {
     "name": "stdout",
     "output_type": "stream",
     "text": [
      "Populating the interactive namespace from numpy and matplotlib\n",
      "Loading database ...\n",
      "Time to load database: 2.5204391479492188\n"
     ]
    }
   ],
   "source": [
    "%pylab inline\n",
    "import pandas as pd\n",
    "import sklearn\n",
    "import time\n",
    "import numpy as np\n",
    "\n",
    "from sklearn.model_selection import train_test_split\n",
    "from sklearn.neural_network import MLPRegressor\n",
    "\n",
    "from tpot import TPOTRegressor\n",
    "from sklearn.model_selection import train_test_split\n",
    "\n",
    "\n",
    "# Load the database\n",
    "\n",
    "t1 = time.time()\n",
    "print('Loading database ...')\n",
    "df = pd.read_hdf('database/all_data_comp.h5','table')\n",
    "print('Time to load database:', time.time()-t1)\n"
   ]
  },
  {
   "cell_type": "markdown",
   "metadata": {},
   "source": [
    "# Feature selection FO-prediction data\n",
    "\n",
    "Choose features for the model and export these to a new DataFrame. We first need to check the quality of the data, and see if if we have any NaN. In the first set we are going to use the volumetric flow meter for each fuel line as a predictor for the training.\n",
    "\n",
    "As it is two fuel lines we create two individual models. Main engine 1,3 and Auxiliary Engine 1,3 are connected to one fuel line. 2/4 vice versa to the other one.\n",
    "\n",
    "Lets start by using as few predictors as possible to speed up the model.\n",
    "\n"
   ]
  },
  {
   "cell_type": "code",
   "execution_count": 10,
   "metadata": {},
   "outputs": [],
   "source": [
    "# Features and target for Eng 1/3\n",
    "\n",
    "labels_1_3 = ['AE1 FUEL RACK POSIT:1742:mm:Average:900',\n",
    "                'AE3 FUEL RACK POSIT:3742:mm:Average:900',\n",
    "                'AE1 ENG SPEED:1745:RPM:Average:900',\n",
    "                'AE3 ENG SPEED:3745:RPM:Average:900',\n",
    "                'ME1 FUEL RACK POSIT:10005:%:Average:900',\n",
    "                'ME3 FUEL RACK POSIT:30005:%:Average:900',\n",
    "                'ME1 ENGINE SPEED:1364:rpm:Average:900',\n",
    "                'ME3 ENGINE SPEED:3364:rpm:Average:900',\n",
    "                'FO BOOST 1 CONSUMPT:6165:m3/h:Average:900']\n",
    "\n",
    "# Features and target for Eng 2/4\n",
    "\n",
    "labels_2_4 = ['AE2 FUEL RACK POSIT:2742:mm:Average:900',\n",
    "                'AE4 FUEL RACK POSIT:4742:mm:Average:900',\n",
    "                'AE2 ENG SPEED:2745:RPM:Average:900',\n",
    "                'AE4 ENG SPEED:4745:RPM:Average:900',\n",
    "                'ME2 FUEL RACK POSIT:20005:%:Average:900',\n",
    "                'ME4 FUEL RACK POSIT:40005:%:Average:900',\n",
    "                'ME2 ENGINE SPEED:2364:rpm:Average:900',\n",
    "                'ME4 ENGINE SPEED:4364:rpm:Average:900',\n",
    "             'FO BOOST 2 CONSUMPT:6166:m3/h:Average:900']\n",
    "\n",
    "\n",
    "# Drop Nan from the DataFrame.\n",
    "\n",
    "df_1_3 = df[labels_1_3].dropna()\n",
    "df_2_4 = df[labels_2_4].dropna()\n",
    "\n"
   ]
  },
  {
   "cell_type": "markdown",
   "metadata": {},
   "source": [
    "# Selecting features for volume flow meters and mass flow meters\n",
    "\n",
    "The volume flow meters, which are installed for each engine side needs to be calibrated or trained, against the\n",
    "mass flow meters. The mass flow meters are only updated once each day, and therefore we need to create a new\n",
    "training set which has the sum of each days FO-flow.\n",
    "\n",
    "The fuel oil can change in properties, both density and lower heating value depending on how the supplier and last bunkered date. This is information we do not have, so we have to see if we can find other indicators for this."
   ]
  },
  {
   "cell_type": "code",
   "execution_count": null,
   "metadata": {
    "collapsed": true
   },
   "outputs": [],
   "source": []
  },
  {
   "cell_type": "code",
   "execution_count": null,
   "metadata": {
    "collapsed": true
   },
   "outputs": [],
   "source": []
  },
  {
   "cell_type": "code",
   "execution_count": null,
   "metadata": {
    "collapsed": true
   },
   "outputs": [],
   "source": []
  },
  {
   "cell_type": "markdown",
   "metadata": {},
   "source": [
    "# Feature selection "
   ]
  },
  {
   "cell_type": "code",
   "execution_count": null,
   "metadata": {
    "collapsed": true
   },
   "outputs": [],
   "source": [
    "fo_1_3_total = df['FO_day_engine_1_3'].dropna()\n",
    "fo_2_4_total = df['FO_day_engine_2_4'].dropna()\n",
    "\n",
    "\n",
    "date_begin = '2014-02-01'\n",
    "date_end = '2014-12-16'\n",
    "\n",
    "# this gives the total in tonnes for each day.\n",
    "\n",
    "# The dataset is not complete overlapping in time with data from both the mass-flow meters and the\n",
    "# the rest of the data. So we have to manually filter out the time interval which we are interested in.\n"
   ]
  }
 ],
 "metadata": {
  "kernelspec": {
   "display_name": "Python 3",
   "language": "python",
   "name": "python3"
  },
  "language_info": {
   "codemirror_mode": {
    "name": "ipython",
    "version": 3
   },
   "file_extension": ".py",
   "mimetype": "text/x-python",
   "name": "python",
   "nbconvert_exporter": "python",
   "pygments_lexer": "ipython3",
   "version": "3.6.2"
  }
 },
 "nbformat": 4,
 "nbformat_minor": 2
}
