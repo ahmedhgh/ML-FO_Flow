{
 "cells": [
  {
   "cell_type": "code",
   "execution_count": 1,
   "metadata": {},
   "outputs": [
    {
     "name": "stdout",
     "output_type": "stream",
     "text": [
      "Loading database ...\n",
      "Time to load database: 4.392061233520508\n"
     ]
    }
   ],
   "source": [
    "import pandas as pd\n",
    "import torch\n",
    "import sklearn\n",
    "from sklearn import preprocessing\n",
    "import time\n",
    "import numpy as np\n",
    "\n",
    "# Load the database, shouldn't take that long. This is all data!\n",
    "\n",
    "t1 = time.time()\n",
    "print('Loading database ...')\n",
    "df = pd.read_hdf('database/all_data_comp.h5','table')\n",
    "print('Time to load database:', time.time()-t1)\n"
   ]
  },
  {
   "cell_type": "code",
   "execution_count": 11,
   "metadata": {},
   "outputs": [],
   "source": [
    "fo_1_3_total = df['FO_day_engine_1_3'].dropna()\n",
    "fo_2_4_total = df['FO_day_engine_2_4'].dropna()\n",
    "\n",
    "# this gives the total in tonnes for each day.\n",
    "\n",
    "# The dataset is not complete overlapping in time with data from both the mass-flow meters and the\n",
    "# the rest of the data. So we have to manually filter out the time interval which we are interested in.\n",
    "\n",
    "date_begin = '2014-02-01'\n",
    "date_end = '2014-12-16'\n",
    "\n",
    "# Dict of var names we want to use.\n",
    "\n",
    "\n",
    "var_names = {'ae1_frp':'AE1 FUEL RACK POSIT:1742:mm:Average:900',\n",
    "             'ae2_frp':'AE2 FUEL RACK POSIT:2742:mm:Average:900',\n",
    "             'ae3_frp':'AE3 FUEL RACK POSIT:3742:mm:Average:900',\n",
    "             'ae4_frp':'AE4 FUEL RACK POSIT:4742:mm:Average:900',\n",
    "             \n",
    "             'ae1_cac_P':'AE1 CA OTL CAC PRESS:1649:Bar:Average:900',\n",
    "             'ae2_cac_P':'AE2 CA OTL CAC PRESS:2649:Bar:Average:900',\n",
    "             'ae3_cac_P':'AE3 CA OTL CAC PRESS:3649:Bar:Average:900',\n",
    "             'ae4_cac_P':'AE4 CA OTL CAC PRESS:4649:Bar:Average:900',\n",
    "             \n",
    "             'ae1_cac_ca':'AE1 EXH CA OUTET 1:1543:  C:Average:900',\n",
    "             'ae2_cac_ca':'AE2 EXH CA OUTET 1:2543:  C:Average:900',\n",
    "             'ae3_cac_ca':'AE3 EXH CA OUTET 1:3543:  C:Average:900',\n",
    "             'ae4_cac_ca':'AE4 EXH CA OUTET 1:4543:  C:Average:900',\n",
    "             \n",
    "             'ae1_exh':'AE1 EXH MEAN VALUE:1591:  C:Average:900',\n",
    "             'ae2_exh':'AE2 EXH MEAN VALUE:2591:  C:Average:900',\n",
    "             'ae3_exh':'AE3 EXH MEAN VALUE:3591:  C:Average:900',\n",
    "             'ae4_exh':'AE4 EXH MEAN VALUE:4591:  C:Average:900',\n",
    "             \n",
    "             'ae1_fo_P':'AE1 FO INLET PRESS:1603:Bar:Average:900',\n",
    "             'ae2_fo_P':'AE2 FO INLET PRESS:2603:Bar:Average:900',\n",
    "             'ae3_fo_P':'AE3 FO INLET PRESS:3603:Bar:Average:900',\n",
    "             'ae4_fo_P':'AE4 FO INLET PRESS:4603:Bar:Average:900',\n",
    "             \n",
    "             'ae1_rpm':'AE1 ENG SPEED:1745:RPM:Average:900',\n",
    "             'ae2_rpm':'AE2 ENG SPEED:2745:RPM:Average:900',\n",
    "             'ae3_rpm':'AE3 ENG SPEED:3745:RPM:Average:900',\n",
    "             'ae4_rpm':'AE4 ENG SPEED:4745:RPM:Average:900',\n",
    "             \n",
    "             'me1_frp':'ME1 FUEL RACK POSIT:10005:%:Average:900',\n",
    "             'me2_frp':'ME2 FUEL RACK POSIT:20005:%:Average:900',\n",
    "             'me3_frp':'ME3 FUEL RACK POSIT:30005:%:Average:900',\n",
    "             'me4_frp':'ME4 FUEL RACK POSIT:40005:%:Average:900',\n",
    "             \n",
    "             'me1_ca_T':'ME1 CA TEMP COOL OUT:1343:C:Average:900',\n",
    "             'me2_ca_T':'ME2 CA TEMP COOL OUT:2343:C:Average:900',\n",
    "             'me3_ca_T':'ME3 CA TEMP COOL OUT:3343:C:Average:900',\n",
    "             'me4_ca_T':'ME4 CA TEMP COOL OUT:4343:C:Average:900',\n",
    "             \n",
    "             'me1_cac_T':'ME1 CHARGE AIR TEMP:1347:C:Average:900',\n",
    "             'me2_cac_T':'ME2 CHARGE AIR TEMP:2347:C:Average:900',\n",
    "             'me3_cac_T':'ME3 CHARGE AIR TEMP:3347:C:Average:900',\n",
    "             'me4_cac_T':'ME4 CHARGE AIR TEMP:4347:C:Average:900',\n",
    "             \n",
    "             'me1_exh_T':'ME1 EXH GAS MEAN:1125:C:Average:900',\n",
    "             'me2_exh_T':'ME2 EXH GAS MEAN:2125:C:Average:900',\n",
    "             'me3_exh_T':'ME3 EXH GAS MEAN:3125:C:Average:900',\n",
    "             'me4_exh_T':'ME4 EXH GAS MEAN:4125:C:Average:900',\n",
    "             \n",
    "             'me1_rpm':'ME1 ENGINE SPEED:1364:rpm:Average:900',\n",
    "             'me2_rpm':'ME2 ENGINE SPEED:2364:rpm:Average:900',\n",
    "             'me3_rpm':'ME3 ENGINE SPEED:3364:rpm:Average:900',\n",
    "             'me4_rpm':'ME4 ENGINE SPEED:4364:rpm:Average:900',\n",
    "             \n",
    "             'fo_booster_13':'FO BOOST 1 CONSUMPT:6165:m3/h:Average:900',\n",
    "             'fo_booster_24':'FO BOOST 2 CONSUMPT:6166:m3/h:Average:900'}\n",
    "\n",
    "for names in var_names:\n",
    "    if var_names[names] in list(df):\n",
    "        #print(var_names[names])\n",
    "        pass\n",
    "    else:\n",
    "        print('*** VAR MISSING *** ', var_names[names], ' *** VAR MISSING ***')\n",
    "\n",
    "        \n",
    "eng_13 = [var_names['ae1_frp'],\n",
    "          var_names['ae3_frp'],\n",
    "          var_names['ae1_cac_P'],\n",
    "          var_names['ae3_cac_P'],\n",
    "          var_names['ae1_cac_ca'],\n",
    "          var_names['ae3_cac_ca'],\n",
    "          var_names['ae1_exh'],\n",
    "          var_names['ae3_exh'],\n",
    "          var_names['ae1_fo_P'],\n",
    "          var_names['ae3_fo_P'],\n",
    "          var_names['ae1_rpm'],\n",
    "          var_names['ae3_rpm'],\n",
    "          var_names['me1_frp'],\n",
    "          var_names['me3_frp'],\n",
    "          var_names['me1_ca_T'],\n",
    "          var_names['me3_ca_T'],\n",
    "          var_names['me1_cac_T'],\n",
    "          var_names['me3_cac_T'],\n",
    "          var_names['me1_exh_T'],\n",
    "          var_names['me3_exh_T'],\n",
    "          var_names['me1_rpm'],\n",
    "          var_names['me3_rpm']]\n",
    "          \n",
    "eng_24 = [var_names['ae2_frp'],\n",
    "          var_names['ae4_frp'],\n",
    "          var_names['ae2_cac_P'],\n",
    "          var_names['ae4_cac_P'],\n",
    "          var_names['ae2_cac_ca'],\n",
    "          var_names['ae4_cac_ca'],\n",
    "          var_names['ae2_exh'],\n",
    "          var_names['ae4_exh'],\n",
    "          var_names['ae2_fo_P'],\n",
    "          var_names['ae4_fo_P'],\n",
    "          var_names['ae2_rpm'],\n",
    "          var_names['ae4_rpm'],\n",
    "          var_names['me2_frp'],\n",
    "          var_names['me4_frp'],\n",
    "          var_names['me2_ca_T'],\n",
    "          var_names['me4_ca_T'],\n",
    "          var_names['me2_cac_T'],\n",
    "          var_names['me4_cac_T'],\n",
    "          var_names['me2_exh_T'],\n",
    "          var_names['me4_exh_T'],\n",
    "          var_names['me2_rpm'],\n",
    "          var_names['me4_rpm']]\n",
    "        \n",
    "\n",
    "# Create np arrays. X vals are engine inputs, y are fo flows    \n",
    "# For the first tries I am only using the variables below...\n",
    "\n",
    "X_13 = np.array(df[[\n",
    "            var_names['ae1_frp'],\n",
    "            var_names['ae3_frp'],\n",
    "            var_names['me1_frp'],\n",
    "            var_names['me3_frp'],\n",
    "            var_names['ae1_rpm'],\n",
    "            var_names['ae3_rpm'],\n",
    "            var_names['me1_rpm'],\n",
    "            var_names['me3_rpm'],       \n",
    "            ]][date_begin:date_end])\n",
    "X_24 = np.array(df[[\n",
    "            var_names['ae2_frp'],\n",
    "            var_names['ae4_frp'],\n",
    "            var_names['me2_frp'],\n",
    "            var_names['me4_frp'],\n",
    "            var_names['ae2_rpm'],\n",
    "            var_names['ae4_rpm'],\n",
    "            var_names['me2_rpm'],\n",
    "            var_names['me4_rpm'],\n",
    "            ]][date_begin:date_end])\n",
    "\n",
    "#X_13 = np.array(df[eng_13][date_begin:date_end])\n",
    "#X_24 = np.array(df[eng_24][date_begin:date_end])\n",
    "\n",
    "y_13 = np.array(df[var_names['fo_booster_13']][date_begin:date_end]).reshape(-1,1)\n",
    "y_24 = np.array(df[var_names['fo_booster_24']][date_begin:date_end]).reshape(-1,1)\n"
   ]
  },
  {
   "cell_type": "code",
   "execution_count": 12,
   "metadata": {},
   "outputs": [
    {
     "name": "stderr",
     "output_type": "stream",
     "text": [
      "/anaconda/lib/python3.6/site-packages/sklearn/utils/validation.py:526: DataConversionWarning: A column-vector y was passed when a 1d array was expected. Please change the shape of y to (n_samples, ), for example using ravel().\n",
      "  y = column_or_1d(y, warn=True)\n",
      "Optimization Progress:  50%|█████     | 100/200 [08:21<19:44, 11.85s/pipeline]"
     ]
    },
    {
     "name": "stdout",
     "output_type": "stream",
     "text": [
      "Generation 1 - Current best internal CV score: 0.001246231618836063\n"
     ]
    },
    {
     "name": "stderr",
     "output_type": "stream",
     "text": [
      "Optimization Progress:  75%|███████▌  | 150/200 [21:15<14:28, 17.37s/pipeline]  "
     ]
    },
    {
     "name": "stdout",
     "output_type": "stream",
     "text": [
      "Generation 2 - Current best internal CV score: 0.0010530140427884927\n"
     ]
    },
    {
     "name": "stderr",
     "output_type": "stream",
     "text": [
      "                                                                              \r"
     ]
    },
    {
     "name": "stdout",
     "output_type": "stream",
     "text": [
      "Generation 3 - Current best internal CV score: 0.0010530140427884927\n",
      "\n",
      "Best pipeline: ExtraTreesRegressor(input_matrix, bootstrap=False, max_features=0.95, min_samples_leaf=1, min_samples_split=6, n_estimators=100)\n",
      "0.000912624265516\n"
     ]
    }
   ],
   "source": [
    "#  modeling with tpot\n",
    "\n",
    "from tpot import TPOTRegressor\n",
    "from sklearn.model_selection import train_test_split\n",
    "\n",
    "# Number of generations, should be boosted if we want better results. 3 gens take ~ 30min on my macbook...\n",
    "gen = 3\n",
    "\n",
    "X_train_13, X_test_13, y_train_13, y_test_13 = train_test_split(X_13, y_13, train_size=0.75, test_size=0.25)\n",
    "tpot = TPOTRegressor(generations=gen, population_size=50, verbosity=2)\n",
    "tpot.fit(X_train_13, y_train_13)\n",
    "\n",
    "print(tpot.score(X_test_13,y_test_13))\n"
   ]
  },
  {
   "cell_type": "code",
   "execution_count": 13,
   "metadata": {},
   "outputs": [
    {
     "name": "stdout",
     "output_type": "stream",
     "text": [
      "[ 0.40552998]\n",
      "[ 0.4179048]\n"
     ]
    }
   ],
   "source": [
    "\n",
    "# Lets just make a quick prediction..\n",
    "\n",
    "print(tpot.predict(X_13[3].reshape(1,-1)))\n",
    "print(y_13[5])\n",
    "\n",
    "# Export the model\n",
    "tpot.export('eng13.py')\n",
    "\n",
    "# This is how to import the model into another code:\n",
    "# exec(open('eng13.py').read(), globals())"
   ]
  },
  {
   "cell_type": "code",
   "execution_count": 24,
   "metadata": {},
   "outputs": [
    {
     "data": {
      "text/plain": [
       "array([ 99.96609338])"
      ]
     },
     "execution_count": 24,
     "metadata": {},
     "output_type": "execute_result"
    }
   ],
   "source": [
    "100-sklearn.metrics.mean_squared_error(tpot.predict(X_test_13),y_test_13)/(max(y_test_13)-min(y_test_13))*100"
   ]
  },
  {
   "cell_type": "code",
   "execution_count": 19,
   "metadata": {},
   "outputs": [
    {
     "name": "stdout",
     "output_type": "stream",
     "text": [
      "[ 0.40552998]\n",
      "[ 0.4179048]\n"
     ]
    }
   ],
   "source": [
    "print(tpot.predict(X_13[5].reshape(1,-1)))\n",
    "print(y_13[5])"
   ]
  },
  {
   "cell_type": "code",
   "execution_count": 26,
   "metadata": {},
   "outputs": [
    {
     "name": "stdout",
     "output_type": "stream",
     "text": [
      "Model eng1/3 with TPOT MSE: 0.000912624265516\n",
      "Model eng1/3 with TPOT MSE percent accuracy: [ 99.98512634]\n"
     ]
    }
   ],
   "source": [
    "MSE = sklearn.metrics.mean_squared_error(tpot.predict(X_test_13), y_test_13)\n",
    "print('Model eng1/3 with TPOT MSE:', MSE)\n",
    "\n",
    "MSE_perc = 100-sklearn.metrics.mean_squared_error(tpot.predict(X_13),y_13)/(max(y_13)-min(y_13))*100\n",
    "print('Model eng1/3 with TPOT MSE percent accuracy:', MSE_perc)"
   ]
  },
  {
   "cell_type": "code",
   "execution_count": 30,
   "metadata": {},
   "outputs": [
    {
     "name": "stderr",
     "output_type": "stream",
     "text": [
      "/anaconda/lib/python3.6/site-packages/sklearn/utils/validation.py:526: DataConversionWarning: A column-vector y was passed when a 1d array was expected. Please change the shape of y to (n_samples, ), for example using ravel().\n",
      "  y = column_or_1d(y, warn=True)\n",
      "Optimization Progress:  50%|█████     | 100/200 [10:15<07:12,  4.33s/pipeline] "
     ]
    },
    {
     "name": "stdout",
     "output_type": "stream",
     "text": [
      "Generation 1 - Current best internal CV score: 0.0010504567993377197\n"
     ]
    },
    {
     "name": "stderr",
     "output_type": "stream",
     "text": [
      "Optimization Progress:  75%|███████▌  | 150/200 [15:51<07:06,  8.52s/pipeline]"
     ]
    },
    {
     "name": "stdout",
     "output_type": "stream",
     "text": [
      "Generation 2 - Current best internal CV score: 0.0010504567993377197\n"
     ]
    },
    {
     "name": "stderr",
     "output_type": "stream",
     "text": [
      "                                                                                \r"
     ]
    },
    {
     "name": "stdout",
     "output_type": "stream",
     "text": [
      "Generation 3 - Current best internal CV score: 0.0010504567993377197\n",
      "\n",
      "Best pipeline: XGBRegressor(LassoLarsCV(input_matrix, normalize=False), learning_rate=0.1, max_depth=8, min_child_weight=2, n_estimators=100, nthread=1, subsample=0.45)\n",
      "0.00105974029125\n"
     ]
    }
   ],
   "source": [
    "#  The other engine pair.\n",
    "\n",
    "# Number of generations, should be boosted if we want better results. 3 gens take ~ 30min on my macbook...\n",
    "gen = 3\n",
    "\n",
    "X_train_24, X_test_24, y_train_24, y_test_24 = train_test_split(X_13, y_13, train_size=0.75, test_size=0.25)\n",
    "tpot_24 = TPOTRegressor(generations=gen, population_size=50, verbosity=2)\n",
    "tpot_24.fit(X_train_24, y_train_24)\n",
    "\n",
    "print(tpot_24.score(X_test_24,y_test_24))\n"
   ]
  },
  {
   "cell_type": "code",
   "execution_count": 36,
   "metadata": {},
   "outputs": [
    {
     "data": {
      "text/plain": [
       "True"
      ]
     },
     "execution_count": 36,
     "metadata": {},
     "output_type": "execute_result"
    }
   ],
   "source": [
    "# Export the model\n",
    "\n",
    "tpot_24.export('eng24.py')\n"
   ]
  },
  {
   "cell_type": "code",
   "execution_count": 35,
   "metadata": {},
   "outputs": [
    {
     "name": "stdout",
     "output_type": "stream",
     "text": [
      "Model eng1/3 with TPOT MSE: 0.000912624265516\n",
      "Model eng1/3 with TPOT MSE percent accuracy: [ 99.98512634]\n",
      "Model eng2/4 with TPOT MSE: 0.00042016566897\n",
      "Model eng2/4 with TPOT MSE percent accuracy: [ 99.19915618]\n"
     ]
    }
   ],
   "source": [
    "\n",
    "MSE_13 = sklearn.metrics.mean_squared_error(tpot.predict(X_test_13), y_test_13)\n",
    "print('Model eng1/3 with TPOT MSE:', MSE_13)\n",
    "\n",
    "MSE_13_perc = 100-sklearn.metrics.mean_squared_error(tpot.predict(X_13),y_13)/(max(y_13)-min(y_13))*100\n",
    "print('Model eng1/3 with TPOT MSE percent accuracy:', MSE_13_perc)\n",
    "\n",
    "MSE_24 = sklearn.metrics.mean_squared_error(tpot.predict(X_test_24), y_test_24)\n",
    "print('Model eng2/4 with TPOT MSE:', MSE_24)\n",
    "\n",
    "MSE_24_perc = 100-sklearn.metrics.mean_squared_error(tpot.predict(X_24),y_24)/(max(y_24)-min(y_24))*100\n",
    "print('Model eng2/4 with TPOT MSE percent accuracy:', MSE_24_perc)\n"
   ]
  },
  {
   "cell_type": "code",
   "execution_count": null,
   "metadata": {
    "collapsed": true
   },
   "outputs": [],
   "source": []
  }
 ],
 "metadata": {
  "kernelspec": {
   "display_name": "Python 3",
   "language": "python",
   "name": "python3"
  },
  "language_info": {
   "codemirror_mode": {
    "name": "ipython",
    "version": 3
   },
   "file_extension": ".py",
   "mimetype": "text/x-python",
   "name": "python",
   "nbconvert_exporter": "python",
   "pygments_lexer": "ipython3",
   "version": "3.6.2"
  }
 },
 "nbformat": 4,
 "nbformat_minor": 2
}
