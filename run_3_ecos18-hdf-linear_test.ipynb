{
 "cells": [
  {
   "cell_type": "code",
   "execution_count": 1,
   "metadata": {},
   "outputs": [
    {
     "name": "stdout",
     "output_type": "stream",
     "text": [
      "Loading database ...\n",
      "Time to load database: 2.8837778568267822\n",
      "['rpm']\n",
      "['frp']\n",
      "['exh_T']\n",
      "['TC_rpm']\n",
      "['rpm', 'frp']\n",
      "['rpm', 'exh_T']\n",
      "['rpm', 'TC_rpm']\n",
      "['frp', 'exh_T']\n",
      "['frp', 'TC_rpm']\n",
      "['exh_T', 'TC_rpm']\n",
      "['rpm', 'frp', 'exh_T']\n",
      "['rpm', 'frp', 'TC_rpm']\n",
      "['rpm', 'exh_T', 'TC_rpm']\n",
      "['frp', 'exh_T', 'TC_rpm']\n",
      "['rpm', 'frp', 'exh_T', 'TC_rpm']\n",
      "\n",
      "Number of combinations: 15\n"
     ]
    }
   ],
   "source": [
    "import pandas as pd\n",
    "import sklearn as sk\n",
    "import time\n",
    "import numpy as np\n",
    "from tpot import TPOTRegressor\n",
    "from sklearn.model_selection import train_test_split\n",
    "from sklearn.externals import joblib\n",
    "import matplotlib.pyplot as plt\n",
    "#%pylab inline\n",
    "#%%\n",
    "\n",
    "t1 = time.time()\n",
    "print('Loading database ...')\n",
    "df = pd.read_hdf('database/all_data_comp.h5','table')\n",
    "print('Time to load database:', time.time()-t1)\n",
    "#%%\n",
    "\n",
    "# Variable names.\n",
    "import var_names\n",
    "d = var_names.d\n",
    "\n",
    "# Check number of combinations, just to be sure.\n",
    "\n",
    "\n",
    "features =  ['rpm',\n",
    "             'frp',\n",
    "             'exh_T',\n",
    "             'TC_rpm']\n",
    "\n",
    "\n",
    "import itertools\n",
    "\n",
    "def list_of_combs(arr):\n",
    "    \"\"\"returns a list of all subsets of a list\"\"\"\n",
    "    \n",
    "    combs = []\n",
    "    for i in range(1, len(arr)+1):\n",
    "        listing = [list(x) for x in itertools.combinations(arr, i)]\n",
    "        combs.extend(listing)\n",
    "    return combs\n",
    "\n",
    "# Not used, does not produce a good list..\n",
    "#\n",
    "#for l in range(1, len(features)+1):\n",
    "#    for subset in itertools.combinations(features, l):\n",
    "#        print(subset)\n",
    "#        \n",
    "#comb = list()\n",
    "#\n",
    "#for i in range(0,len(features)):\n",
    "#    for a in itertools.combinations(features,i+1):\n",
    "#        comb.append(a)\n",
    "\n",
    "combinations = list_of_combs(features)\n",
    "for i in range(len(combinations)):\n",
    "    print(combinations[i])\n",
    "\n",
    "print('\\nNumber of combinations:',len(combinations))\n"
   ]
  },
  {
   "cell_type": "code",
   "execution_count": 2,
   "metadata": {},
   "outputs": [
    {
     "name": "stdout",
     "output_type": "stream",
     "text": [
      "Test: 1 ae1_rpm\n",
      "Test: 1 ae3_rpm\n",
      "Test: 1 me1_rpm\n",
      "Test: 1 me3_rpm\n",
      "Test: 2 ae1_frp\n",
      "Test: 2 ae3_frp\n",
      "Test: 2 me1_frp\n",
      "Test: 2 me3_frp\n",
      "Test: 3 ae1_exh_T\n",
      "Test: 3 ae3_exh_T\n",
      "Test: 3 me1_exh_T\n",
      "Test: 3 me3_exh_T\n",
      "Test: 4 ae1_TC_rpm\n",
      "Test: 4 ae3_TC_rpm\n",
      "Test: 4 me1_TC_rpm\n",
      "Test: 4 me3_TC_rpm\n",
      "Test: 5 ae1_rpm\n",
      "Test: 5 ae3_rpm\n",
      "Test: 5 me1_rpm\n",
      "Test: 5 me3_rpm\n",
      "Test: 5 ae1_frp\n",
      "Test: 5 ae3_frp\n",
      "Test: 5 me1_frp\n",
      "Test: 5 me3_frp\n",
      "Test: 6 ae1_rpm\n",
      "Test: 6 ae3_rpm\n",
      "Test: 6 me1_rpm\n",
      "Test: 6 me3_rpm\n",
      "Test: 6 ae1_exh_T\n",
      "Test: 6 ae3_exh_T\n",
      "Test: 6 me1_exh_T\n",
      "Test: 6 me3_exh_T\n",
      "Test: 7 ae1_rpm\n",
      "Test: 7 ae3_rpm\n",
      "Test: 7 me1_rpm\n",
      "Test: 7 me3_rpm\n",
      "Test: 7 ae1_TC_rpm\n",
      "Test: 7 ae3_TC_rpm\n",
      "Test: 7 me1_TC_rpm\n",
      "Test: 7 me3_TC_rpm\n",
      "Test: 8 ae1_frp\n",
      "Test: 8 ae3_frp\n",
      "Test: 8 me1_frp\n",
      "Test: 8 me3_frp\n",
      "Test: 8 ae1_exh_T\n",
      "Test: 8 ae3_exh_T\n",
      "Test: 8 me1_exh_T\n",
      "Test: 8 me3_exh_T\n",
      "Test: 9 ae1_frp\n",
      "Test: 9 ae3_frp\n",
      "Test: 9 me1_frp\n",
      "Test: 9 me3_frp\n",
      "Test: 9 ae1_TC_rpm\n",
      "Test: 9 ae3_TC_rpm\n",
      "Test: 9 me1_TC_rpm\n",
      "Test: 9 me3_TC_rpm\n",
      "Test: 10 ae1_exh_T\n",
      "Test: 10 ae3_exh_T\n",
      "Test: 10 me1_exh_T\n",
      "Test: 10 me3_exh_T\n",
      "Test: 10 ae1_TC_rpm\n",
      "Test: 10 ae3_TC_rpm\n",
      "Test: 10 me1_TC_rpm\n",
      "Test: 10 me3_TC_rpm\n",
      "Test: 11 ae1_rpm\n",
      "Test: 11 ae3_rpm\n",
      "Test: 11 me1_rpm\n",
      "Test: 11 me3_rpm\n",
      "Test: 11 ae1_frp\n",
      "Test: 11 ae3_frp\n",
      "Test: 11 me1_frp\n",
      "Test: 11 me3_frp\n",
      "Test: 11 ae1_exh_T\n",
      "Test: 11 ae3_exh_T\n",
      "Test: 11 me1_exh_T\n",
      "Test: 11 me3_exh_T\n",
      "Test: 12 ae1_rpm\n",
      "Test: 12 ae3_rpm\n",
      "Test: 12 me1_rpm\n",
      "Test: 12 me3_rpm\n",
      "Test: 12 ae1_frp\n",
      "Test: 12 ae3_frp\n",
      "Test: 12 me1_frp\n",
      "Test: 12 me3_frp\n",
      "Test: 12 ae1_TC_rpm\n",
      "Test: 12 ae3_TC_rpm\n",
      "Test: 12 me1_TC_rpm\n",
      "Test: 12 me3_TC_rpm\n",
      "Test: 13 ae1_rpm\n",
      "Test: 13 ae3_rpm\n",
      "Test: 13 me1_rpm\n",
      "Test: 13 me3_rpm\n",
      "Test: 13 ae1_exh_T\n",
      "Test: 13 ae3_exh_T\n",
      "Test: 13 me1_exh_T\n",
      "Test: 13 me3_exh_T\n",
      "Test: 13 ae1_TC_rpm\n",
      "Test: 13 ae3_TC_rpm\n",
      "Test: 13 me1_TC_rpm\n",
      "Test: 13 me3_TC_rpm\n",
      "Test: 14 ae1_frp\n",
      "Test: 14 ae3_frp\n",
      "Test: 14 me1_frp\n",
      "Test: 14 me3_frp\n",
      "Test: 14 ae1_exh_T\n",
      "Test: 14 ae3_exh_T\n",
      "Test: 14 me1_exh_T\n",
      "Test: 14 me3_exh_T\n",
      "Test: 14 ae1_TC_rpm\n",
      "Test: 14 ae3_TC_rpm\n",
      "Test: 14 me1_TC_rpm\n",
      "Test: 14 me3_TC_rpm\n",
      "Test: 15 ae1_rpm\n",
      "Test: 15 ae3_rpm\n",
      "Test: 15 me1_rpm\n",
      "Test: 15 me3_rpm\n",
      "Test: 15 ae1_frp\n",
      "Test: 15 ae3_frp\n",
      "Test: 15 me1_frp\n",
      "Test: 15 me3_frp\n",
      "Test: 15 ae1_exh_T\n",
      "Test: 15 ae3_exh_T\n",
      "Test: 15 me1_exh_T\n",
      "Test: 15 me3_exh_T\n",
      "Test: 15 ae1_TC_rpm\n",
      "Test: 15 ae3_TC_rpm\n",
      "Test: 15 me1_TC_rpm\n",
      "Test: 15 me3_TC_rpm\n",
      "Test: 16 ae2_rpm\n",
      "Test: 16 ae4_rpm\n",
      "Test: 16 me2_rpm\n",
      "Test: 16 me4_rpm\n",
      "Test: 17 ae2_frp\n",
      "Test: 17 ae4_frp\n",
      "Test: 17 me2_frp\n",
      "Test: 17 me4_frp\n",
      "Test: 18 ae2_exh_T\n",
      "Test: 18 ae4_exh_T\n",
      "Test: 18 me2_exh_T\n",
      "Test: 18 me4_exh_T\n",
      "Test: 19 ae2_TC_rpm\n",
      "Test: 19 ae4_TC_rpm\n",
      "Test: 19 me2_TC_rpm\n",
      "Test: 19 me4_TC_rpm\n",
      "Test: 20 ae2_rpm\n",
      "Test: 20 ae4_rpm\n",
      "Test: 20 me2_rpm\n",
      "Test: 20 me4_rpm\n",
      "Test: 20 ae2_frp\n",
      "Test: 20 ae4_frp\n",
      "Test: 20 me2_frp\n",
      "Test: 20 me4_frp\n",
      "Test: 21 ae2_rpm\n",
      "Test: 21 ae4_rpm\n",
      "Test: 21 me2_rpm\n",
      "Test: 21 me4_rpm\n",
      "Test: 21 ae2_exh_T\n",
      "Test: 21 ae4_exh_T\n",
      "Test: 21 me2_exh_T\n",
      "Test: 21 me4_exh_T\n",
      "Test: 22 ae2_rpm\n",
      "Test: 22 ae4_rpm\n",
      "Test: 22 me2_rpm\n",
      "Test: 22 me4_rpm\n",
      "Test: 22 ae2_TC_rpm\n",
      "Test: 22 ae4_TC_rpm\n",
      "Test: 22 me2_TC_rpm\n",
      "Test: 22 me4_TC_rpm\n",
      "Test: 23 ae2_frp\n",
      "Test: 23 ae4_frp\n",
      "Test: 23 me2_frp\n",
      "Test: 23 me4_frp\n",
      "Test: 23 ae2_exh_T\n",
      "Test: 23 ae4_exh_T\n",
      "Test: 23 me2_exh_T\n",
      "Test: 23 me4_exh_T\n",
      "Test: 24 ae2_frp\n",
      "Test: 24 ae4_frp\n",
      "Test: 24 me2_frp\n",
      "Test: 24 me4_frp\n",
      "Test: 24 ae2_TC_rpm\n",
      "Test: 24 ae4_TC_rpm\n",
      "Test: 24 me2_TC_rpm\n",
      "Test: 24 me4_TC_rpm\n",
      "Test: 25 ae2_exh_T\n",
      "Test: 25 ae4_exh_T\n",
      "Test: 25 me2_exh_T\n",
      "Test: 25 me4_exh_T\n",
      "Test: 25 ae2_TC_rpm\n",
      "Test: 25 ae4_TC_rpm\n",
      "Test: 25 me2_TC_rpm\n",
      "Test: 25 me4_TC_rpm\n",
      "Test: 26 ae2_rpm\n",
      "Test: 26 ae4_rpm\n",
      "Test: 26 me2_rpm\n",
      "Test: 26 me4_rpm\n",
      "Test: 26 ae2_frp\n",
      "Test: 26 ae4_frp\n",
      "Test: 26 me2_frp\n",
      "Test: 26 me4_frp\n",
      "Test: 26 ae2_exh_T\n",
      "Test: 26 ae4_exh_T\n",
      "Test: 26 me2_exh_T\n",
      "Test: 26 me4_exh_T\n",
      "Test: 27 ae2_rpm\n",
      "Test: 27 ae4_rpm\n",
      "Test: 27 me2_rpm\n",
      "Test: 27 me4_rpm\n",
      "Test: 27 ae2_frp\n",
      "Test: 27 ae4_frp\n",
      "Test: 27 me2_frp\n",
      "Test: 27 me4_frp\n",
      "Test: 27 ae2_TC_rpm\n",
      "Test: 27 ae4_TC_rpm\n",
      "Test: 27 me2_TC_rpm\n",
      "Test: 27 me4_TC_rpm\n",
      "Test: 28 ae2_rpm\n",
      "Test: 28 ae4_rpm\n",
      "Test: 28 me2_rpm\n",
      "Test: 28 me4_rpm\n",
      "Test: 28 ae2_exh_T\n",
      "Test: 28 ae4_exh_T\n",
      "Test: 28 me2_exh_T\n",
      "Test: 28 me4_exh_T\n",
      "Test: 28 ae2_TC_rpm\n",
      "Test: 28 ae4_TC_rpm\n",
      "Test: 28 me2_TC_rpm\n",
      "Test: 28 me4_TC_rpm\n",
      "Test: 29 ae2_frp\n",
      "Test: 29 ae4_frp\n",
      "Test: 29 me2_frp\n",
      "Test: 29 me4_frp\n",
      "Test: 29 ae2_exh_T\n",
      "Test: 29 ae4_exh_T\n",
      "Test: 29 me2_exh_T\n",
      "Test: 29 me4_exh_T\n",
      "Test: 29 ae2_TC_rpm\n",
      "Test: 29 ae4_TC_rpm\n",
      "Test: 29 me2_TC_rpm\n",
      "Test: 29 me4_TC_rpm\n",
      "Test: 30 ae2_rpm\n",
      "Test: 30 ae4_rpm\n",
      "Test: 30 me2_rpm\n",
      "Test: 30 me4_rpm\n",
      "Test: 30 ae2_frp\n",
      "Test: 30 ae4_frp\n",
      "Test: 30 me2_frp\n",
      "Test: 30 me4_frp\n",
      "Test: 30 ae2_exh_T\n",
      "Test: 30 ae4_exh_T\n",
      "Test: 30 me2_exh_T\n",
      "Test: 30 me4_exh_T\n",
      "Test: 30 ae2_TC_rpm\n",
      "Test: 30 ae4_TC_rpm\n",
      "Test: 30 me2_TC_rpm\n",
      "Test: 30 me4_TC_rpm\n"
     ]
    }
   ],
   "source": [
    "\n",
    "# The combinations are done manually in an Excel workbook, it was too tedious to make. This way it is easier but\n",
    "# might not be the best way... it works...\n",
    "\n",
    "\n",
    "feat = pd.read_excel('training_setup.xlsx',index_col='test_no')\n",
    "\n",
    "# Create a list of features for each test. A list which will contain a list of features for each row. This list\n",
    "# will be used for the training.\n",
    "\n",
    "test_features = list()\n",
    "\n",
    "\n",
    "for i in range(30):\n",
    "    \n",
    "    tmp_l = list()\n",
    "    \n",
    "    if feat.iloc[i][0] == 1:\n",
    "        #print('ett')\n",
    "        for j in range(1,5):\n",
    "            tmp_l.append(d[feat.iloc[i][j]])\n",
    "            print('Test:',i+1,feat.iloc[i][j])\n",
    "        \n",
    "    elif feat.iloc[i][0] == 2:\n",
    "        #print('två')\n",
    "        for j in range(1,5):\n",
    "            tmp_l.append(d[feat.iloc[i][j]])\n",
    "            print('Test:',i+1,feat.iloc[i][j])\n",
    "        for j in range(5,9):\n",
    "            tmp_l.append(d[feat.iloc[i][j]])\n",
    "            print('Test:',i+1,feat.iloc[i][j])\n",
    "        \n",
    "    elif feat.iloc[i][0] == 3:\n",
    "        for j in range(1,5):\n",
    "            tmp_l.append(d[feat.iloc[i][j]])\n",
    "            print('Test:',i+1,feat.iloc[i][j])\n",
    "        for j in range(5,9):\n",
    "            tmp_l.append(d[feat.iloc[i][j]])\n",
    "            print('Test:',i+1,feat.iloc[i][j])\n",
    "        for j in range(9,13):\n",
    "            tmp_l.append(d[feat.iloc[i][j]])\n",
    "            print('Test:',i+1,feat.iloc[i][j])\n",
    "        \n",
    "    elif feat.iloc[i][0] == 4:\n",
    "        for j in range(1,5):\n",
    "            tmp_l.append(d[feat.iloc[i][j]])\n",
    "            print('Test:',i+1,feat.iloc[i][j])\n",
    "        for j in range(5,9):\n",
    "            tmp_l.append(d[feat.iloc[i][j]])\n",
    "            print('Test:',i+1,feat.iloc[i][j])\n",
    "        for j in range(9,13):\n",
    "            tmp_l.append(d[feat.iloc[i][j]])\n",
    "            print('Test:',i+1,feat.iloc[i][j])\n",
    "        for j in range(13,17):\n",
    "            tmp_l.append(d[feat.iloc[i][j]])\n",
    "            print('Test:',i+1,feat.iloc[i][j])\n",
    "    \n",
    "    test_features.append(tmp_l)\n",
    "\n",
    "# And then at last add the corresponding predictor to each test set.\n",
    "\n",
    "\n",
    "for i in range(len(test_features)):\n",
    "    if 'AE1' in test_features[i][0]:\n",
    "        test_features[i].append(d['fo_booster_13'])\n",
    "    if 'AE2' in test_features[i][0]:\n",
    "        test_features[i].append(d['fo_booster_24'])\n"
   ]
  },
  {
   "cell_type": "code",
   "execution_count": 3,
   "metadata": {},
   "outputs": [
    {
     "name": "stdout",
     "output_type": "stream",
     "text": [
      "       AE1 ENG SPEED:1745:RPM:Average:900  \\\n",
      "count                        30624.000000   \n",
      "mean                           394.698595   \n",
      "std                            367.883957   \n",
      "min                              0.000000   \n",
      "25%                              0.000000   \n",
      "50%                            737.733333   \n",
      "75%                            750.466667   \n",
      "max                            760.000000   \n",
      "\n",
      "       AE1 EXH MEAN VALUE:1591:  C:Average:900  \\\n",
      "count                             30624.000000   \n",
      "mean                                222.944978   \n",
      "std                                 146.610908   \n",
      "min                                   0.000000   \n",
      "25%                                  75.466667   \n",
      "50%                                 320.400000   \n",
      "75%                                 359.533333   \n",
      "max                                 431.066667   \n",
      "\n",
      "       AE1 FUEL RACK POSIT:1742:mm:Average:900  \\\n",
      "count                             30624.000000   \n",
      "mean                                 10.828951   \n",
      "std                                  10.937992   \n",
      "min                                   0.000000   \n",
      "25%                                   0.000000   \n",
      "50%                                  12.733333   \n",
      "75%                                  17.600000   \n",
      "max                                  48.533333   \n",
      "\n",
      "       AE1 TC SPEED:1748:RPM:Average:900  AE2 ENG SPEED:2745:RPM:Average:900  \\\n",
      "count                       30624.000000                        30624.000000   \n",
      "mean                         8349.694446                          324.487335   \n",
      "std                          8203.742140                          365.052774   \n",
      "min                             0.000000                            0.000000   \n",
      "25%                             0.000000                            0.000000   \n",
      "50%                         10692.600000                            0.000000   \n",
      "75%                         15090.150000                          750.266667   \n",
      "max                         24527.066667                          754.333333   \n",
      "\n",
      "       AE2 EXH MEAN VALUE:2591:  C:Average:900  \\\n",
      "count                             30624.000000   \n",
      "mean                                203.659239   \n",
      "std                                 140.633203   \n",
      "min                                   0.000000   \n",
      "25%                                  81.000000   \n",
      "50%                                  86.933333   \n",
      "75%                                 357.400000   \n",
      "max                                 429.400000   \n",
      "\n",
      "       AE2 FUEL RACK POSIT:2742:mm:Average:900  \\\n",
      "count                             30624.000000   \n",
      "mean                                 12.654099   \n",
      "std                                  10.278427   \n",
      "min                                   0.000000   \n",
      "25%                                   4.000000   \n",
      "50%                                   5.000000   \n",
      "75%                                  20.333333   \n",
      "max                                  43.000000   \n",
      "\n",
      "       AE2 TC SPEED:2748:RPM:Average:900  AE3 ENG SPEED:3745:RPM:Average:900  \\\n",
      "count                       30624.000000                        30624.000000   \n",
      "mean                         6759.406479                          169.412385   \n",
      "std                          7990.940027                          307.666435   \n",
      "min                             0.000000                            0.000000   \n",
      "25%                             0.000000                            0.000000   \n",
      "50%                             0.000000                            0.000000   \n",
      "75%                         14241.416667                            0.000000   \n",
      "max                         23800.533333                          756.200000   \n",
      "\n",
      "       AE3 EXH MEAN VALUE:3591:  C:Average:900  \\\n",
      "count                             30624.000000   \n",
      "mean                                146.880291   \n",
      "std                                 130.109081   \n",
      "min                                   0.000000   \n",
      "25%                                  72.000000   \n",
      "50%                                  79.800000   \n",
      "75%                                  88.483333   \n",
      "max                                 454.333333   \n",
      "\n",
      "                      ...                   \\\n",
      "count                 ...                    \n",
      "mean                  ...                    \n",
      "std                   ...                    \n",
      "min                   ...                    \n",
      "25%                   ...                    \n",
      "50%                   ...                    \n",
      "75%                   ...                    \n",
      "max                   ...                    \n",
      "\n",
      "       ME2 FUEL RACK POSIT:20005:%:Average:900  \\\n",
      "count                             30624.000000   \n",
      "mean                                 12.165520   \n",
      "std                                  19.433878   \n",
      "min                                   0.000000   \n",
      "25%                                   0.000000   \n",
      "50%                                   0.000000   \n",
      "75%                                  25.330285   \n",
      "max                                  89.889918   \n",
      "\n",
      "       ME2 T/C SPEED:20006:rpm:Average:900  \\\n",
      "count                         30624.000000   \n",
      "mean                           4484.403686   \n",
      "std                            6732.386500   \n",
      "min                               0.000000   \n",
      "25%                              36.630035   \n",
      "50%                              36.630035   \n",
      "75%                           10825.152653   \n",
      "max                           21827.594661   \n",
      "\n",
      "       ME3 ENGINE SPEED:3364:rpm:Average:900  \\\n",
      "count                           30624.000000   \n",
      "mean                              136.519933   \n",
      "std                               185.477938   \n",
      "min                                 0.000000   \n",
      "25%                                 0.328042   \n",
      "50%                                 0.730159   \n",
      "75%                               375.550278   \n",
      "max                               502.962980   \n",
      "\n",
      "       ME3 EXH GAS MEAN:3125:C:Average:900  \\\n",
      "count                         30624.000000   \n",
      "mean                            187.907736   \n",
      "std                             156.340571   \n",
      "min                               0.000000   \n",
      "25%                              70.294671   \n",
      "50%                              78.607248   \n",
      "75%                             395.918007   \n",
      "max                             469.385443   \n",
      "\n",
      "       ME3 FUEL RACK POSIT:30005:%:Average:900  \\\n",
      "count                             30624.000000   \n",
      "mean                                 12.547920   \n",
      "std                                  19.230252   \n",
      "min                                   0.000000   \n",
      "25%                                   0.000000   \n",
      "50%                                   0.000000   \n",
      "75%                                  26.783032   \n",
      "max                                  89.212679   \n",
      "\n",
      "       ME3 T/C SPEED:30006:rpm:Average:900  \\\n",
      "count                         30624.000000   \n",
      "mean                           4757.749316   \n",
      "std                            6797.442550   \n",
      "min                               0.000000   \n",
      "25%                              21.978022   \n",
      "50%                              29.304029   \n",
      "75%                           11484.004980   \n",
      "max                           21405.616927   \n",
      "\n",
      "       ME4 ENGINE SPEED:4364:rpm:Average:900  \\\n",
      "count                           30624.000000   \n",
      "mean                              124.419687   \n",
      "std                               180.295213   \n",
      "min                                 0.000000   \n",
      "25%                                 0.000000   \n",
      "50%                                 0.000000   \n",
      "75%                               367.100541   \n",
      "max                               498.359806   \n",
      "\n",
      "       ME4 EXH GAS MEAN:4125:C:Average:900  \\\n",
      "count                         30624.000000   \n",
      "mean                            180.895840   \n",
      "std                             151.565511   \n",
      "min                               0.000000   \n",
      "25%                              72.834964   \n",
      "50%                              81.544569   \n",
      "75%                             393.849229   \n",
      "max                             482.653668   \n",
      "\n",
      "       ME4 FUEL RACK POSIT:40005:%:Average:900  \\\n",
      "count                             30624.000000   \n",
      "mean                                 11.743487   \n",
      "std                                  19.084399   \n",
      "min                                   0.000000   \n",
      "25%                                   0.000000   \n",
      "50%                                   0.000000   \n",
      "75%                                  23.711781   \n",
      "max                                  89.494467   \n",
      "\n",
      "       ME4 T/C SPEED:40006:rpm:Average:900  \n",
      "count                         30624.000000  \n",
      "mean                           4594.686134  \n",
      "std                            6881.782836  \n",
      "min                               0.000000  \n",
      "25%                              80.586082  \n",
      "50%                              80.586082  \n",
      "75%                           10869.963289  \n",
      "max                           21875.946484  \n",
      "\n",
      "[8 rows x 34 columns]\n"
     ]
    }
   ],
   "source": [
    "df_train = pd.DataFrame()\n",
    "for i in range(len(test_features)):\n",
    "    df_train = df_train.append(df[test_features[i]]).resample('15min').mean()\n",
    "    \n",
    "\n",
    "df_train = df_train.dropna()\n",
    "\n",
    "# Filter out below zero\n",
    "    \n",
    "\n",
    "for n in list(df_train):\n",
    "    df_train[n][(df_train[n] < 0)] = 0\n",
    "    \n",
    "\n",
    "date_begin = '2014-02-01'\n",
    "date_end = '2014-12-16'\n",
    "\n",
    "df_train = df_train[date_begin:date_end]\n",
    "\n",
    "print(df_train.describe())"
   ]
  },
  {
   "cell_type": "code",
   "execution_count": 38,
   "metadata": {},
   "outputs": [
    {
     "name": "stdout",
     "output_type": "stream",
     "text": [
      "Test run 0 \n",
      "\n",
      "Test number, linear model:  0 \n",
      "\n",
      "MSE:  0.020751914179531383\n",
      "MSE %:  0.007660924530644874\n",
      "R2 score: 0.8449911584110031\n",
      "['ae1_rpm: 0.0002829647723174473', 'ae3_rpm: -3.7667819035563184e-05', 'me1_rpm: 0.0015379412879452927', 'me3_rpm: 0.0014808872294868962']\n",
      "Test run 1 \n",
      "\n",
      "Test number, linear model:  1 \n",
      "\n",
      "MSE:  0.008844792204968992\n",
      "MSE %:  0.0032652065243377777\n",
      "R2 score: 0.9389967717585165\n",
      "['ae1_frp: 0.012281406154461333', 'ae3_frp: -0.0009344122536376592', 'me1_frp: 0.01306719102837232', 'me3_frp: 0.01301745863697864']\n",
      "Test run 2 \n",
      "\n",
      "Test number, linear model:  2 \n",
      "\n",
      "MSE:  0.02505056265261032\n",
      "MSE %:  0.009247844236033382\n",
      "R2 score: 0.8067858465965971\n",
      "['ae1_exh_T: 0.0007453837697878059', 'ae3_exh_T: -4.613598962062903e-05', 'me1_exh_T: 0.0017192736986634044', 'me3_exh_T: 0.0017620229308720264']\n",
      "Test run 3 \n",
      "\n",
      "Test number, linear model:  3 \n",
      "\n",
      "MSE:  0.005299930998506011\n",
      "MSE %:  0.0019565602982893966\n",
      "R2 score: 0.964493994771804\n",
      "['ae1_TC_rpm: 1.80703531208048e-05', 'ae3_TC_rpm: 2.819436730238895e-06', 'me1_TC_rpm: 4.1419536595205265e-05', 'me3_TC_rpm: 4.125753576407307e-05']\n",
      "Test run 4 \n",
      "\n",
      "Test number, linear model:  4 \n",
      "\n",
      "MSE:  0.004761374730946821\n",
      "MSE %:  0.0017577430284422488\n",
      "R2 score: 0.9680686377785997\n",
      "['ae1_rpm: 0.0002408190164663561', 'ae3_rpm: 7.310067625757049e-05', 'me1_rpm: 0.00030670636185559357', 'me3_rpm: 0.0002282978142928502', 'ae1_frp: 0.0057612255295729185', 'ae3_frp: -0.0014032939866814153', 'me1_frp: 0.010773083208463688', 'me3_frp: 0.011491940991374527']\n",
      "Test run 5 \n",
      "\n",
      "Test number, linear model:  5 \n",
      "\n",
      "MSE:  0.013496726123207937\n",
      "MSE %:  0.004982547602411783\n",
      "R2 score: 0.9028687588738891\n",
      "['ae1_rpm: -0.0006332372644556141', 'ae3_rpm: -0.0008462483040174173', 'me1_rpm: 0.003547939851223054', 'me3_rpm: 0.0031496921673519807', 'ae1_exh_T: 0.002431042779061982', 'ae3_exh_T: 0.0019392955695466173', 'me1_exh_T: -0.002328487839175561', 'me3_exh_T: -0.0020282967103825845']\n",
      "Test run 6 \n",
      "\n",
      "Test number, linear model:  6 \n",
      "\n",
      "MSE:  0.004192350558380518\n",
      "MSE %:  0.0015476780096478461\n",
      "R2 score: 0.9721497628094518\n",
      "['ae1_rpm: -0.00029741109754755714', 'ae3_rpm: 0.00018827140158596953', 'me1_rpm: -0.00019006235107685445', 'me3_rpm: -0.00015662054208984052', 'ae1_TC_rpm: 3.0947773992108984e-05', 'ae3_TC_rpm: -4.778490342737917e-06', 'me1_TC_rpm: 4.642543483687811e-05', 'me3_TC_rpm: 4.520927638401618e-05']\n",
      "Test run 7 \n",
      "\n",
      "Test number, linear model:  7 \n",
      "\n",
      "MSE:  0.004278515209266746\n",
      "MSE %:  0.0015794871662363908\n",
      "R2 score: 0.971383717863834\n",
      "['ae1_frp: 0.0049606475638741', 'ae3_frp: -0.003639773087759543', 'me1_frp: 0.010983665548883324', 'me3_frp: 0.01159407058709582', 'ae1_exh_T: 0.0006621208665534076', 'ae3_exh_T: 0.00037165765766768844', 'me1_exh_T: 0.0003234263249896242', 'me3_exh_T: 0.0002657340743967523']\n",
      "Test run 8 \n",
      "\n",
      "Test number, linear model:  8 \n",
      "\n",
      "MSE:  0.00294087746126671\n",
      "MSE %:  0.001085675282276419\n",
      "R2 score: 0.9805544972502882\n",
      "['ae1_frp: 0.0006376717088031544', 'ae3_frp: -0.005079021382927182', 'me1_frp: 0.007273571086187486', 'me3_frp: 0.008687433363712267', 'ae1_TC_rpm: 1.7979301614829553e-05', 'ae3_TC_rpm: 9.63706447120219e-06', 'me1_TC_rpm: 1.8619302592502608e-05', 'me3_TC_rpm: 1.469779425528925e-05']\n",
      "Test run 9 \n",
      "\n",
      "Test number, linear model:  9 \n",
      "\n",
      "MSE:  0.003846514895842582\n",
      "MSE %:  0.0014200068518072865\n",
      "R2 score: 0.9745088629024975\n",
      "['ae1_exh_T: -0.000587056251200566', 'ae3_exh_T: 0.0008638832896736161', 'me1_exh_T: -0.0005739474664971752', 'me3_exh_T: -0.0005023314751136142', 'ae1_TC_rpm: 2.9016804797058e-05', 'ae3_TC_rpm: -1.2382226227548157e-05', 'me1_TC_rpm: 5.321523160243132e-05', 'me3_TC_rpm: 5.0668531192769645e-05']\n",
      "Test run 10 \n",
      "\n",
      "Test number, linear model:  10 \n",
      "\n",
      "MSE:  0.004120157070409706\n",
      "MSE %:  0.001521026547129081\n",
      "R2 score: 0.9724349788196551\n",
      "['ae1_rpm: -0.0001609980817675867', 'ae3_rpm: -0.0002727014619773328', 'me1_rpm: 0.00034920172881132286', 'me3_rpm: 0.00019169787402745675', 'ae1_frp: 0.00499743739781466', 'ae3_frp: -0.005396725402332292', 'me1_frp: 0.010250995785238004', 'me3_frp: 0.010947749043109377', 'ae1_exh_T: 0.0010558419093700542', 'ae3_exh_T: 0.0011539393758827766', 'me1_exh_T: 1.5284034078954026e-05', 'me3_exh_T: 0.00011511380504828977']\n",
      "Test run 11 \n",
      "\n",
      "Test number, linear model:  11 \n",
      "\n",
      "MSE:  0.002465145045259375\n",
      "MSE %:  0.0009100505131932692\n",
      "R2 score: 0.9837632235093704\n",
      "['ae1_rpm: -0.00023339760043875876', 'ae3_rpm: 0.00011675560054849505', 'me1_rpm: 0.00017181571803082509', 'me3_rpm: 0.00025450036124493344', 'ae1_frp: -0.00059671992210409', 'ae3_frp: -0.0039834072057238585', 'me1_frp: 0.006546840469962961', 'me3_frp: 0.009187769306587035', 'ae1_TC_rpm: 2.9046977841300847e-05', 'ae3_TC_rpm: 3.3329164163429113e-06', 'me1_TC_rpm: 1.697603057391264e-05', 'me3_TC_rpm: 7.194726709735776e-06']\n",
      "Test run 12 \n",
      "\n",
      "Test number, linear model:  12 \n",
      "\n",
      "MSE:  0.003098685907044607\n",
      "MSE %:  0.001143932972769149\n",
      "R2 score: 0.979502500700276\n",
      "['ae1_rpm: -0.00023139274383900287', 'ae3_rpm: -0.00046358889783683057', 'me1_rpm: 0.0012866601575178783', 'me3_rpm: 0.0008450001782405024', 'ae1_exh_T: -2.914880813949182e-05', 'ae3_exh_T: 0.002350656307023249', 'me1_exh_T: -0.001615537226930287', 'me3_exh_T: -0.0011716182110873981', 'ae1_TC_rpm: 2.9075610709648266e-05', 'ae3_TC_rpm: -2.0032995504054564e-05', 'me1_TC_rpm: 4.324900175328856e-05', 'me3_TC_rpm: 4.256178767951627e-05']\n",
      "Test run 13 \n",
      "\n",
      "Test number, linear model:  13 \n",
      "\n",
      "MSE:  0.0024779036455080555\n",
      "MSE %:  0.0009147605689874578\n",
      "R2 score: 0.983694339075126\n",
      "['ae1_frp: -0.0009722549313904077', 'ae3_frp: -0.0031334817898170525', 'me1_frp: 0.006699778174914682', 'me3_frp: 0.009891803941876567', 'ae1_exh_T: -0.0006472884191260569', 'ae3_exh_T: 0.0005885967689476792', 'me1_exh_T: 5.927249862803445e-05', 'me3_exh_T: 0.00020860711060792286', 'ae1_TC_rpm: 3.0815870809659166e-05', 'ae3_TC_rpm: -3.3982779288705073e-06', 'me1_TC_rpm: 1.933880762271889e-05', 'me3_TC_rpm: 6.9276066283396664e-06']\n",
      "Test run 14 \n",
      "\n",
      "Test number, linear model:  14 \n",
      "\n",
      "MSE:  0.0023109893512973305\n",
      "MSE %:  0.000853141298592851\n",
      "R2 score: 0.984789501939991\n",
      "['ae1_rpm: -0.00015147420359655262', 'ae3_rpm: -0.0002995885174744479', 'me1_rpm: 0.0005842755648894923', 'me3_rpm: 0.00032677420454871266', 'ae1_frp: -0.0008376178270807664', 'ae3_frp: -0.003545040428126006', 'me1_frp: 0.005241287413385747', 'me3_frp: 0.008666048173313904', 'ae1_exh_T: -0.000260550729283984', 'ae3_exh_T: 0.0016102219116570973', 'me1_exh_T: -0.0005346610237279617', 'me3_exh_T: -0.000126324595998144', 'ae1_TC_rpm: 3.039729341799839e-05', 'ae3_TC_rpm: -8.640244578281586e-06', 'me1_TC_rpm: 2.166911971590215e-05', 'me3_TC_rpm: 8.881225509733485e-06']\n",
      "Test run 15 \n",
      "\n",
      "Test number, linear model:  15 \n",
      "\n",
      "MSE:  0.021935940856046058\n",
      "MSE %:  0.008072145172806718\n",
      "R2 score: 0.8479180774422101\n",
      "['ae2_rpm: 0.0002786850777765881', 'ae4_rpm: 0.00023031794673124956', 'me2_rpm: 0.0015253675815115233', 'me4_rpm: 0.0016058548643990336']\n",
      "Test run 16 \n",
      "\n",
      "Test number, linear model:  16 \n",
      "\n",
      "MSE:  0.004023515231423077\n",
      "MSE %:  0.0014806020524118202\n",
      "R2 score: 0.9748512061779129\n",
      "['ae2_frp: 0.014793441386068563', 'ae4_frp: 0.015096369035471353', 'me2_frp: 0.012891086166914378', 'me4_frp: 0.01364055911194231']\n",
      "Test run 17 \n",
      "\n",
      "Test number, linear model:  17 \n",
      "\n",
      "MSE:  0.024263503488967084\n",
      "MSE %:  0.008928658398979107\n",
      "R2 score: 0.830045101083306\n",
      "['ae2_exh_T: 0.000836739237246768', 'ae4_exh_T: 0.0007009431499204355', 'me2_exh_T: 0.001716477874586949', 'me4_exh_T: 0.001847380210533512']\n",
      "Test run 18 \n",
      "\n",
      "Test number, linear model:  18 \n",
      "\n",
      "MSE:  0.0036932029202371122\n",
      "MSE %:  0.0013590513541419753\n",
      "R2 score: 0.977282781785587\n",
      "['ae2_TC_rpm: 1.8600655576318314e-05', 'ae4_TC_rpm: 1.741115566448276e-05', 'me2_TC_rpm: 4.065181407171457e-05', 'me4_TC_rpm: 4.0353000328458186e-05']\n",
      "Test run 19 \n",
      "\n",
      "Test number, linear model:  19 \n",
      "\n",
      "MSE:  0.0019082993054793844\n",
      "MSE %:  0.0007022296936376952\n",
      "R2 score: 0.9882710538628899\n",
      "['ae2_rpm: 0.00018451628928938628', 'ae4_rpm: 1.5332977327633693e-05', 'me2_rpm: 0.0002535882530760522', 'me4_rpm: 0.00032221286063093967', 'ae2_frp: 0.00853177757139716', 'ae4_frp: 0.01407581264814673', 'me2_frp: 0.011112393535494243', 'me4_frp: 0.011153541967035229']\n",
      "Test run 20 \n",
      "\n",
      "Test number, linear model:  20 \n",
      "\n",
      "MSE:  0.009947120245445001\n",
      "MSE %:  0.0036604127992287947\n",
      "R2 score: 0.9358324645794343\n",
      "['ae2_rpm: -0.001355240420368781', 'ae4_rpm: -0.001522320592791669', 'me2_rpm: 0.0029048393950660894', 'me4_rpm: 0.003746754333312026', 'ae2_exh_T: 0.0044360214568603335', 'ae4_exh_T: 0.004857716346158976', 'me2_exh_T: -0.0017301802232885905', 'me4_exh_T: -0.0026514054518100194']\n",
      "Test run 21 \n",
      "\n",
      "Test number, linear model:  21 \n",
      "\n",
      "MSE:  0.002652170188890649\n",
      "MSE %:  0.0009759646476168718\n",
      "R2 score: 0.9837548074839354\n",
      "['ae2_rpm: -0.00017152446738460616', 'ae4_rpm: -0.00018099575196533807', 'me2_rpm: -0.0002507222379583554', 'me4_rpm: -0.0001783313361346248', 'ae2_TC_rpm: 2.6704344244678635e-05', 'ae4_TC_rpm: 2.62072287077794e-05', 'me2_TC_rpm: 4.708095665585716e-05', 'me4_TC_rpm: 4.46497649939257e-05']\n",
      "Test run 22 \n",
      "\n",
      "Test number, linear model:  22 \n",
      "\n",
      "MSE:  0.001599725118142246\n",
      "MSE %:  0.0005886783464166026\n",
      "R2 score: 0.9901917108228506\n",
      "['ae2_frp: 0.006008480249136239', 'ae4_frp: 0.01300308065268525', 'me2_frp: 0.011562074269911795', 'me4_frp: 0.0116914320374193', 'ae2_exh_T: 0.0006690773373405931', 'ae4_exh_T: 0.00012768871702636595', 'me2_exh_T: 0.00022832264145908793', 'me4_exh_T: 0.0003007958466247949']\n",
      "Test run 23 \n",
      "\n",
      "Test number, linear model:  23 \n",
      "\n",
      "MSE:  0.0008845369123642278\n",
      "MSE %:  0.0003254982502992243\n",
      "R2 score: 0.9946107308714283\n",
      "['ae2_frp: 0.0010280443049100166', 'ae4_frp: 0.005299189503611625', 'me2_frp: 0.009112668686829644', 'me4_frp: 0.008985333473134429', 'ae2_TC_rpm: 1.8392791026358747e-05', 'ae4_TC_rpm: 1.2400797716945502e-05', 'me2_TC_rpm: 1.2444801233888873e-05', 'me4_TC_rpm: 1.3792353172061015e-05']\n",
      "Test run 24 \n",
      "\n",
      "Test number, linear model:  24 \n",
      "\n",
      "MSE:  0.0022135384883186157\n",
      "MSE %:  0.0008145538019345157\n",
      "R2 score: 0.9864573040645489\n",
      "['ae2_exh_T: -0.0004609833930486956', 'ae4_exh_T: -0.0004616559064690404', 'me2_exh_T: -0.000553953137888645', 'me4_exh_T: -0.0005800279208965249', 'ae2_TC_rpm: 2.763657372239576e-05', 'ae4_TC_rpm: 2.6740451052175473e-05', 'me2_TC_rpm: 5.229769122369468e-05', 'me4_TC_rpm: 5.163398000796066e-05']\n",
      "Test run 25 \n",
      "\n",
      "Test number, linear model:  25 \n",
      "\n",
      "MSE:  0.0010632392517284225\n",
      "MSE %:  0.0003912584214965478\n",
      "R2 score: 0.9934991127548841\n",
      "['ae2_rpm: -0.000650438163457418', 'ae4_rpm: -0.00018584927329309527', 'me2_rpm: 0.00044668109001339625', 'me4_rpm: 0.0006250447789280195', 'ae2_frp: 0.0023037045647569935', 'ae4_frp: 0.010608222784984443', 'me2_frp: 0.010549004573628881', 'me4_frp: 0.010593906256666643', 'ae2_exh_T: 0.002588027701918945', 'ae4_exh_T: 0.0007748378896175303', 'me2_exh_T: -0.0001776034835416693', 'me4_exh_T: -0.00031427861428293076']\n",
      "Test run 26 \n",
      "\n",
      "Test number, linear model:  26 \n",
      "\n",
      "MSE:  0.0006060160063739812\n",
      "MSE %:  0.00022300612554519307\n",
      "R2 score: 0.9963126209314614\n",
      "['ae2_rpm: -0.00013603972801012968', 'ae4_rpm: -0.00013505332899789023', 'me2_rpm: 0.00021135119036705418', 'me4_rpm: 0.0002801760303404878', 'ae2_frp: -0.000147633517035158', 'ae4_frp: 0.0012670419907122909', 'me2_frp: 0.009256205676718908', 'me4_frp: 0.009538696771006', 'ae2_TC_rpm: 2.5561214116191182e-05', 'ae4_TC_rpm: 2.308652943116507e-05', 'me2_TC_rpm: 6.898740784219877e-06', 'me4_TC_rpm: 5.7271545173846775e-06']\n",
      "Test run 27 \n",
      "\n",
      "Test number, linear model:  27 \n",
      "\n",
      "MSE:  0.0014608773016471998\n",
      "MSE %:  0.0005375841289845601\n",
      "R2 score: 0.9910714723546719\n",
      "['ae2_rpm: -0.00026672726769350486', 'ae4_rpm: -0.000563694660566526', 'me2_rpm: 0.0008740820520686924', 'me4_rpm: 0.0014015917275667113', 'ae2_exh_T: 0.0005778008196857773', 'ae4_exh_T: 0.0016560309925659892', 'me2_exh_T: -0.0013381480099314222', 'me4_exh_T: -0.0019489916442201162', 'ae2_TC_rpm: 2.125703525565265e-05', 'ae4_TC_rpm: 1.5515730166709657e-05', 'me2_TC_rpm: 4.61477685349065e-05', 'me4_TC_rpm: 4.468793310360231e-05']\n",
      "Test run 28 \n",
      "\n",
      "Test number, linear model:  28 \n",
      "\n",
      "MSE:  0.0006664556381563791\n",
      "MSE %:  0.00024524713563635716\n",
      "R2 score: 0.9959445753700399\n",
      "['ae2_frp: 7.593115368904283e-06', 'ae4_frp: 0.0014714561390980047', 'me2_frp: 0.009635837445429774', 'me4_frp: 0.009802576809672552', 'ae2_exh_T: -0.0005095610228606092', 'ae4_exh_T: -0.0004942653844327825', 'me2_exh_T: 0.0001919002782371235', 'me4_exh_T: 0.00024825309875810053', 'ae2_TC_rpm: 2.8301191082319217e-05', 'ae4_TC_rpm: 2.5411497286494377e-05', 'me2_TC_rpm: 7.159084790810038e-06', 'me4_TC_rpm: 6.88074250611843e-06']\n",
      "Test run 29 \n",
      "\n",
      "Test number, linear model:  29 \n",
      "\n",
      "MSE:  0.0006033488893543416\n",
      "MSE %:  0.00022202466065537226\n",
      "R2 score: 0.9963282010502729\n",
      "['ae2_rpm: -0.00015669752277443867', 'ae4_rpm: -0.00016900077550651322', 'me2_rpm: 0.0003574105158316161', 'me4_rpm: 0.0005993328676441496', 'ae2_frp: -0.00011659692475382013', 'ae4_frp: 0.0013789408017171626', 'me2_frp: 0.008443712133027647', 'me4_frp: 0.008159339571762812', 'ae2_exh_T: 0.00010248772421506494', 'ae4_exh_T: 0.00014596425522143356', 'me2_exh_T: -0.00022335758373042466', 'me4_exh_T: -0.0004713682907483024', 'ae2_TC_rpm: 2.4707903791842207e-05', 'ae4_TC_rpm: 2.2023547082505876e-05', 'me2_TC_rpm: 1.03231129751943e-05', 'me4_TC_rpm: 1.1308751141694967e-05']\n"
     ]
    }
   ],
   "source": [
    "\n",
    "from sklearn.externals import joblib\n",
    "from tpot import TPOTRegressor\n",
    "from sklearn.model_selection import train_test_split\n",
    "from sklearn import linear_model\n",
    "from sklearn.metrics import mean_squared_error\n",
    "from sklearn.metrics import r2_score\n",
    "\n",
    "gen = 10\n",
    "cores = -1\n",
    "\n",
    "results = list()\n",
    "cols = ['test_no','model','MSE','MSE_perc','R2-score','coef']\n",
    "\n",
    "df_out = pd.DataFrame()\n",
    "\n",
    "df_out['y_13'] = df_train[d['fo_booster_13']]\n",
    "df_out['y_24'] = df_train[d['fo_booster_24']]\n",
    "\n",
    "\n",
    "seed = 42 # This is to get reproduce.\n",
    "\n",
    "\n",
    "for test_no in range(len(test_features)):\n",
    "    \n",
    "    # Feature selection for the test run\n",
    "    print('Test run', test_no, '\\n')\n",
    "    \n",
    "    df_test = df_train[test_features[test_no]]\n",
    "    # drop the last column, which is the measured\n",
    "    X = np.array(df_test.drop(df_test.columns[len(df_test.columns)-1],axis=1))\n",
    "    # y is the measured value\n",
    "    y = np.array(df_test[df_test.columns[len(df_test.columns)-1]])\n",
    "    \n",
    "    # make a test and train split.\n",
    "    X_train, X_test, y_train, y_test = train_test_split(X, y, train_size=0.75, test_size=0.25, random_state=seed)\n",
    "    \n",
    "    # \n",
    "    \n",
    "    print('Test number, linear model: ', test_no, '\\n')\n",
    "    m_linear = sk.linear_model.LinearRegression(n_jobs=cores)\n",
    "    m_linear.fit(X_train, y_train.reshape(-1,))\n",
    "    \n",
    "    df_out['linear_test_no_'+str(test_no)] = m_linear.predict(X)\n",
    "    \n",
    "    MSE = mean_squared_error(m_linear.predict(X_test),y_test)\n",
    "    MSE_perc = mean_squared_error(m_linear.predict(X_test),y_test)/max(y_test)\n",
    "    R_2 = r2_score(m_linear.predict(X_test),y_test)\n",
    "    \n",
    "    readable = list()\n",
    "    for g in range(len(list(df_test))-1):\n",
    "        #print(g)\n",
    "        readable.append(d[list(df_test)[g]]+': '+str(m_linear.coef_[g]))\n",
    "    \n",
    "    print('MSE: ',MSE )\n",
    "    print('MSE %: ',MSE_perc )\n",
    "    print('R2 score:', R_2)\n",
    "    print(readable)\n",
    "    \n",
    "    results.append([test_no,'linear',MSE,MSE_perc,R_2,readable])\n"
   ]
  },
  {
   "cell_type": "code",
   "execution_count": 7,
   "metadata": {},
   "outputs": [
    {
     "data": {
      "text/plain": [
       "{'copy_X': True, 'fit_intercept': True, 'n_jobs': -1, 'normalize': False}"
      ]
     },
     "execution_count": 7,
     "metadata": {},
     "output_type": "execute_result"
    }
   ],
   "source": [
    "m_linear.get_params(deep=True)"
   ]
  },
  {
   "cell_type": "code",
   "execution_count": 40,
   "metadata": {},
   "outputs": [],
   "source": [
    "results = pd.DataFrame(results, columns=cols)\n",
    "results.to_excel('results/run_180210/linear_run.xlsx')"
   ]
  },
  {
   "cell_type": "code",
   "execution_count": 31,
   "metadata": {},
   "outputs": [
    {
     "data": {
      "text/plain": [
       "0.0002829647723174473"
      ]
     },
     "execution_count": 31,
     "metadata": {},
     "output_type": "execute_result"
    }
   ],
   "source": [
    "m_linear.coef_[0]"
   ]
  },
  {
   "cell_type": "code",
   "execution_count": 16,
   "metadata": {},
   "outputs": [
    {
     "data": {
      "text/plain": [
       "array([1, 1, 1, 1])"
      ]
     },
     "execution_count": 16,
     "metadata": {},
     "output_type": "execute_result"
    }
   ],
   "source": [
    "from sklearn.feature_selection import RFE\n",
    "selector = RFE(m_linear, 5, step=1)\n",
    "selector = selector.fit(X, y)\n",
    "selector.support_\n",
    "selector.ranking_"
   ]
  },
  {
   "cell_type": "code",
   "execution_count": 20,
   "metadata": {},
   "outputs": [
    {
     "data": {
      "text/plain": [
       "array([ 2.82964772e-04, -3.76678190e-05,  1.53794129e-03,  1.48088723e-03])"
      ]
     },
     "execution_count": 20,
     "metadata": {},
     "output_type": "execute_result"
    }
   ],
   "source": [
    "m_linear.coef_"
   ]
  },
  {
   "cell_type": "code",
   "execution_count": null,
   "metadata": {
    "collapsed": true
   },
   "outputs": [],
   "source": []
  },
  {
   "cell_type": "code",
   "execution_count": null,
   "metadata": {
    "collapsed": true
   },
   "outputs": [],
   "source": []
  },
  {
   "cell_type": "code",
   "execution_count": 4,
   "metadata": {},
   "outputs": [
    {
     "name": "stdout",
     "output_type": "stream",
     "text": [
      "Test run 0 \n",
      "\n",
      "Test number, linear model:  0 \n",
      "\n",
      "MSE:  0.0207519141795314\n",
      "MSE %:  0.00766092453064488\n",
      "R2 score: 0.8449911584110014\n",
      "Test number, TPOT model:  0 \n",
      "\n"
     ]
    },
    {
     "name": "stderr",
     "output_type": "stream",
     "text": [
      "C:\\ProgramData\\Anaconda3\\lib\\site-packages\\sklearn\\cross_validation.py:41: DeprecationWarning: This module was deprecated in version 0.18 in favor of the model_selection module into which all the refactored classes and functions are moved. Also note that the interface of the new CV iterators are different from that of this module. This module will be removed in 0.20.\n",
      "  \"This module will be removed in 0.20.\", DeprecationWarning)\n"
     ]
    },
    {
     "name": "stdout",
     "output_type": "stream",
     "text": [
      "Generation 1 - Current best internal CV score: -0.004130317639937286\n"
     ]
    },
    {
     "name": "stderr",
     "output_type": "stream",
     "text": []
    },
    {
     "name": "stdout",
     "output_type": "stream",
     "text": [
      "Generation 2 - Current best internal CV score: -0.0041301529063429146\n"
     ]
    },
    {
     "name": "stderr",
     "output_type": "stream",
     "text": []
    },
    {
     "name": "stdout",
     "output_type": "stream",
     "text": [
      "Generation 3 - Current best internal CV score: -0.0040646702020535035\n"
     ]
    },
    {
     "name": "stderr",
     "output_type": "stream",
     "text": []
    },
    {
     "name": "stdout",
     "output_type": "stream",
     "text": [
      "Generation 4 - Current best internal CV score: -0.004053847319654523\n"
     ]
    },
    {
     "name": "stderr",
     "output_type": "stream",
     "text": []
    },
    {
     "name": "stdout",
     "output_type": "stream",
     "text": [
      "Generation 5 - Current best internal CV score: -0.004053847319654523\n"
     ]
    },
    {
     "name": "stderr",
     "output_type": "stream",
     "text": []
    },
    {
     "name": "stdout",
     "output_type": "stream",
     "text": [
      "Generation 6 - Current best internal CV score: -0.004053847319654523\n"
     ]
    },
    {
     "name": "stderr",
     "output_type": "stream",
     "text": []
    },
    {
     "name": "stdout",
     "output_type": "stream",
     "text": [
      "Generation 7 - Current best internal CV score: -0.004053847319654523\n"
     ]
    },
    {
     "name": "stderr",
     "output_type": "stream",
     "text": []
    },
    {
     "name": "stdout",
     "output_type": "stream",
     "text": [
      "Generation 8 - Current best internal CV score: -0.004053847319654523\n"
     ]
    },
    {
     "name": "stderr",
     "output_type": "stream",
     "text": []
    },
    {
     "name": "stdout",
     "output_type": "stream",
     "text": [
      "Generation 9 - Current best internal CV score: -0.0040536438569537744\n"
     ]
    },
    {
     "name": "stderr",
     "output_type": "stream",
     "text": []
    },
    {
     "name": "stdout",
     "output_type": "stream",
     "text": [
      "Generation 10 - Current best internal CV score: -0.004053223901289258\n"
     ]
    },
    {
     "name": "stderr",
     "output_type": "stream",
     "text": []
    },
    {
     "name": "stdout",
     "output_type": "stream",
     "text": [
      "\n",
      "Best pipeline: ExtraTreesRegressor(MaxAbsScaler(input_matrix), bootstrap=True, max_features=0.8500000000000001, min_samples_leaf=1, min_samples_split=20, n_estimators=100)\n",
      "MSE:  0.004019807487257575\n",
      "MSE %:  0.0014839807798538661\n",
      "R2 score: 0.9731131789295406\n"
     ]
    }
   ],
   "source": [
    "# Train models and produce results...\n",
    "# \n",
    "\n",
    "from sklearn.externals import joblib\n",
    "from tpot import TPOTRegressor\n",
    "from sklearn.model_selection import train_test_split\n",
    "from sklearn import linear_model\n",
    "from sklearn.metrics import mean_squared_error\n",
    "from sklearn.metrics import r2_score\n",
    "\n",
    "### Train a linear model just for comparison.\n",
    "\n",
    "gen = 10\n",
    "cores = -1\n",
    "\n",
    "results = list()\n",
    "cols = ['test_no','model','MSE','MSE_perc','R2-score']\n",
    "\n",
    "df_out = pd.DataFrame()\n",
    "\n",
    "df_out['y_13'] = df_train[d['fo_booster_13']]\n",
    "df_out['y_24'] = df_train[d['fo_booster_24']]\n",
    "\n",
    "\n",
    "seed = 42 # This is to get reproduce.\n",
    "\n",
    "\n",
    "#for test_no in range(len(test_features)):\n",
    "for test_no in range(0,1):\n",
    "    \n",
    "    # Feature selection for the test run\n",
    "    print('Test run', test_no, '\\n')\n",
    "    \n",
    "    df_test = df_train[test_features[test_no]]\n",
    "    # drop the last column, which is the measured\n",
    "    X = np.array(df_test.drop(df_test.columns[len(df_test.columns)-1],axis=1))\n",
    "    # y is the measured value\n",
    "    y = np.array(df_test[df_test.columns[len(df_test.columns)-1]])\n",
    "    \n",
    "    # make a test and train split.\n",
    "    X_train, X_test, y_train, y_test = train_test_split(X, y, train_size=0.75, test_size=0.25, random_state=seed)\n",
    "    \n",
    "    # \n",
    "    \n",
    "    print('Test number, linear model: ', test_no, '\\n')\n",
    "    m_linear = sk.linear_model.LinearRegression(n_jobs=cores)\n",
    "    m_linear.fit(X_train, y_train.reshape(-1,))\n",
    "    \n",
    "    df_out['linear_test_no_'+str(test_no)] = m_linear.predict(X)\n",
    "    \n",
    "    MSE = mean_squared_error(m_linear.predict(X_test),y_test)\n",
    "    MSE_perc = mean_squared_error(m_linear.predict(X_test),y_test)/max(y_test)\n",
    "    R_2 = r2_score(m_linear.predict(X_test),y_test)\n",
    "    \n",
    "    print('MSE: ',MSE )\n",
    "    print('MSE %: ',MSE_perc )\n",
    "    print('R2 score:', R_2)\n",
    "    \n",
    "    results.append([test_no,'linear',MSE,MSE_perc,R_2])\n",
    "    \n",
    "    # tpot model\n",
    "    \n",
    "    print('Test number, TPOT model: ', test_no, '\\n')\n",
    "\n",
    "    m_tpot = TPOTRegressor(generations=gen, population_size=50, verbosity=2, n_jobs=cores)\n",
    "    m_tpot.fit(X_train, y_train.reshape(-1,))\n",
    "    \n",
    "    df_out['tpot_test_no_'+str(test_no)] = m_tpot.predict(X)\n",
    "    \n",
    "    MSE = mean_squared_error(m_tpot.predict(X_test),y_test)\n",
    "    MSE_perc = mean_squared_error(m_tpot.predict(X_test),y_test)/max(y_test)\n",
    "    R_2 = r2_score(m_tpot.predict(X_test),y_test)\n",
    "    \n",
    "    print('MSE: ',MSE )\n",
    "    print('MSE %: ',MSE_perc )\n",
    "    print('R2 score:', R_2)\n",
    "    \n",
    "    results.append([test_no,'tpot',MSE,MSE_perc,R_2])\n",
    "    \n",
    "\n",
    "    \n",
    "\n",
    "results = pd.DataFrame(results, columns=cols)\n",
    "results.to_excel('results/run_180210/test_run.xlsx')\n",
    "df_out.to_hdf('results/run_180210/df_out.h5','table',complevel=9,complib='blosc')\n"
   ]
  },
  {
   "cell_type": "code",
   "execution_count": null,
   "metadata": {},
   "outputs": [
    {
     "name": "stdout",
     "output_type": "stream",
     "text": [
      "Test run 0 \n",
      "\n",
      "Test number, linear model:  0 \n",
      "\n",
      "MSE:  0.0207519141795314\n",
      "MSE %:  0.00766092453064488\n",
      "R2 score: 0.8449911584110014\n",
      "Test number, TPOT model:  0 \n",
      "\n"
     ]
    },
    {
     "name": "stderr",
     "output_type": "stream",
     "text": [
      "C:\\ProgramData\\Anaconda3\\lib\\site-packages\\sklearn\\cross_validation.py:41: DeprecationWarning: This module was deprecated in version 0.18 in favor of the model_selection module into which all the refactored classes and functions are moved. Also note that the interface of the new CV iterators are different from that of this module. This module will be removed in 0.20.\n",
      "  \"This module will be removed in 0.20.\", DeprecationWarning)\n"
     ]
    },
    {
     "name": "stdout",
     "output_type": "stream",
     "text": [
      "Generation 1 - Current best internal CV score: -0.004040208327555095\n"
     ]
    },
    {
     "name": "stderr",
     "output_type": "stream",
     "text": []
    },
    {
     "name": "stdout",
     "output_type": "stream",
     "text": [
      "Generation 2 - Current best internal CV score: -0.004040208327555095\n"
     ]
    },
    {
     "name": "stderr",
     "output_type": "stream",
     "text": []
    },
    {
     "name": "stdout",
     "output_type": "stream",
     "text": [
      "Generation 3 - Current best internal CV score: -0.004040208327555095\n"
     ]
    },
    {
     "name": "stderr",
     "output_type": "stream",
     "text": []
    },
    {
     "name": "stdout",
     "output_type": "stream",
     "text": [
      "Generation 4 - Current best internal CV score: -0.004040208327555095\n"
     ]
    },
    {
     "name": "stderr",
     "output_type": "stream",
     "text": []
    },
    {
     "name": "stdout",
     "output_type": "stream",
     "text": [
      "Generation 5 - Current best internal CV score: -0.004040208327555095\n"
     ]
    },
    {
     "name": "stderr",
     "output_type": "stream",
     "text": []
    },
    {
     "name": "stdout",
     "output_type": "stream",
     "text": [
      "Generation 6 - Current best internal CV score: -0.004040208327555095\n"
     ]
    },
    {
     "name": "stderr",
     "output_type": "stream",
     "text": []
    },
    {
     "name": "stdout",
     "output_type": "stream",
     "text": [
      "Generation 7 - Current best internal CV score: -0.004040208327555095\n"
     ]
    },
    {
     "name": "stderr",
     "output_type": "stream",
     "text": []
    },
    {
     "name": "stdout",
     "output_type": "stream",
     "text": [
      "Generation 8 - Current best internal CV score: -0.004018545793392216\n"
     ]
    },
    {
     "name": "stderr",
     "output_type": "stream",
     "text": []
    },
    {
     "name": "stdout",
     "output_type": "stream",
     "text": [
      "Generation 9 - Current best internal CV score: -0.003992184172375004\n"
     ]
    },
    {
     "name": "stderr",
     "output_type": "stream",
     "text": []
    },
    {
     "name": "stdout",
     "output_type": "stream",
     "text": [
      "Generation 10 - Current best internal CV score: -0.003992184172375004\n"
     ]
    },
    {
     "name": "stderr",
     "output_type": "stream",
     "text": []
    },
    {
     "name": "stdout",
     "output_type": "stream",
     "text": [
      "\n",
      "Best pipeline: XGBRegressor(input_matrix, learning_rate=0.1, max_depth=7, min_child_weight=9, n_estimators=100, nthread=1, subsample=0.9500000000000001)\n",
      "MSE:  0.004031966109240564\n",
      "MSE %:  0.0014884693433956427\n",
      "R2 score: 0.9731434643639371\n",
      "Test run 1 \n",
      "\n",
      "Test number, linear model:  1 \n",
      "\n",
      "MSE:  0.00884479220496899\n",
      "MSE %:  0.003265206524337777\n",
      "R2 score: 0.938996771758517\n",
      "Test number, TPOT model:  1 \n",
      "\n"
     ]
    },
    {
     "name": "stderr",
     "output_type": "stream",
     "text": []
    },
    {
     "name": "stdout",
     "output_type": "stream",
     "text": [
      "Generation 1 - Current best internal CV score: -0.0018826913144613737\n"
     ]
    },
    {
     "name": "stderr",
     "output_type": "stream",
     "text": []
    },
    {
     "name": "stdout",
     "output_type": "stream",
     "text": [
      "Generation 2 - Current best internal CV score: -0.0018707748815437373\n"
     ]
    },
    {
     "name": "stderr",
     "output_type": "stream",
     "text": []
    },
    {
     "name": "stdout",
     "output_type": "stream",
     "text": [
      "Generation 3 - Current best internal CV score: -0.001855723305107387\n"
     ]
    },
    {
     "name": "stderr",
     "output_type": "stream",
     "text": []
    },
    {
     "name": "stdout",
     "output_type": "stream",
     "text": [
      "Generation 4 - Current best internal CV score: -0.0018389154185768752\n"
     ]
    },
    {
     "name": "stderr",
     "output_type": "stream",
     "text": []
    },
    {
     "name": "stdout",
     "output_type": "stream",
     "text": [
      "Generation 5 - Current best internal CV score: -0.0017995438730053631\n"
     ]
    },
    {
     "name": "stderr",
     "output_type": "stream",
     "text": []
    },
    {
     "name": "stdout",
     "output_type": "stream",
     "text": [
      "Generation 6 - Current best internal CV score: -0.0017995438730053631\n"
     ]
    },
    {
     "name": "stderr",
     "output_type": "stream",
     "text": []
    },
    {
     "name": "stdout",
     "output_type": "stream",
     "text": [
      "Generation 7 - Current best internal CV score: -0.0017995438730053631\n"
     ]
    },
    {
     "name": "stderr",
     "output_type": "stream",
     "text": []
    },
    {
     "name": "stdout",
     "output_type": "stream",
     "text": [
      "Generation 8 - Current best internal CV score: -0.0017995438730053631\n"
     ]
    },
    {
     "name": "stderr",
     "output_type": "stream",
     "text": []
    },
    {
     "name": "stdout",
     "output_type": "stream",
     "text": [
      "Generation 9 - Current best internal CV score: -0.0017995438730053631\n"
     ]
    },
    {
     "name": "stderr",
     "output_type": "stream",
     "text": []
    },
    {
     "name": "stdout",
     "output_type": "stream",
     "text": [
      "Generation 10 - Current best internal CV score: -0.0017995438730053631\n"
     ]
    },
    {
     "name": "stderr",
     "output_type": "stream",
     "text": []
    },
    {
     "name": "stdout",
     "output_type": "stream",
     "text": [
      "\n",
      "Best pipeline: XGBRegressor(LassoLarsCV(input_matrix, normalize=True), learning_rate=0.1, max_depth=7, min_child_weight=17, n_estimators=100, nthread=1, subsample=1.0)\n",
      "MSE:  0.001946974253497957\n",
      "MSE %:  0.000718758890872269\n",
      "R2 score: 0.9872125498430397\n",
      "Test run 2 \n",
      "\n",
      "Test number, linear model:  2 \n",
      "\n",
      "MSE:  0.02505056265261032\n",
      "MSE %:  0.009247844236033382\n",
      "R2 score: 0.8067858465965964\n",
      "Test number, TPOT model:  2 \n",
      "\n"
     ]
    },
    {
     "name": "stderr",
     "output_type": "stream",
     "text": []
    },
    {
     "name": "stdout",
     "output_type": "stream",
     "text": [
      "Generation 1 - Current best internal CV score: -0.005330280125418293\n"
     ]
    },
    {
     "name": "stderr",
     "output_type": "stream",
     "text": []
    },
    {
     "name": "stdout",
     "output_type": "stream",
     "text": [
      "Generation 2 - Current best internal CV score: -0.005330280125418293\n"
     ]
    },
    {
     "name": "stderr",
     "output_type": "stream",
     "text": []
    },
    {
     "name": "stdout",
     "output_type": "stream",
     "text": [
      "Generation 3 - Current best internal CV score: -0.005255888704972102\n"
     ]
    },
    {
     "name": "stderr",
     "output_type": "stream",
     "text": []
    },
    {
     "name": "stdout",
     "output_type": "stream",
     "text": [
      "Generation 4 - Current best internal CV score: -0.005255888704972102\n"
     ]
    },
    {
     "name": "stderr",
     "output_type": "stream",
     "text": []
    },
    {
     "name": "stdout",
     "output_type": "stream",
     "text": [
      "Generation 5 - Current best internal CV score: -0.005198894053834885\n"
     ]
    },
    {
     "name": "stderr",
     "output_type": "stream",
     "text": []
    },
    {
     "name": "stdout",
     "output_type": "stream",
     "text": [
      "Generation 6 - Current best internal CV score: -0.005198894053834885\n"
     ]
    },
    {
     "name": "stderr",
     "output_type": "stream",
     "text": []
    },
    {
     "name": "stdout",
     "output_type": "stream",
     "text": [
      "Generation 7 - Current best internal CV score: -0.00518801914677282\n"
     ]
    },
    {
     "name": "stderr",
     "output_type": "stream",
     "text": []
    },
    {
     "name": "stdout",
     "output_type": "stream",
     "text": [
      "Generation 8 - Current best internal CV score: -0.00518801914677282\n"
     ]
    },
    {
     "name": "stderr",
     "output_type": "stream",
     "text": []
    },
    {
     "name": "stdout",
     "output_type": "stream",
     "text": [
      "Generation 9 - Current best internal CV score: -0.00518801914677282\n"
     ]
    },
    {
     "name": "stderr",
     "output_type": "stream",
     "text": []
    },
    {
     "name": "stdout",
     "output_type": "stream",
     "text": [
      "Generation 10 - Current best internal CV score: -0.005184058377506879\n"
     ]
    },
    {
     "name": "stderr",
     "output_type": "stream",
     "text": []
    },
    {
     "name": "stdout",
     "output_type": "stream",
     "text": [
      "\n",
      "Best pipeline: XGBRegressor(DecisionTreeRegressor(ExtraTreesRegressor(input_matrix, bootstrap=False, max_features=0.7500000000000001, min_samples_leaf=1, min_samples_split=6, n_estimators=100), max_depth=5, min_samples_leaf=18, min_samples_split=13), learning_rate=0.1, max_depth=7, min_child_weight=4, n_estimators=100, nthread=1, subsample=0.9500000000000001)\n",
      "MSE:  0.0048022979725040925\n",
      "MSE %:  0.0017728505439421362\n",
      "R2 score: 0.9682018495050114\n",
      "Test run 3 \n",
      "\n",
      "Test number, linear model:  3 \n",
      "\n",
      "MSE:  0.005299930998506014\n",
      "MSE %:  0.001956560298289398\n",
      "R2 score: 0.9644939947718036\n",
      "Test number, TPOT model:  3 \n",
      "\n"
     ]
    },
    {
     "name": "stderr",
     "output_type": "stream",
     "text": []
    },
    {
     "name": "stdout",
     "output_type": "stream",
     "text": [
      "Generation 1 - Current best internal CV score: -0.0016932033353033952\n"
     ]
    },
    {
     "name": "stderr",
     "output_type": "stream",
     "text": []
    },
    {
     "name": "stdout",
     "output_type": "stream",
     "text": [
      "Generation 2 - Current best internal CV score: -0.0016932033353033952\n"
     ]
    },
    {
     "name": "stderr",
     "output_type": "stream",
     "text": []
    },
    {
     "name": "stdout",
     "output_type": "stream",
     "text": [
      "Generation 3 - Current best internal CV score: -0.0016309734156011286\n"
     ]
    },
    {
     "name": "stderr",
     "output_type": "stream",
     "text": []
    },
    {
     "name": "stdout",
     "output_type": "stream",
     "text": [
      "Generation 4 - Current best internal CV score: -0.0016309734156011286\n"
     ]
    },
    {
     "name": "stderr",
     "output_type": "stream",
     "text": []
    },
    {
     "name": "stdout",
     "output_type": "stream",
     "text": [
      "Generation 5 - Current best internal CV score: -0.0016309734156011286\n"
     ]
    },
    {
     "name": "stderr",
     "output_type": "stream",
     "text": []
    },
    {
     "name": "stdout",
     "output_type": "stream",
     "text": [
      "Generation 6 - Current best internal CV score: -0.0016309734156011286\n"
     ]
    },
    {
     "name": "stderr",
     "output_type": "stream",
     "text": []
    },
    {
     "name": "stdout",
     "output_type": "stream",
     "text": [
      "Generation 7 - Current best internal CV score: -0.0016309734156011286\n"
     ]
    },
    {
     "name": "stderr",
     "output_type": "stream",
     "text": []
    },
    {
     "name": "stdout",
     "output_type": "stream",
     "text": [
      "Generation 8 - Current best internal CV score: -0.0016309734156011286\n"
     ]
    },
    {
     "name": "stderr",
     "output_type": "stream",
     "text": []
    },
    {
     "name": "stdout",
     "output_type": "stream",
     "text": [
      "Generation 9 - Current best internal CV score: -0.0016309734156011286\n"
     ]
    },
    {
     "name": "stderr",
     "output_type": "stream",
     "text": []
    },
    {
     "name": "stdout",
     "output_type": "stream",
     "text": [
      "Generation 10 - Current best internal CV score: -0.0016309734156011286\n"
     ]
    },
    {
     "name": "stderr",
     "output_type": "stream",
     "text": []
    },
    {
     "name": "stdout",
     "output_type": "stream",
     "text": [
      "\n",
      "Best pipeline: ExtraTreesRegressor(input_matrix, bootstrap=False, max_features=0.55, min_samples_leaf=1, min_samples_split=15, n_estimators=100)\n",
      "MSE:  0.001719326307163226\n",
      "MSE %:  0.0006347187526306193\n",
      "R2 score: 0.9886275476512637\n",
      "Test run 4 \n",
      "\n",
      "Test number, linear model:  4 \n",
      "\n",
      "MSE:  0.004761374730946834\n",
      "MSE %:  0.0017577430284422535\n",
      "R2 score: 0.9680686377785986\n",
      "Test number, TPOT model:  4 \n",
      "\n"
     ]
    },
    {
     "name": "stderr",
     "output_type": "stream",
     "text": []
    },
    {
     "name": "stdout",
     "output_type": "stream",
     "text": [
      "Generation 1 - Current best internal CV score: -0.001183142425751077\n"
     ]
    },
    {
     "name": "stderr",
     "output_type": "stream",
     "text": []
    },
    {
     "name": "stdout",
     "output_type": "stream",
     "text": [
      "Generation 2 - Current best internal CV score: -0.001183142425751077\n"
     ]
    },
    {
     "name": "stderr",
     "output_type": "stream",
     "text": []
    },
    {
     "name": "stdout",
     "output_type": "stream",
     "text": [
      "Generation 3 - Current best internal CV score: -0.001183142425751077\n"
     ]
    },
    {
     "name": "stderr",
     "output_type": "stream",
     "text": []
    },
    {
     "name": "stdout",
     "output_type": "stream",
     "text": [
      "Generation 4 - Current best internal CV score: -0.0011662673063863884\n"
     ]
    },
    {
     "name": "stderr",
     "output_type": "stream",
     "text": []
    },
    {
     "name": "stdout",
     "output_type": "stream",
     "text": [
      "Generation 5 - Current best internal CV score: -0.0011534897671329144\n"
     ]
    },
    {
     "name": "stderr",
     "output_type": "stream",
     "text": []
    },
    {
     "name": "stdout",
     "output_type": "stream",
     "text": [
      "Generation 6 - Current best internal CV score: -0.001148921992750118\n"
     ]
    },
    {
     "name": "stderr",
     "output_type": "stream",
     "text": []
    },
    {
     "name": "stdout",
     "output_type": "stream",
     "text": [
      "Generation 7 - Current best internal CV score: -0.001148921992750118\n"
     ]
    },
    {
     "name": "stderr",
     "output_type": "stream",
     "text": []
    },
    {
     "name": "stdout",
     "output_type": "stream",
     "text": [
      "Generation 8 - Current best internal CV score: -0.001148921992750118\n"
     ]
    },
    {
     "name": "stderr",
     "output_type": "stream",
     "text": []
    },
    {
     "name": "stdout",
     "output_type": "stream",
     "text": [
      "Generation 9 - Current best internal CV score: -0.0011338147037312834\n"
     ]
    },
    {
     "name": "stderr",
     "output_type": "stream",
     "text": []
    },
    {
     "name": "stdout",
     "output_type": "stream",
     "text": [
      "Generation 10 - Current best internal CV score: -0.0011338147037312834\n"
     ]
    },
    {
     "name": "stderr",
     "output_type": "stream",
     "text": []
    },
    {
     "name": "stdout",
     "output_type": "stream",
     "text": [
      "\n",
      "Best pipeline: RandomForestRegressor(input_matrix, bootstrap=False, max_features=0.4, min_samples_leaf=2, min_samples_split=4, n_estimators=100)\n",
      "MSE:  0.0012814821194305577\n",
      "MSE %:  0.0004730810719144\n",
      "R2 score: 0.9915940430849012\n",
      "Test run 5 \n",
      "\n",
      "Test number, linear model:  5 \n",
      "\n",
      "MSE:  0.013496726123207993\n",
      "MSE %:  0.004982547602411803\n",
      "R2 score: 0.902868758873885\n",
      "Test number, TPOT model:  5 \n",
      "\n"
     ]
    },
    {
     "name": "stderr",
     "output_type": "stream",
     "text": []
    },
    {
     "name": "stdout",
     "output_type": "stream",
     "text": [
      "Generation 1 - Current best internal CV score: -0.0010375640840909121\n"
     ]
    },
    {
     "name": "stderr",
     "output_type": "stream",
     "text": []
    },
    {
     "name": "stdout",
     "output_type": "stream",
     "text": [
      "Generation 2 - Current best internal CV score: -0.0010375640840909121\n"
     ]
    },
    {
     "name": "stderr",
     "output_type": "stream",
     "text": []
    },
    {
     "name": "stdout",
     "output_type": "stream",
     "text": [
      "Generation 3 - Current best internal CV score: -0.0010375640840909121\n"
     ]
    },
    {
     "name": "stderr",
     "output_type": "stream",
     "text": []
    },
    {
     "name": "stdout",
     "output_type": "stream",
     "text": [
      "Generation 4 - Current best internal CV score: -0.0009768134646414232\n"
     ]
    },
    {
     "name": "stderr",
     "output_type": "stream",
     "text": []
    },
    {
     "name": "stdout",
     "output_type": "stream",
     "text": [
      "Generation 5 - Current best internal CV score: -0.0009387502430655327\n"
     ]
    },
    {
     "name": "stderr",
     "output_type": "stream",
     "text": []
    },
    {
     "name": "stdout",
     "output_type": "stream",
     "text": [
      "Generation 6 - Current best internal CV score: -0.0009387502430655327\n"
     ]
    },
    {
     "name": "stderr",
     "output_type": "stream",
     "text": []
    },
    {
     "name": "stdout",
     "output_type": "stream",
     "text": [
      "Generation 7 - Current best internal CV score: -0.0009352551784988719\n"
     ]
    },
    {
     "name": "stderr",
     "output_type": "stream",
     "text": []
    },
    {
     "name": "stdout",
     "output_type": "stream",
     "text": [
      "Generation 8 - Current best internal CV score: -0.0008910858493256623\n"
     ]
    },
    {
     "name": "stderr",
     "output_type": "stream",
     "text": []
    },
    {
     "name": "stdout",
     "output_type": "stream",
     "text": [
      "Generation 9 - Current best internal CV score: -0.0008756124060192123\n"
     ]
    },
    {
     "name": "stderr",
     "output_type": "stream",
     "text": []
    },
    {
     "name": "stdout",
     "output_type": "stream",
     "text": [
      "Generation 10 - Current best internal CV score: -0.0008754541141005572\n"
     ]
    },
    {
     "name": "stderr",
     "output_type": "stream",
     "text": []
    },
    {
     "name": "stdout",
     "output_type": "stream",
     "text": [
      "\n",
      "Best pipeline: ExtraTreesRegressor(ElasticNetCV(PolynomialFeatures(input_matrix, degree=2, include_bias=False, interaction_only=False), l1_ratio=0.7000000000000001, tol=0.0001), bootstrap=False, max_features=0.6500000000000001, min_samples_leaf=1, min_samples_split=3, n_estimators=100)\n",
      "MSE:  0.000817125008278709\n",
      "MSE %:  0.0003016556914397917\n",
      "R2 score: 0.9946590027626764\n",
      "Test run 6 \n",
      "\n",
      "Test number, linear model:  6 \n",
      "\n",
      "MSE:  0.004192350558380513\n",
      "MSE %:  0.0015476780096478442\n",
      "R2 score: 0.9721497628094513\n",
      "Test number, TPOT model:  6 \n",
      "\n"
     ]
    },
    {
     "name": "stderr",
     "output_type": "stream",
     "text": []
    },
    {
     "name": "stdout",
     "output_type": "stream",
     "text": [
      "Generation 1 - Current best internal CV score: -0.0013597315254979567\n"
     ]
    },
    {
     "name": "stderr",
     "output_type": "stream",
     "text": []
    },
    {
     "name": "stdout",
     "output_type": "stream",
     "text": [
      "Generation 2 - Current best internal CV score: -0.0013597315254979567\n"
     ]
    },
    {
     "name": "stderr",
     "output_type": "stream",
     "text": []
    },
    {
     "name": "stdout",
     "output_type": "stream",
     "text": [
      "Generation 3 - Current best internal CV score: -0.0013004442028298022\n"
     ]
    },
    {
     "name": "stderr",
     "output_type": "stream",
     "text": []
    },
    {
     "name": "stdout",
     "output_type": "stream",
     "text": [
      "Generation 4 - Current best internal CV score: -0.0013004442028298022\n"
     ]
    },
    {
     "name": "stderr",
     "output_type": "stream",
     "text": []
    },
    {
     "name": "stdout",
     "output_type": "stream",
     "text": [
      "Generation 5 - Current best internal CV score: -0.0013004442028298022\n"
     ]
    },
    {
     "name": "stderr",
     "output_type": "stream",
     "text": [
      "Optimization Progress:  55%|███████████████████████████                      | 304/550 [20:09<3:21:32, 49.16s/pipeline]"
     ]
    }
   ],
   "source": [
    "# Train models and produce results...\n",
    "# \n",
    "\n",
    "from sklearn.externals import joblib\n",
    "from tpot import TPOTRegressor\n",
    "from sklearn.model_selection import train_test_split\n",
    "from sklearn import linear_model\n",
    "from sklearn.metrics import mean_squared_error\n",
    "from sklearn.metrics import r2_score\n",
    "\n",
    "### Train a linear model just for comparison.\n",
    "\n",
    "gen = 10\n",
    "cores = -1\n",
    "\n",
    "results = list()\n",
    "cols = ['test_no','model','MSE','MSE_perc','R2-score']\n",
    "\n",
    "df_out = pd.DataFrame()\n",
    "\n",
    "df_out['y_13'] = df_train[d['fo_booster_13']]\n",
    "df_out['y_24'] = df_train[d['fo_booster_24']]\n",
    "\n",
    "\n",
    "seed = 42 # This is to get reproduce.\n",
    "\n",
    "\n",
    "for test_no in range(len(test_features)):\n",
    "    \n",
    "    # Feature selection for the test run\n",
    "    print('Test run', test_no, '\\n')\n",
    "    \n",
    "    df_test = df_train[test_features[test_no]]\n",
    "    # drop the last column, which is the measured\n",
    "    X = np.array(df_test.drop(df_test.columns[len(df_test.columns)-1],axis=1))\n",
    "    # y is the measured value\n",
    "    y = np.array(df_test[df_test.columns[len(df_test.columns)-1]])\n",
    "    \n",
    "    # make a test and train split.\n",
    "    X_train, X_test, y_train, y_test = train_test_split(X, y, train_size=0.75, test_size=0.25, random_state=seed)\n",
    "    \n",
    "    # \n",
    "    \n",
    "    print('Test number, linear model: ', test_no, '\\n')\n",
    "    m_linear = sk.linear_model.LinearRegression(n_jobs=cores)\n",
    "    m_linear.fit(X_train, y_train.reshape(-1,))\n",
    "    \n",
    "    df_out['linear_test_no_'+str(test_no)] = m_linear.predict(X)\n",
    "    \n",
    "    MSE = mean_squared_error(m_linear.predict(X_test),y_test)\n",
    "    MSE_perc = mean_squared_error(m_linear.predict(X_test),y_test)/max(y_test)\n",
    "    R_2 = r2_score(m_linear.predict(X_test),y_test)\n",
    "    \n",
    "    print('MSE: ',MSE )\n",
    "    print('MSE %: ',MSE_perc )\n",
    "    print('R2 score:', R_2)\n",
    "    \n",
    "    results.append([test_no,'linear',MSE,MSE_perc,R_2])\n",
    "    \n",
    "    # tpot model\n",
    "    \n",
    "    print('Test number, TPOT model: ', test_no, '\\n')\n",
    "\n",
    "    m_tpot = TPOTRegressor(generations=gen, population_size=50, verbosity=2, n_jobs=cores)\n",
    "    m_tpot.fit(X_train, y_train.reshape(-1,))\n",
    "    \n",
    "    df_out['tpot_test_no_'+str(test_no)] = m_tpot.predict(X)\n",
    "    \n",
    "    MSE = mean_squared_error(m_tpot.predict(X_test),y_test)\n",
    "    MSE_perc = mean_squared_error(m_tpot.predict(X_test),y_test)/max(y_test)\n",
    "    R_2 = r2_score(m_tpot.predict(X_test),y_test)\n",
    "    \n",
    "    print('MSE: ',MSE )\n",
    "    print('MSE %: ',MSE_perc )\n",
    "    print('R2 score:', R_2)\n",
    "    \n",
    "    results.append([test_no,'tpot',MSE,MSE_perc,R_2])\n",
    "    \n",
    "\n",
    "results = pd.DataFrame(results, columns=cols)\n",
    "results.to_excel('results/run_180210/2_test_run.xlsx')\n",
    "df_out.to_hdf('results/run_180110/2_df_out.h5','table',complevel=9,complib='blosc')\n"
   ]
  },
  {
   "cell_type": "code",
   "execution_count": null,
   "metadata": {
    "collapsed": true
   },
   "outputs": [],
   "source": []
  },
  {
   "cell_type": "code",
   "execution_count": 91,
   "metadata": {},
   "outputs": [
    {
     "ename": "AttributeError",
     "evalue": "module 'matplotlib.pyplot' has no attribute 'labels'",
     "output_type": "error",
     "traceback": [
      "\u001b[0;31m---------------------------------------------------------------------------\u001b[0m",
      "\u001b[0;31mAttributeError\u001b[0m                            Traceback (most recent call last)",
      "\u001b[0;32m<ipython-input-91-6b2d842cb7be>\u001b[0m in \u001b[0;36m<module>\u001b[0;34m()\u001b[0m\n\u001b[1;32m      6\u001b[0m \u001b[0mplt\u001b[0m\u001b[0;34m.\u001b[0m\u001b[0mplot\u001b[0m\u001b[0;34m(\u001b[0m\u001b[0mdf_out\u001b[0m\u001b[0;34m[\u001b[0m\u001b[0;34m'tpot_test_no_0'\u001b[0m\u001b[0;34m]\u001b[0m\u001b[0;34m[\u001b[0m\u001b[0mdate\u001b[0m\u001b[0;34m]\u001b[0m\u001b[0;34m)\u001b[0m\u001b[0;34m\u001b[0m\u001b[0m\n\u001b[1;32m      7\u001b[0m \u001b[0mplt\u001b[0m\u001b[0;34m.\u001b[0m\u001b[0mplot\u001b[0m\u001b[0;34m(\u001b[0m\u001b[0mdf_out\u001b[0m\u001b[0;34m[\u001b[0m\u001b[0;34m'linear_test_no_0'\u001b[0m\u001b[0;34m]\u001b[0m\u001b[0;34m[\u001b[0m\u001b[0mdate\u001b[0m\u001b[0;34m]\u001b[0m\u001b[0;34m)\u001b[0m\u001b[0;34m\u001b[0m\u001b[0m\n\u001b[0;32m----> 8\u001b[0;31m \u001b[0mplt\u001b[0m\u001b[0;34m.\u001b[0m\u001b[0mlabels\u001b[0m\u001b[0;34m(\u001b[0m\u001b[0;34m)\u001b[0m\u001b[0;34m\u001b[0m\u001b[0m\n\u001b[0m\u001b[1;32m      9\u001b[0m \u001b[0mplt\u001b[0m\u001b[0;34m.\u001b[0m\u001b[0mshow\u001b[0m\u001b[0;34m(\u001b[0m\u001b[0;34m)\u001b[0m\u001b[0;34m\u001b[0m\u001b[0m\n\u001b[1;32m     10\u001b[0m \u001b[0;34m\u001b[0m\u001b[0m\n",
      "\u001b[0;31mAttributeError\u001b[0m: module 'matplotlib.pyplot' has no attribute 'labels'"
     ]
    },
    {
     "data": {
      "image/png": "[encoded data removed]",
      "text/plain": [
       "<matplotlib.figure.Figure at 0x7f35b4e78cf8>"
      ]
     },
     "metadata": {},
     "output_type": "display_data"
    }
   ],
   "source": [
    "import matplotlib.pyplot as plt\n",
    "\n",
    "date='2014-02-04'\n",
    "\n",
    "plt.plot(df_out['y_13'][date])\n",
    "plt.plot(df_out['tpot_test_no_0'][date])\n",
    "plt.plot(df_out['linear_test_no_0'][date])\n",
    "\n",
    "plt.show()\n",
    "\n",
    "#df_out"
   ]
  },
  {
   "cell_type": "code",
   "execution_count": 80,
   "metadata": {
    "collapsed": true
   },
   "outputs": [],
   "source": [
    "df_out = pd.read_hdf('results/run_180207/df_out.h5','table')"
   ]
  },
  {
   "cell_type": "code",
   "execution_count": 78,
   "metadata": {
    "collapsed": true
   },
   "outputs": [],
   "source": [
    "df_out = pd.DataFrame()"
   ]
  },
  {
   "cell_type": "code",
   "execution_count": 79,
   "metadata": {},
   "outputs": [
    {
     "data": {
      "text/html": [
       "<div>\n",
       "<style scoped>\n",
       "    .dataframe tbody tr th:only-of-type {\n",
       "        vertical-align: middle;\n",
       "    }\n",
       "\n",
       "    .dataframe tbody tr th {\n",
       "        vertical-align: top;\n",
       "    }\n",
       "\n",
       "    .dataframe thead th {\n",
       "        text-align: right;\n",
       "    }\n",
       "</style>\n",
       "<table border=\"1\" class=\"dataframe\">\n",
       "  <thead>\n",
       "    <tr style=\"text-align: right;\">\n",
       "      <th></th>\n",
       "    </tr>\n",
       "  </thead>\n",
       "  <tbody>\n",
       "  </tbody>\n",
       "</table>\n",
       "</div>"
      ],
      "text/plain": [
       "Empty DataFrame\n",
       "Columns: []\n",
       "Index: []"
      ]
     },
     "execution_count": 79,
     "metadata": {},
     "output_type": "execute_result"
    }
   ],
   "source": [
    "df_out"
   ]
  },
  {
   "cell_type": "code",
   "execution_count": null,
   "metadata": {
    "collapsed": true
   },
   "outputs": [],
   "source": []
  },
  {
   "cell_type": "code",
   "execution_count": 12,
   "metadata": {
    "collapsed": true
   },
   "outputs": [],
   "source": [
    "df_test = pd.DataFrame()\n",
    "test_no = 2"
   ]
  },
  {
   "cell_type": "code",
   "execution_count": 13,
   "metadata": {
    "collapsed": true
   },
   "outputs": [],
   "source": [
    "df_test['test_no'+str(test_no)] = 2"
   ]
  },
  {
   "cell_type": "code",
   "execution_count": 14,
   "metadata": {},
   "outputs": [
    {
     "data": {
      "text/html": [
       "<div>\n",
       "<style scoped>\n",
       "    .dataframe tbody tr th:only-of-type {\n",
       "        vertical-align: middle;\n",
       "    }\n",
       "\n",
       "    .dataframe tbody tr th {\n",
       "        vertical-align: top;\n",
       "    }\n",
       "\n",
       "    .dataframe thead th {\n",
       "        text-align: right;\n",
       "    }\n",
       "</style>\n",
       "<table border=\"1\" class=\"dataframe\">\n",
       "  <thead>\n",
       "    <tr style=\"text-align: right;\">\n",
       "      <th></th>\n",
       "      <th>test_no2</th>\n",
       "    </tr>\n",
       "  </thead>\n",
       "  <tbody>\n",
       "  </tbody>\n",
       "</table>\n",
       "</div>"
      ],
      "text/plain": [
       "Empty DataFrame\n",
       "Columns: [test_no2]\n",
       "Index: []"
      ]
     },
     "execution_count": 14,
     "metadata": {},
     "output_type": "execute_result"
    }
   ],
   "source": [
    "df_test"
   ]
  },
  {
   "cell_type": "code",
   "execution_count": null,
   "metadata": {
    "collapsed": true
   },
   "outputs": [],
   "source": []
  },
  {
   "cell_type": "code",
   "execution_count": null,
   "metadata": {
    "collapsed": true
   },
   "outputs": [],
   "source": []
  },
  {
   "cell_type": "code",
   "execution_count": null,
   "metadata": {
    "collapsed": true
   },
   "outputs": [],
   "source": []
  },
  {
   "cell_type": "code",
   "execution_count": null,
   "metadata": {
    "collapsed": true
   },
   "outputs": [],
   "source": []
  },
  {
   "cell_type": "code",
   "execution_count": null,
   "metadata": {
    "collapsed": true
   },
   "outputs": [],
   "source": [
    "for P in sizes:\n",
    "        fig, ax = plt.subplots()\n",
    "        fig.set_size_inches(P)\n",
    "        plt.plot(x,m_linear.predict(X)[n1:n1+sample_n])\n",
    "        plt.plot(x,y[n1:n1+sample_n])\n",
    "\n",
    "        ax.set(xlabel='sample no', ylabel='FO flow m3/h',\n",
    "               title='Sklearn Linear model. Training number:' + str(test_no) + '\\nFeatures: \\n '+ str(features_readable))\n",
    "        ax.grid()\n",
    "\n",
    "        fig.savefig(\"results/run_180205/linear_test_no_\" + str(test_no) + str(P) + \".png\")\n",
    "        \n",
    "        \n",
    "        fig, ax = plt.subplots()\n",
    "        fig.set_size_inches(P)\n",
    "        plt.scatter(m_linear.predict(X)[n1:n1+sample_n],y[n1:n1+sample_n])\n",
    "\n",
    "        ax.set(xlabel='predicted flow m3/h', ylabel='measured flow m3/h',\n",
    "               title='Sklearn Linear model. Training number:' + str(test_no) + '\\nFeatures: \\n '+ str(features_readable))\n",
    "        ax.grid()\n",
    "\n",
    "        fig.savefig(\"results/run_180205/scatter_sample_linear_test_no_\" + str(test_no) + str(P) + \".png\")\n",
    "        \n",
    "        fig, ax = plt.subplots()\n",
    "        fig.set_size_inches(P)\n",
    "        plt.scatter(m_linear.predict(X),y)\n",
    "\n",
    "        ax.set(xlabel='predicted flow m3/h', ylabel='measured flow m3/h',\n",
    "               title='Sklearn Linear model. Training number:' + str(test_no) + '\\nFeatures: \\n '+ str(features_readable))\n",
    "        ax.grid()\n",
    "\n",
    "        fig.savefig(\"results/run_180205/scatter_all_linear_test_no_\" + str(test_no) + str(P) + \".png\")\n",
    "        \n",
    "    \n",
    "    # tpot model\n",
    "    \n",
    "    print('Test number, TPOT model: ', test_no, '\\n')\n",
    "    \n",
    "\n",
    "    m_tpot = TPOTRegressor(generations=gen, population_size=50, verbosity=2, n_jobs=cores)\n",
    "    m_tpot.fit(X_train, y_train.reshape(-1,))\n",
    "\n",
    "    score = m_tpot.score(X_test,y_test)\n",
    "    score_perc = m_tpot.score(X_test,y_test)/max(y_test)\n",
    "    print('Score: ',score )\n",
    "    print('Score in % of max: ',score_perc )\n",
    "    \n",
    "    results.append([test_no,'tpot',score,score_perc])\n",
    "    \n",
    "    features_readable = list()\n",
    "    for t in range(len(test_features[test_no])):\n",
    "        features_readable.append(d[test_features[test_no][t]])\n",
    "\n",
    "    x = np.linspace(n1+1,n1+sample_n,sample_n)\n",
    "    \n",
    "    sizes = [[10,6],[12,8],[14,10]]\n",
    "    for P in sizes:\n",
    "        fig, ax = plt.subplots()\n",
    "        fig.set_size_inches(P)\n",
    "        plt.plot(x,m_linear.predict(X)[n1:n1+sample_n])\n",
    "        plt.plot(x,y[n1:n1+sample_n])\n",
    "\n",
    "        ax.set(xlabel='sample no', ylabel='FO flow m3/h',\n",
    "               title='Sklearn TPOT model. Training number:' + str(test_no) + '\\nFeatures: \\n '+ str(features_readable))\n",
    "        ax.grid()\n",
    "\n",
    "        fig.savefig(\"results/run_180205/tpot_test_no_\" + str(test_no) + str(P) + \".png\")\n",
    "        \n",
    "        fig, ax = plt.subplots()\n",
    "        fig.set_size_inches(P)\n",
    "        plt.scatter(m_tpot.predict(X)[n1:n1+sample_n],y[n1:n1+sample_n])\n",
    "\n",
    "        ax.set(xlabel='predicted flow m3/h', ylabel='measured flow m3/h',\n",
    "               title='Sklearn TPOT model. Training number:' + str(test_no) + '\\nFeatures: \\n '+ str(features_readable))\n",
    "        ax.grid()\n",
    "\n",
    "        fig.savefig(\"results/run_180205/scatter_sample_tpot_test_no_\" + str(test_no) + str(P) + \".png\")\n",
    "        \n",
    "        fig, ax = plt.subplots()\n",
    "        fig.set_size_inches(P)\n",
    "        plt.scatter(m_tpot.predict(X),y)\n",
    "\n",
    "        ax.set(xlabel='predicted flow m3/h', ylabel='measured flow m3/h',\n",
    "               title='Sklearn TPOT model. Training number:' + str(test_no) + '\\nFeatures: \\n '+ str(features_readable))\n",
    "        ax.grid()\n",
    "\n",
    "        fig.savefig(\"results/run_180205/scatter_all_tpot_test_no_\" + str(test_no) + str(P) + \".png\")\n",
    "    \n",
    "    "
   ]
  },
  {
   "cell_type": "code",
   "execution_count": 3,
   "metadata": {
    "collapsed": true
   },
   "outputs": [],
   "source": [
    "a = linear_model.LinearRegression()"
   ]
  },
  {
   "cell_type": "code",
   "execution_count": null,
   "metadata": {
    "collapsed": true
   },
   "outputs": [],
   "source": [
    "a."
   ]
  }
 ],
 "metadata": {
  "kernelspec": {
   "display_name": "Python 3",
   "language": "python",
   "name": "python3"
  },
  "language_info": {
   "codemirror_mode": {
    "name": "ipython",
    "version": 3
   },
   "file_extension": ".py",
   "mimetype": "text/x-python",
   "name": "python",
   "nbconvert_exporter": "python",
   "pygments_lexer": "ipython3",
   "version": "3.6.4"
  }
 },
 "nbformat": 4,
 "nbformat_minor": 2
}
