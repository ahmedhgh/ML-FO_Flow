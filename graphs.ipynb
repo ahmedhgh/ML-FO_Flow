{
 "cells": [
  {
   "cell_type": "code",
   "execution_count": 1,
   "metadata": {},
   "outputs": [
    {
     "name": "stdout",
     "output_type": "stream",
     "text": [
      "Populating the interactive namespace from numpy and matplotlib\n"
     ]
    }
   ],
   "source": [
    "%pylab inline\n",
    "import numpy as np\n",
    "import pandas as pd\n",
    "import sklearn as sk\n",
    "import time"
   ]
  },
  {
   "cell_type": "code",
   "execution_count": 4,
   "metadata": {},
   "outputs": [
    {
     "name": "stdout",
     "output_type": "stream",
     "text": [
      "Loading database ...\n",
      "Time to load database: 10.132902383804321\n"
     ]
    }
   ],
   "source": [
    "\n",
    "t1 = time.time()\n",
    "print('Loading database ...')\n",
    "df = pd.read_hdf('database/all_data_comp.h5','table')\n",
    "print('Time to load database:', time.time()-t1)\n"
   ]
  },
  {
   "cell_type": "code",
   "execution_count": 3,
   "metadata": {},
   "outputs": [],
   "source": [
    "# Features and target for Eng 1/3\n",
    "\n",
    "labels_1_3 = ['AE1 FUEL RACK POSIT:1742:mm:Average:900',\n",
    "                'AE3 FUEL RACK POSIT:3742:mm:Average:900',\n",
    "                'AE1 ENG SPEED:1745:RPM:Average:900',\n",
    "                'AE3 ENG SPEED:3745:RPM:Average:900',\n",
    "                'ME1 FUEL RACK POSIT:10005:%:Average:900',\n",
    "                'ME3 FUEL RACK POSIT:30005:%:Average:900',\n",
    "                'ME1 ENGINE SPEED:1364:rpm:Average:900',\n",
    "                'ME3 ENGINE SPEED:3364:rpm:Average:900',\n",
    "                'FO BOOST 1 CONSUMPT:6165:m3/h:Average:900']\n",
    "\n",
    "# Features and target for Eng 2/4\n",
    "\n",
    "labels_2_4 = ['AE2 FUEL RACK POSIT:2742:mm:Average:900',\n",
    "                'AE4 FUEL RACK POSIT:4742:mm:Average:900',\n",
    "                'AE2 ENG SPEED:2745:RPM:Average:900',\n",
    "                'AE4 ENG SPEED:4745:RPM:Average:900',\n",
    "                'ME2 FUEL RACK POSIT:20005:%:Average:900',\n",
    "                'ME4 FUEL RACK POSIT:40005:%:Average:900',\n",
    "                'ME2 ENGINE SPEED:2364:rpm:Average:900',\n",
    "                'ME4 ENGINE SPEED:4364:rpm:Average:900',\n",
    "             'FO BOOST 2 CONSUMPT:6166:m3/h:Average:900']\n",
    "\n",
    "\n",
    "# Drop Nan from the DataFrame.\n",
    "\n",
    "df_1_3 = df[labels_1_3].dropna()\n",
    "df_2_4 = df[labels_2_4].dropna()"
   ]
  },
  {
   "cell_type": "code",
   "execution_count": null,
   "metadata": {},
   "outputs": [],
   "source": []
  }
 ],
 "metadata": {
  "kernelspec": {
   "display_name": "Python 3",
   "language": "python",
   "name": "python3"
  },
  "language_info": {
   "codemirror_mode": {
    "name": "ipython",
    "version": 3
   },
   "file_extension": ".py",
   "mimetype": "text/x-python",
   "name": "python",
   "nbconvert_exporter": "python",
   "pygments_lexer": "ipython3",
   "version": "3.6.4"
  }
 },
 "nbformat": 4,
 "nbformat_minor": 2
}
