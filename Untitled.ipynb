{
 "cells": [
  {
   "cell_type": "code",
   "execution_count": 5,
   "metadata": {},
   "outputs": [
    {
     "name": "stdout",
     "output_type": "stream",
     "text": [
      "Loading database ...\n",
      "Time to load database: 1.716447353363037\n"
     ]
    }
   ],
   "source": [
    "\n",
    "import pandas as pd\n",
    "import sklearn\n",
    "import time\n",
    "import numpy as np\n",
    "from tpot import TPOTRegressor\n",
    "from sklearn.model_selection import train_test_split\n",
    "from sklearn.externals import joblib\n",
    "#%%\n",
    "\n",
    "t1 = time.time()\n",
    "print('Loading database ...')\n",
    "df = pd.read_hdf('database/all_data_comp.h5','table')\n",
    "print('Time to load database:', time.time()-t1)\n",
    "#%%\n",
    "\n",
    "# Variable names.\n",
    "import var_names\n",
    "d = var_names.d\n",
    "\n"
   ]
  },
  {
   "cell_type": "code",
   "execution_count": 6,
   "metadata": {},
   "outputs": [
    {
     "name": "stdout",
     "output_type": "stream",
     "text": [
      "Features and predictions for training 1:\n",
      "\n",
      "Engine 1_3:\n",
      "-  ae1_rpm\n",
      "-  ae3_rpm\n",
      "-  me1_rpm\n",
      "-  me3_rpm\n",
      "-  fo_booster_13\n",
      "\n",
      "Engine 2_4:\n",
      "-  ae2_rpm\n",
      "-  ae4_rpm\n",
      "-  me2_rpm\n",
      "-  me4_rpm\n",
      "-  fo_booster_24\n",
      "\n",
      "Date:  171106\n",
      "Time:  13:06:44\n"
     ]
    }
   ],
   "source": [
    "\n",
    "gen = 50\n",
    "cores=-1 # use all of them\n",
    "\n",
    "\n",
    "eng_13 = [d['ae1_rpm'],\n",
    "          d['ae3_rpm'],\n",
    "          d['me1_rpm'],\n",
    "          d['me3_rpm'],\n",
    "          d['fo_booster_13']\n",
    "          ]\n",
    "\n",
    "eng_24 = [d['ae2_rpm'],\n",
    "          d['ae4_rpm'],\n",
    "          d['me2_rpm'],\n",
    "          d['me4_rpm'],\n",
    "          d['fo_booster_24']\n",
    "          ]\n",
    "\n",
    "#%%\n",
    "\n",
    "####\n",
    "#### Training the first set with only rpm predictor\n",
    "####\n",
    "\n",
    "print('Features and predictions for training 1:\\n\\nEngine 1_3:')\n",
    "\n",
    "for n in eng_13:\n",
    "    print('- ',d[n])\n",
    "print('\\nEngine 2_4:')\n",
    "for n in eng_24:\n",
    "    print('- ',d[n])\n",
    "\n",
    "print('\\nDate: ',time.strftime('%y%m%d'))\n",
    "print('Time: ',time.strftime('%H:%M:%S'))"
   ]
  },
  {
   "cell_type": "code",
   "execution_count": 7,
   "metadata": {
    "collapsed": true
   },
   "outputs": [],
   "source": [
    "\n",
    "df_1_3 = df[eng_13].dropna()\n",
    "X = np.array(df_1_3.drop(labels=d['fo_booster_13'],axis=1))\n",
    "y = np.array(df_1_3[d['fo_booster_13']])\n"
   ]
  },
  {
   "cell_type": "code",
   "execution_count": 8,
   "metadata": {
    "collapsed": true
   },
   "outputs": [],
   "source": [
    "from train_model import train_tpot"
   ]
  },
  {
   "cell_type": "code",
   "execution_count": null,
   "metadata": {},
   "outputs": [
    {
     "name": "stdout",
     "output_type": "stream",
     "text": [
      "Training with TPOT ....  gen_50test1_171106\n"
     ]
    },
    {
     "name": "stderr",
     "output_type": "stream",
     "text": [
      "/home/fredde/anaconda3/lib/python3.6/site-packages/sklearn/cross_validation.py:44: DeprecationWarning: This module was deprecated in version 0.18 in favor of the model_selection module into which all the refactored classes and functions are moved. Also note that the interface of the new CV iterators are different from that of this module. This module will be removed in 0.20.\n",
      "  \"This module will be removed in 0.20.\", DeprecationWarning)\n",
      "Optimization Progress:   0%|          | 0/2550 [00:00<?, ?pipeline/s]"
     ]
    }
   ],
   "source": [
    "train_tpot('test1',X,y,gen,cores)"
   ]
  },
  {
   "cell_type": "code",
   "execution_count": 1,
   "metadata": {
    "collapsed": true
   },
   "outputs": [],
   "source": [
    "import train_model as tm"
   ]
  },
  {
   "cell_type": "code",
   "execution_count": 2,
   "metadata": {},
   "outputs": [
    {
     "ename": "NameError",
     "evalue": "name 'X' is not defined",
     "output_type": "error",
     "traceback": [
      "\u001b[0;31m---------------------------------------------------------------------------\u001b[0m",
      "\u001b[0;31mNameError\u001b[0m                                 Traceback (most recent call last)",
      "\u001b[0;32m<ipython-input-2-8b207a4154e8>\u001b[0m in \u001b[0;36m<module>\u001b[0;34m()\u001b[0m\n\u001b[0;32m----> 1\u001b[0;31m \u001b[0mtm\u001b[0m\u001b[0;34m.\u001b[0m\u001b[0mtrain_tpot\u001b[0m\u001b[0;34m(\u001b[0m\u001b[0;34m'test1'\u001b[0m\u001b[0;34m,\u001b[0m\u001b[0mX\u001b[0m\u001b[0;34m,\u001b[0m\u001b[0my\u001b[0m\u001b[0;34m,\u001b[0m\u001b[0mgen\u001b[0m\u001b[0;34m,\u001b[0m\u001b[0mcores\u001b[0m\u001b[0;34m)\u001b[0m\u001b[0;34m\u001b[0m\u001b[0m\n\u001b[0m",
      "\u001b[0;31mNameError\u001b[0m: name 'X' is not defined"
     ]
    }
   ],
   "source": [
    "tm.train_tpot('test1',X,y,gen,cores)"
   ]
  },
  {
   "cell_type": "code",
   "execution_count": 3,
   "metadata": {
    "collapsed": true
   },
   "outputs": [],
   "source": [
    "import train_model"
   ]
  },
  {
   "cell_type": "code",
   "execution_count": null,
   "metadata": {},
   "outputs": [
    {
     "name": "stdout",
     "output_type": "stream",
     "text": [
      "Training with TPOT ....  gen_1test1_171106\n"
     ]
    },
    {
     "name": "stderr",
     "output_type": "stream",
     "text": [
      "/home/fredde/anaconda3/lib/python3.6/site-packages/sklearn/cross_validation.py:44: DeprecationWarning: This module was deprecated in version 0.18 in favor of the model_selection module into which all the refactored classes and functions are moved. Also note that the interface of the new CV iterators are different from that of this module. This module will be removed in 0.20.\n",
      "  \"This module will be removed in 0.20.\", DeprecationWarning)\n",
      "Optimization Progress:   0%|          | 0/100 [00:00<?, ?pipeline/s]"
     ]
    }
   ],
   "source": [
    "train_model.train_tpot('test1',X,y,1,cores)"
   ]
  },
  {
   "cell_type": "code",
   "execution_count": null,
   "metadata": {
    "collapsed": true
   },
   "outputs": [],
   "source": []
  }
 ],
 "metadata": {
  "kernelspec": {
   "display_name": "Python 3",
   "language": "python",
   "name": "python3"
  },
  "language_info": {
   "codemirror_mode": {
    "name": "ipython",
    "version": 3
   },
   "file_extension": ".py",
   "mimetype": "text/x-python",
   "name": "python",
   "nbconvert_exporter": "python",
   "pygments_lexer": "ipython3",
   "version": "3.6.3"
  }
 },
 "nbformat": 4,
 "nbformat_minor": 2
}
